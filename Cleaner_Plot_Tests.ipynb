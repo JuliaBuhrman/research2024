{
 "cells": [
  {
   "cell_type": "markdown",
   "id": "f11d44a5-67bc-4b49-b751-9b0021e732c6",
   "metadata": {
    "editable": true,
    "slideshow": {
     "slide_type": ""
    },
    "tags": []
   },
   "source": [
    "This is a sequel to \"Plot_Tests.ipynb\", which has become messy to the point of inconvenience. To save myself time, I will attempt to clean things up on this new notebook.\n",
    "-- Julia Buhrman (11/15/2023)"
   ]
  },
  {
   "cell_type": "markdown",
   "id": "6aceab6d-ef0d-4129-8cf0-f72d58912e98",
   "metadata": {},
   "source": [
    "(01/04/2024) I realized that coniglio and parker actually literally wrote how they determined storm motion in the paper and I had just missed it this whole time. I was pretty close, just need to do the weighted averages with time:\n",
    "\"The motion of each supercell at each volume time was determined in two steps: first, a five-point (20–25 min) weighted average of instantaneous storm-motion components (using weights of 0.05, 0.2, 0.5, 0.2, and 0.05) was computed. The instantaneous storm motions were based on the bearing and great circle distance between successive latitude and longitude points assigned to the updraft.\" (Coniglio and Parker 2020)"
   ]
  },
  {
   "cell_type": "markdown",
   "id": "51d7fdf0-42a6-4fca-8b91-479c6f510d92",
   "metadata": {},
   "source": [
    "At this point, I want to plot the great circle distance from the vads to the storm and the bearing of the vads on a polar plot."
   ]
  },
  {
   "cell_type": "code",
   "execution_count": 1,
   "id": "1b3b077f-8b2b-4906-8ebf-734cec432c42",
   "metadata": {
    "tags": []
   },
   "outputs": [
    {
     "name": "stderr",
     "output_type": "stream",
     "text": [
      "/var/folders/4f/9s_4__q16tx5t8vmww4mv03h0000gn/T/ipykernel_61525/3461312758.py:4: DeprecationWarning: \n",
      "Pyarrow will become a required dependency of pandas in the next major release of pandas (pandas 3.0),\n",
      "(to allow more performant data types, such as the Arrow string type, and better interoperability with other libraries)\n",
      "but was not found to be installed on your system.\n",
      "If this would cause problems for you,\n",
      "please provide us feedback at https://github.com/pandas-dev/pandas/issues/54466\n",
      "        \n",
      "  import pandas as pd\n"
     ]
    },
    {
     "name": "stdout",
     "output_type": "stream",
     "text": [
      "\n",
      "## You are using the Python ARM Radar Toolkit (Py-ART), an open source\n",
      "## library for working with weather radar data. Py-ART is partly\n",
      "## supported by the U.S. Department of Energy as part of the Atmospheric\n",
      "## Radiation Measurement (ARM) Climate Research Facility, an Office of\n",
      "## Science user facility.\n",
      "##\n",
      "## If you use this software to prepare a publication, please cite:\n",
      "##\n",
      "##     JJ Helmus and SM Collis, JORS 2016, doi: 10.5334/jors.119\n",
      "\n"
     ]
    }
   ],
   "source": [
    "# import necessary stuff\n",
    "import matplotlib.pyplot as plt\n",
    "import numpy as np\n",
    "import pandas as pd\n",
    "import glob\n",
    "import coords\n",
    "import xarray as xr\n",
    "import pyart\n",
    "from datetime import timedelta\n",
    "from radarcalc import *\n",
    "import matplotlib.pyplot as plt\n",
    "import metpy.calc as mpcalc\n",
    "import metpy\n",
    "import metpy.plots\n",
    "from metpy.units import units\n",
    "import cartopy.crs as ccrs\n",
    "import cartopy\n",
    "import gc"
   ]
  },
  {
   "cell_type": "code",
   "execution_count": 2,
   "id": "c2f7521e-a6b5-4987-a244-7ff4eccaa848",
   "metadata": {
    "tags": []
   },
   "outputs": [
    {
     "ename": "FileNotFoundError",
     "evalue": "[Errno 2] No such file or directory: 'C:/Users/julia/Desktop/Research/GPS_Ka1_20220523.txt'",
     "output_type": "error",
     "traceback": [
      "\u001b[0;31m---------------------------------------------------------------------------\u001b[0m",
      "\u001b[0;31mFileNotFoundError\u001b[0m                         Traceback (most recent call last)",
      "Cell \u001b[0;32mIn[2], line 4\u001b[0m\n\u001b[1;32m      1\u001b[0m \u001b[38;5;66;03m# bring in the data, in this case it's from Morton\u001b[39;00m\n\u001b[1;32m      2\u001b[0m \n\u001b[1;32m      3\u001b[0m \u001b[38;5;66;03m# gps data for first ka\u001b[39;00m\n\u001b[0;32m----> 4\u001b[0m ka1gps \u001b[38;5;241m=\u001b[39m \u001b[43mpd\u001b[49m\u001b[38;5;241;43m.\u001b[39;49m\u001b[43mread_csv\u001b[49m\u001b[43m(\u001b[49m\u001b[38;5;124;43m'\u001b[39;49m\u001b[38;5;124;43mC:/Users/julia/Desktop/Research/GPS_Ka1_20220523.txt\u001b[39;49m\u001b[38;5;124;43m'\u001b[39;49m\u001b[43m)\u001b[49m\n\u001b[1;32m      5\u001b[0m \u001b[38;5;66;03m# scan data for first ka\u001b[39;00m\n\u001b[1;32m      6\u001b[0m ka1scan \u001b[38;5;241m=\u001b[39m pd\u001b[38;5;241m.\u001b[39mread_csv(\u001b[38;5;124m'\u001b[39m\u001b[38;5;124mC:/Users/julia/Desktop/Research/20220523_Ka1_scan_log.txt\u001b[39m\u001b[38;5;124m'\u001b[39m, dtype\u001b[38;5;241m=\u001b[39m\u001b[38;5;28mstr\u001b[39m,\n\u001b[1;32m      7\u001b[0m                      parse_dates\u001b[38;5;241m=\u001b[39m[\u001b[38;5;241m0\u001b[39m])\n",
      "File \u001b[0;32m~/miniforge3/envs/Research/lib/python3.9/site-packages/pandas/io/parsers/readers.py:1024\u001b[0m, in \u001b[0;36mread_csv\u001b[0;34m(filepath_or_buffer, sep, delimiter, header, names, index_col, usecols, dtype, engine, converters, true_values, false_values, skipinitialspace, skiprows, skipfooter, nrows, na_values, keep_default_na, na_filter, verbose, skip_blank_lines, parse_dates, infer_datetime_format, keep_date_col, date_parser, date_format, dayfirst, cache_dates, iterator, chunksize, compression, thousands, decimal, lineterminator, quotechar, quoting, doublequote, escapechar, comment, encoding, encoding_errors, dialect, on_bad_lines, delim_whitespace, low_memory, memory_map, float_precision, storage_options, dtype_backend)\u001b[0m\n\u001b[1;32m   1011\u001b[0m kwds_defaults \u001b[38;5;241m=\u001b[39m _refine_defaults_read(\n\u001b[1;32m   1012\u001b[0m     dialect,\n\u001b[1;32m   1013\u001b[0m     delimiter,\n\u001b[0;32m   (...)\u001b[0m\n\u001b[1;32m   1020\u001b[0m     dtype_backend\u001b[38;5;241m=\u001b[39mdtype_backend,\n\u001b[1;32m   1021\u001b[0m )\n\u001b[1;32m   1022\u001b[0m kwds\u001b[38;5;241m.\u001b[39mupdate(kwds_defaults)\n\u001b[0;32m-> 1024\u001b[0m \u001b[38;5;28;01mreturn\u001b[39;00m \u001b[43m_read\u001b[49m\u001b[43m(\u001b[49m\u001b[43mfilepath_or_buffer\u001b[49m\u001b[43m,\u001b[49m\u001b[43m \u001b[49m\u001b[43mkwds\u001b[49m\u001b[43m)\u001b[49m\n",
      "File \u001b[0;32m~/miniforge3/envs/Research/lib/python3.9/site-packages/pandas/io/parsers/readers.py:618\u001b[0m, in \u001b[0;36m_read\u001b[0;34m(filepath_or_buffer, kwds)\u001b[0m\n\u001b[1;32m    615\u001b[0m _validate_names(kwds\u001b[38;5;241m.\u001b[39mget(\u001b[38;5;124m\"\u001b[39m\u001b[38;5;124mnames\u001b[39m\u001b[38;5;124m\"\u001b[39m, \u001b[38;5;28;01mNone\u001b[39;00m))\n\u001b[1;32m    617\u001b[0m \u001b[38;5;66;03m# Create the parser.\u001b[39;00m\n\u001b[0;32m--> 618\u001b[0m parser \u001b[38;5;241m=\u001b[39m \u001b[43mTextFileReader\u001b[49m\u001b[43m(\u001b[49m\u001b[43mfilepath_or_buffer\u001b[49m\u001b[43m,\u001b[49m\u001b[43m \u001b[49m\u001b[38;5;241;43m*\u001b[39;49m\u001b[38;5;241;43m*\u001b[39;49m\u001b[43mkwds\u001b[49m\u001b[43m)\u001b[49m\n\u001b[1;32m    620\u001b[0m \u001b[38;5;28;01mif\u001b[39;00m chunksize \u001b[38;5;129;01mor\u001b[39;00m iterator:\n\u001b[1;32m    621\u001b[0m     \u001b[38;5;28;01mreturn\u001b[39;00m parser\n",
      "File \u001b[0;32m~/miniforge3/envs/Research/lib/python3.9/site-packages/pandas/io/parsers/readers.py:1618\u001b[0m, in \u001b[0;36mTextFileReader.__init__\u001b[0;34m(self, f, engine, **kwds)\u001b[0m\n\u001b[1;32m   1615\u001b[0m     \u001b[38;5;28mself\u001b[39m\u001b[38;5;241m.\u001b[39moptions[\u001b[38;5;124m\"\u001b[39m\u001b[38;5;124mhas_index_names\u001b[39m\u001b[38;5;124m\"\u001b[39m] \u001b[38;5;241m=\u001b[39m kwds[\u001b[38;5;124m\"\u001b[39m\u001b[38;5;124mhas_index_names\u001b[39m\u001b[38;5;124m\"\u001b[39m]\n\u001b[1;32m   1617\u001b[0m \u001b[38;5;28mself\u001b[39m\u001b[38;5;241m.\u001b[39mhandles: IOHandles \u001b[38;5;241m|\u001b[39m \u001b[38;5;28;01mNone\u001b[39;00m \u001b[38;5;241m=\u001b[39m \u001b[38;5;28;01mNone\u001b[39;00m\n\u001b[0;32m-> 1618\u001b[0m \u001b[38;5;28mself\u001b[39m\u001b[38;5;241m.\u001b[39m_engine \u001b[38;5;241m=\u001b[39m \u001b[38;5;28;43mself\u001b[39;49m\u001b[38;5;241;43m.\u001b[39;49m\u001b[43m_make_engine\u001b[49m\u001b[43m(\u001b[49m\u001b[43mf\u001b[49m\u001b[43m,\u001b[49m\u001b[43m \u001b[49m\u001b[38;5;28;43mself\u001b[39;49m\u001b[38;5;241;43m.\u001b[39;49m\u001b[43mengine\u001b[49m\u001b[43m)\u001b[49m\n",
      "File \u001b[0;32m~/miniforge3/envs/Research/lib/python3.9/site-packages/pandas/io/parsers/readers.py:1878\u001b[0m, in \u001b[0;36mTextFileReader._make_engine\u001b[0;34m(self, f, engine)\u001b[0m\n\u001b[1;32m   1876\u001b[0m     \u001b[38;5;28;01mif\u001b[39;00m \u001b[38;5;124m\"\u001b[39m\u001b[38;5;124mb\u001b[39m\u001b[38;5;124m\"\u001b[39m \u001b[38;5;129;01mnot\u001b[39;00m \u001b[38;5;129;01min\u001b[39;00m mode:\n\u001b[1;32m   1877\u001b[0m         mode \u001b[38;5;241m+\u001b[39m\u001b[38;5;241m=\u001b[39m \u001b[38;5;124m\"\u001b[39m\u001b[38;5;124mb\u001b[39m\u001b[38;5;124m\"\u001b[39m\n\u001b[0;32m-> 1878\u001b[0m \u001b[38;5;28mself\u001b[39m\u001b[38;5;241m.\u001b[39mhandles \u001b[38;5;241m=\u001b[39m \u001b[43mget_handle\u001b[49m\u001b[43m(\u001b[49m\n\u001b[1;32m   1879\u001b[0m \u001b[43m    \u001b[49m\u001b[43mf\u001b[49m\u001b[43m,\u001b[49m\n\u001b[1;32m   1880\u001b[0m \u001b[43m    \u001b[49m\u001b[43mmode\u001b[49m\u001b[43m,\u001b[49m\n\u001b[1;32m   1881\u001b[0m \u001b[43m    \u001b[49m\u001b[43mencoding\u001b[49m\u001b[38;5;241;43m=\u001b[39;49m\u001b[38;5;28;43mself\u001b[39;49m\u001b[38;5;241;43m.\u001b[39;49m\u001b[43moptions\u001b[49m\u001b[38;5;241;43m.\u001b[39;49m\u001b[43mget\u001b[49m\u001b[43m(\u001b[49m\u001b[38;5;124;43m\"\u001b[39;49m\u001b[38;5;124;43mencoding\u001b[39;49m\u001b[38;5;124;43m\"\u001b[39;49m\u001b[43m,\u001b[49m\u001b[43m \u001b[49m\u001b[38;5;28;43;01mNone\u001b[39;49;00m\u001b[43m)\u001b[49m\u001b[43m,\u001b[49m\n\u001b[1;32m   1882\u001b[0m \u001b[43m    \u001b[49m\u001b[43mcompression\u001b[49m\u001b[38;5;241;43m=\u001b[39;49m\u001b[38;5;28;43mself\u001b[39;49m\u001b[38;5;241;43m.\u001b[39;49m\u001b[43moptions\u001b[49m\u001b[38;5;241;43m.\u001b[39;49m\u001b[43mget\u001b[49m\u001b[43m(\u001b[49m\u001b[38;5;124;43m\"\u001b[39;49m\u001b[38;5;124;43mcompression\u001b[39;49m\u001b[38;5;124;43m\"\u001b[39;49m\u001b[43m,\u001b[49m\u001b[43m \u001b[49m\u001b[38;5;28;43;01mNone\u001b[39;49;00m\u001b[43m)\u001b[49m\u001b[43m,\u001b[49m\n\u001b[1;32m   1883\u001b[0m \u001b[43m    \u001b[49m\u001b[43mmemory_map\u001b[49m\u001b[38;5;241;43m=\u001b[39;49m\u001b[38;5;28;43mself\u001b[39;49m\u001b[38;5;241;43m.\u001b[39;49m\u001b[43moptions\u001b[49m\u001b[38;5;241;43m.\u001b[39;49m\u001b[43mget\u001b[49m\u001b[43m(\u001b[49m\u001b[38;5;124;43m\"\u001b[39;49m\u001b[38;5;124;43mmemory_map\u001b[39;49m\u001b[38;5;124;43m\"\u001b[39;49m\u001b[43m,\u001b[49m\u001b[43m \u001b[49m\u001b[38;5;28;43;01mFalse\u001b[39;49;00m\u001b[43m)\u001b[49m\u001b[43m,\u001b[49m\n\u001b[1;32m   1884\u001b[0m \u001b[43m    \u001b[49m\u001b[43mis_text\u001b[49m\u001b[38;5;241;43m=\u001b[39;49m\u001b[43mis_text\u001b[49m\u001b[43m,\u001b[49m\n\u001b[1;32m   1885\u001b[0m \u001b[43m    \u001b[49m\u001b[43merrors\u001b[49m\u001b[38;5;241;43m=\u001b[39;49m\u001b[38;5;28;43mself\u001b[39;49m\u001b[38;5;241;43m.\u001b[39;49m\u001b[43moptions\u001b[49m\u001b[38;5;241;43m.\u001b[39;49m\u001b[43mget\u001b[49m\u001b[43m(\u001b[49m\u001b[38;5;124;43m\"\u001b[39;49m\u001b[38;5;124;43mencoding_errors\u001b[39;49m\u001b[38;5;124;43m\"\u001b[39;49m\u001b[43m,\u001b[49m\u001b[43m \u001b[49m\u001b[38;5;124;43m\"\u001b[39;49m\u001b[38;5;124;43mstrict\u001b[39;49m\u001b[38;5;124;43m\"\u001b[39;49m\u001b[43m)\u001b[49m\u001b[43m,\u001b[49m\n\u001b[1;32m   1886\u001b[0m \u001b[43m    \u001b[49m\u001b[43mstorage_options\u001b[49m\u001b[38;5;241;43m=\u001b[39;49m\u001b[38;5;28;43mself\u001b[39;49m\u001b[38;5;241;43m.\u001b[39;49m\u001b[43moptions\u001b[49m\u001b[38;5;241;43m.\u001b[39;49m\u001b[43mget\u001b[49m\u001b[43m(\u001b[49m\u001b[38;5;124;43m\"\u001b[39;49m\u001b[38;5;124;43mstorage_options\u001b[39;49m\u001b[38;5;124;43m\"\u001b[39;49m\u001b[43m,\u001b[49m\u001b[43m \u001b[49m\u001b[38;5;28;43;01mNone\u001b[39;49;00m\u001b[43m)\u001b[49m\u001b[43m,\u001b[49m\n\u001b[1;32m   1887\u001b[0m \u001b[43m\u001b[49m\u001b[43m)\u001b[49m\n\u001b[1;32m   1888\u001b[0m \u001b[38;5;28;01massert\u001b[39;00m \u001b[38;5;28mself\u001b[39m\u001b[38;5;241m.\u001b[39mhandles \u001b[38;5;129;01mis\u001b[39;00m \u001b[38;5;129;01mnot\u001b[39;00m \u001b[38;5;28;01mNone\u001b[39;00m\n\u001b[1;32m   1889\u001b[0m f \u001b[38;5;241m=\u001b[39m \u001b[38;5;28mself\u001b[39m\u001b[38;5;241m.\u001b[39mhandles\u001b[38;5;241m.\u001b[39mhandle\n",
      "File \u001b[0;32m~/miniforge3/envs/Research/lib/python3.9/site-packages/pandas/io/common.py:873\u001b[0m, in \u001b[0;36mget_handle\u001b[0;34m(path_or_buf, mode, encoding, compression, memory_map, is_text, errors, storage_options)\u001b[0m\n\u001b[1;32m    868\u001b[0m \u001b[38;5;28;01melif\u001b[39;00m \u001b[38;5;28misinstance\u001b[39m(handle, \u001b[38;5;28mstr\u001b[39m):\n\u001b[1;32m    869\u001b[0m     \u001b[38;5;66;03m# Check whether the filename is to be opened in binary mode.\u001b[39;00m\n\u001b[1;32m    870\u001b[0m     \u001b[38;5;66;03m# Binary mode does not support 'encoding' and 'newline'.\u001b[39;00m\n\u001b[1;32m    871\u001b[0m     \u001b[38;5;28;01mif\u001b[39;00m ioargs\u001b[38;5;241m.\u001b[39mencoding \u001b[38;5;129;01mand\u001b[39;00m \u001b[38;5;124m\"\u001b[39m\u001b[38;5;124mb\u001b[39m\u001b[38;5;124m\"\u001b[39m \u001b[38;5;129;01mnot\u001b[39;00m \u001b[38;5;129;01min\u001b[39;00m ioargs\u001b[38;5;241m.\u001b[39mmode:\n\u001b[1;32m    872\u001b[0m         \u001b[38;5;66;03m# Encoding\u001b[39;00m\n\u001b[0;32m--> 873\u001b[0m         handle \u001b[38;5;241m=\u001b[39m \u001b[38;5;28;43mopen\u001b[39;49m\u001b[43m(\u001b[49m\n\u001b[1;32m    874\u001b[0m \u001b[43m            \u001b[49m\u001b[43mhandle\u001b[49m\u001b[43m,\u001b[49m\n\u001b[1;32m    875\u001b[0m \u001b[43m            \u001b[49m\u001b[43mioargs\u001b[49m\u001b[38;5;241;43m.\u001b[39;49m\u001b[43mmode\u001b[49m\u001b[43m,\u001b[49m\n\u001b[1;32m    876\u001b[0m \u001b[43m            \u001b[49m\u001b[43mencoding\u001b[49m\u001b[38;5;241;43m=\u001b[39;49m\u001b[43mioargs\u001b[49m\u001b[38;5;241;43m.\u001b[39;49m\u001b[43mencoding\u001b[49m\u001b[43m,\u001b[49m\n\u001b[1;32m    877\u001b[0m \u001b[43m            \u001b[49m\u001b[43merrors\u001b[49m\u001b[38;5;241;43m=\u001b[39;49m\u001b[43merrors\u001b[49m\u001b[43m,\u001b[49m\n\u001b[1;32m    878\u001b[0m \u001b[43m            \u001b[49m\u001b[43mnewline\u001b[49m\u001b[38;5;241;43m=\u001b[39;49m\u001b[38;5;124;43m\"\u001b[39;49m\u001b[38;5;124;43m\"\u001b[39;49m\u001b[43m,\u001b[49m\n\u001b[1;32m    879\u001b[0m \u001b[43m        \u001b[49m\u001b[43m)\u001b[49m\n\u001b[1;32m    880\u001b[0m     \u001b[38;5;28;01melse\u001b[39;00m:\n\u001b[1;32m    881\u001b[0m         \u001b[38;5;66;03m# Binary mode\u001b[39;00m\n\u001b[1;32m    882\u001b[0m         handle \u001b[38;5;241m=\u001b[39m \u001b[38;5;28mopen\u001b[39m(handle, ioargs\u001b[38;5;241m.\u001b[39mmode)\n",
      "\u001b[0;31mFileNotFoundError\u001b[0m: [Errno 2] No such file or directory: 'C:/Users/julia/Desktop/Research/GPS_Ka1_20220523.txt'"
     ]
    }
   ],
   "source": [
    "# bring in the data, in this case it's from Morton\n",
    "\n",
    "# gps data for first ka\n",
    "ka1gps = pd.read_csv('C:/Users/julia/Desktop/Research/GPS_Ka1_20220523.txt')\n",
    "# scan data for first ka\n",
    "ka1scan = pd.read_csv('C:/Users/julia/Desktop/Research/20220523_Ka1_scan_log.txt', dtype=str,\n",
    "                     parse_dates=[0])\n",
    "\n",
    "# dealiased vad data created from VADS.ipynb for ka 1, but not bearing corrected\n",
    "vad_fileska1 = sorted(glob.glob('C:/Users/julia/Desktop/Research/product_raw_ka1/*.nc'))\n",
    "\n",
    "# sanity checks to make sure they're loading in:\n",
    "#print(vad_fileska1)\n",
    "#print(ka1gps)"
   ]
  },
  {
   "cell_type": "markdown",
   "id": "9af03d62-2ec0-4269-9043-fc54d29cf1ed",
   "metadata": {},
   "source": [
    "Now that the data is loaded in, we need to create a function that converts the distance from the storm to the vehicle from (lat,lon) into meters."
   ]
  },
  {
   "cell_type": "code",
   "execution_count": null,
   "id": "1b6ad256-b7a4-49c8-a69f-38532d1c9d49",
   "metadata": {
    "tags": []
   },
   "outputs": [],
   "source": [
    "#Read in storm location csv\n",
    "\n",
    "storm_location = pd.read_csv(r\"C:\\Users\\julia\\Desktop\\Research\\StormLocationMorton.csv\", header=0)\n",
    "storm_location['Date']=storm_location['Date'].astype(str).str.zfill(8)\n",
    "storm_location['Time']=storm_location['Time'].astype(str).str.zfill(8)\n",
    "storm_location['datetime'] = pd.to_datetime(storm_location['Date'].astype(str)+storm_location['Time'].astype(str),format='%m/%d/%Y%H:%M:%S')\n",
    "\n",
    "storm_location['Lon'] = storm_location['Lon'].astype(str).str.zfill(8)\n",
    "storm_lon = storm_location['Lon'].astype(float) # .astype(float) changes it from string to float since you cant operate on strings\n",
    "\n",
    "print(storm_lon)\n",
    "\n",
    "storm_location['Lat'] = storm_location['Lat'].astype(str).str.zfill(8) \n",
    "storm_lat = storm_location['Lat'].astype(float)\n",
    "\n",
    "print(storm_lat)\n",
    "#print(storm_location)"
   ]
  },
  {
   "cell_type": "markdown",
   "id": "49d86dd2-32c8-4dcd-948b-dde3f0abe0ea",
   "metadata": {},
   "source": [
    "!! Maybe the issue is that I'm using storm location and not the location of the mesocyclone?\n",
    "I'm not sure which feature of the storm is being tracked to determine its location"
   ]
  },
  {
   "cell_type": "code",
   "execution_count": null,
   "id": "3b26bf4f-7acd-4d8c-ae26-c49e099c5b09",
   "metadata": {
    "tags": []
   },
   "outputs": [],
   "source": [
    "#  function that will convert distance from (lat1, lon1) to (lat2, lon2) into meters\n",
    "def coordinates_to_meters(lat1, lat2, lon1, lon2):\n",
    "    d=2*np.arcsin(np.sqrt((np.sin((lat1-lat2)/2))**2 + np.cos(lat1)*np.cos(lat2)*(np.sin((lon1-lon2)/2))**2)) \n",
    "    return d"
   ]
  },
  {
   "cell_type": "markdown",
   "id": "b01eb1c3-331e-488c-a062-e3825396f707",
   "metadata": {},
   "source": [
    "Maybe my formula was wrong for coords to meters? New attempt:"
   ]
  },
  {
   "cell_type": "code",
   "execution_count": null,
   "id": "23f11ce5-7165-4f5c-818c-f054b7538041",
   "metadata": {
    "tags": []
   },
   "outputs": [],
   "source": [
    "def new_coordinates_to_meters(lat1, lat2, lon1, lon2):\n",
    "    r = 6378.137 # radius of earth in km\n",
    "    d=2*np.arcsin(np.sqrt((np.sin((lat1-lat2)/2))**2 + np.cos(lat1)*np.cos(lat2)*(np.sin((lon1-lon2)/2))**2))\n",
    "    new_d = d * r\n",
    "    #d_meters = new_d * 1000 # converts to meters \n",
    "    #d_meters = d * 1000 \n",
    "    return new_d"
   ]
  },
  {
   "cell_type": "code",
   "execution_count": null,
   "id": "a2214784-9c2d-41cf-9f02-e046deacfad8",
   "metadata": {
    "tags": []
   },
   "outputs": [],
   "source": [
    "# from stackoverflow (https://stackoverflow.com/questions/639695/how-to-convert-latitude-or-longitude-to-meters)\n",
    "# originally in javascript\n",
    "def measure(lat1, lon1, lat2, lon2):  # generally used geo measurement function\n",
    "    R = 6378.137 # Radius of earth in KM\n",
    "    dLat = lat2 * np.pi / 180 - lat1 * np.pi / 180;\n",
    "    dLon = lon2 * np.pi / 180 - lon1 * np.pi / 180;\n",
    "    a = np.sin(dLat/2) * np.sin(dLat/2) + np.cos(lat1 * np.pi / 180) * np.cos(lat2 * np.pi / 180) * np.sin(dLon/2) * np.sin(dLon/2)\n",
    "    c = 2 * np.arctan2(np.sqrt(a), np.sqrt(1-a))\n",
    "    d = R * c\n",
    "    #d_meters = d * 1000\n",
    "    return d # km"
   ]
  },
  {
   "cell_type": "code",
   "execution_count": null,
   "id": "2101d41a-9611-468d-8df8-3263ed1b0d53",
   "metadata": {
    "tags": []
   },
   "outputs": [],
   "source": [
    "def haversine(lat1, lon1, lat2, lon2): \n",
    "    R = 6378 # km\n",
    "    dlon = lon2 - lon1\n",
    "    dlat = lat2 - lat1\n",
    "    a = ((np.sin(dlat/2))**2) + np.cos(lat1) * np.cos(lat2) * ((np.sin(dlon/2))**2)\n",
    "    c = 2 * np.arcsin(min(1,np.sqrt(a)))\n",
    "    d = R * c # d will be in same units as R\n",
    "    return c"
   ]
  },
  {
   "cell_type": "code",
   "execution_count": null,
   "id": "65616e49-8f89-4889-ac8b-1e489f4244e6",
   "metadata": {
    "tags": []
   },
   "outputs": [],
   "source": [
    "# example on how to grab lat and lon, these are from the gps\n",
    "\n",
    "lat=ka1gps.Latitude # <== easier way to grab column\n",
    "lon=ka1gps.Longitude\n",
    "print(lat)\n",
    "print(lon)"
   ]
  },
  {
   "cell_type": "code",
   "execution_count": null,
   "id": "788e629f-537a-47c2-9079-26c9f9871ea2",
   "metadata": {
    "tags": []
   },
   "outputs": [],
   "source": [
    "# however, we dont want these, we want only the lat and lons from every vad position\n",
    "# from alex's code though, he accesses these files to get lat and lon so i guess its what we want?\n",
    "# all of the data is from when the stuff was collected??"
   ]
  },
  {
   "cell_type": "markdown",
   "id": "93363c34-62c9-4854-b395-47ff3c232cfd",
   "metadata": {},
   "source": [
    "**!!!MAKE SURE TO CHECK WHICH INPUTS GO WHERE FOR EACH FUNCTION!!!**"
   ]
  },
  {
   "cell_type": "code",
   "execution_count": null,
   "id": "87b75159-b0eb-47fc-801d-ffce9ae2d31c",
   "metadata": {
    "tags": []
   },
   "outputs": [],
   "source": [
    "# to iterate through the files, we need a loop with the function inside:\n",
    "\n",
    "# dfs: Distance From Storm (in meters?)\n",
    "dfs = []\n",
    "for i in np.arange(0,len(storm_location)):\n",
    "    cms = coordinates_to_meters(lat[i], storm_lat[i], lon[i], storm_lon[i])\n",
    "    dfs.append(cms)"
   ]
  },
  {
   "cell_type": "code",
   "execution_count": null,
   "id": "a5fae6fc-31ec-4f78-80b9-2677c119b889",
   "metadata": {
    "tags": []
   },
   "outputs": [],
   "source": [
    "print(dfs)"
   ]
  },
  {
   "cell_type": "code",
   "execution_count": null,
   "id": "91ba5f10-4a3e-4d0b-b180-d9d5b0ac82d0",
   "metadata": {
    "tags": []
   },
   "outputs": [],
   "source": [
    "dfs_new = []\n",
    "for i in np.arange(0,len(storm_location)):\n",
    "    cms_new = new_coordinates_to_meters(lat[i], storm_lat[i], lon[i], storm_lon[i])\n",
    "    dfs_new.append(cms_new)"
   ]
  },
  {
   "cell_type": "code",
   "execution_count": null,
   "id": "8e85cc82-e703-4170-bb72-02f33765b424",
   "metadata": {
    "tags": []
   },
   "outputs": [],
   "source": [
    "print(dfs_new)"
   ]
  },
  {
   "cell_type": "code",
   "execution_count": null,
   "id": "c8a9cc61-bcfd-448d-bc43-c2512cbd7ce0",
   "metadata": {
    "tags": []
   },
   "outputs": [],
   "source": [
    "dfs_new2 = []\n",
    "for i in np.arange(0,len(storm_location)):\n",
    "    cms_new2 = measure(lat[i], lon[i], storm_lat[i], storm_lon[i])\n",
    "    dfs_new2.append(cms_new2)"
   ]
  },
  {
   "cell_type": "code",
   "execution_count": null,
   "id": "ba5e4d0c-8f4d-45b4-8645-817d89c95065",
   "metadata": {
    "tags": []
   },
   "outputs": [],
   "source": [
    "print(dfs_new2)"
   ]
  },
  {
   "cell_type": "code",
   "execution_count": null,
   "id": "e2a7fd1c-383e-4fe4-80b4-f0c4cda87101",
   "metadata": {
    "tags": []
   },
   "outputs": [],
   "source": [
    "np.shape(dfs_new2)"
   ]
  },
  {
   "cell_type": "code",
   "execution_count": null,
   "id": "83263750-8b1b-4fbd-b671-a0a0f980c78b",
   "metadata": {
    "tags": []
   },
   "outputs": [],
   "source": [
    "dfs_new3 = []\n",
    "for i in np.arange(0,len(storm_location)):\n",
    "    cms_new3 = haversine(lat[i], lon[i], storm_lat[i], storm_lon[i])\n",
    "    dfs_new3.append(cms_new3)"
   ]
  },
  {
   "cell_type": "code",
   "execution_count": null,
   "id": "0e5a0f28-6766-4b2f-b51c-098e56e15be1",
   "metadata": {
    "tags": []
   },
   "outputs": [],
   "source": [
    "print(dfs_new3)"
   ]
  },
  {
   "cell_type": "markdown",
   "id": "3f5a2ed3-76d4-4dc7-b533-d16432e0353d",
   "metadata": {},
   "source": [
    "Now that we have our distance from the storm in meters-- aka our r -- we need theta.\n",
    "Theta is the bearing from the VADs."
   ]
  },
  {
   "cell_type": "code",
   "execution_count": null,
   "id": "b65461fd-a688-4bff-9794-52eed23fd1d4",
   "metadata": {
    "tags": []
   },
   "outputs": [],
   "source": [
    "bearing_list = []\n",
    "\n",
    "# Code from Alex S and Josh O\n",
    "# Fixing the bearing\n",
    "from datetime import datetime\n",
    "\n",
    "# gps data for first ka\n",
    "ka1gps = pd.read_csv('C:/Users/julia/Desktop/Research/GPS_Ka1_20220523.txt')\n",
    "ka1gps=ka1gps.astype(str)\n",
    "# scan data for first ka\n",
    "ka1scan = pd.read_csv('C:/Users/julia/Desktop/Research/20220523_Ka1_scan_log.txt', dtype=str,\n",
    "                     parse_dates=[0])\n",
    "# dealiased vad data created from VADS.ipynb for ka 1, but not bearing corrected\n",
    "vad_fileska1 = sorted(glob.glob('C:/Users/julia/Desktop/Research/product_raw_ka1/*.nc'))\n",
    "\n",
    "#print(ka1gps)\n",
    "\n",
    "for thefile in vad_fileska1[9:12]:\n",
    "\n",
    "    radar = pyart.io.read_cfradial(thefile)\n",
    "    print(thefile,radar.fixed_angle['data'])\n",
    "    \n",
    "    # selects a column and uses it to tell program how to run through data\n",
    "    \n",
    "    ka1gps['ddmmyy']+ka1gps['hhmmss[UTC]'] \n",
    "    ka1gps['datetime'] = [datetime.strptime(d,'%d%m%y%H%M%S') for d in ka1gps['ddmmyy']+ka1gps['hhmmss[UTC]']]\n",
    "    beginscanindex = ka1gps.loc[ka1gps['datetime'] == datetime.strptime(radar.time['units'],'seconds since %Y-%m-%dT%H:%M:%SZ')].index+np.amin(np.unique(radar.time['data']))\n",
    "    endscanindex = ka1gps.loc[ka1gps['datetime'] == datetime.strptime(radar.time['units'],'seconds since %Y-%m-%dT%H:%M:%SZ')].index+np.amax(np.unique(radar.time['data']))\n",
    "    dfscan = ka1gps.iloc[beginscanindex[0].astype(int):endscanindex[0].astype(int)]\n",
    "    dfscan = dfscan.astype({'Bearing[degrees]': 'float'})\n",
    "\n",
    "    speed = dfscan['Velocity[knots]'].astype(float).mean()\n",
    "        \n",
    "    #Get Bearing from deployment log or gps file\n",
    "    if int(ka1scan.loc[ka1scan['Datetime'] == dfscan.datetime.values[0]].Deployment.values[0]) != 0:\n",
    "        bearing = float(ka1scan.loc[ka1scan['Datetime'] == dfscan.datetime.values[0]].Heading.values[0])\n",
    "    else:\n",
    "        bearing = dfscan['Bearing[degrees]'].mean()\n",
    "        \n",
    "    #Manual Corrections\n",
    "    if bearing == 80.06703703703703:\n",
    "        bearing = 190\n",
    "    elif (bearing == 64.25037037037036):\n",
    "        bearing = 9.980000000000002\n",
    "    elif (bearing == 89.28925925925924):\n",
    "        bearing = 92.6\n",
    "    elif bearing == 269.9640740740741:\n",
    "        bearing = 90.6\n",
    "    elif bearing == 206.84615384615387:\n",
    "        bearing = 149.0\n",
    "    elif bearing == 263.8211111111111:\n",
    "        bearing = 90.2\n",
    "    \n",
    "    #print('Bearing used: '+str(bearing))\n",
    "    \n",
    "    lat_vads = dfscan['Latitude'].astype(float)\n",
    "    lon_vads = dfscan['Longitude'].astype(float)\n",
    "    \n",
    "    #print(lat)\n",
    "    #print(lon)\n",
    "    #Bearing Correction\n",
    "    radar.azimuth['data']+=(bearing)%360\n",
    "    #print(bearing)\n",
    "    \n",
    "    # add all bearings from loop to list\n",
    "    bearing_list.append(bearing)\n",
    "    \n",
    "print(bearing_list)"
   ]
  },
  {
   "cell_type": "code",
   "execution_count": null,
   "id": "4e1ec82b-57fe-43e7-8199-310cd76123cf",
   "metadata": {
    "tags": []
   },
   "outputs": [],
   "source": [
    "dfs2 = []\n",
    "first_three = storm_location[0:3]"
   ]
  },
  {
   "cell_type": "code",
   "execution_count": null,
   "id": "2ac81e23-57cb-4aca-b698-38a2f840bf15",
   "metadata": {
    "tags": []
   },
   "outputs": [],
   "source": [
    "for i in np.arange(0,len(first_three)):\n",
    "    cms2 = coordinates_to_meters(lat[i], storm_lat[i], lon[i], storm_lon[i])\n",
    "    dfs2.append(cms2)"
   ]
  },
  {
   "cell_type": "code",
   "execution_count": null,
   "id": "8da70929-ce56-4ec7-bb3f-21aeb97ad4ea",
   "metadata": {
    "tags": []
   },
   "outputs": [],
   "source": [
    "print(dfs2)"
   ]
  },
  {
   "cell_type": "code",
   "execution_count": null,
   "id": "706b86d5-980d-420b-b7b4-af2c6ca9cbc4",
   "metadata": {
    "tags": []
   },
   "outputs": [],
   "source": [
    "dfs3 = []\n",
    "for i in np.arange(0,len(first_three)):\n",
    "    cms3 = measure(lat[i], lon[i], storm_lat[i], storm_lon[i])\n",
    "    dfs3.append(cms3)"
   ]
  },
  {
   "cell_type": "code",
   "execution_count": null,
   "id": "62c256de-cf3b-4cdd-b9f0-9175bce781d5",
   "metadata": {
    "tags": []
   },
   "outputs": [],
   "source": [
    "print(dfs3)"
   ]
  },
  {
   "cell_type": "markdown",
   "id": "538e50bb-7258-457e-ae0a-fbbe36a3586c",
   "metadata": {},
   "source": [
    "Yippee!! We have 3 indeces of both r and theta to plot for our first test round!"
   ]
  },
  {
   "cell_type": "code",
   "execution_count": null,
   "id": "48526b6e-318c-4103-821a-d951391162cf",
   "metadata": {
    "tags": []
   },
   "outputs": [],
   "source": [
    "# bring in the figure\n",
    "\n",
    "# make radians go from 0 to 360 so we can plot bearing without modifying it\n",
    "\n",
    "#distance_grid = np.arange(0, 1, 0.1) #in km\n",
    "#rads = np.arange(0, 2*np.pi)\n",
    "# trying to plot two plots\n",
    "# fig = plt.figure(2)\n",
    "# n_rows, n_cols = 2, 2\n",
    "# fig, ax = plt.subplots(n_rows, n_cols, squeeze=False, figsize=(13,13), subplot_kw={'projection': 'polar'})\n",
    "fig, ax = plt.subplots(subplot_kw={'projection': 'polar'})\n",
    "#ax.set_rmax(2)\n",
    "#ax.set_rticks(distance_grid)\n",
    "ax.set_rlabel_position(-22.5)  # Move radial labels away from plotted line\n",
    "ax.grid(True, linestyle = ':') # makes grid lines dotted\n",
    "ax.plot()\n",
    "\n",
    "# now that we have the figure set up, we can plot on it\n",
    "# r --> great circle distance from lat and lon of storm to lat and lon of vehicle\n",
    "# theta --> corrected bearing\n",
    "# in polar plots the order of plotting is (theta, r)\n",
    "theta = bearing_list\n",
    "r = dfs3\n",
    "\n",
    "#ax[1,0].scatter(theta, r)\n",
    "ax.scatter(theta, r)\n",
    "\n",
    "plt.show()"
   ]
  },
  {
   "cell_type": "markdown",
   "id": "197a142b-9bea-443f-b084-24e5a60689f8",
   "metadata": {},
   "source": [
    "Success!! Now to do it for all of the vads with the storm motion set as the 0 axis."
   ]
  },
  {
   "cell_type": "code",
   "execution_count": null,
   "id": "1a02befe-06cf-42fc-afe0-20d7b091147c",
   "metadata": {
    "tags": []
   },
   "outputs": [],
   "source": [
    "# get the storm motion (in degrees)\n",
    "# Code from Alex S and Josh O\n",
    "\n",
    "#Calculate storm motion \n",
    "\n",
    "decimalhour=[]\n",
    "decimalsec=[]\n",
    "for i in np.arange(0,len(storm_location),1):\n",
    "    (h, m, s) = storm_location.loc[i].Time.split(':')\n",
    "    result = int(h) + int(m)/60 + int(s)/3600\n",
    "    result1 = int(h) * 3600 + int(m) * 60 + int(s)\n",
    "    decimalsec.append(result1)\n",
    "    decimalhour.append(result)\n",
    "storm_location['decimalhour']=decimalhour\n",
    "storm_location['decimalsec']=decimalsec\n",
    "storm_decimalsec=storm_location.decimalsec.astype(float)\n",
    "\n",
    "\n",
    "from math import sin, cos, sqrt, atan2, radians\n",
    "\n",
    "def calc_velocity(lat1,lon1,lat2,lon2,time1,time2):\n",
    "    R = 6371 # Radius of the earth in km\n",
    "    dLat = radians(lat2-lat1)\n",
    "    dLon = radians(lon2-lon1)\n",
    "    rLat1 = radians(lat1)\n",
    "    rLat2 = radians(lat2)\n",
    "    a = sin(dLat/2) * sin(dLat/2) + cos(rLat1) * cos(rLat2) * sin(dLon/2) * sin(dLon/2) \n",
    "    c = 2 * atan2(sqrt(a), sqrt(1-a))\n",
    "    d = R * c * 1000 # Distance in m\n",
    "    return d / (time2 - time1)\n",
    "\n",
    "def get_bearing(lat1, long1, lat2, long2):\n",
    "    dLon = (long2 - long1)\n",
    "    x = cos(radians(lat2)) * sin(radians(dLon))\n",
    "    y = cos(radians(lat1)) * sin(radians(lat2)) - sin(radians(lat1)) * cos(radians(lat2)) * cos(radians(dLon))\n",
    "    brng = np.arctan2(x,y)\n",
    "    brng = (np.degrees(brng)+180) % 360\n",
    "    return brng\n",
    "\n",
    "velocity1=[]\n",
    "direction1=[]\n",
    "for i in np.arange(0,len(storm_location)-1,1):\n",
    "    velocity = calc_velocity(storm_lat[i],storm_lon[i],\n",
    "                             storm_lat[i+1],storm_lon[i],\n",
    "                             storm_decimalsec[i],storm_decimalsec[i+1])\n",
    "    velocity1.append(velocity)\n",
    "    direction = get_bearing(storm_lat[i],storm_lon[i],\n",
    "                             storm_lat[i+1],storm_lon[i+1])\n",
    "    direction1.append(direction)\n",
    "velocity1 = np.append([np.nan],velocity1)\n",
    "direction1 = np.append([np.nan],direction1)\n",
    "storm_location['storm_vel']=velocity1 #m/s\n",
    "storm_location['storm_dir']=direction1 #deg\n",
    "\n",
    "#print(velocity1)\n",
    "#print(direction1)"
   ]
  },
  {
   "cell_type": "code",
   "execution_count": null,
   "id": "3919daeb-ea81-43fe-a611-887c63657f7a",
   "metadata": {
    "tags": []
   },
   "outputs": [],
   "source": [
    "# only need degrees (so the direction) of the storm\n",
    "# convert to dataframe\n",
    "# df for data frame so i can use pandas to drop the nan. cant average with nan in list\n",
    "directiondf = pd.DataFrame(direction1)\n",
    "\n",
    "direction_corrected = directiondf.dropna()\n",
    "\n",
    "avg_storm_direction = np.average(direction_corrected)\n",
    "\n",
    "print(avg_storm_direction) # avg storm direction in degrees"
   ]
  },
  {
   "cell_type": "code",
   "execution_count": null,
   "id": "cde7ee3b-c6e2-4d75-88c8-98b43e5904b1",
   "metadata": {
    "tags": []
   },
   "outputs": [],
   "source": [
    "test = avg_storm_direction - 360"
   ]
  },
  {
   "cell_type": "code",
   "execution_count": null,
   "id": "25cb003b-b4f9-4d96-84b3-743f8999dd2f",
   "metadata": {},
   "outputs": [],
   "source": [
    "# convert avg storm direction to radians?"
   ]
  },
  {
   "cell_type": "code",
   "execution_count": null,
   "id": "7e394608-60ab-435d-ba26-3c309717d1de",
   "metadata": {
    "tags": []
   },
   "outputs": [],
   "source": [
    "radians_avg_storm_direction = avg_storm_direction * (np.pi/180)"
   ]
  },
  {
   "cell_type": "code",
   "execution_count": null,
   "id": "bd616f02-3d3c-4d52-8c08-907242601596",
   "metadata": {
    "tags": []
   },
   "outputs": [],
   "source": [
    "# try to change theta location\n",
    "# E is for East, where the 0 line is\n",
    "# the next value is what i actually want to offset the zero axis to\n",
    "ax.set_theta_zero_location('E', avg_storm_direction)"
   ]
  },
  {
   "cell_type": "code",
   "execution_count": null,
   "id": "8cc5e7e5-ac3f-4464-b2ed-b2cb398378ef",
   "metadata": {
    "tags": []
   },
   "outputs": [],
   "source": [
    "# bring in the figure\n",
    "\n",
    "# make radians go from 0 to 360 so we can plot bearing without modifying it\n",
    "\n",
    "#distance_grid = np.arange(0, 1, 0.1) #in km\n",
    "#rads = np.arange(0, 2*np.pi)\n",
    "\n",
    "fig = plt.figure(figsize = (5,5))\n",
    "ax = fig.add_subplot(projection = 'polar')\n",
    "ax.set_rmax(2)\n",
    "#ax.set_rticks(distance_grid)\n",
    "ax.set_rlabel_position(-22.5)  # Move radial labels away from plotted line\n",
    "ax.grid(True, linestyle = ':') # makes grid lines dotted\n",
    "#ax.set_theta_zero_location('N', avg_storm_direction)\n",
    "ax.set_theta_offset(avg_storm_direction)\n",
    "ax.plot()\n",
    "\n",
    "# now that we have the figure set up, we can plot on it\n",
    "# r --> great circle distance from lat and lon of storm to lat and lon of vehicle\n",
    "# theta --> corrected bearing\n",
    "# in polar plots the order of plotting is (theta, r)\n",
    "theta = bearing_list\n",
    "r = dfs3\n",
    "\n",
    "ax.scatter(theta, r, s=10)\n",
    "\n",
    "plt.show()"
   ]
  },
  {
   "cell_type": "markdown",
   "id": "9805a18c-c757-4d5a-923e-6505f232f343",
   "metadata": {},
   "source": [
    "While it looks wack, it works, so lets actually try to plot everything on it now."
   ]
  },
  {
   "cell_type": "code",
   "execution_count": null,
   "id": "84a45624-31c4-4018-a9c7-515682ba8a28",
   "metadata": {
    "tags": []
   },
   "outputs": [],
   "source": [
    "# check to see if our r is still here\n",
    "# r = dfs (distance from storm)\n",
    "#print(dfs)\n",
    "#print(np.size(dfs))"
   ]
  },
  {
   "cell_type": "code",
   "execution_count": null,
   "id": "4d7ecd0e-d78d-4b93-93fb-8f07d867527a",
   "metadata": {
    "tags": []
   },
   "outputs": [],
   "source": [
    "# alright laptop... you can do this...\n",
    "# get bearings of ALL VADs\n",
    "\n",
    "bearing_list2 = []\n",
    "\n",
    "# Code from Alex S and Josh O\n",
    "# Fixing the bearing\n",
    "from datetime import datetime\n",
    "\n",
    "# gps data for first ka\n",
    "ka1gps = pd.read_csv('C:/Users/julia/Desktop/Research/GPS_Ka1_20220523.txt')\n",
    "ka1gps=ka1gps.astype(str)\n",
    "# scan data for first ka\n",
    "ka1scan = pd.read_csv('C:/Users/julia/Desktop/Research/20220523_Ka1_scan_log.txt', dtype=str,\n",
    "                     parse_dates=[0])\n",
    "# dealiased vad data created from VADS.ipynb for ka 1, but not bearing corrected\n",
    "vad_fileska1 = sorted(glob.glob('C:/Users/julia/Desktop/Research/product_raw_ka1/*.nc'))\n",
    "\n",
    "#print(ka1gps)\n",
    "\n",
    "# !!! 37 is the last working index before it goes out of range !!!\n",
    "# there are only 37 netcdf vad files\n",
    "\n",
    "for thefile in (vad_fileska1[:37]):\n",
    "\n",
    "    radar = pyart.io.read_cfradial(thefile)\n",
    "    print(thefile,radar.fixed_angle['data'])\n",
    "    \n",
    "    # selects a column and uses it to tell program how to run through data\n",
    "    \n",
    "    ka1gps['ddmmyy']+ka1gps['hhmmss[UTC]'] \n",
    "    ka1gps['datetime'] = [datetime.strptime(d,'%d%m%y%H%M%S') for d in ka1gps['ddmmyy']+ka1gps['hhmmss[UTC]']]\n",
    "    beginscanindex = ka1gps.loc[ka1gps['datetime'] == datetime.strptime(radar.time['units'],'seconds since %Y-%m-%dT%H:%M:%SZ')].index+np.amin(np.unique(radar.time['data']))\n",
    "    endscanindex = ka1gps.loc[ka1gps['datetime'] == datetime.strptime(radar.time['units'],'seconds since %Y-%m-%dT%H:%M:%SZ')].index+np.amax(np.unique(radar.time['data']))\n",
    "    dfscan = ka1gps.iloc[beginscanindex[0].astype(int):endscanindex[0].astype(int)]\n",
    "    dfscan = dfscan.astype({'Bearing[degrees]': 'float'})\n",
    "\n",
    "    speed = dfscan['Velocity[knots]'].astype(float).mean()\n",
    "        \n",
    "    #Get Bearing from deployment log or gps file\n",
    "    if int(ka1scan.loc[ka1scan['Datetime'] == dfscan.datetime.values[0]].Deployment.values[0]) != 0:\n",
    "        bearing = float(ka1scan.loc[ka1scan['Datetime'] == dfscan.datetime.values[0]].Heading.values[0])\n",
    "    else:\n",
    "        bearing = dfscan['Bearing[degrees]'].mean()\n",
    "        \n",
    "    #Manual Corrections\n",
    "    if bearing == 80.06703703703703:\n",
    "        bearing = 190\n",
    "    elif (bearing == 64.25037037037036):\n",
    "        bearing = 9.980000000000002\n",
    "    elif (bearing == 89.28925925925924):\n",
    "        bearing = 92.6\n",
    "    elif bearing == 269.9640740740741:\n",
    "        bearing = 90.6\n",
    "    elif bearing == 206.84615384615387:\n",
    "        bearing = 149.0\n",
    "    elif bearing == 263.8211111111111:\n",
    "        bearing = 90.2\n",
    "    \n",
    "    #print('Bearing used: '+str(bearing))\n",
    "    \n",
    "    lat_vads = dfscan['Latitude'].astype(float)\n",
    "    lon_vads = dfscan['Longitude'].astype(float)\n",
    "    \n",
    "    #print(lat)\n",
    "    #print(lon)\n",
    "    #Bearing Correction\n",
    "    radar.azimuth['data']+=(bearing)%360\n",
    "    #print(bearing)\n",
    "    \n",
    "    # add all bearings from loop to list\n",
    "    bearing_list2.append(bearing)\n",
    "    \n",
    "print(bearing_list2)"
   ]
  },
  {
   "cell_type": "markdown",
   "id": "1d87e18a-38f2-44af-891b-1595374c570f",
   "metadata": {},
   "source": [
    "**The bearing size does not match the size of the distances from the storm array! There are 64 in the distance from storm array but only 37 for the bearing!** Points will thus be missing from the graph, especially the closer ones!"
   ]
  },
  {
   "cell_type": "markdown",
   "id": "8162edac-6ba5-47f1-9ff6-a6271d04661b",
   "metadata": {},
   "source": [
    "Why is there only 37 indeces for the bearing? when attempting to run the vad list in its entirety, instead of finishing at 37 indeces, after 37 there is an error that something is out of bounds for axis 0 or something. are there less bearing calculations than vads? were some cut out for quality control?"
   ]
  },
  {
   "cell_type": "code",
   "execution_count": null,
   "id": "c8c17460-6288-4e96-90f8-d4b7d5961faf",
   "metadata": {
    "tags": []
   },
   "outputs": [],
   "source": [
    "# bring in the figure\n",
    "\n",
    "fig = plt.figure(figsize = (5,5))\n",
    "ax = fig.add_subplot(projection = 'polar')\n",
    "ax.set_rmax(2)\n",
    "ax.set_rticks(distance_grid)\n",
    "ax.set_rlabel_position(-22.5)  # Move radial labels away from plotted line\n",
    "ax.grid(True, linestyle = ':') # makes grid lines dotted\n",
    "#ax.set_theta_zero_location('W', avg_storm_direction) # what is the N, S, E, W good for?\n",
    "#ax.set_theta_offset(avg_storm_direction)\n",
    "ax.set_title(\"Scan Locations Not Adjusted by Storm Motion\")\n",
    "ax.plot()\n",
    "\n",
    "# now that we have the figure set up, we can plot on it\n",
    "# r --> great circle distance from lat and lon of storm to lat and lon of vehicle\n",
    "# theta --> corrected bearing\n",
    "# in polar plots the order of plotting is (theta, r)\n",
    "theta = bearing_list2\n",
    "r = dfs_new2[:37]\n",
    "\n",
    "ax.scatter(theta, r, s = 10) # s changes point size\n",
    "\n",
    "plt.show()"
   ]
  },
  {
   "cell_type": "code",
   "execution_count": null,
   "id": "05ebd36b-b79a-41fb-acc4-8514a827c2e6",
   "metadata": {
    "tags": []
   },
   "outputs": [],
   "source": [
    "# bring in the figure\n",
    "\n",
    "fig = plt.figure(figsize = (5,5))\n",
    "ax = fig.add_subplot(projection = 'polar')\n",
    "ax.set_rmax(2)\n",
    "ax.set_rticks(distance_grid)\n",
    "ax.set_rlabel_position(-22.5)  # Move radial labels away from plotted line\n",
    "ax.grid(True, linestyle = ':') # makes grid lines dotted\n",
    "#ax.set_theta_zero_location('W', avg_storm_direction) # what is the N, S, E, W good for?\n",
    "#ax.set_theta_offset(avg_storm_direction)\n",
    "ax.set_title(\"Scan Locations Adjusted by Subtracting Storm Motion from Theta\")\n",
    "ax.plot()\n",
    "\n",
    "# now that we have the figure set up, we can plot on it\n",
    "# r --> great circle distance from lat and lon of storm to lat and lon of vehicle\n",
    "# theta --> corrected bearing\n",
    "# in polar plots the order of plotting is (theta, r)\n",
    "theta = bearing_list2\n",
    "adjusted_theta = bearing_list2 - avg_storm_direction\n",
    "r = dfs_new2[:37]\n",
    "\n",
    "ax.scatter(adjusted_theta, r, s = 10) # s changes point size\n",
    "\n",
    "plt.show()"
   ]
  },
  {
   "cell_type": "markdown",
   "id": "f0d5e25b-ff92-455a-88f8-6f1b31d5e54a",
   "metadata": {},
   "source": [
    "Plot the areas near the inflow"
   ]
  },
  {
   "cell_type": "code",
   "execution_count": null,
   "id": "5d9d341e-0d52-4a6a-bd7c-816a82e924a1",
   "metadata": {
    "tags": []
   },
   "outputs": [],
   "source": [
    "# bring in the figure\n",
    "\n",
    "#distance_grid = np.arange(40,120,20)\n",
    "fig = plt.figure(figsize = (5,5))\n",
    "ax = fig.add_subplot(projection = 'polar')\n",
    "ax.set_rmax(2)\n",
    "ax.set_rticks(distance_grid)\n",
    "ax.set_rlabel_position(-22.5)  # Move radial labels away from plotted line\n",
    "ax.grid(True, linestyle = ':') # makes grid lines dotted\n",
    "#ax.set_theta_zero_location('W', avg_storm_direction) # what is the N, S, E, W good for?\n",
    "#ax.set_theta_offset(avg_storm_direction)\n",
    "ax.set_title(\"Scan Locations Adjusted by Subtracting Storm Motion from Theta\")\n",
    "ax.plot()\n",
    "\n",
    "# now that we have the figure set up, we can plot on it\n",
    "# r --> great circle distance from lat and lon of storm to lat and lon of vehicle\n",
    "# theta --> corrected bearing\n",
    "# in polar plots the order of plotting is (theta, r)\n",
    "theta = bearing_list2\n",
    "adjusted_theta = bearing_list2 - avg_storm_direction\n",
    "r = dfs_new2[:37]\n",
    "#line_1\n",
    "ax.scatter(adjusted_theta, r, s = 10) # s changes point size\n",
    "\n",
    "plt.show()"
   ]
  },
  {
   "cell_type": "markdown",
   "id": "034c0d37-ec5a-4eff-97b5-2957d7611ea3",
   "metadata": {},
   "source": [
    "Ask chris about which way is best to rotate graph; via set_theta_zero_location with North, South, East, and West involved in some way, or just set_theta_offset with only the storm direction involved\n",
    "What is the optimal distance away from storm?\n",
    "Why are meters so close (i.e. 0.5m?) are the units not actually meters or did I miscalculate?\n",
    "\n",
    "For morton: around 0 to 60 km"
   ]
  },
  {
   "cell_type": "code",
   "execution_count": null,
   "id": "9199ac5e-7fd8-4dd6-ae3a-dd1f0c578009",
   "metadata": {},
   "outputs": [],
   "source": [
    "# is distance in ka1 scan log the distance from the storm?? what does distance mean?\n",
    "\n",
    "ka1gps = pd.read_csv('C:/Users/julia/Desktop/Research/GPS_Ka1_20220523.txt')\n",
    "# scan data for first ka\n",
    "ka1scan = pd.read_csv('C:/Users/julia/Desktop/Research/20220523_Ka1_scan_log.txt', dtype=str,\n",
    "                     parse_dates=[0])\n",
    "\n",
    "# dealiased vad data created from VADS.ipynb for ka 1, but not bearing corrected\n",
    "vad_fileska1 = sorted(glob.glob('C:/Users/julia/Desktop/Research/product_raw_ka1/*.nc'))\n",
    "\n",
    "print(ka1scan.Distance)"
   ]
  },
  {
   "cell_type": "code",
   "execution_count": null,
   "id": "f6967e65-1e26-48c2-a65b-ece87b5ceec0",
   "metadata": {
    "tags": []
   },
   "outputs": [],
   "source": [
    "# bring in the figure\n",
    "\n",
    "#distance_grid = np.arange(0, 200) #in km\n",
    "fig = plt.figure(figsize = (5,5))\n",
    "ax = fig.add_subplot(projection = 'polar')\n",
    "ax.set_rmax(2)\n",
    "#ax.set_rticks(distance_grid)\n",
    "#ax.get_gridlines(distance_grid)\n",
    "#ax.set_rlabel_position(-22.5)  # Move radial labels away from plotted line\n",
    "ax.set_yticklabels([])\n",
    "ax.grid(True, linestyle = ':') # makes grid lines dotted\n",
    "#ax.set_theta_zero_location('W', avg_storm_direction) # what is the N, S, E, W good for?\n",
    "ax.set_theta_offset(radians_avg_storm_direction)\n",
    "ax.set_title(\"Scan Locations Adjusted by Offsetting Zero Location to Storm Motion\")\n",
    "ax.plot()\n",
    "\n",
    "# now that we have the figure set up, we can plot on it\n",
    "# r --> great circle distance from lat and lon of storm to lat and lon of vehicle\n",
    "# theta --> corrected bearing\n",
    "# in polar plots the order of plotting is (theta, r)\n",
    "theta = bearing_list2\n",
    "r = ka1scan.Distance[0:37]\n",
    "\n",
    "# something with the scatter plot im assuming creates a new tick for each point\n",
    "# want to create ticks where the points plot around/on\n",
    "ax.scatter(theta, r, s = 10) # s changes point size\n",
    "\n",
    "plt.show()"
   ]
  },
  {
   "cell_type": "markdown",
   "id": "c2c77028-ef62-4f2f-a5d7-7f503a060d1a",
   "metadata": {},
   "source": [
    "manually calculate one single plot to see where it plots (azimuth, range, great circle calculation)"
   ]
  },
  {
   "cell_type": "markdown",
   "id": "997c7f4e-cd0b-4f74-bdcc-47424a602c85",
   "metadata": {},
   "source": [
    "check rotation of graph, points should be located in lower right quandrant"
   ]
  },
  {
   "cell_type": "markdown",
   "id": "2eac3983-4ab0-4382-8620-2cf647c05bb1",
   "metadata": {},
   "source": [
    "Look at hodographs to derive storm motion??"
   ]
  },
  {
   "cell_type": "code",
   "execution_count": null,
   "id": "e77c0c91-081d-4ec4-a2a1-b73b7795a2f7",
   "metadata": {},
   "outputs": [],
   "source": []
  }
 ],
 "metadata": {
  "kernelspec": {
   "display_name": "Python 3 (ipykernel)",
   "language": "python",
   "name": "python3"
  },
  "language_info": {
   "codemirror_mode": {
    "name": "ipython",
    "version": 3
   },
   "file_extension": ".py",
   "mimetype": "text/x-python",
   "name": "python",
   "nbconvert_exporter": "python",
   "pygments_lexer": "ipython3",
   "version": "3.9.18"
  }
 },
 "nbformat": 4,
 "nbformat_minor": 5
}
