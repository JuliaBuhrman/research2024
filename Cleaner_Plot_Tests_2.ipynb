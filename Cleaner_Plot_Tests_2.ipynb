{
 "cells": [
  {
   "cell_type": "markdown",
   "id": "706f5c3b-2857-4036-9a7e-6f549546abf2",
   "metadata": {},
   "source": [
    "Old one got too messy (see: Cleaner_Plot_Tests.ipynb for previous rendition), this new one created on 01/11/2024.\n",
    "-- Julia Buhrman (01/11/2024)"
   ]
  },
  {
   "cell_type": "markdown",
   "id": "8fd2323d-9577-48a5-bc36-6ed9c7afbea7",
   "metadata": {},
   "source": [
    "I forgot to include ka 2 so maybe that will help reconcile the difference in points between the bearings and the scan locations?\n",
    "Nope it didn't"
   ]
  },
  {
   "cell_type": "code",
   "execution_count": 1,
   "id": "7b1af556-9a98-4dff-8010-921a83e81aa6",
   "metadata": {
    "tags": []
   },
   "outputs": [
    {
     "name": "stderr",
     "output_type": "stream",
     "text": [
      "/var/folders/4f/9s_4__q16tx5t8vmww4mv03h0000gn/T/ipykernel_62675/3461312758.py:4: DeprecationWarning: \n",
      "Pyarrow will become a required dependency of pandas in the next major release of pandas (pandas 3.0),\n",
      "(to allow more performant data types, such as the Arrow string type, and better interoperability with other libraries)\n",
      "but was not found to be installed on your system.\n",
      "If this would cause problems for you,\n",
      "please provide us feedback at https://github.com/pandas-dev/pandas/issues/54466\n",
      "        \n",
      "  import pandas as pd\n"
     ]
    },
    {
     "name": "stdout",
     "output_type": "stream",
     "text": [
      "\n",
      "## You are using the Python ARM Radar Toolkit (Py-ART), an open source\n",
      "## library for working with weather radar data. Py-ART is partly\n",
      "## supported by the U.S. Department of Energy as part of the Atmospheric\n",
      "## Radiation Measurement (ARM) Climate Research Facility, an Office of\n",
      "## Science user facility.\n",
      "##\n",
      "## If you use this software to prepare a publication, please cite:\n",
      "##\n",
      "##     JJ Helmus and SM Collis, JORS 2016, doi: 10.5334/jors.119\n",
      "\n"
     ]
    }
   ],
   "source": [
    "# import necessary stuff\n",
    "import matplotlib.pyplot as plt\n",
    "import numpy as np\n",
    "import pandas as pd\n",
    "import glob\n",
    "import coords\n",
    "import xarray as xr\n",
    "import pyart\n",
    "from datetime import timedelta\n",
    "from radarcalc import *\n",
    "import matplotlib.pyplot as plt\n",
    "import metpy.calc as mpcalc\n",
    "import metpy\n",
    "import metpy.plots\n",
    "from metpy.units import units\n",
    "import cartopy.crs as ccrs\n",
    "import cartopy\n",
    "import gc"
   ]
  },
  {
   "cell_type": "code",
   "execution_count": 2,
   "id": "e7313ef8-a598-47e3-8c58-e172a47ccb67",
   "metadata": {
    "tags": []
   },
   "outputs": [],
   "source": [
    "# bring in the data, in this case it's from Morton\n",
    "\n",
    "# gps data for first ka\n",
    "ka1gps = pd.read_csv('/Users/juliabman/Desktop/research2024/GPS_Ka1_20220523.txt')\n",
    "# scan data for first ka\n",
    "ka1scan = pd.read_csv('/Users/juliabman/Desktop/research2024/20220523_Ka1_scan_log.txt', dtype=str)\n",
    "ka1scan['Datetime'] = pd.to_datetime(ka1scan['Datetime'])\n",
    "\n",
    "\n",
    "# dealiased vad data created from VADS.ipynb for ka 1, but not bearing corrected\n",
    "vad_fileska1 = sorted(glob.glob('/Users/juliabman/Desktop/research2024/product_raw_ka1/*.nc'))\n",
    "\n",
    "# sanity checks to make sure they're loading in:\n",
    "#print(vad_fileska1)\n",
    "#print(ka1gps)"
   ]
  },
  {
   "cell_type": "code",
   "execution_count": null,
   "id": "74dc79af-b80e-4976-a851-7b7bdbdd26fc",
   "metadata": {},
   "outputs": [],
   "source": []
  },
  {
   "cell_type": "code",
   "execution_count": 3,
   "id": "839f31f9-693e-4f06-9875-21c47403ccf3",
   "metadata": {},
   "outputs": [
    {
     "data": {
      "text/plain": [
       "(307,)"
      ]
     },
     "execution_count": 3,
     "metadata": {},
     "output_type": "execute_result"
    }
   ],
   "source": [
    "np.shape(ka1scan['Datetime'])"
   ]
  },
  {
   "cell_type": "code",
   "execution_count": 4,
   "id": "56952181-f3b8-4eac-a6bf-959395a8b969",
   "metadata": {},
   "outputs": [],
   "source": [
    "ka1gps['ddmmyy'] = ka1gps['ddmmyy'].astype(str)\n",
    "ka1gps['ddmmyy']\n",
    "ka1gps['hhmmss[UTC]'] = ka1gps['hhmmss[UTC]'].astype(str)"
   ]
  },
  {
   "cell_type": "code",
   "execution_count": 5,
   "id": "4b9f9d5e-1d05-4cdf-a9c0-84e48e0327d1",
   "metadata": {
    "tags": []
   },
   "outputs": [
    {
     "data": {
      "text/plain": [
       "38"
      ]
     },
     "execution_count": 5,
     "metadata": {},
     "output_type": "execute_result"
    }
   ],
   "source": [
    "np.size(vad_fileska1)"
   ]
  },
  {
   "cell_type": "code",
   "execution_count": 6,
   "id": "283079ca-8d1f-4438-a08f-843b580efba3",
   "metadata": {
    "tags": []
   },
   "outputs": [
    {
     "data": {
      "text/plain": [
       "31906"
      ]
     },
     "execution_count": 6,
     "metadata": {},
     "output_type": "execute_result"
    }
   ],
   "source": [
    "np.size(ka1gps['Latitude'])"
   ]
  },
  {
   "cell_type": "code",
   "execution_count": 7,
   "id": "fe249fe5-3220-42ba-9c5a-b60e08ff84c5",
   "metadata": {
    "tags": []
   },
   "outputs": [],
   "source": [
    "# data for ka 2\n",
    "\n",
    "ka2gps = pd.read_csv('/Users/juliabman/Desktop/research2024/GPS_Ka2_20220523.txt')\n",
    "# scan data for first ka\n",
    "ka2scan = pd.read_csv('/Users/juliabman/Desktop/research2024/20220523_Ka2_scan_log.txt', dtype=str)\n",
    "                     \n",
    "\n",
    "# dealiased vad data created from VADS.ipynb for ka 1, but not bearing corrected\n",
    "vad_fileska2 = sorted(glob.glob('/Users/juliabman/Desktop/research2024/product_raw_ka2/*.nc'))\n",
    "\n",
    "# sanity checks to make sure they're loading in:\n",
    "#print(vad_fileska2)\n",
    "#print(ka2gps)"
   ]
  },
  {
   "cell_type": "markdown",
   "id": "718ad3d3-a7dd-40d9-9633-18e20eea64bb",
   "metadata": {},
   "source": [
    "Make the data into arrays via xarray:"
   ]
  },
  {
   "cell_type": "code",
   "execution_count": 8,
   "id": "0c1b22c1-48e9-4b51-bf1e-057d8743fc11",
   "metadata": {
    "tags": []
   },
   "outputs": [],
   "source": [
    "#x_vad_fileska1 = xr.open_mfdataset(vad_fileska1[:37])"
   ]
  },
  {
   "cell_type": "markdown",
   "id": "ffc4596a-b8a3-4855-9adf-e0839bb3bb30",
   "metadata": {},
   "source": [
    "Now that the data is loaded in, we need to create a function that converts the distance from the storm to the vehicle from (lat,lon) into meters."
   ]
  },
  {
   "cell_type": "code",
   "execution_count": 9,
   "id": "29e9d61e-b65b-46bb-a6f5-8af4a98fe1cb",
   "metadata": {
    "tags": []
   },
   "outputs": [
    {
     "name": "stdout",
     "output_type": "stream",
     "text": [
      "0    -103.098\n",
      "1    -103.073\n",
      "2    -103.061\n",
      "3    -103.058\n",
      "4    -103.054\n",
      "       ...   \n",
      "59   -102.204\n",
      "60   -102.155\n",
      "61   -102.119\n",
      "62   -102.105\n",
      "63   -102.067\n",
      "Name: Lon, Length: 64, dtype: float64\n",
      "0     33.497\n",
      "1     33.510\n",
      "2     33.522\n",
      "3     33.553\n",
      "4     33.584\n",
      "       ...  \n",
      "59    33.650\n",
      "60    33.650\n",
      "61    33.650\n",
      "62    33.650\n",
      "63    33.650\n",
      "Name: Lat, Length: 64, dtype: float64\n"
     ]
    }
   ],
   "source": [
    "#Read in storm location csv\n",
    "\n",
    "storm_location = pd.read_csv('/Users/juliabman/Desktop/research2024/StormLocationMorton.csv', header=0)\n",
    "storm_location['Date']=storm_location['Date'].astype(str).str.zfill(8)\n",
    "storm_location['Time']=storm_location['Time'].astype(str).str.zfill(8)\n",
    "storm_location['datetime'] = pd.to_datetime(storm_location['Date'].astype(str)+storm_location['Time'].astype(str),format='%m/%d/%Y%H:%M:%S')\n",
    "\n",
    "storm_location['Lon'] = storm_location['Lon'].astype(str).str.zfill(8)\n",
    "storm_lon_old = storm_location['Lon'].astype(float) # .astype(float) changes it from string to float since you cant operate on strings\n",
    "\n",
    "print(storm_lon_old)\n",
    "\n",
    "storm_location['Lat'] = storm_location['Lat'].astype(str).str.zfill(8) \n",
    "storm_lat_old = storm_location['Lat'].astype(float)\n",
    "\n",
    "print(storm_lat_old)\n",
    "#print(storm_location)"
   ]
  },
  {
   "cell_type": "code",
   "execution_count": 10,
   "id": "642b0ac4-2ef8-496c-ad4b-2c7c71a275ca",
   "metadata": {
    "tags": []
   },
   "outputs": [
    {
     "data": {
      "text/plain": [
       "0     5/23/2022\n",
       "1     5/23/2022\n",
       "2     5/23/2022\n",
       "3     5/23/2022\n",
       "4     5/23/2022\n",
       "        ...    \n",
       "59    5/24/2022\n",
       "60    5/24/2022\n",
       "61    5/24/2022\n",
       "62    5/24/2022\n",
       "63    5/24/2022\n",
       "Name: Date, Length: 64, dtype: object"
      ]
     },
     "execution_count": 10,
     "metadata": {},
     "output_type": "execute_result"
    }
   ],
   "source": [
    "storm_location['Date']"
   ]
  },
  {
   "cell_type": "code",
   "execution_count": 11,
   "id": "a2ea0011-2131-44dc-9959-b33e0d839135",
   "metadata": {
    "tags": []
   },
   "outputs": [
    {
     "data": {
      "text/plain": [
       "0     21:55:00\n",
       "1     22:00:00\n",
       "2     22:05:00\n",
       "3     22:10:00\n",
       "4     22:15:00\n",
       "        ...   \n",
       "59    02:50:00\n",
       "60    02:55:00\n",
       "61    03:00:00\n",
       "62    03:05:00\n",
       "63    03:10:00\n",
       "Name: Time, Length: 64, dtype: object"
      ]
     },
     "execution_count": 11,
     "metadata": {},
     "output_type": "execute_result"
    }
   ],
   "source": [
    "storm_location['Time']"
   ]
  },
  {
   "cell_type": "markdown",
   "id": "6ba7bc2d-2160-46f4-9853-609766bd8669",
   "metadata": {},
   "source": [
    "Bring in the data from tobac so we can pull the lat and lon of the storm as tracked by tobac"
   ]
  },
  {
   "cell_type": "code",
   "execution_count": 12,
   "id": "f43803ef-5f42-401d-b040-55642a013f20",
   "metadata": {},
   "outputs": [],
   "source": [
    "tobac_file = '/Users/juliabman/Desktop/research2024/tobac_Save/Track.nc'\n",
    "tobac_features = xr.open_dataset(tobac_file)"
   ]
  },
  {
   "cell_type": "code",
   "execution_count": 13,
   "id": "515966f1-0d88-48d4-9298-9c4c115bb9ee",
   "metadata": {},
   "outputs": [
    {
     "data": {
      "text/html": [
       "<div><svg style=\"position: absolute; width: 0; height: 0; overflow: hidden\">\n",
       "<defs>\n",
       "<symbol id=\"icon-database\" viewBox=\"0 0 32 32\">\n",
       "<path d=\"M16 0c-8.837 0-16 2.239-16 5v4c0 2.761 7.163 5 16 5s16-2.239 16-5v-4c0-2.761-7.163-5-16-5z\"></path>\n",
       "<path d=\"M16 17c-8.837 0-16-2.239-16-5v6c0 2.761 7.163 5 16 5s16-2.239 16-5v-6c0 2.761-7.163 5-16 5z\"></path>\n",
       "<path d=\"M16 26c-8.837 0-16-2.239-16-5v6c0 2.761 7.163 5 16 5s16-2.239 16-5v-6c0 2.761-7.163 5-16 5z\"></path>\n",
       "</symbol>\n",
       "<symbol id=\"icon-file-text2\" viewBox=\"0 0 32 32\">\n",
       "<path d=\"M28.681 7.159c-0.694-0.947-1.662-2.053-2.724-3.116s-2.169-2.030-3.116-2.724c-1.612-1.182-2.393-1.319-2.841-1.319h-15.5c-1.378 0-2.5 1.121-2.5 2.5v27c0 1.378 1.122 2.5 2.5 2.5h23c1.378 0 2.5-1.122 2.5-2.5v-19.5c0-0.448-0.137-1.23-1.319-2.841zM24.543 5.457c0.959 0.959 1.712 1.825 2.268 2.543h-4.811v-4.811c0.718 0.556 1.584 1.309 2.543 2.268zM28 29.5c0 0.271-0.229 0.5-0.5 0.5h-23c-0.271 0-0.5-0.229-0.5-0.5v-27c0-0.271 0.229-0.5 0.5-0.5 0 0 15.499-0 15.5 0v7c0 0.552 0.448 1 1 1h7v19.5z\"></path>\n",
       "<path d=\"M23 26h-14c-0.552 0-1-0.448-1-1s0.448-1 1-1h14c0.552 0 1 0.448 1 1s-0.448 1-1 1z\"></path>\n",
       "<path d=\"M23 22h-14c-0.552 0-1-0.448-1-1s0.448-1 1-1h14c0.552 0 1 0.448 1 1s-0.448 1-1 1z\"></path>\n",
       "<path d=\"M23 18h-14c-0.552 0-1-0.448-1-1s0.448-1 1-1h14c0.552 0 1 0.448 1 1s-0.448 1-1 1z\"></path>\n",
       "</symbol>\n",
       "</defs>\n",
       "</svg>\n",
       "<style>/* CSS stylesheet for displaying xarray objects in jupyterlab.\n",
       " *\n",
       " */\n",
       "\n",
       ":root {\n",
       "  --xr-font-color0: var(--jp-content-font-color0, rgba(0, 0, 0, 1));\n",
       "  --xr-font-color2: var(--jp-content-font-color2, rgba(0, 0, 0, 0.54));\n",
       "  --xr-font-color3: var(--jp-content-font-color3, rgba(0, 0, 0, 0.38));\n",
       "  --xr-border-color: var(--jp-border-color2, #e0e0e0);\n",
       "  --xr-disabled-color: var(--jp-layout-color3, #bdbdbd);\n",
       "  --xr-background-color: var(--jp-layout-color0, white);\n",
       "  --xr-background-color-row-even: var(--jp-layout-color1, white);\n",
       "  --xr-background-color-row-odd: var(--jp-layout-color2, #eeeeee);\n",
       "}\n",
       "\n",
       "html[theme=dark],\n",
       "body[data-theme=dark],\n",
       "body.vscode-dark {\n",
       "  --xr-font-color0: rgba(255, 255, 255, 1);\n",
       "  --xr-font-color2: rgba(255, 255, 255, 0.54);\n",
       "  --xr-font-color3: rgba(255, 255, 255, 0.38);\n",
       "  --xr-border-color: #1F1F1F;\n",
       "  --xr-disabled-color: #515151;\n",
       "  --xr-background-color: #111111;\n",
       "  --xr-background-color-row-even: #111111;\n",
       "  --xr-background-color-row-odd: #313131;\n",
       "}\n",
       "\n",
       ".xr-wrap {\n",
       "  display: block !important;\n",
       "  min-width: 300px;\n",
       "  max-width: 700px;\n",
       "}\n",
       "\n",
       ".xr-text-repr-fallback {\n",
       "  /* fallback to plain text repr when CSS is not injected (untrusted notebook) */\n",
       "  display: none;\n",
       "}\n",
       "\n",
       ".xr-header {\n",
       "  padding-top: 6px;\n",
       "  padding-bottom: 6px;\n",
       "  margin-bottom: 4px;\n",
       "  border-bottom: solid 1px var(--xr-border-color);\n",
       "}\n",
       "\n",
       ".xr-header > div,\n",
       ".xr-header > ul {\n",
       "  display: inline;\n",
       "  margin-top: 0;\n",
       "  margin-bottom: 0;\n",
       "}\n",
       "\n",
       ".xr-obj-type,\n",
       ".xr-array-name {\n",
       "  margin-left: 2px;\n",
       "  margin-right: 10px;\n",
       "}\n",
       "\n",
       ".xr-obj-type {\n",
       "  color: var(--xr-font-color2);\n",
       "}\n",
       "\n",
       ".xr-sections {\n",
       "  padding-left: 0 !important;\n",
       "  display: grid;\n",
       "  grid-template-columns: 150px auto auto 1fr 20px 20px;\n",
       "}\n",
       "\n",
       ".xr-section-item {\n",
       "  display: contents;\n",
       "}\n",
       "\n",
       ".xr-section-item input {\n",
       "  display: none;\n",
       "}\n",
       "\n",
       ".xr-section-item input + label {\n",
       "  color: var(--xr-disabled-color);\n",
       "}\n",
       "\n",
       ".xr-section-item input:enabled + label {\n",
       "  cursor: pointer;\n",
       "  color: var(--xr-font-color2);\n",
       "}\n",
       "\n",
       ".xr-section-item input:enabled + label:hover {\n",
       "  color: var(--xr-font-color0);\n",
       "}\n",
       "\n",
       ".xr-section-summary {\n",
       "  grid-column: 1;\n",
       "  color: var(--xr-font-color2);\n",
       "  font-weight: 500;\n",
       "}\n",
       "\n",
       ".xr-section-summary > span {\n",
       "  display: inline-block;\n",
       "  padding-left: 0.5em;\n",
       "}\n",
       "\n",
       ".xr-section-summary-in:disabled + label {\n",
       "  color: var(--xr-font-color2);\n",
       "}\n",
       "\n",
       ".xr-section-summary-in + label:before {\n",
       "  display: inline-block;\n",
       "  content: '►';\n",
       "  font-size: 11px;\n",
       "  width: 15px;\n",
       "  text-align: center;\n",
       "}\n",
       "\n",
       ".xr-section-summary-in:disabled + label:before {\n",
       "  color: var(--xr-disabled-color);\n",
       "}\n",
       "\n",
       ".xr-section-summary-in:checked + label:before {\n",
       "  content: '▼';\n",
       "}\n",
       "\n",
       ".xr-section-summary-in:checked + label > span {\n",
       "  display: none;\n",
       "}\n",
       "\n",
       ".xr-section-summary,\n",
       ".xr-section-inline-details {\n",
       "  padding-top: 4px;\n",
       "  padding-bottom: 4px;\n",
       "}\n",
       "\n",
       ".xr-section-inline-details {\n",
       "  grid-column: 2 / -1;\n",
       "}\n",
       "\n",
       ".xr-section-details {\n",
       "  display: none;\n",
       "  grid-column: 1 / -1;\n",
       "  margin-bottom: 5px;\n",
       "}\n",
       "\n",
       ".xr-section-summary-in:checked ~ .xr-section-details {\n",
       "  display: contents;\n",
       "}\n",
       "\n",
       ".xr-array-wrap {\n",
       "  grid-column: 1 / -1;\n",
       "  display: grid;\n",
       "  grid-template-columns: 20px auto;\n",
       "}\n",
       "\n",
       ".xr-array-wrap > label {\n",
       "  grid-column: 1;\n",
       "  vertical-align: top;\n",
       "}\n",
       "\n",
       ".xr-preview {\n",
       "  color: var(--xr-font-color3);\n",
       "}\n",
       "\n",
       ".xr-array-preview,\n",
       ".xr-array-data {\n",
       "  padding: 0 5px !important;\n",
       "  grid-column: 2;\n",
       "}\n",
       "\n",
       ".xr-array-data,\n",
       ".xr-array-in:checked ~ .xr-array-preview {\n",
       "  display: none;\n",
       "}\n",
       "\n",
       ".xr-array-in:checked ~ .xr-array-data,\n",
       ".xr-array-preview {\n",
       "  display: inline-block;\n",
       "}\n",
       "\n",
       ".xr-dim-list {\n",
       "  display: inline-block !important;\n",
       "  list-style: none;\n",
       "  padding: 0 !important;\n",
       "  margin: 0;\n",
       "}\n",
       "\n",
       ".xr-dim-list li {\n",
       "  display: inline-block;\n",
       "  padding: 0;\n",
       "  margin: 0;\n",
       "}\n",
       "\n",
       ".xr-dim-list:before {\n",
       "  content: '(';\n",
       "}\n",
       "\n",
       ".xr-dim-list:after {\n",
       "  content: ')';\n",
       "}\n",
       "\n",
       ".xr-dim-list li:not(:last-child):after {\n",
       "  content: ',';\n",
       "  padding-right: 5px;\n",
       "}\n",
       "\n",
       ".xr-has-index {\n",
       "  font-weight: bold;\n",
       "}\n",
       "\n",
       ".xr-var-list,\n",
       ".xr-var-item {\n",
       "  display: contents;\n",
       "}\n",
       "\n",
       ".xr-var-item > div,\n",
       ".xr-var-item label,\n",
       ".xr-var-item > .xr-var-name span {\n",
       "  background-color: var(--xr-background-color-row-even);\n",
       "  margin-bottom: 0;\n",
       "}\n",
       "\n",
       ".xr-var-item > .xr-var-name:hover span {\n",
       "  padding-right: 5px;\n",
       "}\n",
       "\n",
       ".xr-var-list > li:nth-child(odd) > div,\n",
       ".xr-var-list > li:nth-child(odd) > label,\n",
       ".xr-var-list > li:nth-child(odd) > .xr-var-name span {\n",
       "  background-color: var(--xr-background-color-row-odd);\n",
       "}\n",
       "\n",
       ".xr-var-name {\n",
       "  grid-column: 1;\n",
       "}\n",
       "\n",
       ".xr-var-dims {\n",
       "  grid-column: 2;\n",
       "}\n",
       "\n",
       ".xr-var-dtype {\n",
       "  grid-column: 3;\n",
       "  text-align: right;\n",
       "  color: var(--xr-font-color2);\n",
       "}\n",
       "\n",
       ".xr-var-preview {\n",
       "  grid-column: 4;\n",
       "}\n",
       "\n",
       ".xr-index-preview {\n",
       "  grid-column: 2 / 5;\n",
       "  color: var(--xr-font-color2);\n",
       "}\n",
       "\n",
       ".xr-var-name,\n",
       ".xr-var-dims,\n",
       ".xr-var-dtype,\n",
       ".xr-preview,\n",
       ".xr-attrs dt {\n",
       "  white-space: nowrap;\n",
       "  overflow: hidden;\n",
       "  text-overflow: ellipsis;\n",
       "  padding-right: 10px;\n",
       "}\n",
       "\n",
       ".xr-var-name:hover,\n",
       ".xr-var-dims:hover,\n",
       ".xr-var-dtype:hover,\n",
       ".xr-attrs dt:hover {\n",
       "  overflow: visible;\n",
       "  width: auto;\n",
       "  z-index: 1;\n",
       "}\n",
       "\n",
       ".xr-var-attrs,\n",
       ".xr-var-data,\n",
       ".xr-index-data {\n",
       "  display: none;\n",
       "  background-color: var(--xr-background-color) !important;\n",
       "  padding-bottom: 5px !important;\n",
       "}\n",
       "\n",
       ".xr-var-attrs-in:checked ~ .xr-var-attrs,\n",
       ".xr-var-data-in:checked ~ .xr-var-data,\n",
       ".xr-index-data-in:checked ~ .xr-index-data {\n",
       "  display: block;\n",
       "}\n",
       "\n",
       ".xr-var-data > table {\n",
       "  float: right;\n",
       "}\n",
       "\n",
       ".xr-var-name span,\n",
       ".xr-var-data,\n",
       ".xr-index-name div,\n",
       ".xr-index-data,\n",
       ".xr-attrs {\n",
       "  padding-left: 25px !important;\n",
       "}\n",
       "\n",
       ".xr-attrs,\n",
       ".xr-var-attrs,\n",
       ".xr-var-data,\n",
       ".xr-index-data {\n",
       "  grid-column: 1 / -1;\n",
       "}\n",
       "\n",
       "dl.xr-attrs {\n",
       "  padding: 0;\n",
       "  margin: 0;\n",
       "  display: grid;\n",
       "  grid-template-columns: 125px auto;\n",
       "}\n",
       "\n",
       ".xr-attrs dt,\n",
       ".xr-attrs dd {\n",
       "  padding: 0;\n",
       "  margin: 0;\n",
       "  float: left;\n",
       "  padding-right: 10px;\n",
       "  width: auto;\n",
       "}\n",
       "\n",
       ".xr-attrs dt {\n",
       "  font-weight: normal;\n",
       "  grid-column: 1;\n",
       "}\n",
       "\n",
       ".xr-attrs dt:hover span {\n",
       "  display: inline-block;\n",
       "  background: var(--xr-background-color);\n",
       "  padding-right: 10px;\n",
       "}\n",
       "\n",
       ".xr-attrs dd {\n",
       "  grid-column: 2;\n",
       "  white-space: pre-wrap;\n",
       "  word-break: break-all;\n",
       "}\n",
       "\n",
       ".xr-icon-database,\n",
       ".xr-icon-file-text2,\n",
       ".xr-no-icon {\n",
       "  display: inline-block;\n",
       "  vertical-align: middle;\n",
       "  width: 1em;\n",
       "  height: 1.5em !important;\n",
       "  stroke-width: 0;\n",
       "  stroke: currentColor;\n",
       "  fill: currentColor;\n",
       "}\n",
       "</style><pre class='xr-text-repr-fallback'>&lt;xarray.Dataset&gt;\n",
       "Dimensions:                  (index: 851)\n",
       "Coordinates:\n",
       "  * index                    (index) int64 0 1 2 3 4 5 ... 846 847 848 849 850\n",
       "Data variables: (12/15)\n",
       "    frame                    (index) int64 ...\n",
       "    idx                      (index) int64 ...\n",
       "    hdim_1                   (index) float64 ...\n",
       "    hdim_2                   (index) float64 ...\n",
       "    num                      (index) int64 ...\n",
       "    threshold_value          (index) int64 ...\n",
       "    ...                       ...\n",
       "    projection_y_coordinate  (index) float64 ...\n",
       "    projection_x_coordinate  (index) float64 ...\n",
       "    latitude                 (index) float64 ...\n",
       "    longitude                (index) float64 ...\n",
       "    cell                     (index) int64 ...\n",
       "    time_cell                (index) timedelta64[ns] ...</pre><div class='xr-wrap' style='display:none'><div class='xr-header'><div class='xr-obj-type'>xarray.Dataset</div></div><ul class='xr-sections'><li class='xr-section-item'><input id='section-11d546c4-8741-4468-8ab8-09f9b30da68c' class='xr-section-summary-in' type='checkbox' disabled ><label for='section-11d546c4-8741-4468-8ab8-09f9b30da68c' class='xr-section-summary'  title='Expand/collapse section'>Dimensions:</label><div class='xr-section-inline-details'><ul class='xr-dim-list'><li><span class='xr-has-index'>index</span>: 851</li></ul></div><div class='xr-section-details'></div></li><li class='xr-section-item'><input id='section-b4491fe9-b5ee-40a0-ad91-731f0b59f39c' class='xr-section-summary-in' type='checkbox'  checked><label for='section-b4491fe9-b5ee-40a0-ad91-731f0b59f39c' class='xr-section-summary' >Coordinates: <span>(1)</span></label><div class='xr-section-inline-details'></div><div class='xr-section-details'><ul class='xr-var-list'><li class='xr-var-item'><div class='xr-var-name'><span class='xr-has-index'>index</span></div><div class='xr-var-dims'>(index)</div><div class='xr-var-dtype'>int64</div><div class='xr-var-preview xr-preview'>0 1 2 3 4 5 ... 846 847 848 849 850</div><input id='attrs-68a424a4-2286-401d-8c77-54c7955d1558' class='xr-var-attrs-in' type='checkbox' disabled><label for='attrs-68a424a4-2286-401d-8c77-54c7955d1558' title='Show/Hide attributes'><svg class='icon xr-icon-file-text2'><use xlink:href='#icon-file-text2'></use></svg></label><input id='data-f9464bdf-ce81-49af-b94e-7b76db0975c2' class='xr-var-data-in' type='checkbox'><label for='data-f9464bdf-ce81-49af-b94e-7b76db0975c2' title='Show/Hide data repr'><svg class='icon xr-icon-database'><use xlink:href='#icon-database'></use></svg></label><div class='xr-var-attrs'><dl class='xr-attrs'></dl></div><div class='xr-var-data'><pre>array([  0,   1,   2, ..., 848, 849, 850])</pre></div></li></ul></div></li><li class='xr-section-item'><input id='section-1ea589f2-3c70-4bf3-8aa4-3cf9909abe30' class='xr-section-summary-in' type='checkbox'  ><label for='section-1ea589f2-3c70-4bf3-8aa4-3cf9909abe30' class='xr-section-summary' >Data variables: <span>(15)</span></label><div class='xr-section-inline-details'></div><div class='xr-section-details'><ul class='xr-var-list'><li class='xr-var-item'><div class='xr-var-name'><span>frame</span></div><div class='xr-var-dims'>(index)</div><div class='xr-var-dtype'>int64</div><div class='xr-var-preview xr-preview'>...</div><input id='attrs-13bac293-5734-4be9-9127-83e82a34831c' class='xr-var-attrs-in' type='checkbox' disabled><label for='attrs-13bac293-5734-4be9-9127-83e82a34831c' title='Show/Hide attributes'><svg class='icon xr-icon-file-text2'><use xlink:href='#icon-file-text2'></use></svg></label><input id='data-5d0cf367-ed47-4fd8-9bb4-9f5a585199b7' class='xr-var-data-in' type='checkbox'><label for='data-5d0cf367-ed47-4fd8-9bb4-9f5a585199b7' title='Show/Hide data repr'><svg class='icon xr-icon-database'><use xlink:href='#icon-database'></use></svg></label><div class='xr-var-attrs'><dl class='xr-attrs'></dl></div><div class='xr-var-data'><pre>[851 values with dtype=int64]</pre></div></li><li class='xr-var-item'><div class='xr-var-name'><span>idx</span></div><div class='xr-var-dims'>(index)</div><div class='xr-var-dtype'>int64</div><div class='xr-var-preview xr-preview'>...</div><input id='attrs-d285bd0c-2e51-432e-8d61-d9097634384b' class='xr-var-attrs-in' type='checkbox' disabled><label for='attrs-d285bd0c-2e51-432e-8d61-d9097634384b' title='Show/Hide attributes'><svg class='icon xr-icon-file-text2'><use xlink:href='#icon-file-text2'></use></svg></label><input id='data-d5fd35ec-56fe-4cd9-81a9-a8054c35ba25' class='xr-var-data-in' type='checkbox'><label for='data-d5fd35ec-56fe-4cd9-81a9-a8054c35ba25' title='Show/Hide data repr'><svg class='icon xr-icon-database'><use xlink:href='#icon-database'></use></svg></label><div class='xr-var-attrs'><dl class='xr-attrs'></dl></div><div class='xr-var-data'><pre>[851 values with dtype=int64]</pre></div></li><li class='xr-var-item'><div class='xr-var-name'><span>hdim_1</span></div><div class='xr-var-dims'>(index)</div><div class='xr-var-dtype'>float64</div><div class='xr-var-preview xr-preview'>...</div><input id='attrs-b13edc55-ba4b-4e48-a005-1fc97b2be754' class='xr-var-attrs-in' type='checkbox' disabled><label for='attrs-b13edc55-ba4b-4e48-a005-1fc97b2be754' title='Show/Hide attributes'><svg class='icon xr-icon-file-text2'><use xlink:href='#icon-file-text2'></use></svg></label><input id='data-50c4a3a9-435d-46a8-8a0b-635bf8efd371' class='xr-var-data-in' type='checkbox'><label for='data-50c4a3a9-435d-46a8-8a0b-635bf8efd371' title='Show/Hide data repr'><svg class='icon xr-icon-database'><use xlink:href='#icon-database'></use></svg></label><div class='xr-var-attrs'><dl class='xr-attrs'></dl></div><div class='xr-var-data'><pre>[851 values with dtype=float64]</pre></div></li><li class='xr-var-item'><div class='xr-var-name'><span>hdim_2</span></div><div class='xr-var-dims'>(index)</div><div class='xr-var-dtype'>float64</div><div class='xr-var-preview xr-preview'>...</div><input id='attrs-4a497fea-07bb-427c-b2c9-5db45ad6e554' class='xr-var-attrs-in' type='checkbox' disabled><label for='attrs-4a497fea-07bb-427c-b2c9-5db45ad6e554' title='Show/Hide attributes'><svg class='icon xr-icon-file-text2'><use xlink:href='#icon-file-text2'></use></svg></label><input id='data-5e18d4c3-785d-40e3-8784-58eee80bb073' class='xr-var-data-in' type='checkbox'><label for='data-5e18d4c3-785d-40e3-8784-58eee80bb073' title='Show/Hide data repr'><svg class='icon xr-icon-database'><use xlink:href='#icon-database'></use></svg></label><div class='xr-var-attrs'><dl class='xr-attrs'></dl></div><div class='xr-var-data'><pre>[851 values with dtype=float64]</pre></div></li><li class='xr-var-item'><div class='xr-var-name'><span>num</span></div><div class='xr-var-dims'>(index)</div><div class='xr-var-dtype'>int64</div><div class='xr-var-preview xr-preview'>...</div><input id='attrs-c9b5e4ce-678e-48b8-9845-775dbffab2d4' class='xr-var-attrs-in' type='checkbox' disabled><label for='attrs-c9b5e4ce-678e-48b8-9845-775dbffab2d4' title='Show/Hide attributes'><svg class='icon xr-icon-file-text2'><use xlink:href='#icon-file-text2'></use></svg></label><input id='data-67bdf996-95e5-4034-bacd-48f4d08e2e14' class='xr-var-data-in' type='checkbox'><label for='data-67bdf996-95e5-4034-bacd-48f4d08e2e14' title='Show/Hide data repr'><svg class='icon xr-icon-database'><use xlink:href='#icon-database'></use></svg></label><div class='xr-var-attrs'><dl class='xr-attrs'></dl></div><div class='xr-var-data'><pre>[851 values with dtype=int64]</pre></div></li><li class='xr-var-item'><div class='xr-var-name'><span>threshold_value</span></div><div class='xr-var-dims'>(index)</div><div class='xr-var-dtype'>int64</div><div class='xr-var-preview xr-preview'>...</div><input id='attrs-4cc2c8fa-104d-4686-938d-79856f4f6276' class='xr-var-attrs-in' type='checkbox' disabled><label for='attrs-4cc2c8fa-104d-4686-938d-79856f4f6276' title='Show/Hide attributes'><svg class='icon xr-icon-file-text2'><use xlink:href='#icon-file-text2'></use></svg></label><input id='data-9c76d371-23c4-4206-8557-da7d724aff88' class='xr-var-data-in' type='checkbox'><label for='data-9c76d371-23c4-4206-8557-da7d724aff88' title='Show/Hide data repr'><svg class='icon xr-icon-database'><use xlink:href='#icon-database'></use></svg></label><div class='xr-var-attrs'><dl class='xr-attrs'></dl></div><div class='xr-var-data'><pre>[851 values with dtype=int64]</pre></div></li><li class='xr-var-item'><div class='xr-var-name'><span>feature</span></div><div class='xr-var-dims'>(index)</div><div class='xr-var-dtype'>int64</div><div class='xr-var-preview xr-preview'>...</div><input id='attrs-a2c77d17-cb8a-42e2-b157-97d5ce0e8632' class='xr-var-attrs-in' type='checkbox' disabled><label for='attrs-a2c77d17-cb8a-42e2-b157-97d5ce0e8632' title='Show/Hide attributes'><svg class='icon xr-icon-file-text2'><use xlink:href='#icon-file-text2'></use></svg></label><input id='data-7cbc7521-5534-49a1-86a7-e31f6bc8974b' class='xr-var-data-in' type='checkbox'><label for='data-7cbc7521-5534-49a1-86a7-e31f6bc8974b' title='Show/Hide data repr'><svg class='icon xr-icon-database'><use xlink:href='#icon-database'></use></svg></label><div class='xr-var-attrs'><dl class='xr-attrs'></dl></div><div class='xr-var-data'><pre>[851 values with dtype=int64]</pre></div></li><li class='xr-var-item'><div class='xr-var-name'><span>time</span></div><div class='xr-var-dims'>(index)</div><div class='xr-var-dtype'>datetime64[ns]</div><div class='xr-var-preview xr-preview'>...</div><input id='attrs-e1ab8fed-893e-4745-8569-ee39f2af4f81' class='xr-var-attrs-in' type='checkbox' disabled><label for='attrs-e1ab8fed-893e-4745-8569-ee39f2af4f81' title='Show/Hide attributes'><svg class='icon xr-icon-file-text2'><use xlink:href='#icon-file-text2'></use></svg></label><input id='data-e8394098-ecd7-432b-979d-26b1f8867ec5' class='xr-var-data-in' type='checkbox'><label for='data-e8394098-ecd7-432b-979d-26b1f8867ec5' title='Show/Hide data repr'><svg class='icon xr-icon-database'><use xlink:href='#icon-database'></use></svg></label><div class='xr-var-attrs'><dl class='xr-attrs'></dl></div><div class='xr-var-data'><pre>[851 values with dtype=datetime64[ns]]</pre></div></li><li class='xr-var-item'><div class='xr-var-name'><span>timestr</span></div><div class='xr-var-dims'>(index)</div><div class='xr-var-dtype'>&lt;U19</div><div class='xr-var-preview xr-preview'>...</div><input id='attrs-e082b8e4-a4c6-4dde-a46b-18de28a05f2c' class='xr-var-attrs-in' type='checkbox' disabled><label for='attrs-e082b8e4-a4c6-4dde-a46b-18de28a05f2c' title='Show/Hide attributes'><svg class='icon xr-icon-file-text2'><use xlink:href='#icon-file-text2'></use></svg></label><input id='data-84b82c21-4459-4163-874d-c2773879d970' class='xr-var-data-in' type='checkbox'><label for='data-84b82c21-4459-4163-874d-c2773879d970' title='Show/Hide data repr'><svg class='icon xr-icon-database'><use xlink:href='#icon-database'></use></svg></label><div class='xr-var-attrs'><dl class='xr-attrs'></dl></div><div class='xr-var-data'><pre>[851 values with dtype=&lt;U19]</pre></div></li><li class='xr-var-item'><div class='xr-var-name'><span>projection_y_coordinate</span></div><div class='xr-var-dims'>(index)</div><div class='xr-var-dtype'>float64</div><div class='xr-var-preview xr-preview'>...</div><input id='attrs-ea30d862-ed62-42e0-b4f0-0f38e3a6c46b' class='xr-var-attrs-in' type='checkbox' disabled><label for='attrs-ea30d862-ed62-42e0-b4f0-0f38e3a6c46b' title='Show/Hide attributes'><svg class='icon xr-icon-file-text2'><use xlink:href='#icon-file-text2'></use></svg></label><input id='data-826029ff-d241-4e45-b5dd-7cf7016c4a2f' class='xr-var-data-in' type='checkbox'><label for='data-826029ff-d241-4e45-b5dd-7cf7016c4a2f' title='Show/Hide data repr'><svg class='icon xr-icon-database'><use xlink:href='#icon-database'></use></svg></label><div class='xr-var-attrs'><dl class='xr-attrs'></dl></div><div class='xr-var-data'><pre>[851 values with dtype=float64]</pre></div></li><li class='xr-var-item'><div class='xr-var-name'><span>projection_x_coordinate</span></div><div class='xr-var-dims'>(index)</div><div class='xr-var-dtype'>float64</div><div class='xr-var-preview xr-preview'>...</div><input id='attrs-ed4af64b-4853-4196-949c-8b0adbf1b1f3' class='xr-var-attrs-in' type='checkbox' disabled><label for='attrs-ed4af64b-4853-4196-949c-8b0adbf1b1f3' title='Show/Hide attributes'><svg class='icon xr-icon-file-text2'><use xlink:href='#icon-file-text2'></use></svg></label><input id='data-1d6622ab-ed78-4308-88d3-9bf750e4694b' class='xr-var-data-in' type='checkbox'><label for='data-1d6622ab-ed78-4308-88d3-9bf750e4694b' title='Show/Hide data repr'><svg class='icon xr-icon-database'><use xlink:href='#icon-database'></use></svg></label><div class='xr-var-attrs'><dl class='xr-attrs'></dl></div><div class='xr-var-data'><pre>[851 values with dtype=float64]</pre></div></li><li class='xr-var-item'><div class='xr-var-name'><span>latitude</span></div><div class='xr-var-dims'>(index)</div><div class='xr-var-dtype'>float64</div><div class='xr-var-preview xr-preview'>...</div><input id='attrs-1f9b2438-0f3c-43b0-8dc0-d8a0eebdee86' class='xr-var-attrs-in' type='checkbox' disabled><label for='attrs-1f9b2438-0f3c-43b0-8dc0-d8a0eebdee86' title='Show/Hide attributes'><svg class='icon xr-icon-file-text2'><use xlink:href='#icon-file-text2'></use></svg></label><input id='data-df1fd955-0358-426f-99f5-7cc973dc5f75' class='xr-var-data-in' type='checkbox'><label for='data-df1fd955-0358-426f-99f5-7cc973dc5f75' title='Show/Hide data repr'><svg class='icon xr-icon-database'><use xlink:href='#icon-database'></use></svg></label><div class='xr-var-attrs'><dl class='xr-attrs'></dl></div><div class='xr-var-data'><pre>[851 values with dtype=float64]</pre></div></li><li class='xr-var-item'><div class='xr-var-name'><span>longitude</span></div><div class='xr-var-dims'>(index)</div><div class='xr-var-dtype'>float64</div><div class='xr-var-preview xr-preview'>...</div><input id='attrs-2f47b99e-532f-423d-87a5-26ea64caa3ea' class='xr-var-attrs-in' type='checkbox' disabled><label for='attrs-2f47b99e-532f-423d-87a5-26ea64caa3ea' title='Show/Hide attributes'><svg class='icon xr-icon-file-text2'><use xlink:href='#icon-file-text2'></use></svg></label><input id='data-1c8b9d38-f420-4aa9-b136-3253b2f681f6' class='xr-var-data-in' type='checkbox'><label for='data-1c8b9d38-f420-4aa9-b136-3253b2f681f6' title='Show/Hide data repr'><svg class='icon xr-icon-database'><use xlink:href='#icon-database'></use></svg></label><div class='xr-var-attrs'><dl class='xr-attrs'></dl></div><div class='xr-var-data'><pre>[851 values with dtype=float64]</pre></div></li><li class='xr-var-item'><div class='xr-var-name'><span>cell</span></div><div class='xr-var-dims'>(index)</div><div class='xr-var-dtype'>int64</div><div class='xr-var-preview xr-preview'>...</div><input id='attrs-4f06583e-c1f1-4834-b98c-49f8e14a35cf' class='xr-var-attrs-in' type='checkbox' disabled><label for='attrs-4f06583e-c1f1-4834-b98c-49f8e14a35cf' title='Show/Hide attributes'><svg class='icon xr-icon-file-text2'><use xlink:href='#icon-file-text2'></use></svg></label><input id='data-5b9a2456-a7e8-4f9d-ad88-30e9a2ebe20e' class='xr-var-data-in' type='checkbox'><label for='data-5b9a2456-a7e8-4f9d-ad88-30e9a2ebe20e' title='Show/Hide data repr'><svg class='icon xr-icon-database'><use xlink:href='#icon-database'></use></svg></label><div class='xr-var-attrs'><dl class='xr-attrs'></dl></div><div class='xr-var-data'><pre>[851 values with dtype=int64]</pre></div></li><li class='xr-var-item'><div class='xr-var-name'><span>time_cell</span></div><div class='xr-var-dims'>(index)</div><div class='xr-var-dtype'>timedelta64[ns]</div><div class='xr-var-preview xr-preview'>...</div><input id='attrs-5b81f6aa-f118-441f-8dc1-60db7b65c97f' class='xr-var-attrs-in' type='checkbox' disabled><label for='attrs-5b81f6aa-f118-441f-8dc1-60db7b65c97f' title='Show/Hide attributes'><svg class='icon xr-icon-file-text2'><use xlink:href='#icon-file-text2'></use></svg></label><input id='data-32100ed6-63a2-43ef-a543-6779527c23f0' class='xr-var-data-in' type='checkbox'><label for='data-32100ed6-63a2-43ef-a543-6779527c23f0' title='Show/Hide data repr'><svg class='icon xr-icon-database'><use xlink:href='#icon-database'></use></svg></label><div class='xr-var-attrs'><dl class='xr-attrs'></dl></div><div class='xr-var-data'><pre>[851 values with dtype=timedelta64[ns]]</pre></div></li></ul></div></li><li class='xr-section-item'><input id='section-f878f0e8-9929-46fd-9480-e6a6770aa53d' class='xr-section-summary-in' type='checkbox'  ><label for='section-f878f0e8-9929-46fd-9480-e6a6770aa53d' class='xr-section-summary' >Indexes: <span>(1)</span></label><div class='xr-section-inline-details'></div><div class='xr-section-details'><ul class='xr-var-list'><li class='xr-var-item'><div class='xr-index-name'><div>index</div></div><div class='xr-index-preview'>PandasIndex</div><div></div><input id='index-7e459319-85fb-4ae7-af46-3cc6899d2b55' class='xr-index-data-in' type='checkbox'/><label for='index-7e459319-85fb-4ae7-af46-3cc6899d2b55' title='Show/Hide index repr'><svg class='icon xr-icon-database'><use xlink:href='#icon-database'></use></svg></label><div class='xr-index-data'><pre>PandasIndex(Index([  0,   1,   2,   3,   4,   5,   6,   7,   8,   9,\n",
       "       ...\n",
       "       841, 842, 843, 844, 845, 846, 847, 848, 849, 850],\n",
       "      dtype=&#x27;int64&#x27;, name=&#x27;index&#x27;, length=851))</pre></div></li></ul></div></li><li class='xr-section-item'><input id='section-b8275a4a-e045-4893-ba3b-fed2807330ec' class='xr-section-summary-in' type='checkbox' disabled ><label for='section-b8275a4a-e045-4893-ba3b-fed2807330ec' class='xr-section-summary'  title='Expand/collapse section'>Attributes: <span>(0)</span></label><div class='xr-section-inline-details'></div><div class='xr-section-details'><dl class='xr-attrs'></dl></div></li></ul></div></div>"
      ],
      "text/plain": [
       "<xarray.Dataset>\n",
       "Dimensions:                  (index: 851)\n",
       "Coordinates:\n",
       "  * index                    (index) int64 0 1 2 3 4 5 ... 846 847 848 849 850\n",
       "Data variables: (12/15)\n",
       "    frame                    (index) int64 ...\n",
       "    idx                      (index) int64 ...\n",
       "    hdim_1                   (index) float64 ...\n",
       "    hdim_2                   (index) float64 ...\n",
       "    num                      (index) int64 ...\n",
       "    threshold_value          (index) int64 ...\n",
       "    ...                       ...\n",
       "    projection_y_coordinate  (index) float64 ...\n",
       "    projection_x_coordinate  (index) float64 ...\n",
       "    latitude                 (index) float64 ...\n",
       "    longitude                (index) float64 ...\n",
       "    cell                     (index) int64 ...\n",
       "    time_cell                (index) timedelta64[ns] ..."
      ]
     },
     "execution_count": 13,
     "metadata": {},
     "output_type": "execute_result"
    }
   ],
   "source": [
    "tobac_features"
   ]
  },
  {
   "cell_type": "code",
   "execution_count": 14,
   "id": "2bdf1b97-a3f0-442e-b16c-7a82bc286411",
   "metadata": {},
   "outputs": [],
   "source": [
    "storm_lat = tobac_features['latitude'].astype(int)\n",
    "storm_lon = tobac_features['longitude'].astype(int)"
   ]
  },
  {
   "cell_type": "code",
   "execution_count": 15,
   "id": "cc1c25e3-970b-4005-9a4e-6a83f3ae48f5",
   "metadata": {},
   "outputs": [],
   "source": [
    "#storm_lat"
   ]
  },
  {
   "cell_type": "code",
   "execution_count": 16,
   "id": "13328276-3504-4078-b10f-fb1efe0bd5fe",
   "metadata": {
    "tags": []
   },
   "outputs": [],
   "source": [
    "# from stackoverflow (https://stackoverflow.com/questions/639695/how-to-convert-latitude-or-longitude-to-meters)\n",
    "# originally in javascript\n",
    "def measure(lat1, lon1, lat2, lon2):  # generally used geo measurement function\n",
    "    R = 6378.137 # Radius of earth in KM\n",
    "    dLat = lat2 * np.pi / 180 - lat1 * np.pi / 180;\n",
    "    dLon = lon2 * np.pi / 180 - lon1 * np.pi / 180;\n",
    "    a = np.sin(dLat/2) * np.sin(dLat/2) + np.cos(lat1 * np.pi / 180) * np.cos(lat2 * np.pi / 180) * np.sin(dLon/2) * np.sin(dLon/2)\n",
    "    c = 2 * np.arctan2(np.sqrt(a), np.sqrt(1-a))\n",
    "    d = R * c\n",
    "    #d_meters = d * 1000\n",
    "    return d # km"
   ]
  },
  {
   "cell_type": "code",
   "execution_count": 17,
   "id": "7772a60a-7fe7-4e3c-b059-1bce4871c068",
   "metadata": {
    "tags": []
   },
   "outputs": [],
   "source": [
    "# example on how to grab lat and lon, these are from the gps\n",
    "\n",
    "# lat=ka1gps.Latitude # <== easier way to grab column\n",
    "# lon=ka1gps.Longitude\n",
    "#print(lat)\n",
    "#print(lon)"
   ]
  },
  {
   "cell_type": "code",
   "execution_count": 18,
   "id": "7790a2ba-79b8-4d8a-89e4-e3f6166ae148",
   "metadata": {
    "tags": []
   },
   "outputs": [],
   "source": [
    "lat_ka2=ka2gps.Latitude.astype(float) # <== easier way to grab column\n",
    "lon_ka2=ka2gps.Longitude.astype(float)\n",
    "#print(lat_ka2)\n",
    "#print(lon_ka2)"
   ]
  },
  {
   "cell_type": "code",
   "execution_count": 19,
   "id": "4d018a39-f356-4eb9-9bae-72aaf91d313c",
   "metadata": {
    "tags": []
   },
   "outputs": [],
   "source": [
    "#lat_vads_ka1 = vad_fileska1.Latitude\n",
    "#lon_vads_ka1 = vad_fileska1.Longitude"
   ]
  },
  {
   "cell_type": "code",
   "execution_count": 20,
   "id": "145eaa4b-b7e5-4219-81aa-d9185c079a10",
   "metadata": {
    "tags": []
   },
   "outputs": [],
   "source": [
    "lat_scans_ka1 = ka1scan.Latitude.astype(float)\n",
    "lon_scans_ka1 = ka1scan.Longitude.astype(float)"
   ]
  },
  {
   "cell_type": "code",
   "execution_count": 21,
   "id": "44706ea7-5fc2-4dd4-a4c1-6f2f146df5dd",
   "metadata": {
    "tags": []
   },
   "outputs": [],
   "source": [
    "#print(lat_scans_ka1)\n",
    "#print(lon_scans_ka1)"
   ]
  },
  {
   "cell_type": "code",
   "execution_count": 22,
   "id": "eab24392-c234-4f02-852c-e870cde55cc4",
   "metadata": {
    "tags": []
   },
   "outputs": [],
   "source": [
    "dfs_list = []\n",
    "for i in np.arange(0,len(storm_location)):\n",
    "    cms = measure(lat_scans_ka1[i], lon_scans_ka1[i], storm_lat[i], storm_lon[i])\n",
    "    dfs_list.append(cms)\n",
    "\n",
    "    # dfs: distance from storm"
   ]
  },
  {
   "cell_type": "code",
   "execution_count": 23,
   "id": "01e60573-ddaf-4317-abbf-ce8cfbd0c4ce",
   "metadata": {
    "tags": []
   },
   "outputs": [],
   "source": [
    "#print(dfs_list)"
   ]
  },
  {
   "cell_type": "code",
   "execution_count": 24,
   "id": "c70168b8-4d48-4cad-83ad-aed08707b390",
   "metadata": {
    "tags": []
   },
   "outputs": [
    {
     "data": {
      "text/plain": [
       "(64,)"
      ]
     },
     "execution_count": 24,
     "metadata": {},
     "output_type": "execute_result"
    }
   ],
   "source": [
    "np.shape(dfs_list)"
   ]
  },
  {
   "cell_type": "code",
   "execution_count": 25,
   "id": "1caf4d5a-6895-4dc1-9129-d6ae48d28d79",
   "metadata": {
    "tags": []
   },
   "outputs": [],
   "source": [
    "dfs_list_ka2 = []\n",
    "for i in np.arange(0,len(storm_location)):\n",
    "    cms = measure(lat_ka2[i], lon_ka2[i], storm_lat[i], storm_lon[i])\n",
    "    dfs_list_ka2.append(cms)"
   ]
  },
  {
   "cell_type": "code",
   "execution_count": 26,
   "id": "6e48e73c-d09f-4171-92f4-c25a98a6e986",
   "metadata": {
    "tags": []
   },
   "outputs": [
    {
     "data": {
      "text/plain": [
       "(64,)"
      ]
     },
     "execution_count": 26,
     "metadata": {},
     "output_type": "execute_result"
    }
   ],
   "source": [
    "np.shape(dfs_list_ka2)"
   ]
  },
  {
   "cell_type": "markdown",
   "id": "020571a9-d5a9-4944-82ee-108e4e33bad1",
   "metadata": {},
   "source": [
    "There are 64 terms in the distance from storm array."
   ]
  },
  {
   "cell_type": "markdown",
   "id": "1bcfe3d7-2402-45a0-9769-4fd202343fc6",
   "metadata": {},
   "source": [
    "Let's try the scan lat, lon instead of the gps:"
   ]
  },
  {
   "cell_type": "code",
   "execution_count": 27,
   "id": "a4b30592-e8db-4081-9843-42992adf8c0f",
   "metadata": {
    "tags": []
   },
   "outputs": [],
   "source": [
    "dfs_list_scan_ka1 = []\n",
    "for i in np.arange(0,len(storm_location)):\n",
    "    cms = measure(lat_scans_ka1[i], lon_scans_ka1[i], storm_lat[i], storm_lon[i])\n",
    "    dfs_list_scan_ka1.append(cms)"
   ]
  },
  {
   "cell_type": "code",
   "execution_count": 28,
   "id": "5545b7ee-8f6a-40aa-9346-686c343379f0",
   "metadata": {
    "tags": []
   },
   "outputs": [
    {
     "data": {
      "text/plain": [
       "(64,)"
      ]
     },
     "execution_count": 28,
     "metadata": {},
     "output_type": "execute_result"
    }
   ],
   "source": [
    "np.shape(dfs_list_scan_ka1)"
   ]
  },
  {
   "cell_type": "markdown",
   "id": "ccbc2f25-bea0-473e-8e14-96ab667a0292",
   "metadata": {},
   "source": [
    "Let's use the vad locations instead of the gps ones:"
   ]
  },
  {
   "cell_type": "code",
   "execution_count": 29,
   "id": "f9ed5052-0e30-4cfe-82ad-0838f9996b67",
   "metadata": {},
   "outputs": [],
   "source": [
    "dfs_vads_list_ka1 = []\n",
    "for i in np.arange(0,len(storm_location)):\n",
    "    cms = measure(lat_scans_ka1[i], lon_scans_ka1[i], storm_lat[i], storm_lon[i])\n",
    "    dfs_vads_list_ka1.append(cms)\n",
    "\n",
    "    # dfs: distance from storm"
   ]
  },
  {
   "cell_type": "markdown",
   "id": "26cc9ef8-93c1-4e13-b264-8504a4982c78",
   "metadata": {},
   "source": [
    "Now that we have our distance from the storm in meters-- aka our r -- we need theta.\n",
    "Theta is the bearing from the VADs."
   ]
  },
  {
   "cell_type": "markdown",
   "id": "4ae61040-ef2e-4701-8641-1979c44172e1",
   "metadata": {},
   "source": [
    "# "
   ]
  },
  {
   "cell_type": "code",
   "execution_count": 30,
   "id": "3473b50b-137b-4869-8007-6d1c7740b06f",
   "metadata": {
    "tags": []
   },
   "outputs": [
    {
     "name": "stdout",
     "output_type": "stream",
     "text": [
      "       ddmmyy hhmmss[UTC]   Longitude   Latitude  Velocity[knots]  \\\n",
      "0      230522      183124 -102.031783  33.588547             0.00   \n",
      "1      230522      183125 -102.031783  33.588547             0.00   \n",
      "2      230522      183126 -102.031783  33.588547             0.00   \n",
      "3      230522      183127 -102.031783  33.588547             0.00   \n",
      "4      230522      183128 -102.031783  33.588547             0.00   \n",
      "...       ...         ...         ...        ...              ...   \n",
      "31901  240522       32353 -102.032235  33.589625             0.22   \n",
      "31902  240522       32354 -102.032227  33.589630             0.50   \n",
      "31903  240522       32355 -102.032210  33.589645             1.53   \n",
      "31904  240522       32356 -102.032200  33.589662             3.10   \n",
      "31905  240522       32357 -102.032198  33.589678             3.06   \n",
      "\n",
      "       Bearing[degrees]  \n",
      "0                140.92  \n",
      "1                140.92  \n",
      "2                140.92  \n",
      "3                140.92  \n",
      "4                140.92  \n",
      "...                 ...  \n",
      "31901             52.29  \n",
      "31902             52.29  \n",
      "31903             35.15  \n",
      "31904             17.84  \n",
      "31905              5.13  \n",
      "\n",
      "[31906 rows x 6 columns]\n",
      "/Users/juliabman/Desktop/research2024/product_raw_ka1/Ka12205232.nc [37.001953 45.      ]\n",
      "/Users/juliabman/Desktop/research2024/product_raw_ka1/Ka1220523205632.nc [37.001953 45.      ]\n",
      "/Users/juliabman/Desktop/research2024/product_raw_ka1/Ka1220523205701.nc [37.001953 45.      ]\n",
      "/Users/juliabman/Desktop/research2024/product_raw_ka1/Ka1220523205730.nc [37.001953 45.      ]\n",
      "/Users/juliabman/Desktop/research2024/product_raw_ka1/Ka1220523205759.nc [37.001953 45.      ]\n",
      "/Users/juliabman/Desktop/research2024/product_raw_ka1/Ka1220523205828.nc [37.001953 45.      ]\n",
      "/Users/juliabman/Desktop/research2024/product_raw_ka1/Ka1220523205857.nc [37.001953 45.      ]\n",
      "/Users/juliabman/Desktop/research2024/product_raw_ka1/Ka1220523205926.nc [37.001953 45.      ]\n",
      "/Users/juliabman/Desktop/research2024/product_raw_ka1/Ka1220523205955.nc [37.001953 45.      ]\n",
      "/Users/juliabman/Desktop/research2024/product_raw_ka1/Ka1220523221718.nc [37.001953 45.      ]\n",
      "/Users/juliabman/Desktop/research2024/product_raw_ka1/Ka1220523222551.nc [37.001953 45.      ]\n",
      "/Users/juliabman/Desktop/research2024/product_raw_ka1/Ka1220523222620.nc [37.001953 45.      ]\n",
      "/Users/juliabman/Desktop/research2024/product_raw_ka1/Ka1220523222649.nc [37.001953 45.      ]\n",
      "/Users/juliabman/Desktop/research2024/product_raw_ka1/Ka1220523222718.nc [37.001953 45.      ]\n",
      "/Users/juliabman/Desktop/research2024/product_raw_ka1/Ka1220523222747.nc [37.001953 45.      ]\n",
      "/Users/juliabman/Desktop/research2024/product_raw_ka1/Ka1220523222816.nc [37.001953 45.      ]\n",
      "/Users/juliabman/Desktop/research2024/product_raw_ka1/Ka1220523222845.nc [37.001953 45.      ]\n",
      "/Users/juliabman/Desktop/research2024/product_raw_ka1/Ka1220523222914.nc [37.001953 45.      ]\n",
      "/Users/juliabman/Desktop/research2024/product_raw_ka1/Ka1220523222943.nc [37.001953 45.      ]\n",
      "/Users/juliabman/Desktop/research2024/product_raw_ka1/Ka1220523223013.nc [37.001953 45.      ]\n",
      "/Users/juliabman/Desktop/research2024/product_raw_ka1/Ka1220523223042.nc [37.001953 45.      ]\n",
      "/Users/juliabman/Desktop/research2024/product_raw_ka1/Ka1220523223111.nc [37.001953 45.      ]\n",
      "/Users/juliabman/Desktop/research2024/product_raw_ka1/Ka1220523223140.nc [37.001953 45.      ]\n",
      "/Users/juliabman/Desktop/research2024/product_raw_ka1/Ka1220523223209.nc [37.001953 45.      ]\n",
      "/Users/juliabman/Desktop/research2024/product_raw_ka1/Ka1220523223238.nc [37.001953 45.      ]\n",
      "/Users/juliabman/Desktop/research2024/product_raw_ka1/Ka1220523223307.nc [37.001953 45.      ]\n",
      "/Users/juliabman/Desktop/research2024/product_raw_ka1/Ka1220523223336.nc [37.001953 45.      ]\n",
      "/Users/juliabman/Desktop/research2024/product_raw_ka1/Ka1220523223405.nc [37.001953 45.      ]\n",
      "/Users/juliabman/Desktop/research2024/product_raw_ka1/Ka1220523223434.nc [37.001953 45.      ]\n",
      "/Users/juliabman/Desktop/research2024/product_raw_ka1/Ka1220523224032.nc [37.001953 45.      ]\n",
      "/Users/juliabman/Desktop/research2024/product_raw_ka1/Ka1220523224101.nc [37.001953 45.      ]\n",
      "/Users/juliabman/Desktop/research2024/product_raw_ka1/Ka1220523224130.nc [37.001953 45.      ]\n",
      "/Users/juliabman/Desktop/research2024/product_raw_ka1/Ka1220523232822.nc [37.001953 45.      ]\n",
      "/Users/juliabman/Desktop/research2024/product_raw_ka1/Ka1220523232852.nc [37.001953 45.      ]\n",
      "/Users/juliabman/Desktop/research2024/product_raw_ka1/Ka1220523232921.nc [37.001953 45.      ]\n",
      "/Users/juliabman/Desktop/research2024/product_raw_ka1/Ka1220523232950.nc [37.001953 45.      ]\n",
      "/Users/juliabman/Desktop/research2024/product_raw_ka1/Ka1220523233019.nc [37.001953 45.      ]\n",
      "[308.58, 308.58, 308.58, 308.58, 308.58, 308.58, 308.58, 308.58, 308.58, 0.8200000000000001, 179.22999999999993, 179.22999999999993, 179.22999999999993, 179.22999999999996, 179.22999999999993, 179.22999999999993, 179.22999999999993, 179.22999999999993, 179.22999999999993, 179.22999999999996, 179.22999999999996, 179.22999999999996, 179.22999999999996, 179.22999999999993, 179.22999999999996, 179.22999999999996, 179.22999999999996, 179.22999999999996, 190, 9.980000000000002, 9.980000000000002, 92.6, 177.76296296296297, 180.39961538461537, 180.77923076923076, 149.0, 90.6]\n"
     ]
    }
   ],
   "source": [
    "bearing_list = []\n",
    "\n",
    "# Code from Alex S and Josh O\n",
    "# Fixing the bearing\n",
    "from datetime import datetime\n",
    "\n",
    "print(ka1gps)\n",
    "\n",
    "for thefile in vad_fileska1[0:37]:\n",
    "\n",
    "    radar = pyart.io.read_cfradial(thefile)\n",
    "    print(thefile,radar.fixed_angle['data'])\n",
    "    \n",
    "    # selects a column and uses it to tell program how to run through data\n",
    "    \n",
    "    ka1gps['ddmmyy']+ka1gps['hhmmss[UTC]'] \n",
    "    ka1gps['datetime'] = [datetime.strptime(d,'%d%m%y%H%M%S') for d in ka1gps['ddmmyy']+ka1gps['hhmmss[UTC]']]\n",
    "    beginscanindex = ka1gps.loc[ka1gps['datetime'] == datetime.strptime(radar.time['units'],'seconds since %Y-%m-%dT%H:%M:%SZ')].index+np.amin(np.unique(radar.time['data']))\n",
    "    endscanindex = ka1gps.loc[ka1gps['datetime'] == datetime.strptime(radar.time['units'],'seconds since %Y-%m-%dT%H:%M:%SZ')].index+np.amax(np.unique(radar.time['data']))\n",
    "    dfscan = ka1gps.iloc[beginscanindex[0].astype(int):endscanindex[0].astype(int)]\n",
    "    dfscan = dfscan.astype({'Bearing[degrees]': 'float'})\n",
    "\n",
    "    speed = dfscan['Velocity[knots]'].astype(float).mean()\n",
    "        \n",
    "    #Get Bearing from deployment log or gps file\n",
    "    if int(ka1scan.loc[ka1scan['Datetime'] == dfscan.datetime.values[0]].Deployment.values[0]) != 0:\n",
    "        bearing = float(ka1scan.loc[ka1scan['Datetime'] == dfscan.datetime.values[0]].Heading.values[0])\n",
    "    else:\n",
    "        bearing = dfscan['Bearing[degrees]'].mean()\n",
    "        \n",
    "    #Manual Corrections\n",
    "    if bearing == 80.06703703703703:\n",
    "        bearing = 190\n",
    "    elif (bearing == 64.25037037037036):\n",
    "        bearing = 9.980000000000002\n",
    "    elif (bearing == 89.28925925925924):\n",
    "        bearing = 92.6\n",
    "    elif bearing == 269.9640740740741:\n",
    "        bearing = 90.6\n",
    "    elif bearing == 206.84615384615387:\n",
    "        bearing = 149.0\n",
    "    elif bearing == 263.8211111111111:\n",
    "        bearing = 90.2\n",
    "    \n",
    "    #print('Bearing used: '+str(bearing))\n",
    "    \n",
    "    lat_vads = dfscan['Latitude'].astype(float)\n",
    "    lon_vads = dfscan['Longitude'].astype(float)\n",
    "    \n",
    "    #print(lat)\n",
    "    #print(lon)\n",
    "    #Bearing Correction\n",
    "    radar.azimuth['data']+=(bearing)%360\n",
    "    #print(bearing)\n",
    "    \n",
    "    # add all bearings from loop to list\n",
    "    bearing_list.append(bearing)\n",
    "    \n",
    "print(bearing_list)"
   ]
  },
  {
   "cell_type": "code",
   "execution_count": 34,
   "id": "5d59c6be-4980-40dd-a38c-d1ef23d6484a",
   "metadata": {},
   "outputs": [
    {
     "data": {
      "text/plain": [
       "1.653343904e+18"
      ]
     },
     "execution_count": 34,
     "metadata": {},
     "output_type": "execute_result"
    }
   ],
   "source": [
    "dfscan.datetime.values[0].astype(float)\n"
   ]
  },
  {
   "cell_type": "code",
   "execution_count": 35,
   "id": "77c70758-5ab4-4a25-82b3-41c50c35ea93",
   "metadata": {},
   "outputs": [
    {
     "data": {
      "text/html": [
       "<div>\n",
       "<style scoped>\n",
       "    .dataframe tbody tr th:only-of-type {\n",
       "        vertical-align: middle;\n",
       "    }\n",
       "\n",
       "    .dataframe tbody tr th {\n",
       "        vertical-align: top;\n",
       "    }\n",
       "\n",
       "    .dataframe thead th {\n",
       "        text-align: right;\n",
       "    }\n",
       "</style>\n",
       "<table border=\"1\" class=\"dataframe\">\n",
       "  <thead>\n",
       "    <tr style=\"text-align: right;\">\n",
       "      <th></th>\n",
       "      <th>Datetime</th>\n",
       "      <th>Scantype</th>\n",
       "      <th>Angles</th>\n",
       "      <th>Ranges</th>\n",
       "      <th>Duration</th>\n",
       "      <th>Latitude</th>\n",
       "      <th>Longitude</th>\n",
       "      <th>Heading</th>\n",
       "      <th>Speed</th>\n",
       "      <th>Distance</th>\n",
       "      <th>Deployment</th>\n",
       "    </tr>\n",
       "  </thead>\n",
       "  <tbody>\n",
       "    <tr>\n",
       "      <th>0</th>\n",
       "      <td>2022-05-23 20:18:19</td>\n",
       "      <td>vad</td>\n",
       "      <td>[37. 45.]</td>\n",
       "      <td>9972.0</td>\n",
       "      <td>27.0</td>\n",
       "      <td>33.59381628571428</td>\n",
       "      <td>-102.33971899999999</td>\n",
       "      <td>270.84285714285716</td>\n",
       "      <td>40.70035714285715</td>\n",
       "      <td>0.0</td>\n",
       "      <td>0</td>\n",
       "    </tr>\n",
       "    <tr>\n",
       "      <th>1</th>\n",
       "      <td>2022-05-23 20:18:49</td>\n",
       "      <td>vad</td>\n",
       "      <td>[37. 45.]</td>\n",
       "      <td>9972.0</td>\n",
       "      <td>27.0</td>\n",
       "      <td>33.593901928571434</td>\n",
       "      <td>-102.34654978571429</td>\n",
       "      <td>270.8532142857143</td>\n",
       "      <td>41.957142857142856</td>\n",
       "      <td>633.4661352371563</td>\n",
       "      <td>0</td>\n",
       "    </tr>\n",
       "    <tr>\n",
       "      <th>2</th>\n",
       "      <td>2022-05-23 20:19:19</td>\n",
       "      <td>vad</td>\n",
       "      <td>[37. 45.]</td>\n",
       "      <td>9972.0</td>\n",
       "      <td>26.0</td>\n",
       "      <td>33.59397644444445</td>\n",
       "      <td>-102.35342725925928</td>\n",
       "      <td>270.8640740740741</td>\n",
       "      <td>42.21592592592593</td>\n",
       "      <td>637.7769397063854</td>\n",
       "      <td>0</td>\n",
       "    </tr>\n",
       "    <tr>\n",
       "      <th>3</th>\n",
       "      <td>2022-05-23 20:19:48</td>\n",
       "      <td>vad</td>\n",
       "      <td>[37. 45.]</td>\n",
       "      <td>9972.0</td>\n",
       "      <td>27.0</td>\n",
       "      <td>33.594052</td>\n",
       "      <td>-102.35962367857144</td>\n",
       "      <td>277.54571428571427</td>\n",
       "      <td>27.442857142857147</td>\n",
       "      <td>574.6323801955193</td>\n",
       "      <td>0</td>\n",
       "    </tr>\n",
       "    <tr>\n",
       "      <th>4</th>\n",
       "      <td>2022-05-23 20:20:19</td>\n",
       "      <td>vad</td>\n",
       "      <td>[37. 45.]</td>\n",
       "      <td>9972.0</td>\n",
       "      <td>26.0</td>\n",
       "      <td>33.594720888888894</td>\n",
       "      <td>-102.36134651851853</td>\n",
       "      <td>179.52333333333334</td>\n",
       "      <td>9.963333333333333</td>\n",
       "      <td>176.25245578186426</td>\n",
       "      <td>0</td>\n",
       "    </tr>\n",
       "    <tr>\n",
       "      <th>...</th>\n",
       "      <td>...</td>\n",
       "      <td>...</td>\n",
       "      <td>...</td>\n",
       "      <td>...</td>\n",
       "      <td>...</td>\n",
       "      <td>...</td>\n",
       "      <td>...</td>\n",
       "      <td>...</td>\n",
       "      <td>...</td>\n",
       "      <td>...</td>\n",
       "      <td>...</td>\n",
       "    </tr>\n",
       "    <tr>\n",
       "      <th>302</th>\n",
       "      <td>2022-05-24 03:08:50</td>\n",
       "      <td>rhi</td>\n",
       "      <td>[263.2 273.2 283.2 293.2 303.2 313.2 323.2 333...</td>\n",
       "      <td>19965.0</td>\n",
       "      <td>76.0</td>\n",
       "      <td>33.59253</td>\n",
       "      <td>-102.035702</td>\n",
       "      <td>93.2</td>\n",
       "      <td>0.0016883116883116883</td>\n",
       "      <td>0.32635385310166426</td>\n",
       "      <td>10</td>\n",
       "    </tr>\n",
       "    <tr>\n",
       "      <th>303</th>\n",
       "      <td>2022-05-24 03:10:11</td>\n",
       "      <td>rhi</td>\n",
       "      <td>[263.2 273.2 283.2 293.2 303.2 313.2 323.2 333...</td>\n",
       "      <td>19965.0</td>\n",
       "      <td>76.0</td>\n",
       "      <td>33.59253</td>\n",
       "      <td>-102.035702</td>\n",
       "      <td>93.2</td>\n",
       "      <td>0.0014285714285714286</td>\n",
       "      <td>0.4600264669008628</td>\n",
       "      <td>10</td>\n",
       "    </tr>\n",
       "    <tr>\n",
       "      <th>304</th>\n",
       "      <td>2022-05-24 03:11:32</td>\n",
       "      <td>rhi</td>\n",
       "      <td>[263.2 273.2 283.2 293.2 303.2 313.2 323.2 333...</td>\n",
       "      <td>19965.0</td>\n",
       "      <td>76.0</td>\n",
       "      <td>33.59253</td>\n",
       "      <td>-102.035702</td>\n",
       "      <td>93.2</td>\n",
       "      <td>0.007662337662337663</td>\n",
       "      <td>0.8827209367044998</td>\n",
       "      <td>10</td>\n",
       "    </tr>\n",
       "    <tr>\n",
       "      <th>305</th>\n",
       "      <td>2022-05-24 03:12:53</td>\n",
       "      <td>rhi</td>\n",
       "      <td>[263.2 273.2 283.2 293.2 303.2 313.2 323.2 333...</td>\n",
       "      <td>19965.0</td>\n",
       "      <td>76.0</td>\n",
       "      <td>33.59253</td>\n",
       "      <td>-102.035702</td>\n",
       "      <td>93.2</td>\n",
       "      <td>0.003636363636363637</td>\n",
       "      <td>0.31310701283426595</td>\n",
       "      <td>10</td>\n",
       "    </tr>\n",
       "    <tr>\n",
       "      <th>306</th>\n",
       "      <td>2022-05-24 03:14:14</td>\n",
       "      <td>rhi</td>\n",
       "      <td>[263.2 273.2 283.2 293.2 303.2 313.2 323.2 333...</td>\n",
       "      <td>19965.0</td>\n",
       "      <td>77.0</td>\n",
       "      <td>33.59253</td>\n",
       "      <td>-102.035702</td>\n",
       "      <td>93.2</td>\n",
       "      <td>0.002435897435897436</td>\n",
       "      <td>0.2083974074685191</td>\n",
       "      <td>10</td>\n",
       "    </tr>\n",
       "  </tbody>\n",
       "</table>\n",
       "<p>307 rows × 11 columns</p>\n",
       "</div>"
      ],
      "text/plain": [
       "               Datetime Scantype  \\\n",
       "0   2022-05-23 20:18:19      vad   \n",
       "1   2022-05-23 20:18:49      vad   \n",
       "2   2022-05-23 20:19:19      vad   \n",
       "3   2022-05-23 20:19:48      vad   \n",
       "4   2022-05-23 20:20:19      vad   \n",
       "..                  ...      ...   \n",
       "302 2022-05-24 03:08:50      rhi   \n",
       "303 2022-05-24 03:10:11      rhi   \n",
       "304 2022-05-24 03:11:32      rhi   \n",
       "305 2022-05-24 03:12:53      rhi   \n",
       "306 2022-05-24 03:14:14      rhi   \n",
       "\n",
       "                                                Angles   Ranges Duration  \\\n",
       "0                                            [37. 45.]   9972.0     27.0   \n",
       "1                                            [37. 45.]   9972.0     27.0   \n",
       "2                                            [37. 45.]   9972.0     26.0   \n",
       "3                                            [37. 45.]   9972.0     27.0   \n",
       "4                                            [37. 45.]   9972.0     26.0   \n",
       "..                                                 ...      ...      ...   \n",
       "302  [263.2 273.2 283.2 293.2 303.2 313.2 323.2 333...  19965.0     76.0   \n",
       "303  [263.2 273.2 283.2 293.2 303.2 313.2 323.2 333...  19965.0     76.0   \n",
       "304  [263.2 273.2 283.2 293.2 303.2 313.2 323.2 333...  19965.0     76.0   \n",
       "305  [263.2 273.2 283.2 293.2 303.2 313.2 323.2 333...  19965.0     76.0   \n",
       "306  [263.2 273.2 283.2 293.2 303.2 313.2 323.2 333...  19965.0     77.0   \n",
       "\n",
       "               Latitude            Longitude             Heading  \\\n",
       "0     33.59381628571428  -102.33971899999999  270.84285714285716   \n",
       "1    33.593901928571434  -102.34654978571429   270.8532142857143   \n",
       "2     33.59397644444445  -102.35342725925928   270.8640740740741   \n",
       "3             33.594052  -102.35962367857144  277.54571428571427   \n",
       "4    33.594720888888894  -102.36134651851853  179.52333333333334   \n",
       "..                  ...                  ...                 ...   \n",
       "302            33.59253          -102.035702                93.2   \n",
       "303            33.59253          -102.035702                93.2   \n",
       "304            33.59253          -102.035702                93.2   \n",
       "305            33.59253          -102.035702                93.2   \n",
       "306            33.59253          -102.035702                93.2   \n",
       "\n",
       "                     Speed             Distance Deployment  \n",
       "0        40.70035714285715                  0.0          0  \n",
       "1       41.957142857142856    633.4661352371563          0  \n",
       "2        42.21592592592593    637.7769397063854          0  \n",
       "3       27.442857142857147    574.6323801955193          0  \n",
       "4        9.963333333333333   176.25245578186426          0  \n",
       "..                     ...                  ...        ...  \n",
       "302  0.0016883116883116883  0.32635385310166426         10  \n",
       "303  0.0014285714285714286   0.4600264669008628         10  \n",
       "304   0.007662337662337663   0.8827209367044998         10  \n",
       "305   0.003636363636363637  0.31310701283426595         10  \n",
       "306   0.002435897435897436   0.2083974074685191         10  \n",
       "\n",
       "[307 rows x 11 columns]"
      ]
     },
     "execution_count": 35,
     "metadata": {},
     "output_type": "execute_result"
    }
   ],
   "source": [
    "ka1scan"
   ]
  },
  {
   "cell_type": "code",
   "execution_count": 36,
   "id": "62576a04-a555-4dfd-b5e6-d039a775c7c2",
   "metadata": {
    "tags": []
   },
   "outputs": [
    {
     "name": "stdout",
     "output_type": "stream",
     "text": [
      "/Users/juliabman/Desktop/research2024/product_raw_ka2/Ka2220523221144.nc [37.001953 45.      ]\n"
     ]
    },
    {
     "ename": "IndexError",
     "evalue": "index 0 is out of bounds for axis 0 with size 0",
     "output_type": "error",
     "traceback": [
      "\u001b[0;31m---------------------------------------------------------------------------\u001b[0m",
      "\u001b[0;31mIndexError\u001b[0m                                Traceback (most recent call last)",
      "Cell \u001b[0;32mIn[36], line 37\u001b[0m\n\u001b[1;32m     34\u001b[0m speed \u001b[38;5;241m=\u001b[39m dfscan[\u001b[38;5;124m'\u001b[39m\u001b[38;5;124mVelocity[knots]\u001b[39m\u001b[38;5;124m'\u001b[39m]\u001b[38;5;241m.\u001b[39mastype(\u001b[38;5;28mfloat\u001b[39m)\u001b[38;5;241m.\u001b[39mmean()\n\u001b[1;32m     36\u001b[0m \u001b[38;5;66;03m#Get Bearing from deployment log or gps file\u001b[39;00m\n\u001b[0;32m---> 37\u001b[0m \u001b[38;5;28;01mif\u001b[39;00m \u001b[38;5;28mint\u001b[39m(\u001b[43mka2scan\u001b[49m\u001b[38;5;241;43m.\u001b[39;49m\u001b[43mloc\u001b[49m\u001b[43m[\u001b[49m\u001b[43mka2scan\u001b[49m\u001b[43m[\u001b[49m\u001b[38;5;124;43m'\u001b[39;49m\u001b[38;5;124;43mDatetime\u001b[39;49m\u001b[38;5;124;43m'\u001b[39;49m\u001b[43m]\u001b[49m\u001b[43m \u001b[49m\u001b[38;5;241;43m==\u001b[39;49m\u001b[43m \u001b[49m\u001b[43mdfscan\u001b[49m\u001b[38;5;241;43m.\u001b[39;49m\u001b[43mdatetime\u001b[49m\u001b[38;5;241;43m.\u001b[39;49m\u001b[43mvalues\u001b[49m\u001b[43m[\u001b[49m\u001b[38;5;241;43m0\u001b[39;49m\u001b[43m]\u001b[49m\u001b[43m]\u001b[49m\u001b[38;5;241;43m.\u001b[39;49m\u001b[43mDeployment\u001b[49m\u001b[38;5;241;43m.\u001b[39;49m\u001b[43mvalues\u001b[49m\u001b[43m[\u001b[49m\u001b[38;5;241;43m0\u001b[39;49m\u001b[43m]\u001b[49m) \u001b[38;5;241m!=\u001b[39m \u001b[38;5;241m0\u001b[39m:\n\u001b[1;32m     38\u001b[0m     bearing \u001b[38;5;241m=\u001b[39m \u001b[38;5;28mfloat\u001b[39m(ka2scan\u001b[38;5;241m.\u001b[39mloc[ka2scan[\u001b[38;5;124m'\u001b[39m\u001b[38;5;124mDatetime\u001b[39m\u001b[38;5;124m'\u001b[39m] \u001b[38;5;241m==\u001b[39m dfscan\u001b[38;5;241m.\u001b[39mdatetime\u001b[38;5;241m.\u001b[39mvalues[\u001b[38;5;241m0\u001b[39m]]\u001b[38;5;241m.\u001b[39mHeading\u001b[38;5;241m.\u001b[39mvalues[\u001b[38;5;241m0\u001b[39m])\n\u001b[1;32m     39\u001b[0m \u001b[38;5;28;01melse\u001b[39;00m:\n",
      "\u001b[0;31mIndexError\u001b[0m: index 0 is out of bounds for axis 0 with size 0"
     ]
    }
   ],
   "source": [
    "# for ka 2\n",
    "\n",
    "bearing_list_ka2 = []\n",
    "\n",
    "# Code from Alex S and Josh O\n",
    "# Fixing the bearing\n",
    "from datetime import datetime\n",
    "\n",
    "# gps data for first ka\n",
    "ka2gps = pd.read_csv('/Users/juliabman/Desktop/research2024/GPS_Ka2_20220523.txt')\n",
    "ka2gps=ka2gps.astype(str)\n",
    "# scan data for first ka\n",
    "ka2scan = pd.read_csv('/Users/juliabman/Desktop/research2024/20220523_Ka2_scan_log.txt', dtype=str,\n",
    "                     parse_dates=[0])\n",
    "# dealiased vad data created from VADS.ipynb for ka 1, but not bearing corrected\n",
    "vad_fileska2 = sorted(glob.glob('/Users/juliabman/Desktop/research2024/product_raw_ka2/*.nc'))\n",
    "\n",
    "#print(ka1gps)\n",
    "\n",
    "for thefile in vad_fileska2[:64]:\n",
    "\n",
    "    radar = pyart.io.read_cfradial(thefile)\n",
    "    print(thefile,radar.fixed_angle['data'])\n",
    "    \n",
    "    # selects a column and uses it to tell program how to run through data\n",
    "    \n",
    "    ka2gps['ddmmyy']+ka2gps['hhmmss[UTC]'] \n",
    "    ka2gps['datetime'] = [datetime.strptime(d,'%d%m%y%H%M%S') for d in ka2gps['ddmmyy']+ka2gps['hhmmss[UTC]']]\n",
    "    beginscanindex = ka2gps.loc[ka2gps['datetime'] == datetime.strptime(radar.time['units'],'seconds since %Y-%m-%dT%H:%M:%SZ')].index+np.amin(np.unique(radar.time['data']))\n",
    "    endscanindex = ka2gps.loc[ka2gps['datetime'] == datetime.strptime(radar.time['units'],'seconds since %Y-%m-%dT%H:%M:%SZ')].index+np.amax(np.unique(radar.time['data']))\n",
    "    dfscan = ka2gps.iloc[beginscanindex[0].astype(int):endscanindex[0].astype(int)]\n",
    "    dfscan = dfscan.astype({'Bearing[degrees]': 'float'})\n",
    "\n",
    "    speed = dfscan['Velocity[knots]'].astype(float).mean()\n",
    "        \n",
    "    #Get Bearing from deployment log or gps file\n",
    "    if int(ka2scan.loc[ka2scan['Datetime'] == dfscan.datetime.values[0]].Deployment.values[0]) != 0:\n",
    "        bearing = float(ka2scan.loc[ka2scan['Datetime'] == dfscan.datetime.values[0]].Heading.values[0])\n",
    "    else:\n",
    "        bearing = dfscan['Bearing[degrees]'].mean()\n",
    "        \n",
    "    #Manual Corrections\n",
    "    if bearing == 80.06703703703703:\n",
    "        bearing = 190\n",
    "    elif (bearing == 64.25037037037036):\n",
    "        bearing = 9.980000000000002\n",
    "    elif (bearing == 89.28925925925924):\n",
    "        bearing = 92.6\n",
    "    elif bearing == 269.9640740740741:\n",
    "        bearing = 90.6\n",
    "    elif bearing == 206.84615384615387:\n",
    "        bearing = 149.0\n",
    "    elif bearing == 263.8211111111111:\n",
    "        bearing = 90.2\n",
    "    \n",
    "    #print('Bearing used: '+str(bearing))\n",
    "    \n",
    "    lat_vads = dfscan['Latitude'].astype(float)\n",
    "    lon_vads = dfscan['Longitude'].astype(float)\n",
    "    \n",
    "    #print(lat)\n",
    "    #print(lon)\n",
    "    #Bearing Correction\n",
    "    radar.azimuth['data']+=(bearing)%360\n",
    "    #print(bearing)\n",
    "    \n",
    "    # add all bearings from loop to list\n",
    "    bearing_list_ka2.append(bearing)\n",
    "    \n",
    "print(bearing_list_ka2)"
   ]
  },
  {
   "cell_type": "code",
   "execution_count": null,
   "id": "25a12e56-7ed9-4a76-a7d9-0591c7af567c",
   "metadata": {
    "tags": []
   },
   "outputs": [],
   "source": [
    "np.size(vad_fileska2)"
   ]
  },
  {
   "cell_type": "code",
   "execution_count": 31,
   "id": "aa3237d4-f77a-4c54-972c-3f9e55f0a786",
   "metadata": {
    "tags": []
   },
   "outputs": [],
   "source": [
    "# get the storm motion (in degrees)\n",
    "# Code from Alex S and Josh O\n",
    "\n",
    "#Calculate storm motion \n",
    "\n",
    "decimalhour=[]\n",
    "decimalsec=[]\n",
    "for i in np.arange(0,len(storm_location),1):\n",
    "    (h, m, s) = storm_location.loc[i].Time.split(':')\n",
    "    result = int(h) + int(m)/60 + int(s)/3600\n",
    "    result1 = int(h) * 3600 + int(m) * 60 + int(s)\n",
    "    decimalsec.append(result1)\n",
    "    decimalhour.append(result)\n",
    "storm_location['decimalhour']=decimalhour\n",
    "storm_location['decimalsec']=decimalsec\n",
    "storm_decimalsec=storm_location.decimalsec.astype(float)\n",
    "\n",
    "\n",
    "from math import sin, cos, sqrt, atan2, radians\n",
    "\n",
    "def calc_velocity(lat1,lon1,lat2,lon2,time1,time2):\n",
    "    R = 6371 # Radius of the earth in km\n",
    "    dLat = radians(lat2-lat1)\n",
    "    dLon = radians(lon2-lon1)\n",
    "    rLat1 = radians(lat1)\n",
    "    rLat2 = radians(lat2)\n",
    "    a = sin(dLat/2) * sin(dLat/2) + cos(rLat1) * cos(rLat2) * sin(dLon/2) * sin(dLon/2) \n",
    "    c = 2 * atan2(sqrt(a), sqrt(1-a))\n",
    "    d = R * c * 1000 # Distance in m\n",
    "    return d / (time2 - time1)\n",
    "\n",
    "def get_bearing(lat1, long1, lat2, long2):\n",
    "    dLon = (long2 - long1)\n",
    "    x = cos(radians(lat2)) * sin(radians(dLon))\n",
    "    y = cos(radians(lat1)) * sin(radians(lat2)) - sin(radians(lat1)) * cos(radians(lat2)) * cos(radians(dLon))\n",
    "    brng = np.arctan2(x,y)\n",
    "    brng = (np.degrees(brng)+180) % 360\n",
    "    return brng\n",
    "\n",
    "velocity1=[]\n",
    "direction1=[]\n",
    "for i in np.arange(0,len(storm_location)-1,1):\n",
    "    velocity = calc_velocity(storm_lat[i],storm_lon[i],\n",
    "                             storm_lat[i+1],storm_lon[i],\n",
    "                             storm_decimalsec[i],storm_decimalsec[i+1])\n",
    "    velocity1.append(velocity)\n",
    "    direction = get_bearing(storm_lat[i],storm_lon[i],\n",
    "                             storm_lat[i+1],storm_lon[i+1])\n",
    "    direction1.append(direction)\n",
    "velocity1 = np.append([np.nan],velocity1)\n",
    "direction1 = np.append([np.nan],direction1)\n",
    "storm_location['storm_vel']=velocity1 #m/s\n",
    "storm_location['storm_dir']=direction1 #deg\n",
    "\n",
    "#print(velocity1)\n",
    "#print(direction1)"
   ]
  },
  {
   "cell_type": "code",
   "execution_count": 32,
   "id": "1217b244-f2dd-44da-97dd-e43412f89d92",
   "metadata": {
    "tags": []
   },
   "outputs": [
    {
     "data": {
      "text/plain": [
       "64"
      ]
     },
     "execution_count": 32,
     "metadata": {},
     "output_type": "execute_result"
    }
   ],
   "source": [
    "np.size(velocity1)"
   ]
  },
  {
   "cell_type": "code",
   "execution_count": 33,
   "id": "5f208863-29be-4694-a084-601141c876f4",
   "metadata": {
    "tags": []
   },
   "outputs": [
    {
     "data": {
      "text/plain": [
       "64"
      ]
     },
     "execution_count": 33,
     "metadata": {},
     "output_type": "execute_result"
    }
   ],
   "source": [
    "np.size(direction1)"
   ]
  },
  {
   "cell_type": "markdown",
   "id": "6894730c-da7a-4f0f-a5f8-d574fade98e6",
   "metadata": {},
   "source": [
    "As the bearing and storm location arrays do not have the same number of indeces, I cannot assume the storm location and bearing indeces correlate based on their position in the arrays. I will instead take the average of both to use."
   ]
  },
  {
   "cell_type": "code",
   "execution_count": 34,
   "id": "486fc3b3-1f4f-4d5d-aaa1-8eebe4de7191",
   "metadata": {
    "tags": []
   },
   "outputs": [
    {
     "name": "stdout",
     "output_type": "stream",
     "text": [
      "175.23159745676477\n"
     ]
    }
   ],
   "source": [
    "# need degrees (so the direction) of the storm\n",
    "# find storm velocity and subtract from points getting plotted?\n",
    "# then plot both degree shift on the axis and the points after storm motion has been subtracted?\n",
    "# convert to dataframe\n",
    "# df for data frame so i can use pandas to drop the nan. cant average with nan in list\n",
    "directiondf = pd.DataFrame(direction1)\n",
    "\n",
    "direction_corrected = directiondf.dropna()\n",
    "\n",
    "avg_storm_direction = np.average(direction_corrected)\n",
    "\n",
    "print(avg_storm_direction) # avg storm direction in degrees"
   ]
  },
  {
   "cell_type": "code",
   "execution_count": 35,
   "id": "994ded8c-57ac-475e-bb41-6aa69fdec9c7",
   "metadata": {
    "tags": []
   },
   "outputs": [],
   "source": [
    "velocitydf = pd.DataFrame(velocity1)\n",
    "\n",
    "velocity_corrected = velocitydf.dropna()\n",
    "\n",
    "avg_storm_velocity = np.average(velocity_corrected)"
   ]
  },
  {
   "cell_type": "code",
   "execution_count": 36,
   "id": "976a4384-8ec9-43a3-b980-c9aee174f479",
   "metadata": {
    "tags": []
   },
   "outputs": [
    {
     "name": "stdout",
     "output_type": "stream",
     "text": [
      "70.59995342511665\n"
     ]
    }
   ],
   "source": [
    "print(avg_storm_velocity)"
   ]
  },
  {
   "cell_type": "code",
   "execution_count": 37,
   "id": "b5d61cad-1177-497c-9e6b-731e06e1a9b7",
   "metadata": {
    "tags": []
   },
   "outputs": [
    {
     "name": "stdout",
     "output_type": "stream",
     "text": [
      "/Users/juliabman/Desktop/research2024/product_raw_ka1/Ka12205232.nc [37.001953 45.      ]\n"
     ]
    },
    {
     "ename": "IndexError",
     "evalue": "index 0 is out of bounds for axis 0 with size 0",
     "output_type": "error",
     "traceback": [
      "\u001b[0;31m---------------------------------------------------------------------------\u001b[0m",
      "\u001b[0;31mIndexError\u001b[0m                                Traceback (most recent call last)",
      "Cell \u001b[0;32mIn[37], line 41\u001b[0m\n\u001b[1;32m     38\u001b[0m speed \u001b[38;5;241m=\u001b[39m dfscan[\u001b[38;5;124m'\u001b[39m\u001b[38;5;124mVelocity[knots]\u001b[39m\u001b[38;5;124m'\u001b[39m]\u001b[38;5;241m.\u001b[39mastype(\u001b[38;5;28mfloat\u001b[39m)\u001b[38;5;241m.\u001b[39mmean()\n\u001b[1;32m     40\u001b[0m \u001b[38;5;66;03m#Get Bearing from deployment log or gps file\u001b[39;00m\n\u001b[0;32m---> 41\u001b[0m \u001b[38;5;28;01mif\u001b[39;00m \u001b[38;5;28mint\u001b[39m(\u001b[43mka1scan\u001b[49m\u001b[38;5;241;43m.\u001b[39;49m\u001b[43mloc\u001b[49m\u001b[43m[\u001b[49m\u001b[43mka1scan\u001b[49m\u001b[43m[\u001b[49m\u001b[38;5;124;43m'\u001b[39;49m\u001b[38;5;124;43mDatetime\u001b[39;49m\u001b[38;5;124;43m'\u001b[39;49m\u001b[43m]\u001b[49m\u001b[43m \u001b[49m\u001b[38;5;241;43m==\u001b[39;49m\u001b[43m \u001b[49m\u001b[43mdfscan\u001b[49m\u001b[38;5;241;43m.\u001b[39;49m\u001b[43mdatetime\u001b[49m\u001b[38;5;241;43m.\u001b[39;49m\u001b[43mvalues\u001b[49m\u001b[43m[\u001b[49m\u001b[38;5;241;43m0\u001b[39;49m\u001b[43m]\u001b[49m\u001b[43m]\u001b[49m\u001b[38;5;241;43m.\u001b[39;49m\u001b[43mDeployment\u001b[49m\u001b[38;5;241;43m.\u001b[39;49m\u001b[43mvalues\u001b[49m\u001b[43m[\u001b[49m\u001b[38;5;241;43m0\u001b[39;49m\u001b[43m]\u001b[49m) \u001b[38;5;241m!=\u001b[39m \u001b[38;5;241m0\u001b[39m:\n\u001b[1;32m     42\u001b[0m     bearing \u001b[38;5;241m=\u001b[39m \u001b[38;5;28mfloat\u001b[39m(ka1scan\u001b[38;5;241m.\u001b[39mloc[ka1scan[\u001b[38;5;124m'\u001b[39m\u001b[38;5;124mDatetime\u001b[39m\u001b[38;5;124m'\u001b[39m] \u001b[38;5;241m==\u001b[39m dfscan\u001b[38;5;241m.\u001b[39mdatetime\u001b[38;5;241m.\u001b[39mvalues[\u001b[38;5;241m0\u001b[39m]]\u001b[38;5;241m.\u001b[39mHeading\u001b[38;5;241m.\u001b[39mvalues[\u001b[38;5;241m0\u001b[39m])\n\u001b[1;32m     43\u001b[0m \u001b[38;5;28;01melse\u001b[39;00m:\n",
      "\u001b[0;31mIndexError\u001b[0m: index 0 is out of bounds for axis 0 with size 0"
     ]
    }
   ],
   "source": [
    "# alright laptop... you can do this...\n",
    "# get bearings of ALL VADs\n",
    "\n",
    "bearing_list2 = []\n",
    "\n",
    "# Code from Alex S and Josh O\n",
    "# Fixing the bearing\n",
    "from datetime import datetime\n",
    "\n",
    "# gps data for first ka\n",
    "ka1gps = pd.read_csv('/Users/juliabman/Desktop/research2024/GPS_Ka1_20220523.txt')\n",
    "ka1gps=ka1gps.astype(str)\n",
    "# scan data for first ka\n",
    "ka1scan = pd.read_csv('/Users/juliabman/Desktop/research2024/20220523_Ka1_scan_log.txt', dtype=str,\n",
    "                     parse_dates=[0])\n",
    "# dealiased vad data created from VADS.ipynb for ka 1, but not bearing corrected\n",
    "vad_fileska1 = sorted(glob.glob('/Users/juliabman/Desktop/research2024/product_raw_ka1/*.nc'))\n",
    "\n",
    "#print(ka1gps)\n",
    "\n",
    "# !!! 37 is the last working index before it goes out of range !!!\n",
    "# there are only 37 netcdf vad files\n",
    "\n",
    "for thefile in (vad_fileska1[:37]):\n",
    "\n",
    "    radar = pyart.io.read_cfradial(thefile)\n",
    "    print(thefile,radar.fixed_angle['data'])\n",
    "    \n",
    "    # selects a column and uses it to tell program how to run through data\n",
    "    \n",
    "    ka1gps['ddmmyy']+ka1gps['hhmmss[UTC]'] \n",
    "    ka1gps['datetime'] = [datetime.strptime(d,'%d%m%y%H%M%S') for d in ka1gps['ddmmyy']+ka1gps['hhmmss[UTC]']]\n",
    "    beginscanindex = ka1gps.loc[ka1gps['datetime'] == datetime.strptime(radar.time['units'],'seconds since %Y-%m-%dT%H:%M:%SZ')].index+np.amin(np.unique(radar.time['data']))\n",
    "    endscanindex = ka1gps.loc[ka1gps['datetime'] == datetime.strptime(radar.time['units'],'seconds since %Y-%m-%dT%H:%M:%SZ')].index+np.amax(np.unique(radar.time['data']))\n",
    "    dfscan = ka1gps.iloc[beginscanindex[0].astype(int):endscanindex[0].astype(int)]\n",
    "    dfscan = dfscan.astype({'Bearing[degrees]': 'float'})\n",
    "\n",
    "    speed = dfscan['Velocity[knots]'].astype(float).mean()\n",
    "        \n",
    "    #Get Bearing from deployment log or gps file\n",
    "    if int(ka1scan.loc[ka1scan['Datetime'] == dfscan.datetime.values[0]].Deployment.values[0]) != 0:\n",
    "        bearing = float(ka1scan.loc[ka1scan['Datetime'] == dfscan.datetime.values[0]].Heading.values[0])\n",
    "    else:\n",
    "        bearing = dfscan['Bearing[degrees]'].mean()\n",
    "        \n",
    "    #Manual Corrections\n",
    "    if bearing == 80.06703703703703:\n",
    "        bearing = 190\n",
    "    elif (bearing == 64.25037037037036):\n",
    "        bearing = 9.980000000000002\n",
    "    elif (bearing == 89.28925925925924):\n",
    "        bearing = 92.6\n",
    "    elif bearing == 269.9640740740741:\n",
    "        bearing = 90.6\n",
    "    elif bearing == 206.84615384615387:\n",
    "        bearing = 149.0\n",
    "    elif bearing == 263.8211111111111:\n",
    "        bearing = 90.2\n",
    "    \n",
    "    #print('Bearing used: '+str(bearing))\n",
    "    \n",
    "    lat_vads = dfscan['Latitude'].astype(float)\n",
    "    lon_vads = dfscan['Longitude'].astype(float)\n",
    "    \n",
    "    #print(lat)\n",
    "    #print(lon)\n",
    "    #Bearing Correction\n",
    "    radar.azimuth['data']+=(bearing)%360\n",
    "    #print(bearing)\n",
    "    \n",
    "    # add all bearings from loop to list\n",
    "    bearing_list2.append(bearing)\n",
    "    \n",
    "print(bearing_list2)"
   ]
  },
  {
   "cell_type": "code",
   "execution_count": null,
   "id": "86c4b66f-dc41-4720-b20b-4092f5c59d0d",
   "metadata": {
    "tags": []
   },
   "outputs": [],
   "source": [
    "np.shape(bearing_list2)"
   ]
  },
  {
   "cell_type": "markdown",
   "id": "47283865-16bc-4dcf-85cb-70f047bff311",
   "metadata": {},
   "source": [
    "**The bearing size does not match the size of the distances from the storm array! There are 64 in the distance from storm array but only 37 for the bearing!** Points will thus be missing from the graph, especially the closer ones!"
   ]
  },
  {
   "cell_type": "markdown",
   "id": "89a4f097-d0cd-4f09-80c5-e1ba1cae0956",
   "metadata": {},
   "source": [
    "Why is there only 37 indeces for the bearing? when attempting to run the vad list in its entirety, instead of finishing at 37 indeces, after 37 there is an error that something is out of bounds for axis 0 or something. are there less bearing calculations than vads? were some cut out for quality control?"
   ]
  },
  {
   "cell_type": "code",
   "execution_count": 38,
   "id": "f04af324-9915-4084-b191-303d63025098",
   "metadata": {
    "tags": []
   },
   "outputs": [
    {
     "ename": "ValueError",
     "evalue": "x and y must be the same size",
     "output_type": "error",
     "traceback": [
      "\u001b[0;31m---------------------------------------------------------------------------\u001b[0m",
      "\u001b[0;31mValueError\u001b[0m                                Traceback (most recent call last)",
      "Cell \u001b[0;32mIn[38], line 22\u001b[0m\n\u001b[1;32m     19\u001b[0m theta \u001b[38;5;241m=\u001b[39m bearing_list2\n\u001b[1;32m     20\u001b[0m r \u001b[38;5;241m=\u001b[39m dfs_list[\u001b[38;5;241m27\u001b[39m:\u001b[38;5;241m64\u001b[39m] \u001b[38;5;66;03m# 37 of the dfs indeces, these inclue the last of the list, so they're closer to the storm\u001b[39;00m\n\u001b[0;32m---> 22\u001b[0m \u001b[43max\u001b[49m\u001b[38;5;241;43m.\u001b[39;49m\u001b[43mscatter\u001b[49m\u001b[43m(\u001b[49m\u001b[43mtheta\u001b[49m\u001b[43m,\u001b[49m\u001b[43m \u001b[49m\u001b[43mr\u001b[49m\u001b[43m,\u001b[49m\u001b[43m \u001b[49m\u001b[43ms\u001b[49m\u001b[43m \u001b[49m\u001b[38;5;241;43m=\u001b[39;49m\u001b[43m \u001b[49m\u001b[38;5;241;43m10\u001b[39;49m\u001b[43m)\u001b[49m \u001b[38;5;66;03m# s changes point size\u001b[39;00m\n\u001b[1;32m     24\u001b[0m plt\u001b[38;5;241m.\u001b[39msavefig(\u001b[38;5;124m'\u001b[39m\u001b[38;5;124m/Users/juliabman/Desktop/Seminar_Pictures/messed_up_plot1.png\u001b[39m\u001b[38;5;124m'\u001b[39m)\n\u001b[1;32m     25\u001b[0m plt\u001b[38;5;241m.\u001b[39mshow() \u001b[38;5;66;03m# plt.show MUST FOLLOW SAVEFIG OR ELSE IMAGE WILL BE BLANK!!!\u001b[39;00m\n",
      "File \u001b[0;32m~/miniforge3/envs/Research/lib/python3.9/site-packages/matplotlib/__init__.py:1465\u001b[0m, in \u001b[0;36m_preprocess_data.<locals>.inner\u001b[0;34m(ax, data, *args, **kwargs)\u001b[0m\n\u001b[1;32m   1462\u001b[0m \u001b[38;5;129m@functools\u001b[39m\u001b[38;5;241m.\u001b[39mwraps(func)\n\u001b[1;32m   1463\u001b[0m \u001b[38;5;28;01mdef\u001b[39;00m \u001b[38;5;21minner\u001b[39m(ax, \u001b[38;5;241m*\u001b[39margs, data\u001b[38;5;241m=\u001b[39m\u001b[38;5;28;01mNone\u001b[39;00m, \u001b[38;5;241m*\u001b[39m\u001b[38;5;241m*\u001b[39mkwargs):\n\u001b[1;32m   1464\u001b[0m     \u001b[38;5;28;01mif\u001b[39;00m data \u001b[38;5;129;01mis\u001b[39;00m \u001b[38;5;28;01mNone\u001b[39;00m:\n\u001b[0;32m-> 1465\u001b[0m         \u001b[38;5;28;01mreturn\u001b[39;00m \u001b[43mfunc\u001b[49m\u001b[43m(\u001b[49m\u001b[43max\u001b[49m\u001b[43m,\u001b[49m\u001b[43m \u001b[49m\u001b[38;5;241;43m*\u001b[39;49m\u001b[38;5;28;43mmap\u001b[39;49m\u001b[43m(\u001b[49m\u001b[43msanitize_sequence\u001b[49m\u001b[43m,\u001b[49m\u001b[43m \u001b[49m\u001b[43margs\u001b[49m\u001b[43m)\u001b[49m\u001b[43m,\u001b[49m\u001b[43m \u001b[49m\u001b[38;5;241;43m*\u001b[39;49m\u001b[38;5;241;43m*\u001b[39;49m\u001b[43mkwargs\u001b[49m\u001b[43m)\u001b[49m\n\u001b[1;32m   1467\u001b[0m     bound \u001b[38;5;241m=\u001b[39m new_sig\u001b[38;5;241m.\u001b[39mbind(ax, \u001b[38;5;241m*\u001b[39margs, \u001b[38;5;241m*\u001b[39m\u001b[38;5;241m*\u001b[39mkwargs)\n\u001b[1;32m   1468\u001b[0m     auto_label \u001b[38;5;241m=\u001b[39m (bound\u001b[38;5;241m.\u001b[39marguments\u001b[38;5;241m.\u001b[39mget(label_namer)\n\u001b[1;32m   1469\u001b[0m                   \u001b[38;5;129;01mor\u001b[39;00m bound\u001b[38;5;241m.\u001b[39mkwargs\u001b[38;5;241m.\u001b[39mget(label_namer))\n",
      "File \u001b[0;32m~/miniforge3/envs/Research/lib/python3.9/site-packages/matplotlib/axes/_axes.py:4652\u001b[0m, in \u001b[0;36mAxes.scatter\u001b[0;34m(self, x, y, s, c, marker, cmap, norm, vmin, vmax, alpha, linewidths, edgecolors, plotnonfinite, **kwargs)\u001b[0m\n\u001b[1;32m   4650\u001b[0m y \u001b[38;5;241m=\u001b[39m np\u001b[38;5;241m.\u001b[39mma\u001b[38;5;241m.\u001b[39mravel(y)\n\u001b[1;32m   4651\u001b[0m \u001b[38;5;28;01mif\u001b[39;00m x\u001b[38;5;241m.\u001b[39msize \u001b[38;5;241m!=\u001b[39m y\u001b[38;5;241m.\u001b[39msize:\n\u001b[0;32m-> 4652\u001b[0m     \u001b[38;5;28;01mraise\u001b[39;00m \u001b[38;5;167;01mValueError\u001b[39;00m(\u001b[38;5;124m\"\u001b[39m\u001b[38;5;124mx and y must be the same size\u001b[39m\u001b[38;5;124m\"\u001b[39m)\n\u001b[1;32m   4654\u001b[0m \u001b[38;5;28;01mif\u001b[39;00m s \u001b[38;5;129;01mis\u001b[39;00m \u001b[38;5;28;01mNone\u001b[39;00m:\n\u001b[1;32m   4655\u001b[0m     s \u001b[38;5;241m=\u001b[39m (\u001b[38;5;241m20\u001b[39m \u001b[38;5;28;01mif\u001b[39;00m mpl\u001b[38;5;241m.\u001b[39mrcParams[\u001b[38;5;124m'\u001b[39m\u001b[38;5;124m_internal.classic_mode\u001b[39m\u001b[38;5;124m'\u001b[39m] \u001b[38;5;28;01melse\u001b[39;00m\n\u001b[1;32m   4656\u001b[0m          mpl\u001b[38;5;241m.\u001b[39mrcParams[\u001b[38;5;124m'\u001b[39m\u001b[38;5;124mlines.markersize\u001b[39m\u001b[38;5;124m'\u001b[39m] \u001b[38;5;241m*\u001b[39m\u001b[38;5;241m*\u001b[39m \u001b[38;5;241m2.0\u001b[39m)\n",
      "\u001b[0;31mValueError\u001b[0m: x and y must be the same size"
     ]
    },
    {
     "data": {
      "image/png": "[encoded data removed]",
      "text/plain": [
       "<Figure size 500x500 with 1 Axes>"
      ]
     },
     "metadata": {},
     "output_type": "display_data"
    }
   ],
   "source": [
    "# bring in the figure\n",
    "\n",
    "fig = plt.figure(figsize = (5,5))\n",
    "ax = fig.add_subplot(projection = 'polar')\n",
    "ax.set_rmax(2)\n",
    "#ax.set_rticks(distance_grid)\n",
    "ax.set_rlabel_position(-22.5)  # Move radial labels away from plotted line\n",
    "ax.grid(True, linestyle = ':') # makes grid lines dotted\n",
    "#ax.set_theta_zero_location('W', avg_storm_direction) # what is the N, S, E, W good for?\n",
    "#ax.set_theta_offset(avg_storm_direction)\n",
    "ax.set_title(\"Scan Locations Not Adjusted by Storm Motion using ka1gps\")\n",
    "ax.plot()\n",
    "ax.set_theta_offset(90)\n",
    "\n",
    "# now that we have the figure set up, we can plot on it\n",
    "# r --> great circle distance from lat and lon of storm to lat and lon of vehicle\n",
    "# theta --> corrected bearing\n",
    "# in polar plots the order of plotting is (theta, r)\n",
    "theta = bearing_list2\n",
    "r = dfs_list[27:64] # 37 of the dfs indeces, these inclue the last of the list, so they're closer to the storm\n",
    "\n",
    "ax.scatter(theta, r, s = 10) # s changes point size\n",
    "\n",
    "plt.savefig('/Users/juliabman/Desktop/Seminar_Pictures/messed_up_plot1.png')\n",
    "plt.show() # plt.show MUST FOLLOW SAVEFIG OR ELSE IMAGE WILL BE BLANK!!!"
   ]
  },
  {
   "cell_type": "markdown",
   "id": "63f27f67-2b64-4b93-be3e-fc2f40a5680e",
   "metadata": {
    "editable": true,
    "slideshow": {
     "slide_type": ""
    },
    "tags": []
   },
   "source": [
    "Flip the plot so 45 is on the right side"
   ]
  },
  {
   "cell_type": "code",
   "execution_count": null,
   "id": "7ea0af91-aecc-4850-8d09-20abf40ea6f4",
   "metadata": {
    "tags": []
   },
   "outputs": [],
   "source": [
    "# bring in the figure\n",
    "\n",
    "fig = plt.figure(figsize = (5,5))\n",
    "ax = fig.add_subplot(projection = 'polar')\n",
    "ax.set_rmax(2)\n",
    "#ax.set_rticks(distance_grid)\n",
    "ax.set_rlabel_position(-22.5)  # Move radial labels away from plotted line\n",
    "ax.grid(True, linestyle = ':') # makes grid lines dotted\n",
    "#ax.set_theta_zero_location('W', avg_storm_direction) # what is the N, S, E, W good for?\n",
    "#ax.set_theta_offset(avg_storm_direction)\n",
    "ax.set_title(\"Scan Locations Not Adjusted by Storm Motion Using ka1scan\")\n",
    "ax.plot()\n",
    "\n",
    "# now that we have the figure set up, we can plot on it\n",
    "# r --> great circle distance from lat and lon of storm to lat and lon of vehicle\n",
    "# theta --> corrected bearing\n",
    "# in polar plots the order of plotting is (theta, r)\n",
    "theta = bearing_list2\n",
    "r = dfs_list[27:64] # 37 of the dfs indeces, these inclue the last of the list, so they're closer to the storm\n",
    "\n",
    "theta2 = bearing_list2\n",
    "r2 = dfs_list_scan_ka1[27:64]\n",
    "\n",
    "ka1 = ax.scatter(theta, r, s = 10) # s changes point size\n",
    "ka2 = ax.scatter(theta2, r2, s = 10)\n",
    "\n",
    "ax.legend(['ka1', 'ka2'])\n",
    "\n",
    "plt.savefig('/Users/juliabman/Desktop/Seminar_Pictures/both_ka_positions.png')\n",
    "plt.show()"
   ]
  },
  {
   "cell_type": "code",
   "execution_count": 39,
   "id": "1b94210f-b12a-4e2d-846a-ef6e0a946eed",
   "metadata": {
    "tags": []
   },
   "outputs": [
    {
     "ename": "ValueError",
     "evalue": "x and y must be the same size",
     "output_type": "error",
     "traceback": [
      "\u001b[0;31m---------------------------------------------------------------------------\u001b[0m",
      "\u001b[0;31mValueError\u001b[0m                                Traceback (most recent call last)",
      "Cell \u001b[0;32mIn[39], line 21\u001b[0m\n\u001b[1;32m     18\u001b[0m theta \u001b[38;5;241m=\u001b[39m bearing_list2 \u001b[38;5;241m-\u001b[39m avg_storm_direction\n\u001b[1;32m     19\u001b[0m r \u001b[38;5;241m=\u001b[39m dfs_list[\u001b[38;5;241m27\u001b[39m:\u001b[38;5;241m64\u001b[39m] \u001b[38;5;241m-\u001b[39m avg_storm_velocity\n\u001b[0;32m---> 21\u001b[0m \u001b[43max\u001b[49m\u001b[38;5;241;43m.\u001b[39;49m\u001b[43mscatter\u001b[49m\u001b[43m(\u001b[49m\u001b[43mtheta\u001b[49m\u001b[43m,\u001b[49m\u001b[43m \u001b[49m\u001b[43mr\u001b[49m\u001b[43m,\u001b[49m\u001b[43m \u001b[49m\u001b[43ms\u001b[49m\u001b[43m \u001b[49m\u001b[38;5;241;43m=\u001b[39;49m\u001b[43m \u001b[49m\u001b[38;5;241;43m10\u001b[39;49m\u001b[43m)\u001b[49m \u001b[38;5;66;03m# s changes point size\u001b[39;00m\n\u001b[1;32m     23\u001b[0m plt\u001b[38;5;241m.\u001b[39mshow()\n",
      "File \u001b[0;32m~/miniforge3/envs/Research/lib/python3.9/site-packages/matplotlib/__init__.py:1465\u001b[0m, in \u001b[0;36m_preprocess_data.<locals>.inner\u001b[0;34m(ax, data, *args, **kwargs)\u001b[0m\n\u001b[1;32m   1462\u001b[0m \u001b[38;5;129m@functools\u001b[39m\u001b[38;5;241m.\u001b[39mwraps(func)\n\u001b[1;32m   1463\u001b[0m \u001b[38;5;28;01mdef\u001b[39;00m \u001b[38;5;21minner\u001b[39m(ax, \u001b[38;5;241m*\u001b[39margs, data\u001b[38;5;241m=\u001b[39m\u001b[38;5;28;01mNone\u001b[39;00m, \u001b[38;5;241m*\u001b[39m\u001b[38;5;241m*\u001b[39mkwargs):\n\u001b[1;32m   1464\u001b[0m     \u001b[38;5;28;01mif\u001b[39;00m data \u001b[38;5;129;01mis\u001b[39;00m \u001b[38;5;28;01mNone\u001b[39;00m:\n\u001b[0;32m-> 1465\u001b[0m         \u001b[38;5;28;01mreturn\u001b[39;00m \u001b[43mfunc\u001b[49m\u001b[43m(\u001b[49m\u001b[43max\u001b[49m\u001b[43m,\u001b[49m\u001b[43m \u001b[49m\u001b[38;5;241;43m*\u001b[39;49m\u001b[38;5;28;43mmap\u001b[39;49m\u001b[43m(\u001b[49m\u001b[43msanitize_sequence\u001b[49m\u001b[43m,\u001b[49m\u001b[43m \u001b[49m\u001b[43margs\u001b[49m\u001b[43m)\u001b[49m\u001b[43m,\u001b[49m\u001b[43m \u001b[49m\u001b[38;5;241;43m*\u001b[39;49m\u001b[38;5;241;43m*\u001b[39;49m\u001b[43mkwargs\u001b[49m\u001b[43m)\u001b[49m\n\u001b[1;32m   1467\u001b[0m     bound \u001b[38;5;241m=\u001b[39m new_sig\u001b[38;5;241m.\u001b[39mbind(ax, \u001b[38;5;241m*\u001b[39margs, \u001b[38;5;241m*\u001b[39m\u001b[38;5;241m*\u001b[39mkwargs)\n\u001b[1;32m   1468\u001b[0m     auto_label \u001b[38;5;241m=\u001b[39m (bound\u001b[38;5;241m.\u001b[39marguments\u001b[38;5;241m.\u001b[39mget(label_namer)\n\u001b[1;32m   1469\u001b[0m                   \u001b[38;5;129;01mor\u001b[39;00m bound\u001b[38;5;241m.\u001b[39mkwargs\u001b[38;5;241m.\u001b[39mget(label_namer))\n",
      "File \u001b[0;32m~/miniforge3/envs/Research/lib/python3.9/site-packages/matplotlib/axes/_axes.py:4652\u001b[0m, in \u001b[0;36mAxes.scatter\u001b[0;34m(self, x, y, s, c, marker, cmap, norm, vmin, vmax, alpha, linewidths, edgecolors, plotnonfinite, **kwargs)\u001b[0m\n\u001b[1;32m   4650\u001b[0m y \u001b[38;5;241m=\u001b[39m np\u001b[38;5;241m.\u001b[39mma\u001b[38;5;241m.\u001b[39mravel(y)\n\u001b[1;32m   4651\u001b[0m \u001b[38;5;28;01mif\u001b[39;00m x\u001b[38;5;241m.\u001b[39msize \u001b[38;5;241m!=\u001b[39m y\u001b[38;5;241m.\u001b[39msize:\n\u001b[0;32m-> 4652\u001b[0m     \u001b[38;5;28;01mraise\u001b[39;00m \u001b[38;5;167;01mValueError\u001b[39;00m(\u001b[38;5;124m\"\u001b[39m\u001b[38;5;124mx and y must be the same size\u001b[39m\u001b[38;5;124m\"\u001b[39m)\n\u001b[1;32m   4654\u001b[0m \u001b[38;5;28;01mif\u001b[39;00m s \u001b[38;5;129;01mis\u001b[39;00m \u001b[38;5;28;01mNone\u001b[39;00m:\n\u001b[1;32m   4655\u001b[0m     s \u001b[38;5;241m=\u001b[39m (\u001b[38;5;241m20\u001b[39m \u001b[38;5;28;01mif\u001b[39;00m mpl\u001b[38;5;241m.\u001b[39mrcParams[\u001b[38;5;124m'\u001b[39m\u001b[38;5;124m_internal.classic_mode\u001b[39m\u001b[38;5;124m'\u001b[39m] \u001b[38;5;28;01melse\u001b[39;00m\n\u001b[1;32m   4656\u001b[0m          mpl\u001b[38;5;241m.\u001b[39mrcParams[\u001b[38;5;124m'\u001b[39m\u001b[38;5;124mlines.markersize\u001b[39m\u001b[38;5;124m'\u001b[39m] \u001b[38;5;241m*\u001b[39m\u001b[38;5;241m*\u001b[39m \u001b[38;5;241m2.0\u001b[39m)\n",
      "\u001b[0;31mValueError\u001b[0m: x and y must be the same size"
     ]
    },
    {
     "data": {
      "image/png": "[encoded data removed]",
      "text/plain": [
       "<Figure size 500x500 with 1 Axes>"
      ]
     },
     "metadata": {},
     "output_type": "display_data"
    }
   ],
   "source": [
    "# bring in the figure\n",
    "\n",
    "fig = plt.figure(figsize = (5,5))\n",
    "ax = fig.add_subplot(projection = 'polar')\n",
    "ax.set_rmax(2)\n",
    "#ax.set_rticks(distance_grid)\n",
    "ax.set_rlabel_position(-22.5)  # Move radial labels away from plotted line\n",
    "ax.grid(True, linestyle = ':') # makes grid lines dotted\n",
    "#ax.set_theta_zero_location('W', avg_storm_direction) # what is the N, S, E, W good for?\n",
    "#ax.set_theta_offset(avg_storm_direction)\n",
    "ax.set_title(\"Scan Locations Adjusted by Storm Motion\")\n",
    "ax.plot()\n",
    "\n",
    "# now that we have the figure set up, we can plot on it\n",
    "# r --> great circle distance from lat and lon of storm to lat and lon of vehicle\n",
    "# theta --> corrected bearing\n",
    "# in polar plots the order of plotting is (theta, r)\n",
    "theta = bearing_list2 - avg_storm_direction\n",
    "r = dfs_list[27:64] - avg_storm_velocity\n",
    "\n",
    "ax.scatter(theta, r, s = 10) # s changes point size\n",
    "\n",
    "plt.show()"
   ]
  },
  {
   "cell_type": "markdown",
   "id": "7b813323-0fef-4219-89ad-7f830fd53cf1",
   "metadata": {},
   "source": [
    "I'm trying to move the points like how they move a hodograph so that it's storm-relative, see Cameron Nixon's Hodograph blog page where he makes the hodograph go from ground-relative to storm-relative."
   ]
  },
  {
   "cell_type": "markdown",
   "id": "273bc8ad-c51e-4d0b-a48b-326f510cfa28",
   "metadata": {},
   "source": [
    "Note that the indeces from 0 to 36 of the vad location array are not plotted. I cannot plot them as I have no bearing to associate them with..."
   ]
  },
  {
   "cell_type": "markdown",
   "id": "e9ec5f48-6bc6-49db-a8c6-9a42796183d0",
   "metadata": {},
   "source": [
    "I also do not know if the bearings I plotted with the distances are even the proper bearings."
   ]
  },
  {
   "cell_type": "code",
   "execution_count": 40,
   "id": "867ff28d-137c-4ec5-9fbf-6de968414d72",
   "metadata": {},
   "outputs": [
    {
     "ename": "NameError",
     "evalue": "name 'bearing_list_ka2' is not defined",
     "output_type": "error",
     "traceback": [
      "\u001b[0;31m---------------------------------------------------------------------------\u001b[0m",
      "\u001b[0;31mNameError\u001b[0m                                 Traceback (most recent call last)",
      "Cell \u001b[0;32mIn[40], line 21\u001b[0m\n\u001b[1;32m     18\u001b[0m theta \u001b[38;5;241m=\u001b[39m bearing_list2 \u001b[38;5;241m-\u001b[39m avg_storm_direction\n\u001b[1;32m     19\u001b[0m r \u001b[38;5;241m=\u001b[39m dfs_list[\u001b[38;5;241m27\u001b[39m:\u001b[38;5;241m64\u001b[39m] \u001b[38;5;241m-\u001b[39m avg_storm_velocity\n\u001b[0;32m---> 21\u001b[0m theta_2 \u001b[38;5;241m=\u001b[39m \u001b[43mbearing_list_ka2\u001b[49m \u001b[38;5;241m-\u001b[39m avg_storm_direction\n\u001b[1;32m     22\u001b[0m r_2 \u001b[38;5;241m=\u001b[39m dfs_list_ka2[:] \u001b[38;5;241m-\u001b[39m avg_storm_velocity\n\u001b[1;32m     24\u001b[0m ka1 \u001b[38;5;241m=\u001b[39m ax\u001b[38;5;241m.\u001b[39mscatter(theta, r, s \u001b[38;5;241m=\u001b[39m \u001b[38;5;241m10\u001b[39m) \u001b[38;5;66;03m# s changes point size\u001b[39;00m\n",
      "\u001b[0;31mNameError\u001b[0m: name 'bearing_list_ka2' is not defined"
     ]
    },
    {
     "data": {
      "image/png": "[encoded data removed]",
      "text/plain": [
       "<Figure size 500x500 with 1 Axes>"
      ]
     },
     "metadata": {},
     "output_type": "display_data"
    }
   ],
   "source": [
    "# bring in the figure\n",
    "\n",
    "fig = plt.figure(figsize = (5,5))\n",
    "ax = fig.add_subplot(projection = 'polar')\n",
    "ax.set_rmax(2)\n",
    "#ax.set_rticks(distance_grid)\n",
    "ax.set_rlabel_position(-22.5)  # Move radial labels away from plotted line\n",
    "ax.grid(True, linestyle = ':') # makes grid lines dotted\n",
    "#ax.set_theta_zero_location('W', avg_storm_direction) # what is the N, S, E, W good for?\n",
    "#ax.set_theta_offset(avg_storm_direction)\n",
    "ax.set_title(\"Scan Locations Adjusted by Storm Motion Using ka1gps\")\n",
    "ax.plot()\n",
    "\n",
    "# now that we have the figure set up, we can plot on it\n",
    "# r --> great circle distance from lat and lon of storm to lat and lon of vehicle\n",
    "# theta --> corrected bearing\n",
    "# in polar plots the order of plotting is (theta, r)\n",
    "theta = bearing_list2 - avg_storm_direction\n",
    "r = dfs_list[27:64] - avg_storm_velocity\n",
    "\n",
    "theta_2 = bearing_list_ka2 - avg_storm_direction\n",
    "r_2 = dfs_list_ka2[:] - avg_storm_velocity\n",
    "\n",
    "ka1 = ax.scatter(theta, r, s = 10) # s changes point size\n",
    "ka2 = ax.scatter(theta_2, r_2, s = 10)\n",
    "ax.legend(['ka1','ka2'])\n",
    "\n",
    "plt.show()"
   ]
  },
  {
   "cell_type": "code",
   "execution_count": 41,
   "id": "4e5624c5-0f4e-4936-a37d-88d4848c80f6",
   "metadata": {
    "tags": []
   },
   "outputs": [
    {
     "ename": "NameError",
     "evalue": "name 'theta_2' is not defined",
     "output_type": "error",
     "traceback": [
      "\u001b[0;31m---------------------------------------------------------------------------\u001b[0m",
      "\u001b[0;31mNameError\u001b[0m                                 Traceback (most recent call last)",
      "Cell \u001b[0;32mIn[41], line 1\u001b[0m\n\u001b[0;32m----> 1\u001b[0m np\u001b[38;5;241m.\u001b[39msize(\u001b[43mtheta_2\u001b[49m)\n",
      "\u001b[0;31mNameError\u001b[0m: name 'theta_2' is not defined"
     ]
    }
   ],
   "source": [
    "np.size(theta_2)"
   ]
  },
  {
   "cell_type": "code",
   "execution_count": 42,
   "id": "bdfe90c4-996a-4775-a6f0-af8a21f28928",
   "metadata": {
    "tags": []
   },
   "outputs": [
    {
     "ename": "NameError",
     "evalue": "name 'r_2' is not defined",
     "output_type": "error",
     "traceback": [
      "\u001b[0;31m---------------------------------------------------------------------------\u001b[0m",
      "\u001b[0;31mNameError\u001b[0m                                 Traceback (most recent call last)",
      "Cell \u001b[0;32mIn[42], line 1\u001b[0m\n\u001b[0;32m----> 1\u001b[0m np\u001b[38;5;241m.\u001b[39msize(\u001b[43mr_2\u001b[49m)\n",
      "\u001b[0;31mNameError\u001b[0m: name 'r_2' is not defined"
     ]
    }
   ],
   "source": [
    "np.size(r_2)"
   ]
  },
  {
   "cell_type": "code",
   "execution_count": 43,
   "id": "84ae65d5-c946-4348-8bcd-77a83576b6ef",
   "metadata": {
    "tags": []
   },
   "outputs": [
    {
     "data": {
      "text/plain": [
       "0"
      ]
     },
     "execution_count": 43,
     "metadata": {},
     "output_type": "execute_result"
    }
   ],
   "source": [
    "np.size(theta)"
   ]
  },
  {
   "cell_type": "code",
   "execution_count": null,
   "id": "4a607901-baa4-41d1-a0f3-7e214cbe5a87",
   "metadata": {
    "tags": []
   },
   "outputs": [],
   "source": [
    "np.size(r)"
   ]
  },
  {
   "cell_type": "markdown",
   "id": "dc76f866-fa8d-4d0d-8fa7-ac1c65c99e66",
   "metadata": {},
   "source": [
    "There are 64 indeces for both the bearing and the distance from the storm arrays for ka2! (Because I made it so; the original size of the vad file where the bearings were obtained from ka2 was 85.)"
   ]
  },
  {
   "cell_type": "code",
   "execution_count": null,
   "id": "4c1a02a0-5220-4a3b-9c6f-a21a5a2ea6d5",
   "metadata": {},
   "outputs": [],
   "source": []
  }
 ],
 "metadata": {
  "kernelspec": {
   "display_name": "Python 3 (ipykernel)",
   "language": "python",
   "name": "python3"
  },
  "language_info": {
   "codemirror_mode": {
    "name": "ipython",
    "version": 3
   },
   "file_extension": ".py",
   "mimetype": "text/x-python",
   "name": "python",
   "nbconvert_exporter": "python",
   "pygments_lexer": "ipython3",
   "version": "3.9.18"
  }
 },
 "nbformat": 4,
 "nbformat_minor": 5
}
