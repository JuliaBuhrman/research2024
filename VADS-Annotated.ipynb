{
 "cells": [
  {
   "cell_type": "code",
   "execution_count": 1,
   "metadata": {
    "editable": true,
    "slideshow": {
     "slide_type": ""
    },
    "tags": []
   },
   "outputs": [
    {
     "name": "stdout",
     "output_type": "stream",
     "text": [
      "\n",
      "## You are using the Python ARM Radar Toolkit (Py-ART), an open source\n",
      "## library for working with weather radar data. Py-ART is partly\n",
      "## supported by the U.S. Department of Energy as part of the Atmospheric\n",
      "## Radiation Measurement (ARM) Climate Research Facility, an Office of\n",
      "## Science user facility.\n",
      "##\n",
      "## If you use this software to prepare a publication, please cite:\n",
      "##\n",
      "##     JJ Helmus and SM Collis, JORS 2016, doi: 10.5334/jors.119\n",
      "\n"
     ]
    }
   ],
   "source": [
    "#imports all needed modules\n",
    "\n",
    "import pyart\n",
    "import numpy as np\n",
    "from datetime import timedelta\n",
    "import glob\n",
    "from radarcalc import *\n",
    "import matplotlib.pyplot as plt\n",
    "import pandas as pd\n",
    "import metpy.calc as mpcalc\n",
    "import metpy\n",
    "import metpy.plots\n",
    "from metpy.units import units\n",
    "import cartopy.crs as ccrs\n",
    "import cartopy\n",
    "import gc\n",
    "import pandas as pd"
   ]
  },
  {
   "cell_type": "code",
   "execution_count": 85,
   "metadata": {},
   "outputs": [],
   "source": [
    "vad_files = sorted(glob.glob('/Users/juliabman/Desktop/product_raw/ka2/05232022/*.RAW*'))"
   ]
  },
  {
   "cell_type": "code",
   "execution_count": 86,
   "metadata": {},
   "outputs": [
    {
     "data": {
      "text/plain": [
       "325"
      ]
     },
     "execution_count": 86,
     "metadata": {},
     "output_type": "execute_result"
    }
   ],
   "source": [
    "np.size(vad_files)"
   ]
  },
  {
   "cell_type": "markdown",
   "metadata": {},
   "source": [
    "Get Dealised Stationary Ka VAD files (not bearing corrected)"
   ]
  },
  {
   "cell_type": "code",
   "execution_count": 79,
   "metadata": {
    "scrolled": true,
    "tags": []
   },
   "outputs": [
    {
     "name": "stderr",
     "output_type": "stream",
     "text": [
      "/Users/juliabman/miniforge3/envs/Research/lib/python3.9/site-packages/pyart/io/sigmet.py:146: RuntimeWarning: invalid value encountered in sqrt\n",
      "  sigmet_data, sigmet_metadata = sigmetfile.read_data(full_xhdr=full_xhdr)\n",
      "/Users/juliabman/miniforge3/envs/Research/lib/python3.9/site-packages/pyart/io/sigmet.py:146: RuntimeWarning: invalid value encountered in sqrt\n",
      "  sigmet_data, sigmet_metadata = sigmetfile.read_data(full_xhdr=full_xhdr)\n",
      "/Users/juliabman/miniforge3/envs/Research/lib/python3.9/site-packages/pyart/io/sigmet.py:146: UserWarning: File truncated or corrupt, 4 of 9 sweeps read\n",
      "  sigmet_data, sigmet_metadata = sigmetfile.read_data(full_xhdr=full_xhdr)\n"
     ]
    },
    {
     "name": "stdout",
     "output_type": "stream",
     "text": [
      "1302\n",
      "0\n"
     ]
    },
    {
     "ename": "ValueError",
     "evalue": "zero-size array to reduction operation minimum which has no identity",
     "output_type": "error",
     "traceback": [
      "\u001b[0;31m---------------------------------------------------------------------------\u001b[0m",
      "\u001b[0;31mValueError\u001b[0m                                Traceback (most recent call last)",
      "Cell \u001b[0;32mIn[79], line 36\u001b[0m\n\u001b[1;32m     34\u001b[0m df[\u001b[38;5;124m'\u001b[39m\u001b[38;5;124mddmmyy\u001b[39m\u001b[38;5;124m'\u001b[39m]\u001b[38;5;241m+\u001b[39mdf[\u001b[38;5;124m'\u001b[39m\u001b[38;5;124mhhmmss[UTC]\u001b[39m\u001b[38;5;124m'\u001b[39m] \n\u001b[1;32m     35\u001b[0m df[\u001b[38;5;124m'\u001b[39m\u001b[38;5;124mdatetime\u001b[39m\u001b[38;5;124m'\u001b[39m] \u001b[38;5;241m=\u001b[39m [datetime\u001b[38;5;241m.\u001b[39mstrptime(d,\u001b[38;5;124m'\u001b[39m\u001b[38;5;132;01m%d\u001b[39;00m\u001b[38;5;124m%\u001b[39m\u001b[38;5;124mm\u001b[39m\u001b[38;5;124m%\u001b[39m\u001b[38;5;124my\u001b[39m\u001b[38;5;124m%\u001b[39m\u001b[38;5;124mH\u001b[39m\u001b[38;5;124m%\u001b[39m\u001b[38;5;124mM\u001b[39m\u001b[38;5;124m%\u001b[39m\u001b[38;5;124mS\u001b[39m\u001b[38;5;124m'\u001b[39m) \u001b[38;5;28;01mfor\u001b[39;00m d \u001b[38;5;129;01min\u001b[39;00m df[\u001b[38;5;124m'\u001b[39m\u001b[38;5;124mddmmyy\u001b[39m\u001b[38;5;124m'\u001b[39m]\u001b[38;5;241m+\u001b[39mdf[\u001b[38;5;124m'\u001b[39m\u001b[38;5;124mhhmmss[UTC]\u001b[39m\u001b[38;5;124m'\u001b[39m]] \u001b[38;5;66;03m#adds date column to time column\u001b[39;00m\n\u001b[0;32m---> 36\u001b[0m beginscanindex \u001b[38;5;241m=\u001b[39m df\u001b[38;5;241m.\u001b[39mloc[df[\u001b[38;5;124m'\u001b[39m\u001b[38;5;124mdatetime\u001b[39m\u001b[38;5;124m'\u001b[39m] \u001b[38;5;241m==\u001b[39m datetime\u001b[38;5;241m.\u001b[39mstrptime(radar\u001b[38;5;241m.\u001b[39mtime[\u001b[38;5;124m'\u001b[39m\u001b[38;5;124munits\u001b[39m\u001b[38;5;124m'\u001b[39m],\u001b[38;5;124m'\u001b[39m\u001b[38;5;124mseconds since \u001b[39m\u001b[38;5;124m%\u001b[39m\u001b[38;5;124mY-\u001b[39m\u001b[38;5;124m%\u001b[39m\u001b[38;5;124mm-\u001b[39m\u001b[38;5;132;01m%d\u001b[39;00m\u001b[38;5;124mT\u001b[39m\u001b[38;5;124m%\u001b[39m\u001b[38;5;124mH:\u001b[39m\u001b[38;5;124m%\u001b[39m\u001b[38;5;124mM:\u001b[39m\u001b[38;5;124m%\u001b[39m\u001b[38;5;124mSZ\u001b[39m\u001b[38;5;124m'\u001b[39m)]\u001b[38;5;241m.\u001b[39mindex\u001b[38;5;241m+\u001b[39m\u001b[43mnp\u001b[49m\u001b[38;5;241;43m.\u001b[39;49m\u001b[43mamin\u001b[49m\u001b[43m(\u001b[49m\u001b[43mnp\u001b[49m\u001b[38;5;241;43m.\u001b[39;49m\u001b[43munique\u001b[49m\u001b[43m(\u001b[49m\u001b[43mradar\u001b[49m\u001b[38;5;241;43m.\u001b[39;49m\u001b[43mtime\u001b[49m\u001b[43m[\u001b[49m\u001b[38;5;124;43m'\u001b[39;49m\u001b[38;5;124;43mdata\u001b[39;49m\u001b[38;5;124;43m'\u001b[39;49m\u001b[43m]\u001b[49m\u001b[43m)\u001b[49m\u001b[43m)\u001b[49m \u001b[38;5;66;03m#finds index where VAD starts\u001b[39;00m\n\u001b[1;32m     37\u001b[0m endscanindex \u001b[38;5;241m=\u001b[39m df\u001b[38;5;241m.\u001b[39mloc[df[\u001b[38;5;124m'\u001b[39m\u001b[38;5;124mdatetime\u001b[39m\u001b[38;5;124m'\u001b[39m] \u001b[38;5;241m==\u001b[39m datetime\u001b[38;5;241m.\u001b[39mstrptime(radar\u001b[38;5;241m.\u001b[39mtime[\u001b[38;5;124m'\u001b[39m\u001b[38;5;124munits\u001b[39m\u001b[38;5;124m'\u001b[39m],\u001b[38;5;124m'\u001b[39m\u001b[38;5;124mseconds since \u001b[39m\u001b[38;5;124m%\u001b[39m\u001b[38;5;124mY-\u001b[39m\u001b[38;5;124m%\u001b[39m\u001b[38;5;124mm-\u001b[39m\u001b[38;5;132;01m%d\u001b[39;00m\u001b[38;5;124mT\u001b[39m\u001b[38;5;124m%\u001b[39m\u001b[38;5;124mH:\u001b[39m\u001b[38;5;124m%\u001b[39m\u001b[38;5;124mM:\u001b[39m\u001b[38;5;124m%\u001b[39m\u001b[38;5;124mSZ\u001b[39m\u001b[38;5;124m'\u001b[39m)]\u001b[38;5;241m.\u001b[39mindex\u001b[38;5;241m+\u001b[39mnp\u001b[38;5;241m.\u001b[39mamax(np\u001b[38;5;241m.\u001b[39munique(radar\u001b[38;5;241m.\u001b[39mtime[\u001b[38;5;124m'\u001b[39m\u001b[38;5;124mdata\u001b[39m\u001b[38;5;124m'\u001b[39m])) \u001b[38;5;66;03m#finds index where VAD stops\u001b[39;00m\n\u001b[1;32m     38\u001b[0m dfscan \u001b[38;5;241m=\u001b[39m df\u001b[38;5;241m.\u001b[39miloc[beginscanindex[\u001b[38;5;241m0\u001b[39m]\u001b[38;5;241m.\u001b[39mastype(\u001b[38;5;28mint\u001b[39m):endscanindex[\u001b[38;5;241m0\u001b[39m]\u001b[38;5;241m.\u001b[39mastype(\u001b[38;5;28mint\u001b[39m)] \u001b[38;5;66;03m#uses prior beginning and end indeces to find all times for VAD\u001b[39;00m\n",
      "File \u001b[0;32m~/miniforge3/envs/Research/lib/python3.9/site-packages/numpy/core/fromnumeric.py:2970\u001b[0m, in \u001b[0;36mamin\u001b[0;34m(a, axis, out, keepdims, initial, where)\u001b[0m\n\u001b[1;32m   2957\u001b[0m \u001b[38;5;129m@array_function_dispatch\u001b[39m(_min_dispatcher)\n\u001b[1;32m   2958\u001b[0m \u001b[38;5;28;01mdef\u001b[39;00m \u001b[38;5;21mamin\u001b[39m(a, axis\u001b[38;5;241m=\u001b[39m\u001b[38;5;28;01mNone\u001b[39;00m, out\u001b[38;5;241m=\u001b[39m\u001b[38;5;28;01mNone\u001b[39;00m, keepdims\u001b[38;5;241m=\u001b[39mnp\u001b[38;5;241m.\u001b[39m_NoValue, initial\u001b[38;5;241m=\u001b[39mnp\u001b[38;5;241m.\u001b[39m_NoValue,\n\u001b[1;32m   2959\u001b[0m          where\u001b[38;5;241m=\u001b[39mnp\u001b[38;5;241m.\u001b[39m_NoValue):\n\u001b[1;32m   2960\u001b[0m \u001b[38;5;250m    \u001b[39m\u001b[38;5;124;03m\"\"\"\u001b[39;00m\n\u001b[1;32m   2961\u001b[0m \u001b[38;5;124;03m    Return the minimum of an array or minimum along an axis.\u001b[39;00m\n\u001b[1;32m   2962\u001b[0m \n\u001b[0;32m   (...)\u001b[0m\n\u001b[1;32m   2968\u001b[0m \u001b[38;5;124;03m    ndarray.min : equivalent method\u001b[39;00m\n\u001b[1;32m   2969\u001b[0m \u001b[38;5;124;03m    \"\"\"\u001b[39;00m\n\u001b[0;32m-> 2970\u001b[0m     \u001b[38;5;28;01mreturn\u001b[39;00m \u001b[43m_wrapreduction\u001b[49m\u001b[43m(\u001b[49m\u001b[43ma\u001b[49m\u001b[43m,\u001b[49m\u001b[43m \u001b[49m\u001b[43mnp\u001b[49m\u001b[38;5;241;43m.\u001b[39;49m\u001b[43mminimum\u001b[49m\u001b[43m,\u001b[49m\u001b[43m \u001b[49m\u001b[38;5;124;43m'\u001b[39;49m\u001b[38;5;124;43mmin\u001b[39;49m\u001b[38;5;124;43m'\u001b[39;49m\u001b[43m,\u001b[49m\u001b[43m \u001b[49m\u001b[43maxis\u001b[49m\u001b[43m,\u001b[49m\u001b[43m \u001b[49m\u001b[38;5;28;43;01mNone\u001b[39;49;00m\u001b[43m,\u001b[49m\u001b[43m \u001b[49m\u001b[43mout\u001b[49m\u001b[43m,\u001b[49m\n\u001b[1;32m   2971\u001b[0m \u001b[43m                          \u001b[49m\u001b[43mkeepdims\u001b[49m\u001b[38;5;241;43m=\u001b[39;49m\u001b[43mkeepdims\u001b[49m\u001b[43m,\u001b[49m\u001b[43m \u001b[49m\u001b[43minitial\u001b[49m\u001b[38;5;241;43m=\u001b[39;49m\u001b[43minitial\u001b[49m\u001b[43m,\u001b[49m\u001b[43m \u001b[49m\u001b[43mwhere\u001b[49m\u001b[38;5;241;43m=\u001b[39;49m\u001b[43mwhere\u001b[49m\u001b[43m)\u001b[49m\n",
      "File \u001b[0;32m~/miniforge3/envs/Research/lib/python3.9/site-packages/numpy/core/fromnumeric.py:88\u001b[0m, in \u001b[0;36m_wrapreduction\u001b[0;34m(obj, ufunc, method, axis, dtype, out, **kwargs)\u001b[0m\n\u001b[1;32m     85\u001b[0m         \u001b[38;5;28;01melse\u001b[39;00m:\n\u001b[1;32m     86\u001b[0m             \u001b[38;5;28;01mreturn\u001b[39;00m reduction(axis\u001b[38;5;241m=\u001b[39maxis, out\u001b[38;5;241m=\u001b[39mout, \u001b[38;5;241m*\u001b[39m\u001b[38;5;241m*\u001b[39mpasskwargs)\n\u001b[0;32m---> 88\u001b[0m \u001b[38;5;28;01mreturn\u001b[39;00m \u001b[43mufunc\u001b[49m\u001b[38;5;241;43m.\u001b[39;49m\u001b[43mreduce\u001b[49m\u001b[43m(\u001b[49m\u001b[43mobj\u001b[49m\u001b[43m,\u001b[49m\u001b[43m \u001b[49m\u001b[43maxis\u001b[49m\u001b[43m,\u001b[49m\u001b[43m \u001b[49m\u001b[43mdtype\u001b[49m\u001b[43m,\u001b[49m\u001b[43m \u001b[49m\u001b[43mout\u001b[49m\u001b[43m,\u001b[49m\u001b[43m \u001b[49m\u001b[38;5;241;43m*\u001b[39;49m\u001b[38;5;241;43m*\u001b[39;49m\u001b[43mpasskwargs\u001b[49m\u001b[43m)\u001b[49m\n",
      "\u001b[0;31mValueError\u001b[0m: zero-size array to reduction operation minimum which has no identity"
     ]
    }
   ],
   "source": [
    "#SMALL_SIZE = 30\n",
    "#MEDIUM_SIZE = 40\n",
    "#BIGGER_SIZE = 60\n",
    "\n",
    "#plt.rc('font', size=SMALL_SIZE)          # controls default text sizes\n",
    "#plt.rc('axes', titlesize=MEDIUM_SIZE)     # fontsize of the axes title\n",
    "#plt.rc('axes', labelsize=MEDIUM_SIZE)    # fontsize of the x and y labels\n",
    "#plt.rc('xtick', labelsize=SMALL_SIZE)    # fontsize of the tick labels\n",
    "#plt.rc('ytick', labelsize=SMALL_SIZE)    # fontsize of the tick labels\n",
    "#plt.rc('legend', fontsize=SMALL_SIZE)    # legend fontsize\n",
    "#plt.rc('figure', titlesize=BIGGER_SIZE)  # fontsize of the figure title\n",
    "\n",
    "\n",
    "df = pd.read_csv('/Users/juliabman/Desktop/research2024/GPS_Ka2_20220523.txt', dtype=str)\n",
    "\n",
    "path = '/Users/juliabman/Desktop/dealiased_data/test2/'\n",
    "\n",
    "#Loops over each rdar file to get dealias ka data\n",
    "for thefile in vad_files[101:]:\n",
    "    \n",
    "    if (thefile[-14:-8] in df['hhmmss[UTC]'].values) != True:   #makes sure the times are the same from both files\n",
    "        continue\n",
    "    else:\n",
    "        radar = pyart.io.read(thefile)\n",
    "        print(len(radar.time['data']))\n",
    "    \n",
    "        df['ddmmyy']+df['hhmmss[UTC]'] \n",
    "        df['datetime'] = [datetime.strptime(d,'%d%m%y%H%M%S') for d in df['ddmmyy']+df['hhmmss[UTC]']] #adds date column to time column\n",
    "        beginscanindex = df.loc[df['datetime'] == datetime.strptime(radar.time['units'],'seconds since %Y-%m-%dT%H:%M:%SZ')].index+np.amin(np.unique(radar.time['data'])) #finds index where VAD starts\n",
    "        endscanindex = df.loc[df['datetime'] == datetime.strptime(radar.time['units'],'seconds since %Y-%m-%dT%H:%M:%SZ')].index+np.amax(np.unique(radar.time['data'])) #finds index where VAD stops\n",
    "        dfscan = df.iloc[beginscanindex[0].astype(int):endscanindex[0].astype(int)] #uses prior beginning and end indeces to find all times for VAD\n",
    "        dfscan = dfscan.astype({'Bearing[degrees]': 'float'}) #looking at Bearing column and changing all entries to floats so they can be decimals\n",
    "        #     if np.amax(dfscan['Bearing[degrees]'])-np.amin(dfscan['Bearing[degrees]']) > 180:\n",
    "        #         dfscan['Bearing[degrees]'][dfscan['Bearing[degrees]']>180] -=360\n",
    "          \n",
    "        #Find where VAD where nearly stationary (<5 knotss)\n",
    "        if np.logical_and(np.logical_and(radar.scan_type == 'ppi', radar.fixed_angle['data'][0]>20),dfscan['Velocity[knots]'].astype(float).mean()<100.0):#,dfscan['Bearing[degrees]'].astype(float).var()<100.0)):\n",
    "            print(thefile[-23:-8])   #above line checks to make sure the scan type is a ppi, that the angle is greater than 20, and that velocity is less than 5 m/s-- these are the most desirable conditions for the data\n",
    "            \n",
    "            radar = dealias_Ka(radar)\n",
    "            \n",
    "            pyart.io.write_cfradial(path + thefile[-23:-8]+\".nc\", radar) #creates netcdf file with dealiased data so we dont have to dealias it every time, which is the goal of this code\n",
    "#             #radar.fields['velocity']['data']\n",
    "\n",
    "#             print('velocity [kts]',dfscan['Velocity[knots]'].astype(float).mean(),'+-',dfscan['Velocity[knots]'].astype(float).var())\n",
    "#             speed = dfscan['Velocity[knots]'].astype(float).mean()\n",
    "#             print('bearing',dfscan['Bearing[degrees]'].astype(float).mean(),'+-',dfscan['Bearing[degrees]'].astype(float).var())\n",
    "#             bearing = dfscan['Bearing[degrees]'].astype(float).mean()\n",
    "#             print('latitude',dfscan['Latitude'].astype(float).mean(),'+-',dfscan['Latitude'].astype(float).var())\n",
    "#             lat = dfscan['Latitude'].astype(float).mean()\n",
    "#             print('longitude',dfscan['Longitude'].astype(float).mean(),'+-',dfscan['Longitude'].astype(float).var())\n",
    "#             lon = dfscan['Longitude'].astype(float).mean()\n",
    "\n",
    "#             VAD = pyart.retrieve.vad_browning(radar, 'corrected_velocity', z_want=np.arange(50,5000,10),gatefilter=None)\n",
    "#             vadu = VAD.u_wind*1.94384\n",
    "#             vadv = VAD.v_wind*1.94384\n",
    "#             vehicleu,vehiclev = mpcalc.wind_components(speed*units('kts'), bearing*units('degrees'))\n",
    "#             vadu = (vadu)\n",
    "#             vadv = (vadv)\n",
    "\n",
    "#             fig = plt.figure(figsize=(50, 40),facecolor='white')\n",
    "#             display = pyart.graph.RadarDisplay(radar)\n",
    "#             ax3 = fig.add_subplot(2,2,3)\n",
    "\n",
    "#             hodo = metpy.plots.Hodograph(ax3,component_range=100.)\n",
    "#             hodo.add_grid(increment=5)\n",
    "\n",
    "#             hodo.plot(vadu,vadv)\n",
    "#             ax3.set_xlabel('U-component Wind [knots]')\n",
    "#             ax3.set_ylabel('V-component Wind [knots]')\n",
    "#             ax3.set_title('Uncorrected VAD')\n",
    "\n",
    "\n",
    "\n",
    "#             ax1 = fig.add_subplot(2,2,1)\n",
    "#             display.plot_ppi('corrected_velocity', 0, cmap='pyart_balance', ax=ax1, vmin=-40., vmax=40.,\n",
    "#                                  colorbar_label=r'Radial Velocity [m s$^{-1}$]', title='Uncorrected Radial Velocity')\n",
    "#             print(radar.azimuth['data'])\n",
    "#             (radar.azimuth['data'])+=(bearing*(-1)+90)%360\n",
    "#         #         radar.azimuth['data'] = np.where((radar.azimuth['data']>90)&(radar.azimuth['data']<360),\n",
    "#         #                  (360-radar.azimuth['data']+90),(radar.azimuth['data']*(-1)+90))\n",
    "#             #(radar.azimuth['data'])+=(bearing*(-1)+90)\n",
    "\n",
    "#         #         ax3 = fig.add_subplot(2,2,1)\n",
    "#         #         display.plot_ppi('corrected_velocity', 0, cmap='pyart_balance', ax=ax1, vmin=-40., vmax=40.,\n",
    "#         #                              colorbar_label=r'Radial Velocity [m s$^{-1}$]', title='Corrected Radial Velocity')\n",
    "\n",
    "#             VAD = pyart.retrieve.vad_browning(radar, 'corrected_velocity', z_want=np.arange(50,5001,10),gatefilter=None)\n",
    "#             vadu = VAD.u_wind*1.94384\n",
    "#             vadv = VAD.v_wind*1.94384\n",
    "#             vehicleu,vehiclev = mpcalc.wind_components(speed*units('kts'), (bearing*(-1)+90)*units('degrees'))\n",
    "#             vadu = (vadu)#-vehicleu)\n",
    "#             vadv = (vadv)#-vehiclev)#/0.514444\n",
    "\n",
    "#             ax4 = fig.add_subplot(2,2,4)\n",
    "\n",
    "#             hodo = metpy.plots.Hodograph(ax4,component_range=100.)\n",
    "#             hodo.add_grid(increment=5)\n",
    "\n",
    "#             hodo.plot(vadu,vadv)\n",
    "#             ax4.set_xlabel('U-component Wind [knots]')\n",
    "#             ax4.set_ylabel('V-component Wind [knots]')\n",
    "#             ax4.set_title('Bearing corrected VAD')\n",
    "\n",
    "#             for i,z in enumerate([0,95,195,295,395,495]):\n",
    "#                 if np.isnan(vadu[z]):\n",
    "#                     pass\n",
    "#                 else:\n",
    "#                     circle = plt.Circle((vadu[z], vadv[z]), radius=1.5,color='k',zorder=30)\n",
    "#                     ax4.add_patch(circle)\n",
    "#                     label = ax4.annotate(i, xy=(vadu[z], vadv[z]), fontsize=12, ha=\"center\",va='center',color='white',zorder=30,weight=\"bold\")\n",
    "\n",
    "\n",
    "\n",
    "#             r=35\n",
    "#             radar_namelist, radar_list = get_radar_from_aws(\n",
    "#                 'KUDX', datetime.strptime(thefile.split('\\\\')[-1].split('.')[0][3:],'%y%m%d%H%M%S'), \n",
    "#                 datetime.strptime(thefile.split('\\\\')[-1].split('.')[0][3:],'%y%m%d%H%M%S')+timedelta(minutes=5))\n",
    "#             scantime88d = datetime.strptime(str(radar_namelist)[46:61], '%Y%m%d_%H%M%S')\n",
    "#             swp_id = 0\n",
    "#             radar = radar_list[0].extract_sweeps([0])\n",
    "#             time_text = ' ' + str(radar.time['units'][-9:1])\n",
    "#             title ='KUDX PPI ' +scantime88d.strftime(\"%m/%d/%y %H:%M\")+ ' UTC'\n",
    "#             display = pyart.graph.RadarMapDisplay(radar)\n",
    "#             ax2 = fig.add_subplot(2,2,2,projection=display.grid_projection)\n",
    "#             display.plot_ppi_map('reflectivity', swp_id, cmap='pyart_HomeyerRainbow', ax=ax2, vmin=0., vmax=75., \n",
    "#                                  colorbar_label='Radar Reflectivity [dBZ]', title='Reflectivity',\n",
    "#                                  min_lon=getLocation(lat, lon, 270, r)[1],\n",
    "#                                  max_lon=getLocation(lat, lon, 90, r)[1],\n",
    "#                                  min_lat=getLocation(lat, lon, 180, r)[0],\n",
    "#                                  max_lat=getLocation(lat, lon, 0, r)[0],\n",
    "#                                  embellish=False)\n",
    "#             ax2.plot(lon,lat,'k*',ms=50,transform=ccrs.PlateCarree())\n",
    "#             ax2.plot(-104.4056,45.0223,'b*',ms=50,transform=ccrs.PlateCarree())\n",
    "#             #ax2.plot(-103.7701,44.59018,'b*',ms=50,transform=ccrs.PlateCarree())\n",
    "#             ax2.set_title(title)\n",
    "\n",
    "#             plt.suptitle(thefile.split('\\\\')[-1].split('.')[0][3:])#+' '+str(np.around(dfscan['Bearing[degrees]'].astype(float).var(),decimals=2))+' '+str(np.around(dfscan['Velocity[knots]'].astype(float).var(),decimals=2)))\n",
    "#             fname = thefile.split('\\\\')[-1].split('.')[0][3:]\n",
    "# #         fig.savefig(f'/Users/joshu/Desktop/{fname}nondealise.png',dpi=300)\n",
    "#         plt.close('all')\n",
    "#         fig.clf()\n",
    "#         gc.collect()"
   ]
  },
  {
   "cell_type": "code",
   "execution_count": null,
   "metadata": {
    "scrolled": true
   },
   "outputs": [
    {
     "name": "stdout",
     "output_type": "stream",
     "text": [
      "/Users/juliabman/Desktop/product_raw/ka2/05232022/Ka2220523205016.RAWZHL7\n",
      "/Users/juliabman/Desktop/product_raw/ka2/05232022/Ka2220523205025.RAWZHL8\n",
      "/Users/juliabman/Desktop/product_raw/ka2/05232022/Ka2220523205101.RAWZHL9\n",
      "/Users/juliabman/Desktop/product_raw/ka2/05232022/Ka2220523205109.RAWZHLA\n",
      "/Users/juliabman/Desktop/product_raw/ka2/05232022/Ka2220523205233.RAWZHLB\n",
      "/Users/juliabman/Desktop/product_raw/ka2/05232022/Ka2220523205242.RAWZHLC\n",
      "/Users/juliabman/Desktop/product_raw/ka2/05232022/Ka2220523205436.RAWZHLD\n",
      "/Users/juliabman/Desktop/product_raw/ka2/05232022/Ka2220523205444.RAWZHLE\n",
      "/Users/juliabman/Desktop/product_raw/ka2/05232022/Ka2220523220737.RAWZHLF\n",
      "2020\n",
      "Ka2220523220737\n"
     ]
    },
    {
     "name": "stderr",
     "output_type": "stream",
     "text": [
      "/Users/juliabman/miniforge3/envs/Research/lib/python3.9/site-packages/pyart/io/sigmet.py:146: UserWarning: Unknown type: 17, returning raw data\n",
      "  sigmet_data, sigmet_metadata = sigmetfile.read_data(full_xhdr=full_xhdr)\n",
      "/Users/juliabman/miniforge3/envs/Research/lib/python3.9/site-packages/pyart/io/sigmet.py:146: RuntimeWarning: invalid value encountered in sqrt\n",
      "  sigmet_data, sigmet_metadata = sigmetfile.read_data(full_xhdr=full_xhdr)\n",
      "WARNING: nan_treatment='interpolate', however, NaN values detected post convolution. A contiguous region of NaN values, larger than the kernel size, are present in the input array. Increase the kernel size to avoid this. [astropy.convolution.convolve]\n"
     ]
    },
    {
     "name": "stdout",
     "output_type": "stream",
     "text": [
      "/Users/juliabman/Desktop/product_raw/ka2/05232022/Ka2220523220809.RAWZHLG\n",
      "2034\n",
      "Ka2220523220809\n"
     ]
    },
    {
     "name": "stderr",
     "output_type": "stream",
     "text": [
      "/Users/juliabman/miniforge3/envs/Research/lib/python3.9/site-packages/pyart/io/sigmet.py:146: UserWarning: Unknown type: 17, returning raw data\n",
      "  sigmet_data, sigmet_metadata = sigmetfile.read_data(full_xhdr=full_xhdr)\n",
      "/Users/juliabman/miniforge3/envs/Research/lib/python3.9/site-packages/pyart/io/sigmet.py:146: RuntimeWarning: invalid value encountered in sqrt\n",
      "  sigmet_data, sigmet_metadata = sigmetfile.read_data(full_xhdr=full_xhdr)\n",
      "WARNING: nan_treatment='interpolate', however, NaN values detected post convolution. A contiguous region of NaN values, larger than the kernel size, are present in the input array. Increase the kernel size to avoid this. [astropy.convolution.convolve]\n"
     ]
    },
    {
     "name": "stdout",
     "output_type": "stream",
     "text": [
      "/Users/juliabman/Desktop/product_raw/ka2/05232022/Ka2220523220839.RAWZHLH\n",
      "2015\n",
      "Ka2220523220839\n"
     ]
    },
    {
     "name": "stderr",
     "output_type": "stream",
     "text": [
      "/Users/juliabman/miniforge3/envs/Research/lib/python3.9/site-packages/pyart/io/sigmet.py:146: UserWarning: Unknown type: 17, returning raw data\n",
      "  sigmet_data, sigmet_metadata = sigmetfile.read_data(full_xhdr=full_xhdr)\n",
      "/Users/juliabman/miniforge3/envs/Research/lib/python3.9/site-packages/pyart/io/sigmet.py:146: RuntimeWarning: invalid value encountered in sqrt\n",
      "  sigmet_data, sigmet_metadata = sigmetfile.read_data(full_xhdr=full_xhdr)\n",
      "WARNING: nan_treatment='interpolate', however, NaN values detected post convolution. A contiguous region of NaN values, larger than the kernel size, are present in the input array. Increase the kernel size to avoid this. [astropy.convolution.convolve]\n"
     ]
    },
    {
     "name": "stdout",
     "output_type": "stream",
     "text": [
      "/Users/juliabman/Desktop/product_raw/ka2/05232022/Ka2220523220910.RAWZHLJ\n",
      "2027\n",
      "Ka2220523220910\n"
     ]
    },
    {
     "name": "stderr",
     "output_type": "stream",
     "text": [
      "/Users/juliabman/miniforge3/envs/Research/lib/python3.9/site-packages/pyart/io/sigmet.py:146: UserWarning: Unknown type: 17, returning raw data\n",
      "  sigmet_data, sigmet_metadata = sigmetfile.read_data(full_xhdr=full_xhdr)\n",
      "/Users/juliabman/miniforge3/envs/Research/lib/python3.9/site-packages/pyart/io/sigmet.py:146: RuntimeWarning: invalid value encountered in sqrt\n",
      "  sigmet_data, sigmet_metadata = sigmetfile.read_data(full_xhdr=full_xhdr)\n",
      "/Users/juliabman/miniforge3/envs/Research/lib/python3.9/site-packages/pyart/util/sigmath.py:63: RuntimeWarning: invalid value encountered in sqrt\n",
      "  std_dev = np.sqrt(-2 * np.log(norm)) * (half_width) / np.pi\n",
      "WARNING: nan_treatment='interpolate', however, NaN values detected post convolution. A contiguous region of NaN values, larger than the kernel size, are present in the input array. Increase the kernel size to avoid this. [astropy.convolution.convolve]\n"
     ]
    },
    {
     "name": "stdout",
     "output_type": "stream",
     "text": [
      "/Users/juliabman/Desktop/product_raw/ka2/05232022/Ka2220523220941.RAWZHLK\n",
      "2021\n",
      "Ka2220523220941\n"
     ]
    },
    {
     "name": "stderr",
     "output_type": "stream",
     "text": [
      "/Users/juliabman/miniforge3/envs/Research/lib/python3.9/site-packages/pyart/io/sigmet.py:146: UserWarning: Unknown type: 17, returning raw data\n",
      "  sigmet_data, sigmet_metadata = sigmetfile.read_data(full_xhdr=full_xhdr)\n",
      "/Users/juliabman/miniforge3/envs/Research/lib/python3.9/site-packages/pyart/io/sigmet.py:146: RuntimeWarning: invalid value encountered in sqrt\n",
      "  sigmet_data, sigmet_metadata = sigmetfile.read_data(full_xhdr=full_xhdr)\n",
      "WARNING: nan_treatment='interpolate', however, NaN values detected post convolution. A contiguous region of NaN values, larger than the kernel size, are present in the input array. Increase the kernel size to avoid this. [astropy.convolution.convolve]\n"
     ]
    },
    {
     "name": "stdout",
     "output_type": "stream",
     "text": [
      "/Users/juliabman/Desktop/product_raw/ka2/05232022/Ka2220523221011.RAWZHLL\n",
      "2021\n",
      "Ka2220523221011\n"
     ]
    },
    {
     "name": "stderr",
     "output_type": "stream",
     "text": [
      "/Users/juliabman/miniforge3/envs/Research/lib/python3.9/site-packages/pyart/io/sigmet.py:146: UserWarning: Unknown type: 17, returning raw data\n",
      "  sigmet_data, sigmet_metadata = sigmetfile.read_data(full_xhdr=full_xhdr)\n",
      "/Users/juliabman/miniforge3/envs/Research/lib/python3.9/site-packages/pyart/io/sigmet.py:146: RuntimeWarning: invalid value encountered in sqrt\n",
      "  sigmet_data, sigmet_metadata = sigmetfile.read_data(full_xhdr=full_xhdr)\n",
      "WARNING: nan_treatment='interpolate', however, NaN values detected post convolution. A contiguous region of NaN values, larger than the kernel size, are present in the input array. Increase the kernel size to avoid this. [astropy.convolution.convolve]\n"
     ]
    },
    {
     "name": "stdout",
     "output_type": "stream",
     "text": [
      "/Users/juliabman/Desktop/product_raw/ka2/05232022/Ka2220523221042.RAWZHLM\n",
      "1973\n",
      "Ka2220523221042\n"
     ]
    },
    {
     "name": "stderr",
     "output_type": "stream",
     "text": [
      "/Users/juliabman/miniforge3/envs/Research/lib/python3.9/site-packages/pyart/io/sigmet.py:146: UserWarning: Unknown type: 17, returning raw data\n",
      "  sigmet_data, sigmet_metadata = sigmetfile.read_data(full_xhdr=full_xhdr)\n",
      "/Users/juliabman/miniforge3/envs/Research/lib/python3.9/site-packages/pyart/io/sigmet.py:146: RuntimeWarning: invalid value encountered in sqrt\n",
      "  sigmet_data, sigmet_metadata = sigmetfile.read_data(full_xhdr=full_xhdr)\n",
      "WARNING: nan_treatment='interpolate', however, NaN values detected post convolution. A contiguous region of NaN values, larger than the kernel size, are present in the input array. Increase the kernel size to avoid this. [astropy.convolution.convolve]\n"
     ]
    },
    {
     "name": "stdout",
     "output_type": "stream",
     "text": [
      "/Users/juliabman/Desktop/product_raw/ka2/05232022/Ka2220523221112.RAWZHLN\n",
      "2005\n"
     ]
    },
    {
     "name": "stderr",
     "output_type": "stream",
     "text": [
      "/Users/juliabman/miniforge3/envs/Research/lib/python3.9/site-packages/pyart/io/sigmet.py:146: UserWarning: Unknown type: 17, returning raw data\n",
      "  sigmet_data, sigmet_metadata = sigmetfile.read_data(full_xhdr=full_xhdr)\n",
      "/Users/juliabman/miniforge3/envs/Research/lib/python3.9/site-packages/pyart/io/sigmet.py:146: RuntimeWarning: invalid value encountered in sqrt\n",
      "  sigmet_data, sigmet_metadata = sigmetfile.read_data(full_xhdr=full_xhdr)\n"
     ]
    },
    {
     "name": "stdout",
     "output_type": "stream",
     "text": [
      "Ka2220523221112\n"
     ]
    },
    {
     "name": "stderr",
     "output_type": "stream",
     "text": [
      "WARNING: nan_treatment='interpolate', however, NaN values detected post convolution. A contiguous region of NaN values, larger than the kernel size, are present in the input array. Increase the kernel size to avoid this. [astropy.convolution.convolve]\n"
     ]
    },
    {
     "name": "stdout",
     "output_type": "stream",
     "text": [
      "/Users/juliabman/Desktop/product_raw/ka2/05232022/Ka2220523221144.RAWZHLP\n",
      "2026\n",
      "Ka2220523221144\n"
     ]
    },
    {
     "name": "stderr",
     "output_type": "stream",
     "text": [
      "/Users/juliabman/miniforge3/envs/Research/lib/python3.9/site-packages/pyart/io/sigmet.py:146: UserWarning: Unknown type: 17, returning raw data\n",
      "  sigmet_data, sigmet_metadata = sigmetfile.read_data(full_xhdr=full_xhdr)\n",
      "/Users/juliabman/miniforge3/envs/Research/lib/python3.9/site-packages/pyart/io/sigmet.py:146: RuntimeWarning: invalid value encountered in sqrt\n",
      "  sigmet_data, sigmet_metadata = sigmetfile.read_data(full_xhdr=full_xhdr)\n",
      "WARNING: nan_treatment='interpolate', however, NaN values detected post convolution. A contiguous region of NaN values, larger than the kernel size, are present in the input array. Increase the kernel size to avoid this. [astropy.convolution.convolve]\n"
     ]
    },
    {
     "name": "stdout",
     "output_type": "stream",
     "text": [
      "/Users/juliabman/Desktop/product_raw/ka2/05232022/Ka2220523221214.RAWZHLR\n",
      "1994\n",
      "Ka2220523221214\n"
     ]
    },
    {
     "name": "stderr",
     "output_type": "stream",
     "text": [
      "/Users/juliabman/miniforge3/envs/Research/lib/python3.9/site-packages/pyart/io/sigmet.py:146: UserWarning: Unknown type: 17, returning raw data\n",
      "  sigmet_data, sigmet_metadata = sigmetfile.read_data(full_xhdr=full_xhdr)\n",
      "/Users/juliabman/miniforge3/envs/Research/lib/python3.9/site-packages/pyart/io/sigmet.py:146: RuntimeWarning: invalid value encountered in sqrt\n",
      "  sigmet_data, sigmet_metadata = sigmetfile.read_data(full_xhdr=full_xhdr)\n",
      "WARNING: nan_treatment='interpolate', however, NaN values detected post convolution. A contiguous region of NaN values, larger than the kernel size, are present in the input array. Increase the kernel size to avoid this. [astropy.convolution.convolve]\n"
     ]
    },
    {
     "name": "stdout",
     "output_type": "stream",
     "text": [
      "/Users/juliabman/Desktop/product_raw/ka2/05232022/Ka2220523221244.RAWZHLS\n",
      "2016\n",
      "Ka2220523221244\n"
     ]
    },
    {
     "name": "stderr",
     "output_type": "stream",
     "text": [
      "/Users/juliabman/miniforge3/envs/Research/lib/python3.9/site-packages/pyart/io/sigmet.py:146: UserWarning: Unknown type: 17, returning raw data\n",
      "  sigmet_data, sigmet_metadata = sigmetfile.read_data(full_xhdr=full_xhdr)\n",
      "/Users/juliabman/miniforge3/envs/Research/lib/python3.9/site-packages/pyart/io/sigmet.py:146: RuntimeWarning: invalid value encountered in sqrt\n",
      "  sigmet_data, sigmet_metadata = sigmetfile.read_data(full_xhdr=full_xhdr)\n",
      "WARNING: nan_treatment='interpolate', however, NaN values detected post convolution. A contiguous region of NaN values, larger than the kernel size, are present in the input array. Increase the kernel size to avoid this. [astropy.convolution.convolve]\n"
     ]
    },
    {
     "name": "stdout",
     "output_type": "stream",
     "text": [
      "/Users/juliabman/Desktop/product_raw/ka2/05232022/Ka2220523221314.RAWZHLT\n",
      "2015\n",
      "Ka2220523221314\n"
     ]
    },
    {
     "name": "stderr",
     "output_type": "stream",
     "text": [
      "/Users/juliabman/miniforge3/envs/Research/lib/python3.9/site-packages/pyart/io/sigmet.py:146: UserWarning: Unknown type: 17, returning raw data\n",
      "  sigmet_data, sigmet_metadata = sigmetfile.read_data(full_xhdr=full_xhdr)\n",
      "/Users/juliabman/miniforge3/envs/Research/lib/python3.9/site-packages/pyart/io/sigmet.py:146: RuntimeWarning: invalid value encountered in sqrt\n",
      "  sigmet_data, sigmet_metadata = sigmetfile.read_data(full_xhdr=full_xhdr)\n",
      "WARNING: nan_treatment='interpolate', however, NaN values detected post convolution. A contiguous region of NaN values, larger than the kernel size, are present in the input array. Increase the kernel size to avoid this. [astropy.convolution.convolve]\n"
     ]
    },
    {
     "name": "stdout",
     "output_type": "stream",
     "text": [
      "/Users/juliabman/Desktop/product_raw/ka2/05232022/Ka2220523221345.RAWZHLU\n",
      "2012\n",
      "Ka2220523221345\n"
     ]
    },
    {
     "name": "stderr",
     "output_type": "stream",
     "text": [
      "/Users/juliabman/miniforge3/envs/Research/lib/python3.9/site-packages/pyart/io/sigmet.py:146: UserWarning: Unknown type: 17, returning raw data\n",
      "  sigmet_data, sigmet_metadata = sigmetfile.read_data(full_xhdr=full_xhdr)\n",
      "/Users/juliabman/miniforge3/envs/Research/lib/python3.9/site-packages/pyart/io/sigmet.py:146: RuntimeWarning: invalid value encountered in sqrt\n",
      "  sigmet_data, sigmet_metadata = sigmetfile.read_data(full_xhdr=full_xhdr)\n",
      "WARNING: nan_treatment='interpolate', however, NaN values detected post convolution. A contiguous region of NaN values, larger than the kernel size, are present in the input array. Increase the kernel size to avoid this. [astropy.convolution.convolve]\n"
     ]
    },
    {
     "name": "stdout",
     "output_type": "stream",
     "text": [
      "/Users/juliabman/Desktop/product_raw/ka2/05232022/Ka2220523221414.RAWZHLV\n",
      "2006\n",
      "Ka2220523221414\n"
     ]
    },
    {
     "name": "stderr",
     "output_type": "stream",
     "text": [
      "/Users/juliabman/miniforge3/envs/Research/lib/python3.9/site-packages/pyart/io/sigmet.py:146: UserWarning: Unknown type: 17, returning raw data\n",
      "  sigmet_data, sigmet_metadata = sigmetfile.read_data(full_xhdr=full_xhdr)\n",
      "/Users/juliabman/miniforge3/envs/Research/lib/python3.9/site-packages/pyart/io/sigmet.py:146: RuntimeWarning: invalid value encountered in sqrt\n",
      "  sigmet_data, sigmet_metadata = sigmetfile.read_data(full_xhdr=full_xhdr)\n",
      "WARNING: nan_treatment='interpolate', however, NaN values detected post convolution. A contiguous region of NaN values, larger than the kernel size, are present in the input array. Increase the kernel size to avoid this. [astropy.convolution.convolve]\n"
     ]
    },
    {
     "name": "stdout",
     "output_type": "stream",
     "text": [
      "/Users/juliabman/Desktop/product_raw/ka2/05232022/Ka2220523221445.RAWZHLW\n",
      "2013\n",
      "Ka2220523221445\n"
     ]
    },
    {
     "name": "stderr",
     "output_type": "stream",
     "text": [
      "/Users/juliabman/miniforge3/envs/Research/lib/python3.9/site-packages/pyart/io/sigmet.py:146: UserWarning: Unknown type: 17, returning raw data\n",
      "  sigmet_data, sigmet_metadata = sigmetfile.read_data(full_xhdr=full_xhdr)\n",
      "/Users/juliabman/miniforge3/envs/Research/lib/python3.9/site-packages/pyart/io/sigmet.py:146: RuntimeWarning: invalid value encountered in sqrt\n",
      "  sigmet_data, sigmet_metadata = sigmetfile.read_data(full_xhdr=full_xhdr)\n",
      "/Users/juliabman/miniforge3/envs/Research/lib/python3.9/site-packages/pyart/util/sigmath.py:63: RuntimeWarning: invalid value encountered in sqrt\n",
      "  std_dev = np.sqrt(-2 * np.log(norm)) * (half_width) / np.pi\n",
      "WARNING: nan_treatment='interpolate', however, NaN values detected post convolution. A contiguous region of NaN values, larger than the kernel size, are present in the input array. Increase the kernel size to avoid this. [astropy.convolution.convolve]\n"
     ]
    },
    {
     "name": "stdout",
     "output_type": "stream",
     "text": [
      "/Users/juliabman/Desktop/product_raw/ka2/05232022/Ka2220523221515.RAWZHLX\n",
      "2019\n",
      "Ka2220523221515\n"
     ]
    },
    {
     "name": "stderr",
     "output_type": "stream",
     "text": [
      "/Users/juliabman/miniforge3/envs/Research/lib/python3.9/site-packages/pyart/io/sigmet.py:146: UserWarning: Unknown type: 17, returning raw data\n",
      "  sigmet_data, sigmet_metadata = sigmetfile.read_data(full_xhdr=full_xhdr)\n",
      "/Users/juliabman/miniforge3/envs/Research/lib/python3.9/site-packages/pyart/io/sigmet.py:146: RuntimeWarning: invalid value encountered in sqrt\n",
      "  sigmet_data, sigmet_metadata = sigmetfile.read_data(full_xhdr=full_xhdr)\n",
      "WARNING: nan_treatment='interpolate', however, NaN values detected post convolution. A contiguous region of NaN values, larger than the kernel size, are present in the input array. Increase the kernel size to avoid this. [astropy.convolution.convolve]\n"
     ]
    },
    {
     "name": "stdout",
     "output_type": "stream",
     "text": [
      "/Users/juliabman/Desktop/product_raw/ka2/05232022/Ka2220523221545.RAWZHLY\n",
      "2031\n",
      "Ka2220523221545\n"
     ]
    },
    {
     "name": "stderr",
     "output_type": "stream",
     "text": [
      "/Users/juliabman/miniforge3/envs/Research/lib/python3.9/site-packages/pyart/io/sigmet.py:146: UserWarning: Unknown type: 17, returning raw data\n",
      "  sigmet_data, sigmet_metadata = sigmetfile.read_data(full_xhdr=full_xhdr)\n",
      "/Users/juliabman/miniforge3/envs/Research/lib/python3.9/site-packages/pyart/io/sigmet.py:146: RuntimeWarning: invalid value encountered in sqrt\n",
      "  sigmet_data, sigmet_metadata = sigmetfile.read_data(full_xhdr=full_xhdr)\n",
      "WARNING: nan_treatment='interpolate', however, NaN values detected post convolution. A contiguous region of NaN values, larger than the kernel size, are present in the input array. Increase the kernel size to avoid this. [astropy.convolution.convolve]\n"
     ]
    },
    {
     "name": "stdout",
     "output_type": "stream",
     "text": [
      "/Users/juliabman/Desktop/product_raw/ka2/05232022/Ka2220523221615.RAWZHLZ\n",
      "2009\n",
      "Ka2220523221615\n"
     ]
    },
    {
     "name": "stderr",
     "output_type": "stream",
     "text": [
      "/Users/juliabman/miniforge3/envs/Research/lib/python3.9/site-packages/pyart/io/sigmet.py:146: UserWarning: Unknown type: 17, returning raw data\n",
      "  sigmet_data, sigmet_metadata = sigmetfile.read_data(full_xhdr=full_xhdr)\n",
      "/Users/juliabman/miniforge3/envs/Research/lib/python3.9/site-packages/pyart/io/sigmet.py:146: RuntimeWarning: invalid value encountered in sqrt\n",
      "  sigmet_data, sigmet_metadata = sigmetfile.read_data(full_xhdr=full_xhdr)\n",
      "WARNING: nan_treatment='interpolate', however, NaN values detected post convolution. A contiguous region of NaN values, larger than the kernel size, are present in the input array. Increase the kernel size to avoid this. [astropy.convolution.convolve]\n"
     ]
    },
    {
     "name": "stdout",
     "output_type": "stream",
     "text": [
      "/Users/juliabman/Desktop/product_raw/ka2/05232022/Ka2220523221646.RAWZHM0\n",
      "2018\n",
      "Ka2220523221646\n"
     ]
    },
    {
     "name": "stderr",
     "output_type": "stream",
     "text": [
      "/Users/juliabman/miniforge3/envs/Research/lib/python3.9/site-packages/pyart/io/sigmet.py:146: UserWarning: Unknown type: 17, returning raw data\n",
      "  sigmet_data, sigmet_metadata = sigmetfile.read_data(full_xhdr=full_xhdr)\n",
      "/Users/juliabman/miniforge3/envs/Research/lib/python3.9/site-packages/pyart/io/sigmet.py:146: RuntimeWarning: invalid value encountered in sqrt\n",
      "  sigmet_data, sigmet_metadata = sigmetfile.read_data(full_xhdr=full_xhdr)\n",
      "WARNING: nan_treatment='interpolate', however, NaN values detected post convolution. A contiguous region of NaN values, larger than the kernel size, are present in the input array. Increase the kernel size to avoid this. [astropy.convolution.convolve]\n"
     ]
    },
    {
     "name": "stdout",
     "output_type": "stream",
     "text": [
      "/Users/juliabman/Desktop/product_raw/ka2/05232022/Ka2220523221715.RAWZHM1\n",
      "2014\n",
      "Ka2220523221715\n"
     ]
    },
    {
     "name": "stderr",
     "output_type": "stream",
     "text": [
      "/Users/juliabman/miniforge3/envs/Research/lib/python3.9/site-packages/pyart/io/sigmet.py:146: UserWarning: Unknown type: 17, returning raw data\n",
      "  sigmet_data, sigmet_metadata = sigmetfile.read_data(full_xhdr=full_xhdr)\n",
      "/Users/juliabman/miniforge3/envs/Research/lib/python3.9/site-packages/pyart/io/sigmet.py:146: RuntimeWarning: invalid value encountered in sqrt\n",
      "  sigmet_data, sigmet_metadata = sigmetfile.read_data(full_xhdr=full_xhdr)\n",
      "WARNING: nan_treatment='interpolate', however, NaN values detected post convolution. A contiguous region of NaN values, larger than the kernel size, are present in the input array. Increase the kernel size to avoid this. [astropy.convolution.convolve]\n"
     ]
    },
    {
     "name": "stdout",
     "output_type": "stream",
     "text": [
      "/Users/juliabman/Desktop/product_raw/ka2/05232022/Ka2220523221746.RAWZHM2\n",
      "2036\n",
      "Ka2220523221746\n"
     ]
    },
    {
     "name": "stderr",
     "output_type": "stream",
     "text": [
      "/Users/juliabman/miniforge3/envs/Research/lib/python3.9/site-packages/pyart/io/sigmet.py:146: UserWarning: Unknown type: 17, returning raw data\n",
      "  sigmet_data, sigmet_metadata = sigmetfile.read_data(full_xhdr=full_xhdr)\n",
      "/Users/juliabman/miniforge3/envs/Research/lib/python3.9/site-packages/pyart/io/sigmet.py:146: RuntimeWarning: invalid value encountered in sqrt\n",
      "  sigmet_data, sigmet_metadata = sigmetfile.read_data(full_xhdr=full_xhdr)\n"
     ]
    }
   ],
   "source": [
    "#SMALL_SIZE = 30\n",
    "#MEDIUM_SIZE = 40\n",
    "#BIGGER_SIZE = 60\n",
    "\n",
    "#plt.rc('font', size=SMALL_SIZE)          # controls default text sizes\n",
    "#plt.rc('axes', titlesize=MEDIUM_SIZE)     # fontsize of the axes title\n",
    "#plt.rc('axes', labelsize=MEDIUM_SIZE)    # fontsize of the x and y labels\n",
    "#plt.rc('xtick', labelsize=SMALL_SIZE)    # fontsize of the tick labels\n",
    "#plt.rc('ytick', labelsize=SMALL_SIZE)    # fontsize of the tick labels\n",
    "#plt.rc('legend', fontsize=SMALL_SIZE)    # legend fontsize\n",
    "#plt.rc('figure', titlesize=BIGGER_SIZE)  # fontsize of the figure title\n",
    "\n",
    "\n",
    "#CHANGE directories to where you have the product raw and GPS files\n",
    "# old directories for pc\n",
    "#vad_files = sorted(glob.glob('C:\\\\Users\\\\julia\\\\OneDrive\\\\Desktop\\\\VADS Data Morton\\\\product_raw_ka2\\\\*'))\n",
    "#df = pd.read_csv('C:\\\\Users\\\\julia\\\\OneDrive\\\\Desktop\\\\VADS Data Morton\\\\GPS_Ka2_20220523.txt', dtype=str)\n",
    "\n",
    "#vad_files = sorted(glob.glob('/Users/juliabman/Desktop/research2024/julia_product_raw_ka2/*'))\n",
    "\n",
    "df = pd.read_csv('/Users/juliabman/Desktop/research2024/GPS_Ka2_20220523.txt', dtype=str)\n",
    "\n",
    "path = '/Users/juliabman/Desktop/dealiased_data/test2/'\n",
    "\n",
    "#Loops over each rdar file to get dealias ka data\n",
    "for thefile in vad_files:\n",
    "    print(thefile)\n",
    "    \n",
    "    if (thefile[-14:-8] in df['hhmmss[UTC]'].values) != True:   #makes sure the times are the same from both files\n",
    "        continue\n",
    "\n",
    "    else:\n",
    "        radar = pyart.io.read(thefile)\n",
    "        if len(radar.time['data']) == 0:\n",
    "            print(thefile)\n",
    "            pass\n",
    "            \n",
    "        else:\n",
    "            radar = pyart.io.read(thefile)\n",
    "            print(len(radar.time['data']))\n",
    "        \n",
    "            df['ddmmyy']+df['hhmmss[UTC]'] \n",
    "            df['datetime'] = [datetime.strptime(d,'%d%m%y%H%M%S') for d in df['ddmmyy']+df['hhmmss[UTC]']] #adds date column to time column\n",
    "            beginscanindex = df.loc[df['datetime'] == datetime.strptime(radar.time['units'],'seconds since %Y-%m-%dT%H:%M:%SZ')].index+np.amin(np.unique(radar.time['data'])) #finds index where VAD starts\n",
    "            endscanindex = df.loc[df['datetime'] == datetime.strptime(radar.time['units'],'seconds since %Y-%m-%dT%H:%M:%SZ')].index+np.amax(np.unique(radar.time['data'])) #finds index where VAD stops\n",
    "            dfscan = df.iloc[beginscanindex[0].astype(int):endscanindex[0].astype(int)] #uses prior beginning and end indeces to find all times for VAD\n",
    "            dfscan = dfscan.astype({'Bearing[degrees]': 'float'}) #looking at Bearing column and changing all entries to floats so they can be decimals\n",
    "            #     if np.amax(dfscan['Bearing[degrees]'])-np.amin(dfscan['Bearing[degrees]']) > 180:\n",
    "            #         dfscan['Bearing[degrees]'][dfscan['Bearing[degrees]']>180] -=360\n",
    "              \n",
    "            #Find where VAD where nearly stationary (<5 knotss)\n",
    "            if np.logical_and(np.logical_and(radar.scan_type == 'ppi', radar.fixed_angle['data'][0]>20),dfscan['Velocity[knots]'].astype(float).mean()<100.0):#,dfscan['Bearing[degrees]'].astype(float).var()<100.0)):\n",
    "                print(thefile[-23:-8])   #above line checks to make sure the scan type is a ppi, that the angle is greater than 20, and that velocity is less than 5 m/s-- these are the most desirable conditions for the data\n",
    "                \n",
    "                radar = dealias_Ka(radar)\n",
    "                \n",
    "                pyart.io.write_cfradial(path + thefile[-23:-8]+\".nc\", radar) #creates netcdf file with dealiased data so we dont have to dealias it every time, which is the goal of this code\n",
    "    #             #radar.fields['velocity']['data']\n",
    "\n",
    "#             print('velocity [kts]',dfscan['Velocity[knots]'].astype(float).mean(),'+-',dfscan['Velocity[knots]'].astype(float).var())\n",
    "#             speed = dfscan['Velocity[knots]'].astype(float).mean()\n",
    "#             print('bearing',dfscan['Bearing[degrees]'].astype(float).mean(),'+-',dfscan['Bearing[degrees]'].astype(float).var())\n",
    "#             bearing = dfscan['Bearing[degrees]'].astype(float).mean()\n",
    "#             print('latitude',dfscan['Latitude'].astype(float).mean(),'+-',dfscan['Latitude'].astype(float).var())\n",
    "#             lat = dfscan['Latitude'].astype(float).mean()\n",
    "#             print('longitude',dfscan['Longitude'].astype(float).mean(),'+-',dfscan['Longitude'].astype(float).var())\n",
    "#             lon = dfscan['Longitude'].astype(float).mean()\n",
    "\n",
    "#             VAD = pyart.retrieve.vad_browning(radar, 'corrected_velocity', z_want=np.arange(50,5000,10),gatefilter=None)\n",
    "#             vadu = VAD.u_wind*1.94384\n",
    "#             vadv = VAD.v_wind*1.94384\n",
    "#             vehicleu,vehiclev = mpcalc.wind_components(speed*units('kts'), bearing*units('degrees'))\n",
    "#             vadu = (vadu)\n",
    "#             vadv = (vadv)\n",
    "\n",
    "#             fig = plt.figure(figsize=(50, 40),facecolor='white')\n",
    "#             display = pyart.graph.RadarDisplay(radar)\n",
    "#             ax3 = fig.add_subplot(2,2,3)\n",
    "\n",
    "#             hodo = metpy.plots.Hodograph(ax3,component_range=100.)\n",
    "#             hodo.add_grid(increment=5)\n",
    "\n",
    "#             hodo.plot(vadu,vadv)\n",
    "#             ax3.set_xlabel('U-component Wind [knots]')\n",
    "#             ax3.set_ylabel('V-component Wind [knots]')\n",
    "#             ax3.set_title('Uncorrected VAD')\n",
    "\n",
    "\n",
    "\n",
    "#             ax1 = fig.add_subplot(2,2,1)\n",
    "#             display.plot_ppi('corrected_velocity', 0, cmap='pyart_balance', ax=ax1, vmin=-40., vmax=40.,\n",
    "#                                  colorbar_label=r'Radial Velocity [m s$^{-1}$]', title='Uncorrected Radial Velocity')\n",
    "#             print(radar.azimuth['data'])\n",
    "#             (radar.azimuth['data'])+=(bearing*(-1)+90)%360\n",
    "#         #         radar.azimuth['data'] = np.where((radar.azimuth['data']>90)&(radar.azimuth['data']<360),\n",
    "#         #                  (360-radar.azimuth['data']+90),(radar.azimuth['data']*(-1)+90))\n",
    "#             #(radar.azimuth['data'])+=(bearing*(-1)+90)\n",
    "\n",
    "#         #         ax3 = fig.add_subplot(2,2,1)\n",
    "#         #         display.plot_ppi('corrected_velocity', 0, cmap='pyart_balance', ax=ax1, vmin=-40., vmax=40.,\n",
    "#         #                              colorbar_label=r'Radial Velocity [m s$^{-1}$]', title='Corrected Radial Velocity')\n",
    "\n",
    "#             VAD = pyart.retrieve.vad_browning(radar, 'corrected_velocity', z_want=np.arange(50,5001,10),gatefilter=None)\n",
    "#             vadu = VAD.u_wind*1.94384\n",
    "#             vadv = VAD.v_wind*1.94384\n",
    "#             vehicleu,vehiclev = mpcalc.wind_components(speed*units('kts'), (bearing*(-1)+90)*units('degrees'))\n",
    "#             vadu = (vadu)#-vehicleu)\n",
    "#             vadv = (vadv)#-vehiclev)#/0.514444\n",
    "\n",
    "#             ax4 = fig.add_subplot(2,2,4)\n",
    "\n",
    "#             hodo = metpy.plots.Hodograph(ax4,component_range=100.)\n",
    "#             hodo.add_grid(increment=5)\n",
    "\n",
    "#             hodo.plot(vadu,vadv)\n",
    "#             ax4.set_xlabel('U-component Wind [knots]')\n",
    "#             ax4.set_ylabel('V-component Wind [knots]')\n",
    "#             ax4.set_title('Bearing corrected VAD')\n",
    "\n",
    "#             for i,z in enumerate([0,95,195,295,395,495]):\n",
    "#                 if np.isnan(vadu[z]):\n",
    "#                     pass\n",
    "#                 else:\n",
    "#                     circle = plt.Circle((vadu[z], vadv[z]), radius=1.5,color='k',zorder=30)\n",
    "#                     ax4.add_patch(circle)\n",
    "#                     label = ax4.annotate(i, xy=(vadu[z], vadv[z]), fontsize=12, ha=\"center\",va='center',color='white',zorder=30,weight=\"bold\")\n",
    "\n",
    "\n",
    "\n",
    "#             r=35\n",
    "#             radar_namelist, radar_list = get_radar_from_aws(\n",
    "#                 'KUDX', datetime.strptime(thefile.split('\\\\')[-1].split('.')[0][3:],'%y%m%d%H%M%S'), \n",
    "#                 datetime.strptime(thefile.split('\\\\')[-1].split('.')[0][3:],'%y%m%d%H%M%S')+timedelta(minutes=5))\n",
    "#             scantime88d = datetime.strptime(str(radar_namelist)[46:61], '%Y%m%d_%H%M%S')\n",
    "#             swp_id = 0\n",
    "#             radar = radar_list[0].extract_sweeps([0])\n",
    "#             time_text = ' ' + str(radar.time['units'][-9:1])\n",
    "#             title ='KUDX PPI ' +scantime88d.strftime(\"%m/%d/%y %H:%M\")+ ' UTC'\n",
    "#             display = pyart.graph.RadarMapDisplay(radar)\n",
    "#             ax2 = fig.add_subplot(2,2,2,projection=display.grid_projection)\n",
    "#             display.plot_ppi_map('reflectivity', swp_id, cmap='pyart_HomeyerRainbow', ax=ax2, vmin=0., vmax=75., \n",
    "#                                  colorbar_label='Radar Reflectivity [dBZ]', title='Reflectivity',\n",
    "#                                  min_lon=getLocation(lat, lon, 270, r)[1],\n",
    "#                                  max_lon=getLocation(lat, lon, 90, r)[1],\n",
    "#                                  min_lat=getLocation(lat, lon, 180, r)[0],\n",
    "#                                  max_lat=getLocation(lat, lon, 0, r)[0],\n",
    "#                                  embellish=False)\n",
    "#             ax2.plot(lon,lat,'k*',ms=50,transform=ccrs.PlateCarree())\n",
    "#             ax2.plot(-104.4056,45.0223,'b*',ms=50,transform=ccrs.PlateCarree())\n",
    "#             #ax2.plot(-103.7701,44.59018,'b*',ms=50,transform=ccrs.PlateCarree())\n",
    "#             ax2.set_title(title)\n",
    "\n",
    "#             plt.suptitle(thefile.split('\\\\')[-1].split('.')[0][3:])#+' '+str(np.around(dfscan['Bearing[degrees]'].astype(float).var(),decimals=2))+' '+str(np.around(dfscan['Velocity[knots]'].astype(float).var(),decimals=2)))\n",
    "#             fname = thefile.split('\\\\')[-1].split('.')[0][3:]\n",
    "# #         fig.savefig(f'/Users/joshu/Desktop/{fname}nondealise.png',dpi=300)\n",
    "#         plt.close('all')\n",
    "#         fig.clf()\n",
    "#         gc.collect()"
   ]
  },
  {
   "cell_type": "markdown",
   "metadata": {},
   "source": [
    "## Random Testing Below"
   ]
  },
  {
   "cell_type": "code",
   "execution_count": null,
   "metadata": {},
   "outputs": [],
   "source": [
    "for thefile in vad_files[181:182]:\n",
    "\n",
    "    radar = pyart.io.read(thefile)\n",
    "    print(thefile,radar.fixed_angle['data'])\n",
    "\n",
    "    df = pd.read_csv('C:\\\\Users\\\\julia\\\\OneDrive\\\\Desktop\\\\VADS Data Morton\\\\GPS_Ka1_20220612.txt', dtype=str)\n",
    "    \n",
    "    \n",
    "    df['ddmmyy']+df['hhmmss[UTC]']\n",
    "    df['datetime'] = [datetime.strptime(d,'%d%m%y%H%M%S') for d in df['ddmmyy']+df['hhmmss[UTC]']]\n",
    "    beginscanindex = df.loc[df['datetime'] == datetime.strptime(radar.time['units'],'seconds since %Y-%m-%dT%H:%M:%SZ')].index+np.amin(np.unique(radar.time['data']))\n",
    "    endscanindex = df.loc[df['datetime'] == datetime.strptime(radar.time['units'],'seconds since %Y-%m-%dT%H:%M:%SZ')].index+np.amax(np.unique(radar.time['data']))\n",
    "    dfscan = df.iloc[beginscanindex[0].astype(int):endscanindex[0].astype(int)]\n",
    "    dfscan = dfscan.astype({'Bearing[degrees]': 'float'})\n",
    "    if np.amax(dfscan['Bearing[degrees]'])-np.amin(dfscan['Bearing[degrees]']) > 180:\n",
    "        dfscan['Bearing[degrees]'][dfscan['Bearing[degrees]']>180] -=360\n",
    "\n",
    "    if np.logical_and(np.logical_and(radar.scan_type == 'ppi', radar.fixed_angle['data'][0]>20),np.logical_and(dfscan['Velocity[knots]'].astype(float).var()<50.0,dfscan['Bearing[degrees]'].astype(float).var()<100.0)):\n",
    "        #radar = dealias_Ka(radar)\n",
    "\n",
    "\n",
    "        print('velocity [kts]',dfscan['Velocity[knots]'].astype(float).mean(),'+-',dfscan['Velocity[knots]'].astype(float).var())\n",
    "        speed = dfscan['Velocity[knots]'].astype(float).mean()\n",
    "        print('bearing',dfscan['Bearing[degrees]'].astype(float).mean(),'+-',dfscan['Bearing[degrees]'].astype(float).var())\n",
    "        bearing = dfscan['Bearing[degrees]'].astype(float).mean()\n",
    "        print('latitude',dfscan['Latitude'].astype(float).mean(),'+-',dfscan['Latitude'].astype(float).var())\n",
    "        lat = dfscan['Latitude'].astype(float).mean()\n",
    "        print('longitude',dfscan['Longitude'].astype(float).mean(),'+-',dfscan['Longitude'].astype(float).var())\n",
    "        lon = dfscan['Longitude'].astype(float).mean()\n",
    "\n",
    "        VAD = pyart.retrieve.vad_browning(radar, 'velocity', z_want=np.arange(50,5000,10),gatefilter=None)\n",
    "        vadu = VAD.u_wind*1.94384\n",
    "        vadv = VAD.v_wind*1.94384\n",
    "        vehicleu,vehiclev = mpcalc.wind_components(speed*units('kts'), bearing*units('degrees'))\n",
    "        vadu = (vadu)\n",
    "        vadv = (vadv)\n",
    "\n",
    "        fig = plt.figure(figsize=(50, 40),facecolor='white')\n",
    "        display = pyart.graph.RadarDisplay(radar)\n",
    "        ax3 = fig.add_subplot(2,2,3)\n",
    "\n",
    "        hodo = metpy.plots.Hodograph(ax3,component_range=100.)\n",
    "        hodo.add_grid(increment=5)\n",
    "\n",
    "        hodo.plot(vadu,vadv)\n",
    "        ax3.set_xlabel('U-component Wind [knots]')\n",
    "        ax3.set_ylabel('V-component Wind [knots]')\n",
    "        ax3.set_title('Uncorrected VAD')\n",
    "\n",
    "\n",
    "\n",
    "        \n",
    "        \n",
    "        \n",
    "\n",
    "        ax1 = fig.add_subplot(2,2,1)\n",
    "        display.plot_ppi('velocity', 0, cmap='pyart_balance', ax=ax1, vmin=-40., vmax=40.,\n",
    "                             colorbar_label=r'Radial Velocity [m s$^{-1}$]', title='Uncorrected Radial Velocity')\n",
    "        print(radar.azimuth['data'])\n",
    "#         (radar.azimuth['data'])+=(360-bearing+90)\n",
    "        (radar.azimuth['data'])+=(bearing*(-1)+90)%360\n",
    "        VAD = pyart.retrieve.vad_browning(radar, 'velocity', z_want=np.arange(50,5001,10),gatefilter=None)\n",
    "        vadu = VAD.u_wind*1.94384\n",
    "        vadv = VAD.v_wind*1.94384\n",
    "        vehicleu,vehiclev = mpcalc.wind_components(speed*units('kts'), ((bearing+180)%360)*units('degrees'))\n",
    "        vadu = (vadu)#+vehicleu.magnitude)\n",
    "        vadv = (vadv)#+vehiclev.magnitude)#/0.514444\n",
    "        \n",
    "        ax4 = fig.add_subplot(2,2,4)\n",
    "\n",
    "        hodo = metpy.plots.Hodograph(ax4,component_range=100.)\n",
    "        hodo.add_grid(increment=5)\n",
    "\n",
    "        hodo.plot(vadu,vadv)\n",
    "        ax4.set_xlabel('U-component Wind [knots]')\n",
    "        ax4.set_ylabel('V-component Wind [knots]')\n",
    "        ax4.set_title('Bearing corrected VAD')\n",
    "\n",
    "        for i,z in enumerate([0,95,195,295,395,495]):\n",
    "            if np.isnan(vadu[z]):\n",
    "                pass\n",
    "            else:\n",
    "                circle = plt.Circle((vadu[z], vadv[z]), radius=1.5,color='k',zorder=30)\n",
    "                ax4.add_patch(circle)\n",
    "                label = ax4.annotate(i, xy=(vadu[z], vadv[z]), fontsize=12, ha=\"center\",va='center',color='white',zorder=30,weight=\"bold\")\n",
    "\n",
    "\n",
    "\n",
    "        r=35\n",
    "        radar_namelist, radar_list = get_radar_from_aws(\n",
    "            'KUDX', datetime.strptime(thefile.split('\\\\')[-1].split('.')[0][3:],'%y%m%d%H%M%S'), \n",
    "            datetime.strptime(thefile.split('\\\\')[-1].split('.')[0][3:],'%y%m%d%H%M%S')+timedelta(minutes=5))\n",
    "        scantime88d = datetime.strptime(str(radar_namelist)[46:61], '%Y%m%d_%H%M%S')\n",
    "        swp_id = 0\n",
    "        radar = radar_list[0].extract_sweeps([0])\n",
    "        time_text = ' ' + str(radar.time['units'][-9:1])\n",
    "        title ='KUDX PPI ' +scantime88d.strftime(\"%m/%d/%y %H:%M\")+ ' UTC'\n",
    "        display = pyart.graph.RadarMapDisplay(radar)\n",
    "        ax2 = fig.add_subplot(2,2,2,projection=display.grid_projection)\n",
    "        display.plot_ppi_map('reflectivity', swp_id, cmap='pyart_HomeyerRainbow', ax=ax2, vmin=0., vmax=75., \n",
    "                             colorbar_label='Radar Reflectivity [dBZ]', title='Reflectivity',\n",
    "                             min_lon=getLocation(lat, lon, 270, r)[1],\n",
    "                             max_lon=getLocation(lat, lon, 90, r)[1],\n",
    "                             min_lat=getLocation(lat, lon, 180, r)[0],\n",
    "                             max_lat=getLocation(lat, lon, 0, r)[0],\n",
    "                             embellish=False)\n",
    "        ax2.plot(lon,lat,'k*',ms=50,transform=ccrs.PlateCarree())\n",
    "        ax2.plot(-104.4056,45.0223,'b*',ms=50,transform=ccrs.PlateCarree())\n",
    "        #ax2.plot(-103.7701,44.59018,'b*',ms=50,transform=ccrs.PlateCarree())\n",
    "        ax2.set_title(title)\n",
    "\n",
    "        plt.suptitle(thefile.split('\\\\')[-1].split('.')[0][3:])#+' '+str(np.around(dfscan['Bearing[degrees]'].astype(float).var(),decimals=2))+' '+str(np.around(dfscan['Velocity[knots]'].astype(float).var(),decimals=2)))\n",
    "        fname = thefile.split('\\\\')[-1].split('.')[0][3:]\n",
    "        fig.savefig(f'/Users/julia/Desktop/{fname}nondealise.png',dpi=300)\n",
    "        plt.close('all')\n",
    "        fig.clf()\n",
    "        gc.collect()"
   ]
  },
  {
   "cell_type": "code",
   "execution_count": null,
   "metadata": {},
   "outputs": [],
   "source": [
    "for thefile in vad_files[183:184]:\n",
    "\n",
    "    radar = pyart.io.read(thefile)\n",
    "    print(thefile,radar.fixed_angle['data'])\n",
    "\n",
    "    df = pd.read_csv('C:\\\\Users\\\\julia\\\\OneDrive\\\\Desktop\\\\VADS Data Morton\\\\GPS_Ka1_20220612.txt', dtype=str)\n",
    "    \n",
    "    \n",
    "    df['ddmmyy']+df['hhmmss[UTC]']\n",
    "    df['datetime'] = [datetime.strptime(d,'%d%m%y%H%M%S') for d in df['ddmmyy']+df['hhmmss[UTC]']]\n",
    "    beginscanindex = df.loc[df['datetime'] == datetime.strptime(radar.time['units'],'seconds since %Y-%m-%dT%H:%M:%SZ')].index+np.amin(np.unique(radar.time['data']))\n",
    "    endscanindex = df.loc[df['datetime'] == datetime.strptime(radar.time['units'],'seconds since %Y-%m-%dT%H:%M:%SZ')].index+np.amax(np.unique(radar.time['data']))\n",
    "    dfscan = df.iloc[beginscanindex[0].astype(int):endscanindex[0].astype(int)]\n",
    "    dfscan = dfscan.astype({'Bearing[degrees]': 'float'})\n",
    "    if np.amax(dfscan['Bearing[degrees]'])-np.amin(dfscan['Bearing[degrees]']) > 180:\n",
    "        dfscan['Bearing[degrees]'][dfscan['Bearing[degrees]']>180] -=360\n",
    "\n",
    "    if np.logical_and(np.logical_and(radar.scan_type == 'ppi', radar.fixed_angle['data'][0]>20),np.logical_and(dfscan['Velocity[knots]'].astype(float).var()<50.0,dfscan['Bearing[degrees]'].astype(float).var()<100.0)):\n",
    "        #radar = dealias_Ka(radar)\n",
    "\n",
    "\n",
    "\n",
    "        print('velocity [kts]',dfscan['Velocity[knots]'].astype(float).mean(),'+-',dfscan['Velocity[knots]'].astype(float).var())\n",
    "        speed = dfscan['Velocity[knots]'].astype(float).mean()\n",
    "        print('bearing',dfscan['Bearing[degrees]'].astype(float).mean(),'+-',dfscan['Bearing[degrees]'].astype(float).var())\n",
    "        bearing = dfscan['Bearing[degrees]'].astype(float).mean()\n",
    "        print('latitude',dfscan['Latitude'].astype(float).mean(),'+-',dfscan['Latitude'].astype(float).var())\n",
    "        lat = dfscan['Latitude'].astype(float).mean()\n",
    "        print('longitude',dfscan['Longitude'].astype(float).mean(),'+-',dfscan['Longitude'].astype(float).var())\n",
    "        lon = dfscan['Longitude'].astype(float).mean()\n",
    "\n",
    "        VAD = pyart.retrieve.vad_browning(radar, 'velocity', z_want=np.arange(50,5000,10),gatefilter=None)\n",
    "        vadu = VAD.u_wind*1.94384\n",
    "        vadv = VAD.v_wind*1.94384\n",
    "        vehicleu,vehiclev = mpcalc.wind_components(speed*units('kts'), bearing*units('degrees'))\n",
    "        vadu = (vadu)\n",
    "        vadv = (vadv)\n",
    "\n",
    "        fig = plt.figure(figsize=(50, 40),facecolor='white')\n",
    "        display = pyart.graph.RadarDisplay(radar)\n",
    "        ax3 = fig.add_subplot(2,2,3)\n",
    "\n",
    "        hodo = metpy.plots.Hodograph(ax3,component_range=100.)\n",
    "        hodo.add_grid(increment=5)\n",
    "\n",
    "        hodo.plot(vadu,vadv)\n",
    "        ax3.set_xlabel('U-component Wind [knots]')\n",
    "        ax3.set_ylabel('V-component Wind [knots]')\n",
    "        ax3.set_title('Uncorrected VAD')\n",
    "\n",
    "\n",
    "\n",
    "        \n",
    "        \n",
    "        \n",
    "\n",
    "        ax1 = fig.add_subplot(2,2,1)\n",
    "        display.plot_ppi('velocity', 0, cmap='pyart_balance', ax=ax1, vmin=-40., vmax=40.,\n",
    "                             colorbar_label=r'Radial Velocity [m s$^{-1}$]', title='Uncorrected Radial Velocity')\n",
    "        print(radar.azimuth['data'])\n",
    "#         (radar.azimuth['data'])+=(360-bearing+90)\n",
    "        (radar.azimuth['data'])+=(bearing*(-1)-90)%360\n",
    "        VAD = pyart.retrieve.vad_browning(radar, 'velocity', z_want=np.arange(50,5001,10),gatefilter=None)\n",
    "        vadu = VAD.u_wind*1.94384\n",
    "        vadv = VAD.v_wind*1.94384\n",
    "        vehicleu,vehiclev = mpcalc.wind_components(speed*units('kts'), ((bearing+180)%360)*units('degrees'))\n",
    "        vadu = (vadu)#+vehicleu.magnitude)\n",
    "        vadv = (vadv)#+vehiclev.magnitude)#/0.514444\n",
    "        \n",
    "        ax4 = fig.add_subplot(2,2,4)\n",
    "\n",
    "        hodo = metpy.plots.Hodograph(ax4,component_range=100.)\n",
    "        hodo.add_grid(increment=5)\n",
    "\n",
    "        hodo.plot(vadu,vadv)\n",
    "        ax4.set_xlabel('U-component Wind [knots]')\n",
    "        ax4.set_ylabel('V-component Wind [knots]')\n",
    "        ax4.set_title('Bearing corrected VAD')\n",
    "\n",
    "        for i,z in enumerate([0,95,195,295,395,495]):\n",
    "            if np.isnan(vadu[z]):\n",
    "                pass\n",
    "            else:\n",
    "                circle = plt.Circle((vadu[z], vadv[z]), radius=1.5,color='k',zorder=30)\n",
    "                ax4.add_patch(circle)\n",
    "                label = ax4.annotate(i, xy=(vadu[z], vadv[z]), fontsize=12, ha=\"center\",va='center',color='white',zorder=30,weight=\"bold\")\n",
    "\n",
    "\n",
    "\n",
    "        r=35\n",
    "        radar_namelist, radar_list = get_radar_from_aws(\n",
    "            'KUDX', datetime.strptime(thefile.split('\\\\')[-1].split('.')[0][3:],'%y%m%d%H%M%S'), \n",
    "            datetime.strptime(thefile.split('\\\\')[-1].split('.')[0][3:],'%y%m%d%H%M%S')+timedelta(minutes=5))\n",
    "        scantime88d = datetime.strptime(str(radar_namelist)[46:61], '%Y%m%d_%H%M%S')\n",
    "        swp_id = 0\n",
    "        radar = radar_list[0].extract_sweeps([0])\n",
    "        time_text = ' ' + str(radar.time['units'][-9:1])\n",
    "        title ='KUDX PPI ' +scantime88d.strftime(\"%m/%d/%y %H:%M\")+ ' UTC'\n",
    "        display = pyart.graph.RadarMapDisplay(radar)\n",
    "        ax2 = fig.add_subplot(2,2,2,projection=display.grid_projection)\n",
    "        display.plot_ppi_map('reflectivity', swp_id, cmap='pyart_HomeyerRainbow', ax=ax2, vmin=0., vmax=75., \n",
    "                             colorbar_label='Radar Reflectivity [dBZ]', title='Reflectivity',\n",
    "                             min_lon=getLocation(lat, lon, 270, r)[1],\n",
    "                             max_lon=getLocation(lat, lon, 90, r)[1],\n",
    "                             min_lat=getLocation(lat, lon, 180, r)[0],\n",
    "                             max_lat=getLocation(lat, lon, 0, r)[0],\n",
    "                             embellish=False)\n",
    "        ax2.plot(lon,lat,'k*',ms=50,transform=ccrs.PlateCarree())\n",
    "        ax2.plot(-104.4056,45.0223,'b*',ms=50,transform=ccrs.PlateCarree())\n",
    "        #ax2.plot(-103.7701,44.59018,'b*',ms=50,transform=ccrs.PlateCarree())\n",
    "        ax2.set_title(title)\n",
    "\n",
    "        plt.suptitle(thefile.split('\\\\')[-1].split('.')[0][3:])#+' '+str(np.around(dfscan['Bearing[degrees]'].astype(float).var(),decimals=2))+' '+str(np.around(dfscan['Velocity[knots]'].astype(float).var(),decimals=2)))\n",
    "        fname = thefile.split('\\\\')[-1].split('.')[0][3:]\n",
    "        fig.savefig(f'/Users/joshu/Desktop/{fname}nondealise.png',dpi=300)\n",
    "        plt.close('all')\n",
    "        fig.clf()\n",
    "        gc.collect()"
   ]
  },
  {
   "cell_type": "code",
   "execution_count": null,
   "metadata": {},
   "outputs": [],
   "source": []
  },
  {
   "cell_type": "code",
   "execution_count": null,
   "metadata": {},
   "outputs": [],
   "source": [
    "for thefile in vad_files[195:196]:\n",
    "#for thefile in vad_files[150:151]:\n",
    "    \n",
    "    radar = pyart.io.read(thefile)\n",
    "    print(thefile,radar.fixed_angle['data'])\n",
    "\n",
    "    df = pd.read_csv('C:\\\\Users\\\\julia\\\\OneDrive\\\\Desktop\\\\VADS Data Morton\\\\GPS_Ka1_20220612.txt', dtype=str)\n",
    "    \n",
    "    \n",
    "    df['ddmmyy']+df['hhmmss[UTC]']\n",
    "    df['datetime'] = [datetime.strptime(d,'%d%m%y%H%M%S') for d in df['ddmmyy']+df['hhmmss[UTC]']]\n",
    "    beginscanindex = df.loc[df['datetime'] == datetime.strptime(radar.time['units'],'seconds since %Y-%m-%dT%H:%M:%SZ')].index+np.amin(np.unique(radar.time['data']))\n",
    "    endscanindex = df.loc[df['datetime'] == datetime.strptime(radar.time['units'],'seconds since %Y-%m-%dT%H:%M:%SZ')].index+np.amax(np.unique(radar.time['data']))\n",
    "    dfscan = df.iloc[beginscanindex[0].astype(int):endscanindex[0].astype(int)]\n",
    "    dfscan = dfscan.astype({'Bearing[degrees]': 'float'})\n",
    "    if np.amax(dfscan['Bearing[degrees]'])-np.amin(dfscan['Bearing[degrees]']) > 180:\n",
    "        dfscan['Bearing[degrees]'][dfscan['Bearing[degrees]']>180] -=360\n",
    "\n",
    "    if np.logical_and(np.logical_and(radar.scan_type == 'ppi', radar.fixed_angle['data'][0]>20),np.logical_and(dfscan['Velocity[knots]'].astype(float).var()<50.0,dfscan['Bearing[degrees]'].astype(float).var()<100.0)):\n",
    "        #radar = dealias_Ka(radar)\n",
    "\n",
    "\n",
    "\n",
    "        print('velocity [kts]',dfscan['Velocity[knots]'].astype(float).mean(),'+-',dfscan['Velocity[knots]'].astype(float).var())\n",
    "        speed = dfscan['Velocity[knots]'].astype(float).mean()\n",
    "        print('bearing',dfscan['Bearing[degrees]'].astype(float).mean(),'+-',dfscan['Bearing[degrees]'].astype(float).var())\n",
    "        bearing = dfscan['Bearing[degrees]'].astype(float).mean()\n",
    "        print('latitude',dfscan['Latitude'].astype(float).mean(),'+-',dfscan['Latitude'].astype(float).var())\n",
    "        lat = dfscan['Latitude'].astype(float).mean()\n",
    "        print('longitude',dfscan['Longitude'].astype(float).mean(),'+-',dfscan['Longitude'].astype(float).var())\n",
    "        lon = dfscan['Longitude'].astype(float).mean()\n",
    "\n",
    "        VAD = pyart.retrieve.vad_browning(radar, 'velocity', z_want=np.arange(50,5000,10),gatefilter=None)\n",
    "        vadu = VAD.u_wind*1.94384\n",
    "        vadv = VAD.v_wind*1.94384\n",
    "        vehicleu,vehiclev = mpcalc.wind_components(speed*units('kts'), bearing*units('degrees'))\n",
    "        vadu = (vadu)\n",
    "        vadv = (vadv)\n",
    "\n",
    "        fig = plt.figure(figsize=(50, 40),facecolor='white')\n",
    "        display = pyart.graph.RadarDisplay(radar)\n",
    "        ax3 = fig.add_subplot(2,2,3)\n",
    "\n",
    "        hodo = metpy.plots.Hodograph(ax3,component_range=100.)\n",
    "        hodo.add_grid(increment=5)\n",
    "\n",
    "        hodo.plot(vadu,vadv)\n",
    "        ax3.set_xlabel('U-component Wind [knots]')\n",
    "        ax3.set_ylabel('V-component Wind [knots]')\n",
    "        ax3.set_title('Uncorrected VAD')\n",
    "        \n",
    "\n",
    "\n",
    "        ax1 = fig.add_subplot(2,2,1)\n",
    "        display.plot_ppi('velocity', 0, cmap='pyart_balance', ax=ax1, vmin=-40., vmax=40.,\n",
    "                             colorbar_label=r'Radial Velocity [m s$^{-1}$]', title='Uncorrected Radial Velocity')\n",
    "        bearing=182.53#129.86\n",
    "        (radar.azimuth['data'])+=(bearing*(-1)-90)%360\n",
    "        print(radar.azimuth['data'])\n",
    "        \n",
    "#         radar.azimuth['data'] = np.where((radar.azimuth['data']>90)&(radar.azimuth['data']<360),\n",
    "#                  ((360-radar.azimuth['data']+90)+180)%360,((radar.azimuth['data']*(-1)+90)+180)%360)\n",
    "        \n",
    "#         print(radar.azimuth['data'])\n",
    "        \n",
    "        VAD = pyart.retrieve.vad_browning(radar, 'velocity', z_want=np.arange(50,5001,10),gatefilter=None)\n",
    "        vadu = VAD.u_wind*1.94384\n",
    "        vadv = VAD.v_wind*1.94384\n",
    "        vehicleu,vehiclev = mpcalc.wind_components(speed*units('kts'), ((180-bearing+90) %360)*units('degrees'))\n",
    "        vadu = (vadu)#-vehicleu)\n",
    "        vadv = (vadv)#-vehiclev)#/0.514444\n",
    "        \n",
    "        ax4 = fig.add_subplot(2,2,4)\n",
    "\n",
    "        hodo = metpy.plots.Hodograph(ax4,component_range=100.)\n",
    "        hodo.add_grid(increment=5)\n",
    "\n",
    "        hodo.plot(vadu,vadv)\n",
    "        ax4.set_xlabel('U-component Wind [knots]')\n",
    "        ax4.set_ylabel('V-component Wind [knots]')\n",
    "        ax4.set_title('Bearing corrected VAD')\n",
    "\n",
    "        for i,z in enumerate([0,95,195,295,395,495]):\n",
    "            if np.isnan(vadu[z]):\n",
    "                pass\n",
    "            else:\n",
    "                circle = plt.Circle((vadu[z], vadv[z]), radius=1.5,color='k',zorder=30)\n",
    "                ax4.add_patch(circle)\n",
    "                label = ax4.annotate(i, xy=(vadu[z], vadv[z]), fontsize=12, ha=\"center\",va='center',color='white',zorder=30,weight=\"bold\")\n",
    "\n",
    "\n",
    "\n",
    "        r=35\n",
    "        radar_namelist, radar_list = get_radar_from_aws(\n",
    "            'KUDX', datetime.strptime(thefile.split('\\\\')[-1].split('.')[0][3:],'%y%m%d%H%M%S'), \n",
    "            datetime.strptime(thefile.split('\\\\')[-1].split('.')[0][3:],'%y%m%d%H%M%S')+timedelta(minutes=5))\n",
    "        scantime88d = datetime.strptime(str(radar_namelist)[46:61], '%Y%m%d_%H%M%S')\n",
    "        swp_id = 0\n",
    "        radar = radar_list[0].extract_sweeps([0])\n",
    "        time_text = ' ' + str(radar.time['units'][-9:1])\n",
    "        title ='KUDX PPI ' +scantime88d.strftime(\"%m/%d/%y %H:%M\")+ ' UTC'\n",
    "        display = pyart.graph.RadarMapDisplay(radar)\n",
    "        ax2 = fig.add_subplot(2,2,2,projection=display.grid_projection)\n",
    "        display.plot_ppi_map('reflectivity', swp_id, cmap='pyart_HomeyerRainbow', ax=ax2, vmin=0., vmax=75., \n",
    "                             colorbar_label='Radar Reflectivity [dBZ]', title='Reflectivity',\n",
    "                             min_lon=getLocation(lat, lon, 270, r)[1],\n",
    "                             max_lon=getLocation(lat, lon, 90, r)[1],\n",
    "                             min_lat=getLocation(lat, lon, 180, r)[0],\n",
    "                             max_lat=getLocation(lat, lon, 0, r)[0],\n",
    "                             embellish=False)\n",
    "        ax2.plot(lon,lat,'k*',ms=50,transform=ccrs.PlateCarree())\n",
    "        ax2.plot(-104.4056,45.0223,'b*',ms=50,transform=ccrs.PlateCarree())\n",
    "        #ax2.plot(-103.7701,44.59018,'b*',ms=50,transform=ccrs.PlateCarree())\n",
    "        ax2.set_title(title)\n",
    "\n",
    "        plt.suptitle(thefile.split('\\\\')[-1].split('.')[0][3:])#+' '+str(np.around(dfscan['Bearing[degrees]'].astype(float).var(),decimals=2))+' '+str(np.around(dfscan['Velocity[knots]'].astype(float).var(),decimals=2)))\n",
    "        fname = thefile.split('\\\\')[-1].split('.')[0][3:]\n",
    "        fig.savefig(f'/Users/julia/Desktop/{fname}nondealise.png',dpi=300)\n",
    "        plt.close('all')\n",
    "        fig.clf()\n",
    "        gc.collect()"
   ]
  },
  {
   "cell_type": "code",
   "execution_count": 1,
   "metadata": {},
   "outputs": [
    {
     "ename": "NameError",
     "evalue": "name 'vad_files' is not defined",
     "output_type": "error",
     "traceback": [
      "\u001b[1;31m---------------------------------------------------------------------------\u001b[0m",
      "\u001b[1;31mNameError\u001b[0m                                 Traceback (most recent call last)",
      "Cell \u001b[1;32mIn[1], line 3\u001b[0m\n\u001b[0;32m      1\u001b[0m \u001b[38;5;66;03m# Julia's code testing\u001b[39;00m\n\u001b[1;32m----> 3\u001b[0m \u001b[38;5;28;01mfor\u001b[39;00m thefile \u001b[38;5;129;01min\u001b[39;00m \u001b[43mvad_files\u001b[49m[\u001b[38;5;241m0\u001b[39m:\u001b[38;5;241m1\u001b[39m]:\n\u001b[0;32m      5\u001b[0m     radar \u001b[38;5;241m=\u001b[39m pyart\u001b[38;5;241m.\u001b[39mio\u001b[38;5;241m.\u001b[39mread(thefile)\n\u001b[0;32m      6\u001b[0m     \u001b[38;5;28mprint\u001b[39m(thefile,radar\u001b[38;5;241m.\u001b[39mfixed_angle[\u001b[38;5;124m'\u001b[39m\u001b[38;5;124mdata\u001b[39m\u001b[38;5;124m'\u001b[39m])\n",
      "\u001b[1;31mNameError\u001b[0m: name 'vad_files' is not defined"
     ]
    }
   ],
   "source": [
    "# Julia's code testing\n",
    "\n",
    "for thefile in vad_files[0:1]:\n",
    "\n",
    "    radar = pyart.io.read(thefile)\n",
    "    print(thefile,radar.fixed_angle['data'])\n",
    "\n",
    "    df = pd.read_csv('C:\\\\Users\\\\julia\\\\OneDrive\\\\Desktop\\\\VADS Data Morton\\\\GPS_Ka1_20220612.txt', dtype=str)\n",
    "    \n",
    "    \n",
    "    df['ddmmyy']+df['hhmmss[UTC]']\n",
    "    df['datetime'] = [datetime.strptime(d,'%d%m%y%H%M%S') for d in df['ddmmyy']+df['hhmmss[UTC]']]\n",
    "    beginscanindex = df.loc[df['datetime'] == datetime.strptime(radar.time['units'],'seconds since %Y-%m-%dT%H:%M:%SZ')].index+np.amin(np.unique(radar.time['data']))\n",
    "    endscanindex = df.loc[df['datetime'] == datetime.strptime(radar.time['units'],'seconds since %Y-%m-%dT%H:%M:%SZ')].index+np.amax(np.unique(radar.time['data']))\n",
    "    dfscan = df.iloc[beginscanindex[0].astype(int):endscanindex[0].astype(int)]\n",
    "    dfscan = dfscan.astype({'Bearing[degrees]': 'float'})"
   ]
  },
  {
   "cell_type": "code",
   "execution_count": null,
   "metadata": {},
   "outputs": [],
   "source": []
  }
 ],
 "metadata": {
  "kernelspec": {
   "display_name": "Python 3 (ipykernel)",
   "language": "python",
   "name": "python3"
  },
  "language_info": {
   "codemirror_mode": {
    "name": "ipython",
    "version": 3
   },
   "file_extension": ".py",
   "mimetype": "text/x-python",
   "name": "python",
   "nbconvert_exporter": "python",
   "pygments_lexer": "ipython3",
   "version": "3.9.18"
  }
 },
 "nbformat": 4,
 "nbformat_minor": 4
}
