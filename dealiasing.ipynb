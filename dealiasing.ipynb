{
 "cells": [
  {
   "cell_type": "markdown",
   "id": "362cd177-4558-4761-8fc2-ea292edb9e45",
   "metadata": {},
   "source": [
    "I want to de-alias all VAD files including the ones in motion. To do this I will import functions from Alex's VADS_2 file, which contains functions that perform all desried actions. -- Julia Buhrman 02/20/2024"
   ]
  },
  {
   "cell_type": "code",
   "execution_count": 1,
   "id": "548e0af4-a73e-4a2c-8ba2-e53a0631530e",
   "metadata": {},
   "outputs": [
    {
     "name": "stdout",
     "output_type": "stream",
     "text": [
      "\n",
      "## You are using the Python ARM Radar Toolkit (Py-ART), an open source\n",
      "## library for working with weather radar data. Py-ART is partly\n",
      "## supported by the U.S. Department of Energy as part of the Atmospheric\n",
      "## Radiation Measurement (ARM) Climate Research Facility, an Office of\n",
      "## Science user facility.\n",
      "##\n",
      "## If you use this software to prepare a publication, please cite:\n",
      "##\n",
      "##     JJ Helmus and SM Collis, JORS 2016, doi: 10.5334/jors.119\n",
      "\n"
     ]
    }
   ],
   "source": [
    "#imports all needed modules\n",
    "\n",
    "import pyart\n",
    "import numpy as np\n",
    "from datetime import datetime, timedelta\n",
    "import glob\n",
    "# from radarcalc import *\n",
    "import matplotlib.pyplot as plt\n",
    "import pandas as pd\n",
    "import metpy.calc as mpcalc\n",
    "import metpy\n",
    "import metpy.plots\n",
    "from metpy.units import units\n",
    "import cartopy.crs as ccrs\n",
    "import gc\n",
    "from astropy.convolution import convolve\n",
    "from boto.s3.connection import S3Connection\n",
    "import tempfile\n",
    "import copy\n",
    "import matplotlib\n",
    "import xarray as xr\n",
    "from datetime import datetime\n",
    "# import from Alex's VAD_2 notebook which I changed to a .py file (so we can import stuff from it)\n",
    "#from VADS_2_Copy import dealias_Ka, vehicle_correction_vad <== MAKES JUPYTER LAB BUFFER IDK WHY"
   ]
  },
  {
   "cell_type": "markdown",
   "id": "c72e6ed2-8e24-41f2-a93d-6d00b41873dd",
   "metadata": {},
   "source": [
    "I guess just copy and paste the functions from VADS_2 :("
   ]
  },
  {
   "cell_type": "code",
   "execution_count": 2,
   "id": "994bc430-e71a-48d7-b54f-eb37520d34ae",
   "metadata": {},
   "outputs": [],
   "source": [
    "import pyart\n",
    "import numpy as np\n",
    "from datetime import datetime, timedelta\n",
    "import glob\n",
    "# from radarcalc import *\n",
    "import matplotlib.pyplot as plt\n",
    "import pandas as pd\n",
    "import metpy.calc as mpcalc\n",
    "import metpy\n",
    "import metpy.plots\n",
    "from metpy.units import units\n",
    "import cartopy.crs as ccrs\n",
    "import gc\n",
    "from astropy.convolution import convolve\n",
    "from boto.s3.connection import S3Connection\n",
    "import tempfile\n",
    "import copy\n",
    "import matplotlib\n",
    "\n",
    "\n",
    "def dealias_Ka(radar,PPIGC_flag=False):\n",
    "    '''\n",
    "    This function aims to take care of all the nitty gritty customizations of pyarts dealiasing specifically for TTUKa radar data.\n",
    "\n",
    "    Parameter: radar (pyart object), PPIGC_flag (boolean *kwarg)\n",
    "    Returns: radar (pyart object) with corrected_velocity field and velocity_texture field added on\n",
    "\n",
    "    How it works:\n",
    "    1. Calculates velocity texture and creates a histogram based on all of the magnitudes of textures at each bin for the entire volume\n",
    "    2. loops through each indivual sweep\n",
    "    3. infinite loop to iterate between the minimum amount of texture between textures 1 and 6 and the maximum amount of texture in the histogram, with 0.5 m/s steps\n",
    "    4. Each iteration, create a gatefilter that filters the bins above that texture value and dealias it with the gatefilter to ignore the high textured regions\n",
    "    5. If the maximum texture is reached before breaking, set the gatefilter to mask textures above 12 m/s\n",
    "    6. if the scan is an RHI, run a 2 pass variance filter along each ray.\n",
    "        This convolves a 71 sized boxcar with the data, and if the difference between the point the boxcar is centered on and the mean of the boxcar is greater than the nyquist, then add/subtract 2*nyquist to that point\n",
    "    7. Then, take the difference between the mean of the bottom 4 rays of the dealiased velocity in the RHI and the bottom 4 rays of the aliased velocity\n",
    "    8. If the absolute difference is larger than the nyquist, the either subtract 2* nyquist or add 2*nyquist to the entire sweep and break the loop\n",
    "    9. If the absolute difference is less than the nyquist, no fixes need to be applied, break the loop\n",
    "    10. If the scan is a PPI, do steps 8 and 9, but skip steps 6 and 7\n",
    "    11. Outside the infinite loop, add the option of the PPIGC_flag, a boolean flag that will help maintain ground clutter in PPIs at 0 m/s\n",
    "        This works by identifying regions of very low spectrum width (<0.1 m/s), and setting the velocity in those regions = 0. Please note, this may introduce artificial speckles of 0 in real data, where spectrum width is noisy\n",
    "    12. Apply the alias fix algorithm which convolves a boxcar of specified boxcar of size 9 with the data, and if the variance between the middle pixel of interest and the mean is greater than the nyquist, then flip it back over\n",
    "    12. At the end of each sweep, assign the data from that processed sweep into a dictionary, then add the dictionary as the corrected_velocity field.\n",
    "    \n",
    "    The aforementioned method is FAR from perfect, but is as robust as I can do currently. One thing to improve this though is to use the UNRAVEL algorithm: https://github.com/vlouf/dealias\n",
    "    The UNRAVEL algorithm shows remarkable error characteristics compared to \"competitors\", possibly at a time cost, which isn't a HUGE deal for us. Downside is it may not work for our \"volumes\" since they are temporally uncorrelated and are not full volumes through the atmosphere\n",
    "    '''\n",
    "    \n",
    "    vel_texture = pyart.retrieve.calculate_velocity_texture(radar, vel_field='velocity', wind_size=3)\n",
    "    radar.add_field('velocity_texture', vel_texture, replace_existing=True)\n",
    "    hist, bins = np.histogram(radar.fields['velocity_texture']['data'][~np.isnan(radar.fields['velocity_texture']['data'])], bins=150)\n",
    "    bins = (bins[1:]+bins[:-1])/2.0\n",
    "    gatefilter = pyart.filters.GateFilter(radar)\n",
    "    velocity_dealiased = pyart.correct.dealias_region_based(radar, vel_field='velocity', nyquist_vel=radar.instrument_parameters['nyquist_velocity']['data'][0], centered=True) #standin, data will be replaced\n",
    "\n",
    "    for swp_id in range(radar.nsweeps):\n",
    "        #get indices from beginning and ending of sweep\n",
    "        sw_start = radar.sweep_start_ray_index['data'][swp_id]\n",
    "        sw_end = radar.sweep_end_ray_index['data'][swp_id]+1\n",
    "\n",
    "        counter = 0\n",
    "        while True: #do an infinite loop and either break it when the data is unfolded correctly or when the max texture is reached\n",
    "            #if the bin with the lowest count between textures 1 and 6 + i*0.5 is less than the maximum amount of bins\n",
    "            if bins[np.where(hist==np.min(hist[find_nearest(bins,1):find_nearest(bins,6)]))[0][0]]+counter*0.5 < np.amax(bins):\n",
    "                gatefilter.exclude_above('velocity_texture', bins[np.where(hist==np.min(hist[find_nearest(bins,1):find_nearest(bins,6)]))[0][0]]+counter*0.5)\n",
    "                nyq = radar.instrument_parameters['nyquist_velocity']['data'][0]\n",
    "                vede = pyart.correct.dealias_region_based(radar, vel_field='velocity', nyquist_vel=nyq,\n",
    "                                                                        centered=True, gatefilter=gatefilter)\n",
    "            else:\n",
    "                gatefilter.exclude_above('velocity_texture', 12)#bins[np.where(hist==np.min(hist[find_nearest(bins,1):find_nearest(bins,6)]))[0][0]])\n",
    "                nyq = radar.instrument_parameters['nyquist_velocity']['data'][0]\n",
    "                vede = pyart.correct.dealias_region_based(radar, vel_field='velocity', nyquist_vel=nyq,\n",
    "                                                                        centered=True, gatefilter=gatefilter)\n",
    "\n",
    "\n",
    "            np.ma.set_fill_value(vede['data'], np.nan)\n",
    "            #extract mask so we can apply the correct gatefilters on later\n",
    "            mask=np.ma.getmask(vede['data'])\n",
    "\n",
    "            #apply mask to velocity field and fix the small blips from dealiasing\n",
    "            if radar.scan_type == 'rhi':\n",
    "                #pass 1 of variance filtering along the ray.\n",
    "                #Convolves a 71 sized boxcar with the data, and if the difference between the point the boxcar is centered on and the mean of the boxcar is greater than the nyquist, then add/subtract 2*nyquist to that point\n",
    "                vel = vede['data'].filled()\n",
    "\n",
    "                for sw in range(np.shape(vel)[0]):\n",
    "                    mean = convolve(vel[sw,:],np.ones(71))\n",
    "                    var = vel[sw,:]-mean\n",
    "                    high_idx = var > nyq\n",
    "                    low_idx = var < -nyq\n",
    "                    vel[sw,:][high_idx] = vel[sw,:][high_idx] - 2*nyq\n",
    "                    vel[sw,:][low_idx] = vel[sw,:][low_idx] + 2*nyq\n",
    "                vede['data']=np.ma.masked_array(vel,mask=mask,fill_value=np.nan)\n",
    "\n",
    "                #pass 2 of variance filtering along the ray. In case there are errant folds than need to be folded back\n",
    "                vel = vede['data'].filled()\n",
    "                for sw in range(np.shape(vel)[0]):\n",
    "                    mean = convolve(vel[sw,:],np.ones(71))\n",
    "                    var = vel[sw,:]-mean\n",
    "                    high_idx = var > nyq\n",
    "                    low_idx = var < -nyq\n",
    "                    vel[sw,:][high_idx] = vel[sw,:][high_idx] - 2*nyq\n",
    "                    vel[sw,:][low_idx] = vel[sw,:][low_idx] + 2*nyq\n",
    "                vede['data']=np.ma.masked_array(vel,mask=mask,fill_value=np.nan)\n",
    "\n",
    "                #find means of the bottom 4 rays of the RHI(should be close to 0) and compare the dealiased velocities to the aliased velocities\n",
    "                np.ma.set_fill_value(radar.fields['velocity']['data'], np.nan)\n",
    "                meanvelal = np.mean(radar.fields['velocity']['data'][sw_start:sw_start+4,:].filled()[~np.isnan(radar.fields['velocity']['data'][sw_start:sw_start+4,:].filled())])\n",
    "                meanveldeal = np.mean(vede['data'][sw_start:sw_start+4,:].filled()[~np.isnan(vede['data'][sw_start:sw_start+4,:].filled())])\n",
    "                if np.abs(meanvelal-meanveldeal) < nyq: #nyq is an arbitrary threshold and should be tuned\n",
    "                    break\n",
    "                if bins[np.where(hist==np.min(hist[find_nearest(bins,1):find_nearest(bins,6)]))[0][0]]+counter*0.5 < np.amax(bins):\n",
    "                    if (meanvelal-meanveldeal) > 0:\n",
    "                        vede['data'][sw_start:sw_end,:] += 2*nyq\n",
    "                    else:\n",
    "                        vede['data'][sw_start:sw_end,:] -= 2*nyq\n",
    "                    break\n",
    "            if radar.scan_type == 'ppi':\n",
    "                np.ma.set_fill_value(radar.fields['velocity']['data'], np.nan)\n",
    "                meanvelal = np.mean(radar.fields['velocity']['data'][sw_start:sw_end,:].filled()[~np.isnan(radar.fields['velocity']['data'][sw_start:sw_end,:].filled())])\n",
    "                meanveldeal = np.mean(vede['data'][sw_start:sw_end,:].filled()[~np.isnan(vede['data'][sw_start:sw_end,:].filled())])\n",
    "                if np.abs(meanvelal-meanveldeal) < nyq: #nyq is an arbitrary threshold and should be tuned\n",
    "                    break\n",
    "                if bins[np.where(hist==np.min(hist[find_nearest(bins,1):find_nearest(bins,6)]))[0][0]]+counter*0.5 < np.amax(bins):\n",
    "                    if (meanvelal-meanveldeal) > 0:\n",
    "                        vede['data'][sw_start:sw_end,:] += 2*nyq\n",
    "                    else:\n",
    "                        vede['data'][sw_start:sw_end,:] -= 2*nyq\n",
    "                    break\n",
    "            counter+=1\n",
    "            \n",
    "        #put alias fix inside here instead of calling it to make it more portable\n",
    "        delta=3\n",
    "        mean = convolve(vede['data'][sw_start:sw_end,:],np.ones((delta,delta))/delta**2.)\n",
    "        mean[0,:] = vede['data'][sw_start:sw_end,:][0,:]\n",
    "        mean[-1,:] = vede['data'][sw_start:sw_end,:][-1,:]\n",
    "        var = vede['data'][sw_start:sw_end,:] - mean\n",
    "\n",
    "        high_idx = np.logical_and(var > nyq, var < 4*nyq)\n",
    "        low_idx = np.logical_and(var < -nyq, var > -4*nyq)\n",
    "\n",
    "        vede['data'][sw_start:sw_end,:][high_idx] = vede['data'][sw_start:sw_end,:][high_idx] - 2*nyq\n",
    "        vede['data'][sw_start:sw_end,:][low_idx] = vede['data'][sw_start:sw_end,:][low_idx] + 2*nyq\n",
    "\n",
    "        #corrects ground clutter by arbitrarily setting the velocity equal to 0 where spectrum width is less than 0.075 m/s\n",
    "        if PPIGC_flag == True:\n",
    "            if radar.scan_type == 'ppi':\n",
    "                sw = radar.fields['spectrum_width']['data'][sw_start:sw_end,:].filled()\n",
    "                vel = radar.fields['velocity']['data'][sw_start:sw_end,:].filled()\n",
    "                mask = sw<0.1\n",
    "                vede['data'][sw_start:sw_end,:] = np.where(~mask,vede['data'][sw_start:sw_end,:],0)\n",
    "\n",
    "        velocity_dealiased['data'][sw_start:sw_end,:] = vede['data'][sw_start:sw_end,:]\n",
    "        velocity_dealiased['data'][sw_start:sw_end,:] = alias_fix(velocity_dealiased['data'][sw_start:sw_end,:],nyq,delta=9)\n",
    "    radar.add_field('corrected_velocity', velocity_dealiased, replace_existing=True)\n",
    "\n",
    "    return radar\n",
    "\n",
    "def alias_fix(vel,nyq,delta=3):\n",
    "    '''\n",
    "    !!!!!!!!!!!!!!!!!!\n",
    "    Removes dealiasing errors around the periphery of a folded region\n",
    "\n",
    "    Parameters: velocity array (array), nyquist velocity (number), size of window (int, must be odd, unity is no change)\n",
    "    Returns: cleaned velocity array (array)\n",
    "    '''\n",
    "    mean = convolve(vel,np.ones((delta,delta))/delta**2.)\n",
    "    mean[0,:] = vel[0,:]\n",
    "    mean[-1,:] = vel[-1,:]\n",
    "    var = vel - mean\n",
    "\n",
    "    high_idx = np.logical_and(var > nyq, var < 4*nyq)\n",
    "    low_idx = np.logical_and(var < -nyq, var > -4*nyq)\n",
    "\n",
    "    vel[high_idx] = vel[high_idx] - 2*nyq\n",
    "    vel[low_idx] = vel[low_idx] + 2*nyq\n",
    "\n",
    "    return vel\n",
    "\n",
    "def get_radar_from_aws(site, datetime_t, datetime_te):\n",
    "    \"\"\"\n",
    "    Get the closest volume of NEXRAD data to a particular datetime.\n",
    "    Parameters\n",
    "    ----------\n",
    "    site : string\n",
    "        four letter radar designation\n",
    "    datetime_t : datetime\n",
    "        desired date time\n",
    "    Returns\n",
    "    -------\n",
    "    radar : Py-ART Radar Object\n",
    "        Radar closest to the queried datetime\n",
    "    \"\"\"\n",
    "\n",
    "    # First create the query string for the bucket knowing\n",
    "    # how NOAA and AWS store the data\n",
    "    my_pref = datetime_t.strftime('%Y/%m/%d/') + site\n",
    "\n",
    "    # Connect to the bucket\n",
    "    conn = S3Connection(anon = True)\n",
    "    bucket = conn.get_bucket('noaa-nexrad-level2')\n",
    "\n",
    "    # Get a list of files\n",
    "    bucket_list = list(bucket.list(prefix = my_pref))\n",
    "\n",
    "    # we are going to create a list of keys and datetimes to allow easy searching\n",
    "    keys = []\n",
    "    datetimes = []\n",
    "\n",
    "    # populate the list\n",
    "    for i in range(len(bucket_list)):\n",
    "        this_str = str(bucket_list[i].key)\n",
    "        if 'gz' in this_str:\n",
    "            endme = this_str[-22:-4]\n",
    "            fmt = '%Y%m%d_%H%M%S_V0'\n",
    "            dt = datetime.strptime(endme, fmt)\n",
    "            datetimes.append(dt)\n",
    "            keys.append(bucket_list[i])\n",
    "\n",
    "        if this_str[-3::] == 'V06':\n",
    "            endme = this_str[-19::]\n",
    "            fmt = '%Y%m%d_%H%M%S_V06'\n",
    "            dt = datetime.strptime(endme, fmt)\n",
    "            datetimes.append(dt)\n",
    "            keys.append(bucket_list[i])\n",
    "\n",
    "    # find the closest available radar to your datetime\n",
    "    closest_datetime_b = _nearestDate(datetimes, datetime_t)\n",
    "    closest_datetime_e = _nearestDate(datetimes, datetime_te)\n",
    "\n",
    "    index_b = datetimes.index(closest_datetime_b)\n",
    "    index_e = datetimes.index(closest_datetime_e)\n",
    "\n",
    "    radar_namelist = keys[index_b:index_e+1]\n",
    "    radar_list=[]\n",
    "    for i in range(np.shape(radar_namelist)[0]):\n",
    "        localfile = tempfile.NamedTemporaryFile()\n",
    "        radar_namelist[i].get_contents_to_filename(localfile.name)\n",
    "        radar_list.append(pyart.io.read(localfile.name))\n",
    "    return radar_namelist,radar_list\n",
    "\n",
    "def getLocation(lat1, lon1, brng, distancekm):\n",
    "    lat1 = lat1 * np.pi / 180.0\n",
    "    lon1 = lon1 * np.pi / 180.0\n",
    "    #earth radius\n",
    "    R = 6378.1\n",
    "    #R = ~ 3959 MilesR = 3959\n",
    "    bearing = (brng / 90.)* np.pi / 2.\n",
    "\n",
    "    lat2 = np.arcsin(np.sin(lat1) * np.cos(distancekm/R) + np.cos(lat1) * np.sin(distancekm/R) * np.cos(bearing))\n",
    "    lon2 = lon1 + np.arctan2(np.sin(bearing)*np.sin(distancekm/R)*np.cos(lat1),np.cos(distancekm/R)-np.sin(lat1)*np.sin(lat2))\n",
    "    lon2 = 180.0 * lon2 / np.pi\n",
    "    lat2 = 180.0 * lat2 / np.pi\n",
    "    return lat2, lon2\n",
    "\n",
    "def _nearestDate(dates, pivot):\n",
    "    return min(dates, key=lambda x: abs(x - pivot))\n",
    "\n",
    "def find_nearest(array, value):\n",
    "    '''\n",
    "    Function to find index of the array in which the value is closest to\n",
    "\n",
    "    Parameters: array (array), value (number)\n",
    "    Returns: index (int)\n",
    "\n",
    "    Example: xind = CM1calc.find_nearest(x,5)\n",
    "    '''\n",
    "\n",
    "    array = np.asarray(array)\n",
    "    idx = (np.abs(array-value)).argmin()\n",
    "    return idx\n",
    "\n",
    "\n",
    "def vehicle_correction_vad(radar,df):\n",
    "    '''\n",
    "    Function that creates a 'vad_corrected_velocity' field that can be used for vad calculations, \n",
    "    but should be general enough to use for stationary VADs as well as moving PPIs. \n",
    "    Other than adding the new field, the radar times are smoothly interpolated and the azimuths are \n",
    "    corrected via the GPS pandas dataframe.\n",
    "    \n",
    "    Parameters: pyart radar object (object), pandas dataframe of appropriate radarGPS file (dataframe)\n",
    "    Returns: pyart radar object (object), speed (float), speed variance (float), bearing (float), bearing variance (float), \n",
    "             latitude (float), latitude variance (float), longitude (float), longitude variance (float)\n",
    "    \n",
    "    Example: radar, velmean, velvar, bearmean, bearvar, latmean, latvar, lonmean, lonvar = vehicle_correction_vad(radar,df)\n",
    "\n",
    "    p.s. only works if the velocity is already dealiased and there is a 'corrected_velocity' field\n",
    "         also only works if a single sweep is extracted, example: radar = radar.extract_sweeps([0])\n",
    "    '''\n",
    "    \n",
    "    #orders the time to increase monotonically instead of having a massive step jump in the middle\n",
    "    roll_mag = (np.argmax(np.abs(np.gradient(radar.time['data'])))+1)\n",
    "    times = np.roll(radar.time['data'],-roll_mag) \n",
    "    \n",
    "    #a complicated way to create linear increasing times (instead of steps) that start at 0 seconds after the time datum and increase to the middle of the second max time plateau (if confused, plotting it is helpful)\n",
    "    #from now on, we are going to assume ray_times is the fractional seconds after the time datum the ray is gathered, and we need to roll it back to match with the rest of the data\n",
    "    ray_times = np.roll(np.arange(0,((np.unique(times)[-2])/(find_nearest(times,np.unique(times)[-2])+int(np.sum(radar.time['data']==np.unique(times)[-2])/2)))*len(times)+1e-11,((np.unique(times)[-2])/(find_nearest(times,np.unique(times)[-2])+int(np.sum(radar.time['data']==np.unique(times)[-2])/2)))),roll_mag)\n",
    "\n",
    "    radar.time['data']=ray_times\n",
    "\n",
    "    print([datetime.strptime(d,'%d%m%y%H%M%S') for d in df['ddmmyy']+[f'{h:06}' for h in df['hhmmss[UTC]'].astype(int)]][19660:19680])\n",
    "    print(datetime.strptime(radar.time['units'],'seconds since %Y-%m-%dT%H:%M:%SZ'))\n",
    "    \n",
    "    df['datetime'] = [datetime.strptime(d,'%d%m%y%H%M%S') for d in df['ddmmyy']+df['hhmmss[UTC]']]\n",
    "    beginscanindex = df.loc[df['datetime'] == datetime.strptime(radar.time['units'],'seconds since %Y-%m-%dT%H:%M:%SZ')].index\n",
    "    endscanindex = df.loc[df['datetime'] == datetime.strptime(radar.time['units'],'seconds since %Y-%m-%dT%H:%M:%SZ')].index+np.ceil(np.amax(ray_times))+1\n",
    "    dfscan = df.iloc[beginscanindex[0].astype(int):endscanindex[0].astype(int)]\n",
    "    dfscan = dfscan.astype({'Bearing[degrees]': 'float'})\n",
    "    dfscan = dfscan.astype({'Velocity[knots]': 'float'})\n",
    "\n",
    "    ray_bearings = np.interp(ray_times,np.arange(len(dfscan)),dfscan['Bearing[degrees]'])\n",
    "    ray_speeds = np.interp(ray_times,np.arange(len(dfscan)),dfscan['Velocity[knots]'])\n",
    "\n",
    "    print('velocity [kts]',dfscan['Velocity[knots]'].mean(),'+-',dfscan['Velocity[knots]'].var())\n",
    "    speed = dfscan['Velocity[knots]'].mean()\n",
    "    print('bearing',dfscan['Bearing[degrees]'].mean(),'+-',dfscan['Bearing[degrees]'].var())\n",
    "    bearing = dfscan['Bearing[degrees]'].mean()\n",
    "    print('latitude',dfscan['Latitude'].astype(float).mean(),'+-',dfscan['Latitude'].astype(float).var())\n",
    "    lat = dfscan['Latitude'].astype(float).mean()\n",
    "    print('longitude',dfscan['Longitude'].astype(float).mean(),'+-',dfscan['Longitude'].astype(float).var())\n",
    "    lon = dfscan['Longitude'].astype(float).mean()\n",
    "\n",
    "    radar.azimuth['data'] += ray_bearings[:-1] #bearing\n",
    "\n",
    "    rad_vel = copy.deepcopy(radar.fields['corrected_velocity'])\n",
    "\n",
    "    rad_vel['data']+=(np.cos(np.deg2rad(radar.azimuth['data']-ray_bearings[:-1]))*(ray_speeds[:-1]/1.94384)*np.cos(np.deg2rad(radar.fixed_angle['data'][0])))[:,np.newaxis]\n",
    "\n",
    "    #fix mask, remove points very close to radar as well as the very last bin, more often than not, = bad data\n",
    "    rad_vel['data'].mask[:,:5] = True\n",
    "    rad_vel['data'].mask[:,-1] = True\n",
    "    radar.add_field('vad_corrected_velocity', rad_vel, replace_existing=True)\n",
    "\n",
    "    return radar, dfscan['Velocity[knots]'].mean(),dfscan['Velocity[knots]'].var(),dfscan['Bearing[degrees]'].mean(),dfscan['Bearing[degrees]'].var(),dfscan['Latitude'].astype(float).mean(),dfscan['Latitude'].astype(float).var(),dfscan['Longitude'].astype(float).mean(),dfscan['Longitude'].astype(float).var()\n"
   ]
  },
  {
   "cell_type": "code",
   "execution_count": 3,
   "id": "1e58eb0c-03f7-4840-960a-77bb6845af92",
   "metadata": {},
   "outputs": [],
   "source": [
    "# bring in the files\n",
    "# gps data for first ka\n",
    "ka1gps = pd.read_csv('/Users/juliabman/Desktop/research2024/GPS_Ka1_20220523.txt')\n",
    "# scan data for first ka\n",
    "ka1scan = pd.read_csv('/Users/juliabman/Desktop/research2024/20220523_Ka1_scan_log.txt', dtype=str)\n",
    "\n",
    "# dealiased vad data created from VADS.ipynb for ka 1, but not bearing corrected\n",
    "vad_fileska1 = sorted(glob.glob('/Users/juliabman/Desktop/research2024/product_raw_ka1/*'))"
   ]
  },
  {
   "cell_type": "code",
   "execution_count": 4,
   "id": "dd376a74-d61f-46bf-a383-e70d9b0fcca9",
   "metadata": {},
   "outputs": [],
   "source": [
    "dealiased_data = sorted(glob.glob('/Users/juliabman/Desktop/dealiased_data/*.nc'))"
   ]
  },
  {
   "cell_type": "code",
   "execution_count": 5,
   "id": "511d31b5-420b-42f4-aae3-45fa81ded613",
   "metadata": {},
   "outputs": [
    {
     "data": {
      "text/plain": [
       "344"
      ]
     },
     "execution_count": 5,
     "metadata": {},
     "output_type": "execute_result"
    }
   ],
   "source": [
    "np.size(vad_fileska1)"
   ]
  },
  {
   "cell_type": "code",
   "execution_count": 6,
   "id": "c9162de0-b41c-4d86-9c1c-8ac4e119c323",
   "metadata": {},
   "outputs": [
    {
     "data": {
      "text/html": [
       "<div>\n",
       "<style scoped>\n",
       "    .dataframe tbody tr th:only-of-type {\n",
       "        vertical-align: middle;\n",
       "    }\n",
       "\n",
       "    .dataframe tbody tr th {\n",
       "        vertical-align: top;\n",
       "    }\n",
       "\n",
       "    .dataframe thead th {\n",
       "        text-align: right;\n",
       "    }\n",
       "</style>\n",
       "<table border=\"1\" class=\"dataframe\">\n",
       "  <thead>\n",
       "    <tr style=\"text-align: right;\">\n",
       "      <th></th>\n",
       "      <th>ddmmyy</th>\n",
       "      <th>hhmmss[UTC]</th>\n",
       "      <th>Longitude</th>\n",
       "      <th>Latitude</th>\n",
       "      <th>Velocity[knots]</th>\n",
       "      <th>Bearing[degrees]</th>\n",
       "    </tr>\n",
       "  </thead>\n",
       "  <tbody>\n",
       "    <tr>\n",
       "      <th>0</th>\n",
       "      <td>230522</td>\n",
       "      <td>183124</td>\n",
       "      <td>-102.031783</td>\n",
       "      <td>33.588547</td>\n",
       "      <td>0.00</td>\n",
       "      <td>140.92</td>\n",
       "    </tr>\n",
       "    <tr>\n",
       "      <th>1</th>\n",
       "      <td>230522</td>\n",
       "      <td>183125</td>\n",
       "      <td>-102.031783</td>\n",
       "      <td>33.588547</td>\n",
       "      <td>0.00</td>\n",
       "      <td>140.92</td>\n",
       "    </tr>\n",
       "    <tr>\n",
       "      <th>2</th>\n",
       "      <td>230522</td>\n",
       "      <td>183126</td>\n",
       "      <td>-102.031783</td>\n",
       "      <td>33.588547</td>\n",
       "      <td>0.00</td>\n",
       "      <td>140.92</td>\n",
       "    </tr>\n",
       "    <tr>\n",
       "      <th>3</th>\n",
       "      <td>230522</td>\n",
       "      <td>183127</td>\n",
       "      <td>-102.031783</td>\n",
       "      <td>33.588547</td>\n",
       "      <td>0.00</td>\n",
       "      <td>140.92</td>\n",
       "    </tr>\n",
       "    <tr>\n",
       "      <th>4</th>\n",
       "      <td>230522</td>\n",
       "      <td>183128</td>\n",
       "      <td>-102.031783</td>\n",
       "      <td>33.588547</td>\n",
       "      <td>0.00</td>\n",
       "      <td>140.92</td>\n",
       "    </tr>\n",
       "    <tr>\n",
       "      <th>...</th>\n",
       "      <td>...</td>\n",
       "      <td>...</td>\n",
       "      <td>...</td>\n",
       "      <td>...</td>\n",
       "      <td>...</td>\n",
       "      <td>...</td>\n",
       "    </tr>\n",
       "    <tr>\n",
       "      <th>31901</th>\n",
       "      <td>240522</td>\n",
       "      <td>32353</td>\n",
       "      <td>-102.032235</td>\n",
       "      <td>33.589625</td>\n",
       "      <td>0.22</td>\n",
       "      <td>52.29</td>\n",
       "    </tr>\n",
       "    <tr>\n",
       "      <th>31902</th>\n",
       "      <td>240522</td>\n",
       "      <td>32354</td>\n",
       "      <td>-102.032227</td>\n",
       "      <td>33.589630</td>\n",
       "      <td>0.50</td>\n",
       "      <td>52.29</td>\n",
       "    </tr>\n",
       "    <tr>\n",
       "      <th>31903</th>\n",
       "      <td>240522</td>\n",
       "      <td>32355</td>\n",
       "      <td>-102.032210</td>\n",
       "      <td>33.589645</td>\n",
       "      <td>1.53</td>\n",
       "      <td>35.15</td>\n",
       "    </tr>\n",
       "    <tr>\n",
       "      <th>31904</th>\n",
       "      <td>240522</td>\n",
       "      <td>32356</td>\n",
       "      <td>-102.032200</td>\n",
       "      <td>33.589662</td>\n",
       "      <td>3.10</td>\n",
       "      <td>17.84</td>\n",
       "    </tr>\n",
       "    <tr>\n",
       "      <th>31905</th>\n",
       "      <td>240522</td>\n",
       "      <td>32357</td>\n",
       "      <td>-102.032198</td>\n",
       "      <td>33.589678</td>\n",
       "      <td>3.06</td>\n",
       "      <td>5.13</td>\n",
       "    </tr>\n",
       "  </tbody>\n",
       "</table>\n",
       "<p>31906 rows × 6 columns</p>\n",
       "</div>"
      ],
      "text/plain": [
       "       ddmmyy  hhmmss[UTC]   Longitude   Latitude  Velocity[knots]  \\\n",
       "0      230522       183124 -102.031783  33.588547             0.00   \n",
       "1      230522       183125 -102.031783  33.588547             0.00   \n",
       "2      230522       183126 -102.031783  33.588547             0.00   \n",
       "3      230522       183127 -102.031783  33.588547             0.00   \n",
       "4      230522       183128 -102.031783  33.588547             0.00   \n",
       "...       ...          ...         ...        ...              ...   \n",
       "31901  240522        32353 -102.032235  33.589625             0.22   \n",
       "31902  240522        32354 -102.032227  33.589630             0.50   \n",
       "31903  240522        32355 -102.032210  33.589645             1.53   \n",
       "31904  240522        32356 -102.032200  33.589662             3.10   \n",
       "31905  240522        32357 -102.032198  33.589678             3.06   \n",
       "\n",
       "       Bearing[degrees]  \n",
       "0                140.92  \n",
       "1                140.92  \n",
       "2                140.92  \n",
       "3                140.92  \n",
       "4                140.92  \n",
       "...                 ...  \n",
       "31901             52.29  \n",
       "31902             52.29  \n",
       "31903             35.15  \n",
       "31904             17.84  \n",
       "31905              5.13  \n",
       "\n",
       "[31906 rows x 6 columns]"
      ]
     },
     "execution_count": 6,
     "metadata": {},
     "output_type": "execute_result"
    }
   ],
   "source": [
    "ka1gps"
   ]
  },
  {
   "cell_type": "code",
   "execution_count": 10,
   "id": "496ddfc8-109c-4a67-b69e-d3caffeb37fe",
   "metadata": {},
   "outputs": [],
   "source": [
    "# data for ka 2\n",
    "\n",
    "ka2gps = pd.read_csv('/Users/juliabman/Desktop/research2024/GPS_Ka2_20220523.txt')\n",
    "# scan data for first ka\n",
    "ka2scan = pd.read_csv('/Users/juliabman/Desktop/research2024/20220523_Ka2_scan_log.txt', dtype=str)                    \n",
    "\n",
    "# dealiased vad data created from VADS.ipynb for ka 2, but not bearing corrected\n",
    "vad_fileska2 = sorted(glob.glob('/Users/juliabman/Desktop/research2024/product_raw_ka2/*'))\n",
    "vad_fileska2_only_raw = sorted(glob.glob('/Users/juliabman/Desktop/research2024/julia_product_raw_ka2/*.RAW*'))"
   ]
  },
  {
   "cell_type": "code",
   "execution_count": 11,
   "id": "6729d3fc-a01d-4a7c-9d17-ce5819bd05a0",
   "metadata": {},
   "outputs": [
    {
     "data": {
      "text/plain": [
       "325"
      ]
     },
     "execution_count": 11,
     "metadata": {},
     "output_type": "execute_result"
    }
   ],
   "source": [
    "np.size(vad_fileska2_only_raw)"
   ]
  },
  {
   "cell_type": "code",
   "execution_count": 12,
   "id": "e2b59290-b41b-491b-a6fd-bc720de7fa36",
   "metadata": {},
   "outputs": [
    {
     "data": {
      "text/plain": [
       "410"
      ]
     },
     "execution_count": 12,
     "metadata": {},
     "output_type": "execute_result"
    }
   ],
   "source": [
    "np.size(vad_fileska2)"
   ]
  },
  {
   "cell_type": "code",
   "execution_count": 13,
   "id": "c75872ec-9b74-412b-9005-91310c6adade",
   "metadata": {},
   "outputs": [],
   "source": [
    "# convert Datetime to pandas so it will be useable later\n",
    "ka1scan['Datetime'] = pd.to_datetime(ka1scan['Datetime'])\n",
    "ka2scan['Datetime'] = pd.to_datetime(ka2scan['Datetime']) "
   ]
  },
  {
   "cell_type": "code",
   "execution_count": 14,
   "id": "1fd371ac-5c75-48b0-97c6-a0c0a8afe63a",
   "metadata": {},
   "outputs": [],
   "source": [
    "# convert ddmmyy to string since thats what the code requires\n",
    "\n",
    "ka1gps['ddmmyy'] = ka1gps['ddmmyy'].astype(str)\n",
    "ka1gps['hhmmss[UTC]'] = ka1gps['hhmmss[UTC]'].astype(str)\n",
    "\n",
    "ka2gps['ddmmyy'] = ka2gps['ddmmyy'].astype(str)\n",
    "ka2gps['hhmmss[UTC]'] = ka2gps['hhmmss[UTC]'].astype(str)\n"
   ]
  },
  {
   "cell_type": "code",
   "execution_count": 58,
   "id": "01934bba-cbe9-4c25-8caa-c4db25235979",
   "metadata": {},
   "outputs": [
    {
     "data": {
      "text/html": [
       "<div>\n",
       "<style scoped>\n",
       "    .dataframe tbody tr th:only-of-type {\n",
       "        vertical-align: middle;\n",
       "    }\n",
       "\n",
       "    .dataframe tbody tr th {\n",
       "        vertical-align: top;\n",
       "    }\n",
       "\n",
       "    .dataframe thead th {\n",
       "        text-align: right;\n",
       "    }\n",
       "</style>\n",
       "<table border=\"1\" class=\"dataframe\">\n",
       "  <thead>\n",
       "    <tr style=\"text-align: right;\">\n",
       "      <th></th>\n",
       "      <th>ddmmyy</th>\n",
       "      <th>hhmmss[UTC]</th>\n",
       "      <th>Longitude</th>\n",
       "      <th>Latitude</th>\n",
       "      <th>Velocity[knots]</th>\n",
       "      <th>Bearing[degrees]</th>\n",
       "    </tr>\n",
       "  </thead>\n",
       "  <tbody>\n",
       "    <tr>\n",
       "      <th>0</th>\n",
       "      <td>230522</td>\n",
       "      <td>200239</td>\n",
       "      <td>-102.026500</td>\n",
       "      <td>33.581025</td>\n",
       "      <td>39.61</td>\n",
       "      <td>178.73</td>\n",
       "    </tr>\n",
       "    <tr>\n",
       "      <th>1</th>\n",
       "      <td>230522</td>\n",
       "      <td>200240</td>\n",
       "      <td>-102.026495</td>\n",
       "      <td>33.580842</td>\n",
       "      <td>39.42</td>\n",
       "      <td>178.93</td>\n",
       "    </tr>\n",
       "    <tr>\n",
       "      <th>2</th>\n",
       "      <td>230522</td>\n",
       "      <td>200241</td>\n",
       "      <td>-102.026492</td>\n",
       "      <td>33.580660</td>\n",
       "      <td>39.24</td>\n",
       "      <td>179.41</td>\n",
       "    </tr>\n",
       "    <tr>\n",
       "      <th>3</th>\n",
       "      <td>230522</td>\n",
       "      <td>200242</td>\n",
       "      <td>-102.026490</td>\n",
       "      <td>33.580478</td>\n",
       "      <td>39.08</td>\n",
       "      <td>179.40</td>\n",
       "    </tr>\n",
       "    <tr>\n",
       "      <th>4</th>\n",
       "      <td>230522</td>\n",
       "      <td>200243</td>\n",
       "      <td>-102.026488</td>\n",
       "      <td>33.580298</td>\n",
       "      <td>38.87</td>\n",
       "      <td>179.35</td>\n",
       "    </tr>\n",
       "    <tr>\n",
       "      <th>...</th>\n",
       "      <td>...</td>\n",
       "      <td>...</td>\n",
       "      <td>...</td>\n",
       "      <td>...</td>\n",
       "      <td>...</td>\n",
       "      <td>...</td>\n",
       "    </tr>\n",
       "    <tr>\n",
       "      <th>22101</th>\n",
       "      <td>240522</td>\n",
       "      <td>25355</td>\n",
       "      <td>-102.032913</td>\n",
       "      <td>33.592712</td>\n",
       "      <td>14.29</td>\n",
       "      <td>358.40</td>\n",
       "    </tr>\n",
       "    <tr>\n",
       "      <th>22102</th>\n",
       "      <td>240522</td>\n",
       "      <td>25356</td>\n",
       "      <td>-102.032918</td>\n",
       "      <td>33.592775</td>\n",
       "      <td>12.85</td>\n",
       "      <td>351.77</td>\n",
       "    </tr>\n",
       "    <tr>\n",
       "      <th>22103</th>\n",
       "      <td>240522</td>\n",
       "      <td>25357</td>\n",
       "      <td>-102.032937</td>\n",
       "      <td>33.592828</td>\n",
       "      <td>11.35</td>\n",
       "      <td>336.85</td>\n",
       "    </tr>\n",
       "    <tr>\n",
       "      <th>22104</th>\n",
       "      <td>240522</td>\n",
       "      <td>25358</td>\n",
       "      <td>-102.032970</td>\n",
       "      <td>33.592868</td>\n",
       "      <td>10.18</td>\n",
       "      <td>317.92</td>\n",
       "    </tr>\n",
       "    <tr>\n",
       "      <th>22105</th>\n",
       "      <td>240522</td>\n",
       "      <td>25359</td>\n",
       "      <td>-102.033012</td>\n",
       "      <td>33.592895</td>\n",
       "      <td>8.92</td>\n",
       "      <td>301.29</td>\n",
       "    </tr>\n",
       "  </tbody>\n",
       "</table>\n",
       "<p>22106 rows × 6 columns</p>\n",
       "</div>"
      ],
      "text/plain": [
       "       ddmmyy hhmmss[UTC]   Longitude   Latitude  Velocity[knots]  \\\n",
       "0      230522      200239 -102.026500  33.581025            39.61   \n",
       "1      230522      200240 -102.026495  33.580842            39.42   \n",
       "2      230522      200241 -102.026492  33.580660            39.24   \n",
       "3      230522      200242 -102.026490  33.580478            39.08   \n",
       "4      230522      200243 -102.026488  33.580298            38.87   \n",
       "...       ...         ...         ...        ...              ...   \n",
       "22101  240522       25355 -102.032913  33.592712            14.29   \n",
       "22102  240522       25356 -102.032918  33.592775            12.85   \n",
       "22103  240522       25357 -102.032937  33.592828            11.35   \n",
       "22104  240522       25358 -102.032970  33.592868            10.18   \n",
       "22105  240522       25359 -102.033012  33.592895             8.92   \n",
       "\n",
       "       Bearing[degrees]  \n",
       "0                178.73  \n",
       "1                178.93  \n",
       "2                179.41  \n",
       "3                179.40  \n",
       "4                179.35  \n",
       "...                 ...  \n",
       "22101            358.40  \n",
       "22102            351.77  \n",
       "22103            336.85  \n",
       "22104            317.92  \n",
       "22105            301.29  \n",
       "\n",
       "[22106 rows x 6 columns]"
      ]
     },
     "execution_count": 58,
     "metadata": {},
     "output_type": "execute_result"
    }
   ],
   "source": [
    "ka2gps"
   ]
  },
  {
   "cell_type": "code",
   "execution_count": 15,
   "id": "11591fbd-856f-4957-ab79-b585bda5abb4",
   "metadata": {},
   "outputs": [],
   "source": [
    "#ka1gps.datetime"
   ]
  },
  {
   "cell_type": "code",
   "execution_count": 16,
   "id": "c5b1f153-30bf-4771-956f-7f4b58ad1dce",
   "metadata": {},
   "outputs": [],
   "source": [
    "ka1_one = vad_fileska1[0]"
   ]
  },
  {
   "cell_type": "code",
   "execution_count": 17,
   "id": "dcc3d422-d4dc-4e1b-b1c8-d17566613ff6",
   "metadata": {},
   "outputs": [
    {
     "data": {
      "text/plain": [
       "'/Ka1220523201819'"
      ]
     },
     "execution_count": 17,
     "metadata": {},
     "output_type": "execute_result"
    }
   ],
   "source": [
    "ka1_one[53:-8]"
   ]
  },
  {
   "cell_type": "code",
   "execution_count": 18,
   "id": "35ca0a8f-7aac-4943-861f-fd8f4e2e0245",
   "metadata": {},
   "outputs": [],
   "source": [
    "ka2_one = vad_fileska2[0]"
   ]
  },
  {
   "cell_type": "code",
   "execution_count": 19,
   "id": "0a0703da-de89-43a4-b07d-e15a3a58a029",
   "metadata": {},
   "outputs": [
    {
     "data": {
      "text/plain": [
       "'Ka2220523205016'"
      ]
     },
     "execution_count": 19,
     "metadata": {},
     "output_type": "execute_result"
    }
   ],
   "source": [
    "ka2_one[54:-8]"
   ]
  },
  {
   "cell_type": "markdown",
   "id": "66452429-1832-46b4-8fc7-6d8ec9109dfb",
   "metadata": {},
   "source": [
    "Try to get the data from 05/24 into a separate array to force it through the vehicle correction function:"
   ]
  },
  {
   "cell_type": "code",
   "execution_count": 20,
   "id": "6d7e2742-43f6-4128-a48e-994da0ff3961",
   "metadata": {},
   "outputs": [
    {
     "data": {
      "text/plain": [
       "datetime.datetime(2022, 5, 24, 0, 0)"
      ]
     },
     "execution_count": 20,
     "metadata": {},
     "output_type": "execute_result"
    }
   ],
   "source": [
    "datetime.strptime('20220524', '%Y%m%d')"
   ]
  },
  {
   "cell_type": "code",
   "execution_count": 21,
   "id": "b36824cb-e679-4a00-a7e5-ef10d89858a4",
   "metadata": {},
   "outputs": [],
   "source": [
    "#np.where(ka1gps.datetime == datetime.strptime('20220524', '%Y%m%d'))"
   ]
  },
  {
   "cell_type": "code",
   "execution_count": 22,
   "id": "398c580e-2a07-4838-b230-68062174e5da",
   "metadata": {},
   "outputs": [],
   "source": [
    "#np.where(ka1gps.datetime == np.datetime64(datetime(2022,5,24)))"
   ]
  },
  {
   "cell_type": "code",
   "execution_count": 23,
   "id": "ab63eec7-a8ab-4d2a-9e54-225118f467fa",
   "metadata": {},
   "outputs": [],
   "source": [
    "# start_time = np.datetime64(datetime(2022,5,24,))\n",
    "# end_time = np.datetime64(datetime(2022,5,25))\n",
    "# times_0524 = ka1gps[(ka1gps.datetime >= start_time) & (ka1gps.datetime < end_time)]"
   ]
  },
  {
   "cell_type": "code",
   "execution_count": 24,
   "id": "27a225c8-945e-4c01-8cd3-8b8d2eab8ea3",
   "metadata": {},
   "outputs": [],
   "source": [
    "#start_time"
   ]
  },
  {
   "cell_type": "code",
   "execution_count": 25,
   "id": "5aafa889-e9c9-487d-b5e8-c477845c79db",
   "metadata": {},
   "outputs": [],
   "source": [
    "ka1gps_0524_old = ka1gps.loc[19668:]"
   ]
  },
  {
   "cell_type": "markdown",
   "id": "ecc448a2-5544-43d7-808a-8fb13341c51f",
   "metadata": {},
   "source": [
    "Reset the index numbers so that 19668 becomes 0, hopefully that fixes the function freaking out."
   ]
  },
  {
   "cell_type": "code",
   "execution_count": 26,
   "id": "e9b690fc-48a0-4d7d-88f5-3544ed79abfb",
   "metadata": {},
   "outputs": [],
   "source": [
    "ka1gps_0524 = ka1gps_0524_old.reset_index(drop = True)"
   ]
  },
  {
   "cell_type": "code",
   "execution_count": 27,
   "id": "b812ab22-30d0-4750-a0da-b7a6c8813e1b",
   "metadata": {},
   "outputs": [
    {
     "data": {
      "text/html": [
       "<div>\n",
       "<style scoped>\n",
       "    .dataframe tbody tr th:only-of-type {\n",
       "        vertical-align: middle;\n",
       "    }\n",
       "\n",
       "    .dataframe tbody tr th {\n",
       "        vertical-align: top;\n",
       "    }\n",
       "\n",
       "    .dataframe thead th {\n",
       "        text-align: right;\n",
       "    }\n",
       "</style>\n",
       "<table border=\"1\" class=\"dataframe\">\n",
       "  <thead>\n",
       "    <tr style=\"text-align: right;\">\n",
       "      <th></th>\n",
       "      <th>ddmmyy</th>\n",
       "      <th>hhmmss[UTC]</th>\n",
       "      <th>Longitude</th>\n",
       "      <th>Latitude</th>\n",
       "      <th>Velocity[knots]</th>\n",
       "      <th>Bearing[degrees]</th>\n",
       "    </tr>\n",
       "  </thead>\n",
       "  <tbody>\n",
       "    <tr>\n",
       "      <th>0</th>\n",
       "      <td>240522</td>\n",
       "      <td>0</td>\n",
       "      <td>-102.639515</td>\n",
       "      <td>33.771422</td>\n",
       "      <td>47.08</td>\n",
       "      <td>220.83</td>\n",
       "    </tr>\n",
       "    <tr>\n",
       "      <th>1</th>\n",
       "      <td>240522</td>\n",
       "      <td>1</td>\n",
       "      <td>-102.639678</td>\n",
       "      <td>33.771248</td>\n",
       "      <td>47.39</td>\n",
       "      <td>216.80</td>\n",
       "    </tr>\n",
       "    <tr>\n",
       "      <th>2</th>\n",
       "      <td>240522</td>\n",
       "      <td>2</td>\n",
       "      <td>-102.639827</td>\n",
       "      <td>33.771065</td>\n",
       "      <td>47.77</td>\n",
       "      <td>213.45</td>\n",
       "    </tr>\n",
       "    <tr>\n",
       "      <th>3</th>\n",
       "      <td>240522</td>\n",
       "      <td>3</td>\n",
       "      <td>-102.639968</td>\n",
       "      <td>33.770873</td>\n",
       "      <td>48.13</td>\n",
       "      <td>211.76</td>\n",
       "    </tr>\n",
       "    <tr>\n",
       "      <th>4</th>\n",
       "      <td>240522</td>\n",
       "      <td>4</td>\n",
       "      <td>-102.640105</td>\n",
       "      <td>33.770678</td>\n",
       "      <td>48.62</td>\n",
       "      <td>210.97</td>\n",
       "    </tr>\n",
       "    <tr>\n",
       "      <th>...</th>\n",
       "      <td>...</td>\n",
       "      <td>...</td>\n",
       "      <td>...</td>\n",
       "      <td>...</td>\n",
       "      <td>...</td>\n",
       "      <td>...</td>\n",
       "    </tr>\n",
       "    <tr>\n",
       "      <th>12233</th>\n",
       "      <td>240522</td>\n",
       "      <td>32353</td>\n",
       "      <td>-102.032235</td>\n",
       "      <td>33.589625</td>\n",
       "      <td>0.22</td>\n",
       "      <td>52.29</td>\n",
       "    </tr>\n",
       "    <tr>\n",
       "      <th>12234</th>\n",
       "      <td>240522</td>\n",
       "      <td>32354</td>\n",
       "      <td>-102.032227</td>\n",
       "      <td>33.589630</td>\n",
       "      <td>0.50</td>\n",
       "      <td>52.29</td>\n",
       "    </tr>\n",
       "    <tr>\n",
       "      <th>12235</th>\n",
       "      <td>240522</td>\n",
       "      <td>32355</td>\n",
       "      <td>-102.032210</td>\n",
       "      <td>33.589645</td>\n",
       "      <td>1.53</td>\n",
       "      <td>35.15</td>\n",
       "    </tr>\n",
       "    <tr>\n",
       "      <th>12236</th>\n",
       "      <td>240522</td>\n",
       "      <td>32356</td>\n",
       "      <td>-102.032200</td>\n",
       "      <td>33.589662</td>\n",
       "      <td>3.10</td>\n",
       "      <td>17.84</td>\n",
       "    </tr>\n",
       "    <tr>\n",
       "      <th>12237</th>\n",
       "      <td>240522</td>\n",
       "      <td>32357</td>\n",
       "      <td>-102.032198</td>\n",
       "      <td>33.589678</td>\n",
       "      <td>3.06</td>\n",
       "      <td>5.13</td>\n",
       "    </tr>\n",
       "  </tbody>\n",
       "</table>\n",
       "<p>12238 rows × 6 columns</p>\n",
       "</div>"
      ],
      "text/plain": [
       "       ddmmyy hhmmss[UTC]   Longitude   Latitude  Velocity[knots]  \\\n",
       "0      240522           0 -102.639515  33.771422            47.08   \n",
       "1      240522           1 -102.639678  33.771248            47.39   \n",
       "2      240522           2 -102.639827  33.771065            47.77   \n",
       "3      240522           3 -102.639968  33.770873            48.13   \n",
       "4      240522           4 -102.640105  33.770678            48.62   \n",
       "...       ...         ...         ...        ...              ...   \n",
       "12233  240522       32353 -102.032235  33.589625             0.22   \n",
       "12234  240522       32354 -102.032227  33.589630             0.50   \n",
       "12235  240522       32355 -102.032210  33.589645             1.53   \n",
       "12236  240522       32356 -102.032200  33.589662             3.10   \n",
       "12237  240522       32357 -102.032198  33.589678             3.06   \n",
       "\n",
       "       Bearing[degrees]  \n",
       "0                220.83  \n",
       "1                216.80  \n",
       "2                213.45  \n",
       "3                211.76  \n",
       "4                210.97  \n",
       "...                 ...  \n",
       "12233             52.29  \n",
       "12234             52.29  \n",
       "12235             35.15  \n",
       "12236             17.84  \n",
       "12237              5.13  \n",
       "\n",
       "[12238 rows x 6 columns]"
      ]
     },
     "execution_count": 27,
     "metadata": {},
     "output_type": "execute_result"
    }
   ],
   "source": [
    "ka1gps_0524"
   ]
  },
  {
   "cell_type": "code",
   "execution_count": 28,
   "id": "7fbacbe2-44cd-4ca8-8256-27f65b7b2b84",
   "metadata": {},
   "outputs": [],
   "source": [
    "ka1gps_0524['ddmmyy'] = ka1gps_0524['ddmmyy'].astype(str)\n",
    "ka1gps_0524['hhmmss[UTC]'] = ka1gps_0524['hhmmss[UTC]'].astype(str)"
   ]
  },
  {
   "cell_type": "code",
   "execution_count": 29,
   "id": "75911e1a-2bcc-4080-8dd4-8a7cc6d34457",
   "metadata": {},
   "outputs": [
    {
     "data": {
      "text/html": [
       "<div>\n",
       "<style scoped>\n",
       "    .dataframe tbody tr th:only-of-type {\n",
       "        vertical-align: middle;\n",
       "    }\n",
       "\n",
       "    .dataframe tbody tr th {\n",
       "        vertical-align: top;\n",
       "    }\n",
       "\n",
       "    .dataframe thead th {\n",
       "        text-align: right;\n",
       "    }\n",
       "</style>\n",
       "<table border=\"1\" class=\"dataframe\">\n",
       "  <thead>\n",
       "    <tr style=\"text-align: right;\">\n",
       "      <th></th>\n",
       "      <th>ddmmyy</th>\n",
       "      <th>hhmmss[UTC]</th>\n",
       "      <th>Longitude</th>\n",
       "      <th>Latitude</th>\n",
       "      <th>Velocity[knots]</th>\n",
       "      <th>Bearing[degrees]</th>\n",
       "    </tr>\n",
       "  </thead>\n",
       "  <tbody>\n",
       "    <tr>\n",
       "      <th>0</th>\n",
       "      <td>240522</td>\n",
       "      <td>0</td>\n",
       "      <td>-102.639515</td>\n",
       "      <td>33.771422</td>\n",
       "      <td>47.08</td>\n",
       "      <td>220.83</td>\n",
       "    </tr>\n",
       "    <tr>\n",
       "      <th>1</th>\n",
       "      <td>240522</td>\n",
       "      <td>1</td>\n",
       "      <td>-102.639678</td>\n",
       "      <td>33.771248</td>\n",
       "      <td>47.39</td>\n",
       "      <td>216.80</td>\n",
       "    </tr>\n",
       "    <tr>\n",
       "      <th>2</th>\n",
       "      <td>240522</td>\n",
       "      <td>2</td>\n",
       "      <td>-102.639827</td>\n",
       "      <td>33.771065</td>\n",
       "      <td>47.77</td>\n",
       "      <td>213.45</td>\n",
       "    </tr>\n",
       "    <tr>\n",
       "      <th>3</th>\n",
       "      <td>240522</td>\n",
       "      <td>3</td>\n",
       "      <td>-102.639968</td>\n",
       "      <td>33.770873</td>\n",
       "      <td>48.13</td>\n",
       "      <td>211.76</td>\n",
       "    </tr>\n",
       "    <tr>\n",
       "      <th>4</th>\n",
       "      <td>240522</td>\n",
       "      <td>4</td>\n",
       "      <td>-102.640105</td>\n",
       "      <td>33.770678</td>\n",
       "      <td>48.62</td>\n",
       "      <td>210.97</td>\n",
       "    </tr>\n",
       "    <tr>\n",
       "      <th>...</th>\n",
       "      <td>...</td>\n",
       "      <td>...</td>\n",
       "      <td>...</td>\n",
       "      <td>...</td>\n",
       "      <td>...</td>\n",
       "      <td>...</td>\n",
       "    </tr>\n",
       "    <tr>\n",
       "      <th>12233</th>\n",
       "      <td>240522</td>\n",
       "      <td>32353</td>\n",
       "      <td>-102.032235</td>\n",
       "      <td>33.589625</td>\n",
       "      <td>0.22</td>\n",
       "      <td>52.29</td>\n",
       "    </tr>\n",
       "    <tr>\n",
       "      <th>12234</th>\n",
       "      <td>240522</td>\n",
       "      <td>32354</td>\n",
       "      <td>-102.032227</td>\n",
       "      <td>33.589630</td>\n",
       "      <td>0.50</td>\n",
       "      <td>52.29</td>\n",
       "    </tr>\n",
       "    <tr>\n",
       "      <th>12235</th>\n",
       "      <td>240522</td>\n",
       "      <td>32355</td>\n",
       "      <td>-102.032210</td>\n",
       "      <td>33.589645</td>\n",
       "      <td>1.53</td>\n",
       "      <td>35.15</td>\n",
       "    </tr>\n",
       "    <tr>\n",
       "      <th>12236</th>\n",
       "      <td>240522</td>\n",
       "      <td>32356</td>\n",
       "      <td>-102.032200</td>\n",
       "      <td>33.589662</td>\n",
       "      <td>3.10</td>\n",
       "      <td>17.84</td>\n",
       "    </tr>\n",
       "    <tr>\n",
       "      <th>12237</th>\n",
       "      <td>240522</td>\n",
       "      <td>32357</td>\n",
       "      <td>-102.032198</td>\n",
       "      <td>33.589678</td>\n",
       "      <td>3.06</td>\n",
       "      <td>5.13</td>\n",
       "    </tr>\n",
       "  </tbody>\n",
       "</table>\n",
       "<p>12238 rows × 6 columns</p>\n",
       "</div>"
      ],
      "text/plain": [
       "       ddmmyy hhmmss[UTC]   Longitude   Latitude  Velocity[knots]  \\\n",
       "0      240522           0 -102.639515  33.771422            47.08   \n",
       "1      240522           1 -102.639678  33.771248            47.39   \n",
       "2      240522           2 -102.639827  33.771065            47.77   \n",
       "3      240522           3 -102.639968  33.770873            48.13   \n",
       "4      240522           4 -102.640105  33.770678            48.62   \n",
       "...       ...         ...         ...        ...              ...   \n",
       "12233  240522       32353 -102.032235  33.589625             0.22   \n",
       "12234  240522       32354 -102.032227  33.589630             0.50   \n",
       "12235  240522       32355 -102.032210  33.589645             1.53   \n",
       "12236  240522       32356 -102.032200  33.589662             3.10   \n",
       "12237  240522       32357 -102.032198  33.589678             3.06   \n",
       "\n",
       "       Bearing[degrees]  \n",
       "0                220.83  \n",
       "1                216.80  \n",
       "2                213.45  \n",
       "3                211.76  \n",
       "4                210.97  \n",
       "...                 ...  \n",
       "12233             52.29  \n",
       "12234             52.29  \n",
       "12235             35.15  \n",
       "12236             17.84  \n",
       "12237              5.13  \n",
       "\n",
       "[12238 rows x 6 columns]"
      ]
     },
     "execution_count": 29,
     "metadata": {},
     "output_type": "execute_result"
    }
   ],
   "source": [
    "times_0524 = ka1gps_0524\n",
    "times_0524"
   ]
  },
  {
   "cell_type": "markdown",
   "id": "794d1815-7b2a-4bb1-8b63-086e6d750939",
   "metadata": {},
   "source": [
    "Use Alex's function to dealias all VADs, including the ones in motion, and download them (radar objects) to netcdf so that I don't have to run this function every time:"
   ]
  },
  {
   "cell_type": "code",
   "execution_count": 30,
   "id": "a840c0cf-5f5e-4d83-89f7-d9e13e7fb80f",
   "metadata": {
    "scrolled": true
   },
   "outputs": [
    {
     "data": {
      "text/plain": [
       "'\\n\\nRUNNING THIS CODE WILL DEALIAS ALL DATA AND WILL TAKE HOURS!!! ALL NETCDFS HAVE ALREADY BEEN SAVED AT THE PATH\\n\\npath = \\'/Users/juliabman/Desktop/dealiased_data/\\'\\nde_aliased_vads_ka1 = []\\nfor the_file in vad_fileska1:\\n    radar = pyart.io.read(the_file)\\n    print(the_file)\\n    dealiasing = dealias_Ka(radar, PPIGC_flag=False)\\n    de_aliased_vads_ka1.append(dealiasing)\\n    #file_name = the_file.split(\\'/\\')\\n    new_file_name = pyart.io.write_cfradial(path+the_file[54:-8]+\"_dealiased.nc\", radar)\\n\\n'"
      ]
     },
     "execution_count": 30,
     "metadata": {},
     "output_type": "execute_result"
    }
   ],
   "source": [
    "'''\n",
    "\n",
    "RUNNING THIS CODE WILL DEALIAS ALL DATA AND WILL TAKE HOURS!!! ALL NETCDFS HAVE ALREADY BEEN SAVED AT THE PATH\n",
    "\n",
    "path = '/Users/juliabman/Desktop/dealiased_data/'\n",
    "de_aliased_vads_ka1 = []\n",
    "for the_file in vad_fileska1:\n",
    "    radar = pyart.io.read(the_file)\n",
    "    print(the_file)\n",
    "    dealiasing = dealias_Ka(radar, PPIGC_flag=False)\n",
    "    de_aliased_vads_ka1.append(dealiasing)\n",
    "    #file_name = the_file.split('/')\n",
    "    new_file_name = pyart.io.write_cfradial(path+the_file[54:-8]+\"_dealiased.nc\", radar)\n",
    "\n",
    "'''"
   ]
  },
  {
   "cell_type": "code",
   "execution_count": 31,
   "id": "0e7bba56-da5b-4ba3-b958-283ebfd44fe5",
   "metadata": {},
   "outputs": [
    {
     "name": "stderr",
     "output_type": "stream",
     "text": [
      "/Users/juliabman/miniforge3/envs/Research/lib/python3.9/site-packages/pyart/io/sigmet.py:146: UserWarning: Unknown type: 17, returning raw data\n",
      "  sigmet_data, sigmet_metadata = sigmetfile.read_data(full_xhdr=full_xhdr)\n",
      "/Users/juliabman/miniforge3/envs/Research/lib/python3.9/site-packages/pyart/io/sigmet.py:146: RuntimeWarning: invalid value encountered in sqrt\n",
      "  sigmet_data, sigmet_metadata = sigmetfile.read_data(full_xhdr=full_xhdr)\n"
     ]
    }
   ],
   "source": [
    "test = pyart.io.read(vad_fileska2[100])"
   ]
  },
  {
   "cell_type": "code",
   "execution_count": 32,
   "id": "6776d105-e18e-4e25-ad9d-76ba7217de8d",
   "metadata": {
    "scrolled": true
   },
   "outputs": [
    {
     "data": {
      "text/plain": [
       "{'total_power': {'units': 'dBZ',\n",
       "  'standard_name': 'equivalent_reflectivity_factor',\n",
       "  'long_name': 'Total power',\n",
       "  'coordinates': 'elevation azimuth range',\n",
       "  'data': masked_array(\n",
       "    data=[[25.5, 18.5, -30.5, ..., --, --, -7.0],\n",
       "          [25.5, 18.5, -31.5, ..., --, --, -7.0],\n",
       "          [25.5, 18.5, -31.5, ..., --, --, -7.0],\n",
       "          ...,\n",
       "          [25.5, 18.5, -24.5, ..., --, --, -7.0],\n",
       "          [25.5, 18.5, -24.5, ..., --, --, -7.0],\n",
       "          [25.5, 18.5, -25.0, ..., --, --, -7.0]],\n",
       "    mask=[[False, False, False, ...,  True,  True, False],\n",
       "          [False, False, False, ...,  True,  True, False],\n",
       "          [False, False, False, ...,  True,  True, False],\n",
       "          ...,\n",
       "          [False, False, False, ...,  True,  True, False],\n",
       "          [False, False, False, ...,  True,  True, False],\n",
       "          [False, False, False, ...,  True,  True, False]],\n",
       "    fill_value=1e+20,\n",
       "    dtype=float32),\n",
       "  '_FillValue': -9999.0},\n",
       " 'reflectivity': {'units': 'dBZ',\n",
       "  'standard_name': 'equivalent_reflectivity_factor',\n",
       "  'long_name': 'Reflectivity',\n",
       "  'coordinates': 'elevation azimuth range',\n",
       "  'data': masked_array(\n",
       "    data=[[25.5, 18.5, -30.5, ..., --, --, -5.0],\n",
       "          [25.5, 18.5, -31.5, ..., --, --, -5.0],\n",
       "          [25.5, 18.5, -31.5, ..., --, --, -5.0],\n",
       "          ...,\n",
       "          [25.5, 18.5, -24.5, ..., --, --, -5.0],\n",
       "          [25.5, 18.5, -24.5, ..., --, --, -5.0],\n",
       "          [25.5, 18.5, -25.0, ..., --, --, -5.0]],\n",
       "    mask=[[False, False, False, ...,  True,  True, False],\n",
       "          [False, False, False, ...,  True,  True, False],\n",
       "          [False, False, False, ...,  True,  True, False],\n",
       "          ...,\n",
       "          [False, False, False, ...,  True,  True, False],\n",
       "          [False, False, False, ...,  True,  True, False],\n",
       "          [False, False, False, ...,  True,  True, False]],\n",
       "    fill_value=1e+20,\n",
       "    dtype=float32),\n",
       "  '_FillValue': -9999.0},\n",
       " 'velocity': {'units': 'meters_per_second',\n",
       "  'standard_name': 'radial_velocity_of_scatterers_away_from_instrument',\n",
       "  'long_name': 'Mean dopper velocity',\n",
       "  'coordinates': 'elevation azimuth range',\n",
       "  'data': masked_array(\n",
       "    data=[[0.0, -0.2539370059967041, 0.0, ..., --, --, -32.25],\n",
       "          [0.0, -0.2539370059967041, 0.0, ..., --, --, -32.25],\n",
       "          [0.0, -0.2539370059967041, 0.0, ..., --, --, -32.25],\n",
       "          ...,\n",
       "          [0.0, -0.2539370059967041, 0.0, ..., --, --, -32.25],\n",
       "          [0.0, -0.2539370059967041, 0.0, ..., --, --, -32.25],\n",
       "          [0.0, -0.2539370059967041, 0.0, ..., --, --, -32.25]],\n",
       "    mask=[[False, False, False, ...,  True,  True, False],\n",
       "          [False, False, False, ...,  True,  True, False],\n",
       "          [False, False, False, ...,  True,  True, False],\n",
       "          ...,\n",
       "          [False, False, False, ...,  True,  True, False],\n",
       "          [False, False, False, ...,  True,  True, False],\n",
       "          [False, False, False, ...,  True,  True, False]],\n",
       "    fill_value=1e+20,\n",
       "    dtype=float32),\n",
       "  '_FillValue': -9999.0},\n",
       " 'spectrum_width': {'units': 'meters_per_second',\n",
       "  'standard_name': 'doppler_spectrum_width',\n",
       "  'long_name': 'Doppler spectrum width',\n",
       "  'coordinates': 'elevation azimuth range',\n",
       "  'data': masked_array(\n",
       "    data=[[0.1259765625, 0.755859375, 0.1259765625, ..., --, --,\n",
       "           9.826171875],\n",
       "          [0.1259765625, 0.755859375, 0.1259765625, ..., --, --,\n",
       "           9.826171875],\n",
       "          [0.1259765625, 0.755859375, 0.6298828125, ..., --, --,\n",
       "           9.826171875],\n",
       "          ...,\n",
       "          [0.1259765625, 0.755859375, 0.251953125, ..., --, --,\n",
       "           9.826171875],\n",
       "          [0.1259765625, 0.755859375, 0.1259765625, ..., --, --,\n",
       "           9.826171875],\n",
       "          [0.1259765625, 0.755859375, 0.1259765625, ..., --, --,\n",
       "           9.826171875]],\n",
       "    mask=[[False, False, False, ...,  True,  True, False],\n",
       "          [False, False, False, ...,  True,  True, False],\n",
       "          [False, False, False, ...,  True,  True, False],\n",
       "          ...,\n",
       "          [False, False, False, ...,  True,  True, False],\n",
       "          [False, False, False, ...,  True,  True, False],\n",
       "          [False, False, False, ...,  True,  True, False]],\n",
       "    fill_value=1e+20,\n",
       "    dtype=float32),\n",
       "  '_FillValue': -9999.0},\n",
       " 'corrected_velocity': {'units': 'meters_per_second',\n",
       "  'standard_name': 'corrected_radial_velocity_of_scatterers_away_from_instrument',\n",
       "  'long_name': 'Corrected mean doppler velocity',\n",
       "  'coordinates': 'elevation azimuth range',\n",
       "  'data': masked_array(\n",
       "    data=[[-3.2379e+04, -3.2383e+04, -3.1871e+04, ...,  1.0000e+00,\n",
       "            1.0000e+00,  1.0000e+00],\n",
       "          [-3.2379e+04,  3.1617e+04, -3.1613e+04, ...,  1.0000e+00,\n",
       "            1.0000e+00,  1.0000e+00],\n",
       "          [-3.2379e+04,  2.0865e+04, -3.1105e+04, ...,  1.0000e+00,\n",
       "            1.0000e+00,  1.0000e+00],\n",
       "          ...,\n",
       "          [-3.2378e+04, -2.8543e+04, -3.0836e+04, ...,  1.0000e+00,\n",
       "            1.0000e+00,  1.0000e+00],\n",
       "          [-3.2378e+04, -3.0079e+04, -2.9815e+04, ...,  1.0000e+00,\n",
       "            1.0000e+00,  1.0000e+00],\n",
       "          [-3.2378e+04,  2.9825e+04, -3.1100e+04, ...,  1.0000e+00,\n",
       "            1.0000e+00,  1.0000e+00]],\n",
       "    mask=False,\n",
       "    fill_value=1e+20,\n",
       "    dtype=float32),\n",
       "  '_FillValue': -9999.0},\n",
       " 'normalized_coherent_power': {'units': 'ratio',\n",
       "  'standard_name': 'normalized_coherent_power',\n",
       "  'long_name': 'Normalized coherent power',\n",
       "  'valid_max': 1.0,\n",
       "  'valid_min': 0.0,\n",
       "  'comment': 'Also know as signal quality index (SQI)',\n",
       "  'coordinates': 'elevation azimuth range',\n",
       "  'data': masked_array(\n",
       "    data=[[1.0, 0.9960395693778992, 0.9800379276275635, ..., --, --,\n",
       "           0.5184348821640015],\n",
       "          [1.0, 0.9960395693778992, 0.9513875842094421, ..., --, --,\n",
       "           0.5184348821640015],\n",
       "          [1.0, 0.9960395693778992, 0.9023465514183044, ..., --, --,\n",
       "           0.5184348821640015],\n",
       "          ...,\n",
       "          [1.0, 0.9960395693778992, 0.9940534830093384, ..., --, --,\n",
       "           0.5184348821640015],\n",
       "          [1.0, 0.9960395693778992, 0.9960395693778992, ..., --, --,\n",
       "           0.5184348821640015],\n",
       "          [1.0, 0.9960395693778992, 0.9940534830093384, ..., --, --,\n",
       "           0.5184348821640015]],\n",
       "    mask=[[False, False, False, ...,  True,  True, False],\n",
       "          [False, False, False, ...,  True,  True, False],\n",
       "          [False, False, False, ...,  True,  True, False],\n",
       "          ...,\n",
       "          [False, False, False, ...,  True,  True, False],\n",
       "          [False, False, False, ...,  True,  True, False],\n",
       "          [False, False, False, ...,  True,  True, False]],\n",
       "    fill_value=1e+20,\n",
       "    dtype=float32),\n",
       "  '_FillValue': -9999.0}}"
      ]
     },
     "execution_count": 32,
     "metadata": {},
     "output_type": "execute_result"
    }
   ],
   "source": [
    "test.fields"
   ]
  },
  {
   "cell_type": "code",
   "execution_count": 33,
   "id": "f234f8b1-6080-4dd7-8ade-b9b15b04c2a1",
   "metadata": {
    "scrolled": true
   },
   "outputs": [
    {
     "data": {
      "text/plain": [
       "{'total_power': {'units': 'dBZ',\n",
       "  'standard_name': 'equivalent_reflectivity_factor',\n",
       "  'long_name': 'Total power',\n",
       "  'coordinates': 'elevation azimuth range',\n",
       "  'data': masked_array(\n",
       "    data=[[25.5, 18.5, -24.0, ..., --, --, 7.0],\n",
       "          [25.5, 19.0, -25.0, ..., --, --, 7.0],\n",
       "          [25.5, 18.5, -25.0, ..., --, --, 7.0],\n",
       "          ...,\n",
       "          [25.5, 18.5, -21.0, ..., --, --, 7.0],\n",
       "          [25.5, 18.5, -21.0, ..., --, --, 7.0],\n",
       "          [25.5, 18.5, -21.0, ..., --, --, 7.0]],\n",
       "    mask=[[False, False, False, ...,  True,  True, False],\n",
       "          [False, False, False, ...,  True,  True, False],\n",
       "          [False, False, False, ...,  True,  True, False],\n",
       "          ...,\n",
       "          [False, False, False, ...,  True,  True, False],\n",
       "          [False, False, False, ...,  True,  True, False],\n",
       "          [False, False, False, ...,  True,  True, False]],\n",
       "    fill_value=1e+20,\n",
       "    dtype=float32),\n",
       "  '_FillValue': -9999.0},\n",
       " 'reflectivity': {'units': 'dBZ',\n",
       "  'standard_name': 'equivalent_reflectivity_factor',\n",
       "  'long_name': 'Reflectivity',\n",
       "  'coordinates': 'elevation azimuth range',\n",
       "  'data': masked_array(\n",
       "    data=[[25.5, 18.5, -24.0, ..., --, --, 6.5],\n",
       "          [25.5, 18.5, -25.0, ..., --, --, 6.5],\n",
       "          [25.5, 18.5, -25.5, ..., --, --, 6.5],\n",
       "          ...,\n",
       "          [25.5, 18.5, -21.0, ..., --, --, 6.5],\n",
       "          [25.5, 18.5, -21.0, ..., --, --, 6.5],\n",
       "          [25.5, 18.5, -21.0, ..., --, --, 6.5]],\n",
       "    mask=[[False, False, False, ...,  True,  True, False],\n",
       "          [False, False, False, ...,  True,  True, False],\n",
       "          [False, False, False, ...,  True,  True, False],\n",
       "          ...,\n",
       "          [False, False, False, ...,  True,  True, False],\n",
       "          [False, False, False, ...,  True,  True, False],\n",
       "          [False, False, False, ...,  True,  True, False]],\n",
       "    fill_value=1e+20,\n",
       "    dtype=float32),\n",
       "  '_FillValue': -9999.0},\n",
       " 'velocity': {'units': 'meters_per_second',\n",
       "  'standard_name': 'radial_velocity_of_scatterers_away_from_instrument',\n",
       "  'long_name': 'Mean dopper velocity',\n",
       "  'coordinates': 'elevation azimuth range',\n",
       "  'data': masked_array(\n",
       "    data=[[0.0, -0.2539370059967041, 0.0, ..., --, --, 27.93307113647461],\n",
       "          [0.0, -0.2539370059967041, 0.0, ..., --, --, 27.93307113647461],\n",
       "          [0.0, -0.2539370059967041, 0.0, ..., --, --, 27.93307113647461],\n",
       "          ...,\n",
       "          [0.0, -0.2539370059967041, 0.0, ..., --, --, 27.93307113647461],\n",
       "          [0.0, -0.2539370059967041, 0.0, ..., --, --, 27.93307113647461],\n",
       "          [0.0, -0.2539370059967041, 0.0, ..., --, --, 27.93307113647461]],\n",
       "    mask=[[False, False, False, ...,  True,  True, False],\n",
       "          [False, False, False, ...,  True,  True, False],\n",
       "          [False, False, False, ...,  True,  True, False],\n",
       "          ...,\n",
       "          [False, False, False, ...,  True,  True, False],\n",
       "          [False, False, False, ...,  True,  True, False],\n",
       "          [False, False, False, ...,  True,  True, False]],\n",
       "    fill_value=1e+20,\n",
       "    dtype=float32),\n",
       "  '_FillValue': -9999.0},\n",
       " 'spectrum_width': {'units': 'meters_per_second',\n",
       "  'standard_name': 'doppler_spectrum_width',\n",
       "  'long_name': 'Doppler spectrum width',\n",
       "  'coordinates': 'elevation azimuth range',\n",
       "  'data': masked_array(\n",
       "    data=[[0.1259765625, 0.8818359375, 0.251953125, ..., --, --,\n",
       "           0.1259765625],\n",
       "          [0.1259765625, 0.8818359375, 0.1259765625, ..., --, --,\n",
       "           0.1259765625],\n",
       "          [0.1259765625, 0.8818359375, 0.1259765625, ..., --, --,\n",
       "           0.1259765625],\n",
       "          ...,\n",
       "          [0.1259765625, 0.8818359375, 0.1259765625, ..., --, --,\n",
       "           0.1259765625],\n",
       "          [0.1259765625, 0.8818359375, 0.1259765625, ..., --, --,\n",
       "           0.1259765625],\n",
       "          [0.1259765625, 0.8818359375, 0.1259765625, ..., --, --,\n",
       "           0.1259765625]],\n",
       "    mask=[[False, False, False, ...,  True,  True, False],\n",
       "          [False, False, False, ...,  True,  True, False],\n",
       "          [False, False, False, ...,  True,  True, False],\n",
       "          ...,\n",
       "          [False, False, False, ...,  True,  True, False],\n",
       "          [False, False, False, ...,  True,  True, False],\n",
       "          [False, False, False, ...,  True,  True, False]],\n",
       "    fill_value=1e+20,\n",
       "    dtype=float32),\n",
       "  '_FillValue': -9999.0},\n",
       " 'corrected_velocity': {'units': 'meters_per_second',\n",
       "  'standard_name': 'corrected_radial_velocity_of_scatterers_away_from_instrument',\n",
       "  'long_name': 'Corrected mean doppler velocity',\n",
       "  'coordinates': 'elevation azimuth range',\n",
       "  'data': masked_array(\n",
       "    data=[[-3.2379e+04, -2.8543e+04, -3.1872e+04, ...,  1.0000e+00,\n",
       "            1.0000e+00,  1.0000e+00],\n",
       "          [-3.2379e+04,  2.1121e+04, -3.2384e+04, ...,  1.0000e+00,\n",
       "            1.0000e+00,  1.0000e+00],\n",
       "          [-3.2379e+04,  3.1617e+04, -3.2639e+04, ...,  1.0000e+00,\n",
       "            1.0000e+00,  1.0000e+00],\n",
       "          ...,\n",
       "          [-3.2378e+04,  2.8801e+04, -3.2384e+04, ...,  1.0000e+00,\n",
       "            1.0000e+00,  1.0000e+00],\n",
       "          [-3.2378e+04, -3.2639e+04, -3.2381e+04, ...,  1.0000e+00,\n",
       "            1.0000e+00,  1.0000e+00],\n",
       "          [-3.2378e+04, -3.0079e+04, -3.2127e+04, ...,  1.0000e+00,\n",
       "            1.0000e+00,  1.0000e+00]],\n",
       "    mask=False,\n",
       "    fill_value=1e+20,\n",
       "    dtype=float32),\n",
       "  '_FillValue': -9999.0},\n",
       " 'normalized_coherent_power': {'units': 'ratio',\n",
       "  'standard_name': 'normalized_coherent_power',\n",
       "  'long_name': 'Normalized coherent power',\n",
       "  'valid_max': 1.0,\n",
       "  'valid_min': 0.0,\n",
       "  'comment': 'Also know as signal quality index (SQI)',\n",
       "  'coordinates': 'elevation azimuth range',\n",
       "  'data': masked_array(\n",
       "    data=[[1.0, 0.9960395693778992, 0.9960395693778992, ..., --, --,\n",
       "           0.06286945939064026],\n",
       "          [1.0, 0.9960395693778992, 0.9940534830093384, ..., --, --,\n",
       "           0.06286945939064026],\n",
       "          [1.0, 0.9960395693778992, 0.9940534830093384, ..., --, --,\n",
       "           0.06286945939064026],\n",
       "          ...,\n",
       "          [1.0, 0.9960395693778992, 0.9980217814445496, ..., --, --,\n",
       "           0.06286945939064026],\n",
       "          [1.0, 0.9960395693778992, 0.9980217814445496, ..., --, --,\n",
       "           0.06286945939064026],\n",
       "          [1.0, 0.9960395693778992, 0.9980217814445496, ..., --, --,\n",
       "           0.06286945939064026]],\n",
       "    mask=[[False, False, False, ...,  True,  True, False],\n",
       "          [False, False, False, ...,  True,  True, False],\n",
       "          [False, False, False, ...,  True,  True, False],\n",
       "          ...,\n",
       "          [False, False, False, ...,  True,  True, False],\n",
       "          [False, False, False, ...,  True,  True, False],\n",
       "          [False, False, False, ...,  True,  True, False]],\n",
       "    fill_value=1e+20,\n",
       "    dtype=float32),\n",
       "  '_FillValue': -9999.0}}"
      ]
     },
     "execution_count": 33,
     "metadata": {},
     "output_type": "execute_result"
    }
   ],
   "source": [
    "test_my_copy = pyart.io.read(vad_fileska2[300])\n",
    "test_my_copy.fields"
   ]
  },
  {
   "cell_type": "code",
   "execution_count": 34,
   "id": "dddf2723-b7ed-4fad-8da7-b48ce2b6fe2b",
   "metadata": {
    "scrolled": true
   },
   "outputs": [
    {
     "data": {
      "text/plain": [
       "'\\n\\n# RUNNING THIS CODE WILL DEALIAS ALL DATA AND WILL TAKE HOURS!!! ALL NETCDFS HAVE ALREADY BEEN SAVED AT THE PATH\\n\\npath = \\'/Users/juliabman/Desktop/dealiased_data/ka2/\\'\\nde_aliased_vads_ka2 = []\\nfor the_file in vad_fileska2[276:]: # I have 196 and it errored out so let\\'s see if itll continue\\n    radar = pyart.io.read(the_file)\\n    print(the_file)\\n    dealiasing = dealias_Ka(radar, PPIGC_flag=False)\\n    de_aliased_vads_ka2.append(dealiasing)\\n    #file_name = the_file.split(\\'/\\')\\n    new_file_name = pyart.io.write_cfradial(path+the_file[54:-8]+\"_dealiased.nc\", radar)\\n    #print(new_file_name)\\n'"
      ]
     },
     "execution_count": 34,
     "metadata": {},
     "output_type": "execute_result"
    }
   ],
   "source": [
    "'''\n",
    "\n",
    "# RUNNING THIS CODE WILL DEALIAS ALL DATA AND WILL TAKE HOURS!!! ALL NETCDFS HAVE ALREADY BEEN SAVED AT THE PATH\n",
    "\n",
    "path = '/Users/juliabman/Desktop/dealiased_data/ka2/'\n",
    "de_aliased_vads_ka2 = []\n",
    "for the_file in vad_fileska2[276:]: # I have 196 and it errored out so let's see if itll continue\n",
    "    radar = pyart.io.read(the_file)\n",
    "    print(the_file)\n",
    "    dealiasing = dealias_Ka(radar, PPIGC_flag=False)\n",
    "    de_aliased_vads_ka2.append(dealiasing)\n",
    "    #file_name = the_file.split('/')\n",
    "    new_file_name = pyart.io.write_cfradial(path+the_file[54:-8]+\"_dealiased.nc\", radar)\n",
    "    #print(new_file_name)\n",
    "'''"
   ]
  },
  {
   "cell_type": "code",
   "execution_count": 36,
   "id": "9bb94e7b-e5be-4a20-9c3d-9f782fbd06cc",
   "metadata": {},
   "outputs": [],
   "source": [
    "#np.size(de_aliased_vads_ka1)"
   ]
  },
  {
   "cell_type": "markdown",
   "id": "5fb7f87b-b0f0-41d2-ad9d-645876358671",
   "metadata": {},
   "source": [
    "Bring in all the netcdf files for ka1 that can be converted into radar objects:"
   ]
  },
  {
   "cell_type": "code",
   "execution_count": 49,
   "id": "e3406ad9-57e8-4df3-a882-f8df38ed1006",
   "metadata": {},
   "outputs": [],
   "source": [
    "dealiased_data_ka1 = sorted(glob.glob('/Users/juliabman/Desktop/dealiased_data/ka1/*.nc'))"
   ]
  },
  {
   "cell_type": "code",
   "execution_count": 50,
   "id": "e2e71f68-35d0-4c3a-ad59-a762c82134bd",
   "metadata": {},
   "outputs": [],
   "source": [
    "vad_fileska1 = sorted(glob.glob('/Users/juliabman/Desktop/research2024/product_raw_ka1/*.nc'))"
   ]
  },
  {
   "cell_type": "code",
   "execution_count": 51,
   "id": "35925848-4c61-4c0a-8326-b0659fce94a9",
   "metadata": {},
   "outputs": [],
   "source": [
    "dealiased_data_ka2 = sorted(glob.glob('/Users/juliabman/Desktop/dealiased_data/ka2/*.nc'))"
   ]
  },
  {
   "cell_type": "code",
   "execution_count": 52,
   "id": "800e7941-85ea-4043-b549-01e3c7fc6e7d",
   "metadata": {},
   "outputs": [
    {
     "data": {
      "text/plain": [
       "307"
      ]
     },
     "execution_count": 52,
     "metadata": {},
     "output_type": "execute_result"
    }
   ],
   "source": [
    "np.size(dealiased_data_ka1)"
   ]
  },
  {
   "cell_type": "markdown",
   "id": "42354da0-7c9d-422c-9269-99c5f96aff91",
   "metadata": {},
   "source": [
    "**There were 325 RAW files for Ka2, but 318 got dealiased. 7 were corrupted in various ways (missing velocity fields, etc.) **"
   ]
  },
  {
   "cell_type": "code",
   "execution_count": 41,
   "id": "bb3c07d9-a8e6-4eb8-8a60-37f37aed2d2c",
   "metadata": {},
   "outputs": [
    {
     "data": {
      "text/plain": [
       "307"
      ]
     },
     "execution_count": 41,
     "metadata": {},
     "output_type": "execute_result"
    }
   ],
   "source": [
    "np.size(dealiased_data)"
   ]
  },
  {
   "cell_type": "code",
   "execution_count": 42,
   "id": "896cf231-a228-441f-8d33-9ef884019856",
   "metadata": {},
   "outputs": [
    {
     "data": {
      "text/plain": [
       "37"
      ]
     },
     "execution_count": 42,
     "metadata": {},
     "output_type": "execute_result"
    }
   ],
   "source": [
    "np.size(vad_fileska1)"
   ]
  },
  {
   "cell_type": "code",
   "execution_count": 43,
   "id": "9954d938-11c7-4b0d-888a-a2d5a1134e40",
   "metadata": {},
   "outputs": [],
   "source": [
    "one = vad_fileska1[0]"
   ]
  },
  {
   "cell_type": "code",
   "execution_count": 44,
   "id": "231c1fed-0fe6-4d3e-89e7-423ca1b1fdaa",
   "metadata": {},
   "outputs": [
    {
     "data": {
      "text/plain": [
       "'Ka1220523205632'"
      ]
     },
     "execution_count": 44,
     "metadata": {},
     "output_type": "execute_result"
    }
   ],
   "source": [
    "one[-18:-3]"
   ]
  },
  {
   "cell_type": "markdown",
   "id": "22b82635-2af4-4a5d-8650-2c926dc50ea4",
   "metadata": {},
   "source": [
    "344 total vad files exist, but only 307 are raw data were produced by the function. The other 37 have already been created by Alex's original vad code and were dealiased netcdfs and not raw data, so the true total is 307."
   ]
  },
  {
   "cell_type": "code",
   "execution_count": 45,
   "id": "898dfaa1-1877-43f7-8817-7df8c7a23af9",
   "metadata": {},
   "outputs": [],
   "source": [
    "#all_dealiased_data_ka1"
   ]
  },
  {
   "cell_type": "code",
   "execution_count": 46,
   "id": "836489b4-ed49-47a2-9618-b333193250a9",
   "metadata": {
    "scrolled": true
   },
   "outputs": [],
   "source": [
    "# path = '/Users/juliabman/Desktop/dealiased_data/'\n",
    "# all_rest_of_ka1 = []\n",
    "# for thefile in vad_fileska1[:]:\n",
    "#     print(thefile)\n",
    "#     radar = pyart.io.read(thefile)\n",
    "#     print(radar)\n",
    "#     write = pyart.io.write_cfradial(path+thefile[-18:-3]+\"_dealiased.nc\", radar)\n",
    "#     print(write)\n",
    "#     all_rest_of_ka1.append(write)"
   ]
  },
  {
   "cell_type": "code",
   "execution_count": null,
   "id": "5a960905-593a-47cf-86e2-13a5be134fa2",
   "metadata": {},
   "outputs": [],
   "source": [
    "time_check = []\n",
    "                        \n",
    "for the_file in all_dealiased_data_ka1[:10]:\n",
    "    read = pyart.io.read_cfradial(the_file) #converts netcdfs back to radar objects!\n",
    "    print(the_file)\n",
    "    times = read.time['data']\n",
    "    time_check.append(times)"
   ]
  },
  {
   "cell_type": "code",
   "execution_count": null,
   "id": "2ba69b4d-9747-4e35-9995-7f6c3ef1a030",
   "metadata": {},
   "outputs": [],
   "source": [
    "# you can indeed see that they are being read in as radar objects\n",
    "read"
   ]
  },
  {
   "cell_type": "code",
   "execution_count": null,
   "id": "b62e6014-f80c-4d27-9d71-b536f0f7fb20",
   "metadata": {
    "scrolled": true
   },
   "outputs": [],
   "source": [
    "first_one = pyart.io.read_cfradial(all_dealiased_data_ka1[0])"
   ]
  },
  {
   "cell_type": "code",
   "execution_count": null,
   "id": "8451acea-d903-4fa3-95ab-ba9ab4daf239",
   "metadata": {},
   "outputs": [],
   "source": [
    "#first_one.fields"
   ]
  },
  {
   "cell_type": "markdown",
   "id": "392c7089-0f43-48ff-ab29-905bd7d5511d",
   "metadata": {},
   "source": [
    "The time field for these vad netcdfs are in seconds since scan started, which is not very useful. It's better to just pull the time from the title of the VAD."
   ]
  },
  {
   "cell_type": "markdown",
   "id": "4c856b4b-56ed-409a-96d6-d71d4e2fc89e",
   "metadata": {},
   "source": [
    "Correct the vads for vehicle motion (can only do one day at a time??):"
   ]
  },
  {
   "cell_type": "code",
   "execution_count": 57,
   "id": "d6bf2891-f128-4914-91c2-64be50dd3dad",
   "metadata": {
    "scrolled": true
   },
   "outputs": [
    {
     "name": "stdout",
     "output_type": "stream",
     "text": [
      "/Users/juliabman/Desktop/dealiased_data/ka1/Ka1220523201819_dealiased.nc\n",
      "[datetime.datetime(2022, 5, 23, 23, 59, 52), datetime.datetime(2022, 5, 23, 23, 59, 53), datetime.datetime(2022, 5, 23, 23, 59, 54), datetime.datetime(2022, 5, 23, 23, 59, 55), datetime.datetime(2022, 5, 23, 23, 59, 56), datetime.datetime(2022, 5, 23, 23, 59, 57), datetime.datetime(2022, 5, 23, 23, 59, 58), datetime.datetime(2022, 5, 23, 23, 59, 59), datetime.datetime(2022, 5, 24, 0, 0), datetime.datetime(2022, 5, 24, 0, 0, 1), datetime.datetime(2022, 5, 24, 0, 0, 2), datetime.datetime(2022, 5, 24, 0, 0, 3), datetime.datetime(2022, 5, 24, 0, 0, 4), datetime.datetime(2022, 5, 24, 0, 0, 5), datetime.datetime(2022, 5, 24, 0, 0, 6), datetime.datetime(2022, 5, 24, 0, 0, 7), datetime.datetime(2022, 5, 24, 0, 0, 8), datetime.datetime(2022, 5, 24, 0, 0, 9), datetime.datetime(2022, 5, 24, 0, 0, 10), datetime.datetime(2022, 5, 24, 0, 0, 11)]\n",
      "2022-05-23 20:18:19\n",
      "velocity [kts] 41.32212765957447 +- 13.54162580943571\n",
      "bearing 270.85765957446813 +- 0.029009620721553598\n",
      "latitude 33.59384376595745 +- 1.4936179463576308e-09\n",
      "longitude -102.34187227659575 +- 9.543316030530634e-06\n",
      "/Users/juliabman/Desktop/dealiased_data/ka1/Ka1220523201849_dealiased.nc\n",
      "[datetime.datetime(2022, 5, 23, 23, 59, 52), datetime.datetime(2022, 5, 23, 23, 59, 53), datetime.datetime(2022, 5, 23, 23, 59, 54), datetime.datetime(2022, 5, 23, 23, 59, 55), datetime.datetime(2022, 5, 23, 23, 59, 56), datetime.datetime(2022, 5, 23, 23, 59, 57), datetime.datetime(2022, 5, 23, 23, 59, 58), datetime.datetime(2022, 5, 23, 23, 59, 59), datetime.datetime(2022, 5, 24, 0, 0), datetime.datetime(2022, 5, 24, 0, 0, 1), datetime.datetime(2022, 5, 24, 0, 0, 2), datetime.datetime(2022, 5, 24, 0, 0, 3), datetime.datetime(2022, 5, 24, 0, 0, 4), datetime.datetime(2022, 5, 24, 0, 0, 5), datetime.datetime(2022, 5, 24, 0, 0, 6), datetime.datetime(2022, 5, 24, 0, 0, 7), datetime.datetime(2022, 5, 24, 0, 0, 8), datetime.datetime(2022, 5, 24, 0, 0, 9), datetime.datetime(2022, 5, 24, 0, 0, 10), datetime.datetime(2022, 5, 24, 0, 0, 11)]\n",
      "2022-05-23 20:18:49\n",
      "velocity [kts] 42.164255319148936 +- 1.027729324699353\n",
      "bearing 270.8704255319148 +- 0.05258242368177786\n",
      "latitude 33.593926042553186 +- 1.2373459759575503e-09\n",
      "longitude -102.34876153191492 +- 1.0180932515258678e-05\n",
      "/Users/juliabman/Desktop/dealiased_data/ka1/Ka1220523201919_dealiased.nc\n",
      "[datetime.datetime(2022, 5, 23, 23, 59, 52), datetime.datetime(2022, 5, 23, 23, 59, 53), datetime.datetime(2022, 5, 23, 23, 59, 54), datetime.datetime(2022, 5, 23, 23, 59, 55), datetime.datetime(2022, 5, 23, 23, 59, 56), datetime.datetime(2022, 5, 23, 23, 59, 57), datetime.datetime(2022, 5, 23, 23, 59, 58), datetime.datetime(2022, 5, 23, 23, 59, 59), datetime.datetime(2022, 5, 24, 0, 0), datetime.datetime(2022, 5, 24, 0, 0, 1), datetime.datetime(2022, 5, 24, 0, 0, 2), datetime.datetime(2022, 5, 24, 0, 0, 3), datetime.datetime(2022, 5, 24, 0, 0, 4), datetime.datetime(2022, 5, 24, 0, 0, 5), datetime.datetime(2022, 5, 24, 0, 0, 6), datetime.datetime(2022, 5, 24, 0, 0, 7), datetime.datetime(2022, 5, 24, 0, 0, 8), datetime.datetime(2022, 5, 24, 0, 0, 9), datetime.datetime(2022, 5, 24, 0, 0, 10), datetime.datetime(2022, 5, 24, 0, 0, 11)]\n",
      "2022-05-23 20:19:19\n",
      "velocity [kts] 39.81755555555556 +- 15.065437070707075\n",
      "bearing 270.8557777777778 +- 0.04388858585858599\n",
      "latitude 33.59399988888888 +- 1.142237373732777e-09\n",
      "longitude -102.35545055555556 +- 8.77392970707008e-06\n",
      "/Users/juliabman/Desktop/dealiased_data/ka1/Ka1220523201948_dealiased.nc\n",
      "[datetime.datetime(2022, 5, 23, 23, 59, 52), datetime.datetime(2022, 5, 23, 23, 59, 53), datetime.datetime(2022, 5, 23, 23, 59, 54), datetime.datetime(2022, 5, 23, 23, 59, 55), datetime.datetime(2022, 5, 23, 23, 59, 56), datetime.datetime(2022, 5, 23, 23, 59, 57), datetime.datetime(2022, 5, 23, 23, 59, 58), datetime.datetime(2022, 5, 23, 23, 59, 59), datetime.datetime(2022, 5, 24, 0, 0), datetime.datetime(2022, 5, 24, 0, 0, 1), datetime.datetime(2022, 5, 24, 0, 0, 2), datetime.datetime(2022, 5, 24, 0, 0, 3), datetime.datetime(2022, 5, 24, 0, 0, 4), datetime.datetime(2022, 5, 24, 0, 0, 5), datetime.datetime(2022, 5, 24, 0, 0, 6), datetime.datetime(2022, 5, 24, 0, 0, 7), datetime.datetime(2022, 5, 24, 0, 0, 8), datetime.datetime(2022, 5, 24, 0, 0, 9), datetime.datetime(2022, 5, 24, 0, 0, 10), datetime.datetime(2022, 5, 24, 0, 0, 11)]\n",
      "2022-05-23 20:19:48\n",
      "velocity [kts] 2.022109090909091 +- 46.54490009736711\n",
      "bearing 298.9498181818182 +- 2230.512197052492\n",
      "latitude 33.594930689090916 +- 5.005760261271606e-08\n",
      "longitude -102.36199305272727 +- 4.2671584967425975e-07\n",
      "/Users/juliabman/Desktop/dealiased_data/ka1/Ka1220523202019_dealiased.nc\n",
      "[datetime.datetime(2022, 5, 23, 23, 59, 52), datetime.datetime(2022, 5, 23, 23, 59, 53), datetime.datetime(2022, 5, 23, 23, 59, 54), datetime.datetime(2022, 5, 23, 23, 59, 55), datetime.datetime(2022, 5, 23, 23, 59, 56), datetime.datetime(2022, 5, 23, 23, 59, 57), datetime.datetime(2022, 5, 23, 23, 59, 58), datetime.datetime(2022, 5, 23, 23, 59, 59), datetime.datetime(2022, 5, 24, 0, 0), datetime.datetime(2022, 5, 24, 0, 0, 1), datetime.datetime(2022, 5, 24, 0, 0, 2), datetime.datetime(2022, 5, 24, 0, 0, 3), datetime.datetime(2022, 5, 24, 0, 0, 4), datetime.datetime(2022, 5, 24, 0, 0, 5), datetime.datetime(2022, 5, 24, 0, 0, 6), datetime.datetime(2022, 5, 24, 0, 0, 7), datetime.datetime(2022, 5, 24, 0, 0, 8), datetime.datetime(2022, 5, 24, 0, 0, 9), datetime.datetime(2022, 5, 24, 0, 0, 10), datetime.datetime(2022, 5, 24, 0, 0, 11)]\n",
      "2022-05-23 20:20:19\n",
      "velocity [kts] 6.97108695652174 +- 18.56685434782609\n",
      "bearing 232.12782608695653 +- 15367.517048502414\n",
      "latitude 33.594825086956526 +- 3.5188881159128695e-08\n",
      "longitude -102.36167058695658 +- 1.9869887004805425e-07\n",
      "/Users/juliabman/Desktop/dealiased_data/ka1/Ka1220523205632_dealiased.nc\n",
      "[datetime.datetime(2022, 5, 23, 23, 59, 52), datetime.datetime(2022, 5, 23, 23, 59, 53), datetime.datetime(2022, 5, 23, 23, 59, 54), datetime.datetime(2022, 5, 23, 23, 59, 55), datetime.datetime(2022, 5, 23, 23, 59, 56), datetime.datetime(2022, 5, 23, 23, 59, 57), datetime.datetime(2022, 5, 23, 23, 59, 58), datetime.datetime(2022, 5, 23, 23, 59, 59), datetime.datetime(2022, 5, 24, 0, 0), datetime.datetime(2022, 5, 24, 0, 0, 1), datetime.datetime(2022, 5, 24, 0, 0, 2), datetime.datetime(2022, 5, 24, 0, 0, 3), datetime.datetime(2022, 5, 24, 0, 0, 4), datetime.datetime(2022, 5, 24, 0, 0, 5), datetime.datetime(2022, 5, 24, 0, 0, 6), datetime.datetime(2022, 5, 24, 0, 0, 7), datetime.datetime(2022, 5, 24, 0, 0, 8), datetime.datetime(2022, 5, 24, 0, 0, 9), datetime.datetime(2022, 5, 24, 0, 0, 10), datetime.datetime(2022, 5, 24, 0, 0, 11)]\n",
      "2022-05-23 20:56:32\n",
      "velocity [kts] 0.0 +- 0.0\n",
      "bearing 308.58 +- 0.0\n",
      "latitude 33.594993740740726 +- 9.503843418117823e-13\n",
      "longitude -102.36219403703704 +- 1.0174702953514373e-12\n",
      "/Users/juliabman/Desktop/dealiased_data/ka1/Ka1220523205701_dealiased.nc\n",
      "[datetime.datetime(2022, 5, 23, 23, 59, 52), datetime.datetime(2022, 5, 23, 23, 59, 53), datetime.datetime(2022, 5, 23, 23, 59, 54), datetime.datetime(2022, 5, 23, 23, 59, 55), datetime.datetime(2022, 5, 23, 23, 59, 56), datetime.datetime(2022, 5, 23, 23, 59, 57), datetime.datetime(2022, 5, 23, 23, 59, 58), datetime.datetime(2022, 5, 23, 23, 59, 59), datetime.datetime(2022, 5, 24, 0, 0), datetime.datetime(2022, 5, 24, 0, 0, 1), datetime.datetime(2022, 5, 24, 0, 0, 2), datetime.datetime(2022, 5, 24, 0, 0, 3), datetime.datetime(2022, 5, 24, 0, 0, 4), datetime.datetime(2022, 5, 24, 0, 0, 5), datetime.datetime(2022, 5, 24, 0, 0, 6), datetime.datetime(2022, 5, 24, 0, 0, 7), datetime.datetime(2022, 5, 24, 0, 0, 8), datetime.datetime(2022, 5, 24, 0, 0, 9), datetime.datetime(2022, 5, 24, 0, 0, 10), datetime.datetime(2022, 5, 24, 0, 0, 11)]\n",
      "2022-05-23 20:57:01\n",
      "velocity [kts] 0.0 +- 0.0\n",
      "bearing 308.58 +- 0.0\n",
      "latitude 33.59499269565218 +- 2.1642512275569108e-13\n",
      "longitude -102.36219295652172 +- 4.2512078288286925e-14\n",
      "/Users/juliabman/Desktop/dealiased_data/ka1/Ka1220523205730_dealiased.nc\n",
      "[datetime.datetime(2022, 5, 23, 23, 59, 52), datetime.datetime(2022, 5, 23, 23, 59, 53), datetime.datetime(2022, 5, 23, 23, 59, 54), datetime.datetime(2022, 5, 23, 23, 59, 55), datetime.datetime(2022, 5, 23, 23, 59, 56), datetime.datetime(2022, 5, 23, 23, 59, 57), datetime.datetime(2022, 5, 23, 23, 59, 58), datetime.datetime(2022, 5, 23, 23, 59, 59), datetime.datetime(2022, 5, 24, 0, 0), datetime.datetime(2022, 5, 24, 0, 0, 1), datetime.datetime(2022, 5, 24, 0, 0, 2), datetime.datetime(2022, 5, 24, 0, 0, 3), datetime.datetime(2022, 5, 24, 0, 0, 4), datetime.datetime(2022, 5, 24, 0, 0, 5), datetime.datetime(2022, 5, 24, 0, 0, 6), datetime.datetime(2022, 5, 24, 0, 0, 7), datetime.datetime(2022, 5, 24, 0, 0, 8), datetime.datetime(2022, 5, 24, 0, 0, 9), datetime.datetime(2022, 5, 24, 0, 0, 10), datetime.datetime(2022, 5, 24, 0, 0, 11)]\n",
      "2022-05-23 20:57:30\n",
      "velocity [kts] 0.0 +- 0.0\n",
      "bearing 308.58 +- 0.0\n",
      "latitude 33.59499206521739 +- 6.231884115063423e-14\n",
      "longitude -102.3621923260869 +- 2.24637686409699e-13\n",
      "/Users/juliabman/Desktop/dealiased_data/ka1/Ka1220523205759_dealiased.nc\n",
      "[datetime.datetime(2022, 5, 23, 23, 59, 52), datetime.datetime(2022, 5, 23, 23, 59, 53), datetime.datetime(2022, 5, 23, 23, 59, 54), datetime.datetime(2022, 5, 23, 23, 59, 55), datetime.datetime(2022, 5, 23, 23, 59, 56), datetime.datetime(2022, 5, 23, 23, 59, 57), datetime.datetime(2022, 5, 23, 23, 59, 58), datetime.datetime(2022, 5, 23, 23, 59, 59), datetime.datetime(2022, 5, 24, 0, 0), datetime.datetime(2022, 5, 24, 0, 0, 1), datetime.datetime(2022, 5, 24, 0, 0, 2), datetime.datetime(2022, 5, 24, 0, 0, 3), datetime.datetime(2022, 5, 24, 0, 0, 4), datetime.datetime(2022, 5, 24, 0, 0, 5), datetime.datetime(2022, 5, 24, 0, 0, 6), datetime.datetime(2022, 5, 24, 0, 0, 7), datetime.datetime(2022, 5, 24, 0, 0, 8), datetime.datetime(2022, 5, 24, 0, 0, 9), datetime.datetime(2022, 5, 24, 0, 0, 10), datetime.datetime(2022, 5, 24, 0, 0, 11)]\n",
      "2022-05-23 20:57:59\n",
      "velocity [kts] 0.0 +- 0.0\n",
      "bearing 308.58000000000004 +- 3.237636616320835e-27\n",
      "latitude 33.594994598802394 +- 7.104718559794801e-12\n",
      "longitude -102.36218387624751 +- 4.3900654692861494e-11\n",
      "/Users/juliabman/Desktop/dealiased_data/ka1/Ka1220523205828_dealiased.nc\n",
      "[datetime.datetime(2022, 5, 23, 23, 59, 52), datetime.datetime(2022, 5, 23, 23, 59, 53), datetime.datetime(2022, 5, 23, 23, 59, 54), datetime.datetime(2022, 5, 23, 23, 59, 55), datetime.datetime(2022, 5, 23, 23, 59, 56), datetime.datetime(2022, 5, 23, 23, 59, 57), datetime.datetime(2022, 5, 23, 23, 59, 58), datetime.datetime(2022, 5, 23, 23, 59, 59), datetime.datetime(2022, 5, 24, 0, 0), datetime.datetime(2022, 5, 24, 0, 0, 1), datetime.datetime(2022, 5, 24, 0, 0, 2), datetime.datetime(2022, 5, 24, 0, 0, 3), datetime.datetime(2022, 5, 24, 0, 0, 4), datetime.datetime(2022, 5, 24, 0, 0, 5), datetime.datetime(2022, 5, 24, 0, 0, 6), datetime.datetime(2022, 5, 24, 0, 0, 7), datetime.datetime(2022, 5, 24, 0, 0, 8), datetime.datetime(2022, 5, 24, 0, 0, 9), datetime.datetime(2022, 5, 24, 0, 0, 10), datetime.datetime(2022, 5, 24, 0, 0, 11)]\n",
      "2022-05-23 20:58:28\n",
      "velocity [kts] 0.0 +- 0.0\n",
      "bearing 308.58 +- 0.0\n",
      "latitude 33.594991434782614 +- 8.289855030604023e-13\n",
      "longitude -102.36219273913042 +- 1.9710145388205605e-13\n",
      "/Users/juliabman/Desktop/dealiased_data/ka1/Ka1220523205857_dealiased.nc\n",
      "[datetime.datetime(2022, 5, 23, 23, 59, 52), datetime.datetime(2022, 5, 23, 23, 59, 53), datetime.datetime(2022, 5, 23, 23, 59, 54), datetime.datetime(2022, 5, 23, 23, 59, 55), datetime.datetime(2022, 5, 23, 23, 59, 56), datetime.datetime(2022, 5, 23, 23, 59, 57), datetime.datetime(2022, 5, 23, 23, 59, 58), datetime.datetime(2022, 5, 23, 23, 59, 59), datetime.datetime(2022, 5, 24, 0, 0), datetime.datetime(2022, 5, 24, 0, 0, 1), datetime.datetime(2022, 5, 24, 0, 0, 2), datetime.datetime(2022, 5, 24, 0, 0, 3), datetime.datetime(2022, 5, 24, 0, 0, 4), datetime.datetime(2022, 5, 24, 0, 0, 5), datetime.datetime(2022, 5, 24, 0, 0, 6), datetime.datetime(2022, 5, 24, 0, 0, 7), datetime.datetime(2022, 5, 24, 0, 0, 8), datetime.datetime(2022, 5, 24, 0, 0, 9), datetime.datetime(2022, 5, 24, 0, 0, 10), datetime.datetime(2022, 5, 24, 0, 0, 11)]\n",
      "2022-05-23 20:58:57\n",
      "velocity [kts] 0.0 +- 0.0\n",
      "bearing 308.58 +- 0.0\n",
      "latitude 33.594990170212775 +- 3.182238651831332e-13\n",
      "longitude -102.36219244680845 +- 2.5254394669806934e-13\n",
      "/Users/juliabman/Desktop/dealiased_data/ka1/Ka1220523205926_dealiased.nc\n",
      "[datetime.datetime(2022, 5, 23, 23, 59, 52), datetime.datetime(2022, 5, 23, 23, 59, 53), datetime.datetime(2022, 5, 23, 23, 59, 54), datetime.datetime(2022, 5, 23, 23, 59, 55), datetime.datetime(2022, 5, 23, 23, 59, 56), datetime.datetime(2022, 5, 23, 23, 59, 57), datetime.datetime(2022, 5, 23, 23, 59, 58), datetime.datetime(2022, 5, 23, 23, 59, 59), datetime.datetime(2022, 5, 24, 0, 0), datetime.datetime(2022, 5, 24, 0, 0, 1), datetime.datetime(2022, 5, 24, 0, 0, 2), datetime.datetime(2022, 5, 24, 0, 0, 3), datetime.datetime(2022, 5, 24, 0, 0, 4), datetime.datetime(2022, 5, 24, 0, 0, 5), datetime.datetime(2022, 5, 24, 0, 0, 6), datetime.datetime(2022, 5, 24, 0, 0, 7), datetime.datetime(2022, 5, 24, 0, 0, 8), datetime.datetime(2022, 5, 24, 0, 0, 9), datetime.datetime(2022, 5, 24, 0, 0, 10), datetime.datetime(2022, 5, 24, 0, 0, 11)]\n",
      "2022-05-23 20:59:26\n",
      "velocity [kts] 0.0 +- 0.0\n",
      "bearing 308.58000000000004 +- 3.2457949658295415e-27\n",
      "latitude 33.594993765765764 +- 6.080632663999423e-12\n",
      "longitude -102.36218682432433 +- 6.380763111624851e-12\n",
      "/Users/juliabman/Desktop/dealiased_data/ka1/Ka1220523205955_dealiased.nc\n",
      "[datetime.datetime(2022, 5, 23, 23, 59, 52), datetime.datetime(2022, 5, 23, 23, 59, 53), datetime.datetime(2022, 5, 23, 23, 59, 54), datetime.datetime(2022, 5, 23, 23, 59, 55), datetime.datetime(2022, 5, 23, 23, 59, 56), datetime.datetime(2022, 5, 23, 23, 59, 57), datetime.datetime(2022, 5, 23, 23, 59, 58), datetime.datetime(2022, 5, 23, 23, 59, 59), datetime.datetime(2022, 5, 24, 0, 0), datetime.datetime(2022, 5, 24, 0, 0, 1), datetime.datetime(2022, 5, 24, 0, 0, 2), datetime.datetime(2022, 5, 24, 0, 0, 3), datetime.datetime(2022, 5, 24, 0, 0, 4), datetime.datetime(2022, 5, 24, 0, 0, 5), datetime.datetime(2022, 5, 24, 0, 0, 6), datetime.datetime(2022, 5, 24, 0, 0, 7), datetime.datetime(2022, 5, 24, 0, 0, 8), datetime.datetime(2022, 5, 24, 0, 0, 9), datetime.datetime(2022, 5, 24, 0, 0, 10), datetime.datetime(2022, 5, 24, 0, 0, 11)]\n",
      "2022-05-23 20:59:55\n",
      "velocity [kts] 0.0 +- 0.0\n",
      "bearing 308.5800000000001 +- 1.3074984246386884e-26\n",
      "latitude 33.594992183908055 +- 9.192729221612303e-13\n",
      "longitude -102.36218779310347 +- 1.072975134918805e-12\n",
      "/Users/juliabman/Desktop/dealiased_data/ka1/Ka1220523213052_dealiased.nc\n",
      "[datetime.datetime(2022, 5, 23, 23, 59, 52), datetime.datetime(2022, 5, 23, 23, 59, 53), datetime.datetime(2022, 5, 23, 23, 59, 54), datetime.datetime(2022, 5, 23, 23, 59, 55), datetime.datetime(2022, 5, 23, 23, 59, 56), datetime.datetime(2022, 5, 23, 23, 59, 57), datetime.datetime(2022, 5, 23, 23, 59, 58), datetime.datetime(2022, 5, 23, 23, 59, 59), datetime.datetime(2022, 5, 24, 0, 0), datetime.datetime(2022, 5, 24, 0, 0, 1), datetime.datetime(2022, 5, 24, 0, 0, 2), datetime.datetime(2022, 5, 24, 0, 0, 3), datetime.datetime(2022, 5, 24, 0, 0, 4), datetime.datetime(2022, 5, 24, 0, 0, 5), datetime.datetime(2022, 5, 24, 0, 0, 6), datetime.datetime(2022, 5, 24, 0, 0, 7), datetime.datetime(2022, 5, 24, 0, 0, 8), datetime.datetime(2022, 5, 24, 0, 0, 9), datetime.datetime(2022, 5, 24, 0, 0, 10), datetime.datetime(2022, 5, 24, 0, 0, 11)]\n",
      "2022-05-23 21:30:52\n",
      "velocity [kts] 57.64716088328076 +- 195.33896715010243\n",
      "bearing 287.62522870662457 +- 2056.087333096823\n",
      "latitude 33.64005298264984 +- 0.0020660815701244147\n",
      "longitude -102.61207114195585 +- 0.010321099950991687\n",
      "/Users/juliabman/Desktop/dealiased_data/ka1/Ka1220523213123_dealiased.nc\n",
      "[datetime.datetime(2022, 5, 23, 23, 59, 52), datetime.datetime(2022, 5, 23, 23, 59, 53), datetime.datetime(2022, 5, 23, 23, 59, 54), datetime.datetime(2022, 5, 23, 23, 59, 55), datetime.datetime(2022, 5, 23, 23, 59, 56), datetime.datetime(2022, 5, 23, 23, 59, 57), datetime.datetime(2022, 5, 23, 23, 59, 58), datetime.datetime(2022, 5, 23, 23, 59, 59), datetime.datetime(2022, 5, 24, 0, 0), datetime.datetime(2022, 5, 24, 0, 0, 1), datetime.datetime(2022, 5, 24, 0, 0, 2), datetime.datetime(2022, 5, 24, 0, 0, 3), datetime.datetime(2022, 5, 24, 0, 0, 4), datetime.datetime(2022, 5, 24, 0, 0, 5), datetime.datetime(2022, 5, 24, 0, 0, 6), datetime.datetime(2022, 5, 24, 0, 0, 7), datetime.datetime(2022, 5, 24, 0, 0, 8), datetime.datetime(2022, 5, 24, 0, 0, 9), datetime.datetime(2022, 5, 24, 0, 0, 10), datetime.datetime(2022, 5, 24, 0, 0, 11)]\n",
      "2022-05-23 21:31:23\n",
      "velocity [kts] 59.55717391304348 +- 3.520527391304347\n",
      "bearing 270.77 +- 0.04768888888888868\n",
      "latitude 33.601888717391304 +- 2.208873912984357e-09\n",
      "longitude -102.43531119565216 +- 2.001347473866355e-05\n",
      "/Users/juliabman/Desktop/dealiased_data/ka1/Ka1220523213152_dealiased.nc\n",
      "[datetime.datetime(2022, 5, 23, 23, 59, 52), datetime.datetime(2022, 5, 23, 23, 59, 53), datetime.datetime(2022, 5, 23, 23, 59, 54), datetime.datetime(2022, 5, 23, 23, 59, 55), datetime.datetime(2022, 5, 23, 23, 59, 56), datetime.datetime(2022, 5, 23, 23, 59, 57), datetime.datetime(2022, 5, 23, 23, 59, 58), datetime.datetime(2022, 5, 23, 23, 59, 59), datetime.datetime(2022, 5, 24, 0, 0), datetime.datetime(2022, 5, 24, 0, 0, 1), datetime.datetime(2022, 5, 24, 0, 0, 2), datetime.datetime(2022, 5, 24, 0, 0, 3), datetime.datetime(2022, 5, 24, 0, 0, 4), datetime.datetime(2022, 5, 24, 0, 0, 5), datetime.datetime(2022, 5, 24, 0, 0, 6), datetime.datetime(2022, 5, 24, 0, 0, 7), datetime.datetime(2022, 5, 24, 0, 0, 8), datetime.datetime(2022, 5, 24, 0, 0, 9), datetime.datetime(2022, 5, 24, 0, 0, 10), datetime.datetime(2022, 5, 24, 0, 0, 11)]\n",
      "2022-05-23 21:31:52\n",
      "velocity [kts] 62.109523809523814 +- 4.568262672811061\n",
      "bearing 270.7504761904762 +- 0.04408202764977164\n",
      "latitude 33.60202992063492 +- 5.23191295446912e-09\n",
      "longitude -102.4479682063492 +- 3.951147903736488e-05\n",
      "/Users/juliabman/Desktop/dealiased_data/ka1/Ka1220523213222_dealiased.nc\n",
      "[datetime.datetime(2022, 5, 23, 23, 59, 52), datetime.datetime(2022, 5, 23, 23, 59, 53), datetime.datetime(2022, 5, 23, 23, 59, 54), datetime.datetime(2022, 5, 23, 23, 59, 55), datetime.datetime(2022, 5, 23, 23, 59, 56), datetime.datetime(2022, 5, 23, 23, 59, 57), datetime.datetime(2022, 5, 23, 23, 59, 58), datetime.datetime(2022, 5, 23, 23, 59, 59), datetime.datetime(2022, 5, 24, 0, 0), datetime.datetime(2022, 5, 24, 0, 0, 1), datetime.datetime(2022, 5, 24, 0, 0, 2), datetime.datetime(2022, 5, 24, 0, 0, 3), datetime.datetime(2022, 5, 24, 0, 0, 4), datetime.datetime(2022, 5, 24, 0, 0, 5), datetime.datetime(2022, 5, 24, 0, 0, 6), datetime.datetime(2022, 5, 24, 0, 0, 7), datetime.datetime(2022, 5, 24, 0, 0, 8), datetime.datetime(2022, 5, 24, 0, 0, 9), datetime.datetime(2022, 5, 24, 0, 0, 10), datetime.datetime(2022, 5, 24, 0, 0, 11)]\n",
      "2022-05-23 21:32:22\n",
      "velocity [kts] 64.02260869565215 +- 1.441215265700482\n",
      "bearing 270.7184782608696 +- 0.04603985507246511\n",
      "latitude 33.602114891304346 +- 2.848321256059382e-09\n",
      "longitude -102.45541563043476 +- 2.2946520504844487e-05\n",
      "/Users/juliabman/Desktop/dealiased_data/ka1/Ka1220523213253_dealiased.nc\n",
      "[datetime.datetime(2022, 5, 23, 23, 59, 52), datetime.datetime(2022, 5, 23, 23, 59, 53), datetime.datetime(2022, 5, 23, 23, 59, 54), datetime.datetime(2022, 5, 23, 23, 59, 55), datetime.datetime(2022, 5, 23, 23, 59, 56), datetime.datetime(2022, 5, 23, 23, 59, 57), datetime.datetime(2022, 5, 23, 23, 59, 58), datetime.datetime(2022, 5, 23, 23, 59, 59), datetime.datetime(2022, 5, 24, 0, 0), datetime.datetime(2022, 5, 24, 0, 0, 1), datetime.datetime(2022, 5, 24, 0, 0, 2), datetime.datetime(2022, 5, 24, 0, 0, 3), datetime.datetime(2022, 5, 24, 0, 0, 4), datetime.datetime(2022, 5, 24, 0, 0, 5), datetime.datetime(2022, 5, 24, 0, 0, 6), datetime.datetime(2022, 5, 24, 0, 0, 7), datetime.datetime(2022, 5, 24, 0, 0, 8), datetime.datetime(2022, 5, 24, 0, 0, 9), datetime.datetime(2022, 5, 24, 0, 0, 10), datetime.datetime(2022, 5, 24, 0, 0, 11)]\n",
      "2022-05-23 21:32:53\n",
      "velocity [kts] 64.64129032258064 +- 0.012801586462189396\n",
      "bearing 270.68387096774194 +- 0.036650343733474734\n",
      "latitude 33.6022655483871 +- 4.744677948087996e-09\n",
      "longitude -102.46937349999999 +- 4.1796382319666524e-05\n",
      "/Users/juliabman/Desktop/dealiased_data/ka1/Ka1220523213323_dealiased.nc\n",
      "[datetime.datetime(2022, 5, 23, 23, 59, 52), datetime.datetime(2022, 5, 23, 23, 59, 53), datetime.datetime(2022, 5, 23, 23, 59, 54), datetime.datetime(2022, 5, 23, 23, 59, 55), datetime.datetime(2022, 5, 23, 23, 59, 56), datetime.datetime(2022, 5, 23, 23, 59, 57), datetime.datetime(2022, 5, 23, 23, 59, 58), datetime.datetime(2022, 5, 23, 23, 59, 59), datetime.datetime(2022, 5, 24, 0, 0), datetime.datetime(2022, 5, 24, 0, 0, 1), datetime.datetime(2022, 5, 24, 0, 0, 2), datetime.datetime(2022, 5, 24, 0, 0, 3), datetime.datetime(2022, 5, 24, 0, 0, 4), datetime.datetime(2022, 5, 24, 0, 0, 5), datetime.datetime(2022, 5, 24, 0, 0, 6), datetime.datetime(2022, 5, 24, 0, 0, 7), datetime.datetime(2022, 5, 24, 0, 0, 8), datetime.datetime(2022, 5, 24, 0, 0, 9), datetime.datetime(2022, 5, 24, 0, 0, 10), datetime.datetime(2022, 5, 24, 0, 0, 11)]\n",
      "2022-05-23 21:33:23\n",
      "velocity [kts] 64.65347826086958 +- 0.005903188405797145\n",
      "bearing 270.7121739130435 +- 0.035404057971015264\n",
      "latitude 33.60235036956522 +- 2.83094927536367e-09\n",
      "longitude -102.47725749999998 +- 2.3139382388900576e-05\n",
      "/Users/juliabman/Desktop/dealiased_data/ka1/Ka1220523213503_dealiased.nc\n",
      "[datetime.datetime(2022, 5, 23, 23, 59, 52), datetime.datetime(2022, 5, 23, 23, 59, 53), datetime.datetime(2022, 5, 23, 23, 59, 54), datetime.datetime(2022, 5, 23, 23, 59, 55), datetime.datetime(2022, 5, 23, 23, 59, 56), datetime.datetime(2022, 5, 23, 23, 59, 57), datetime.datetime(2022, 5, 23, 23, 59, 58), datetime.datetime(2022, 5, 23, 23, 59, 59), datetime.datetime(2022, 5, 24, 0, 0), datetime.datetime(2022, 5, 24, 0, 0, 1), datetime.datetime(2022, 5, 24, 0, 0, 2), datetime.datetime(2022, 5, 24, 0, 0, 3), datetime.datetime(2022, 5, 24, 0, 0, 4), datetime.datetime(2022, 5, 24, 0, 0, 5), datetime.datetime(2022, 5, 24, 0, 0, 6), datetime.datetime(2022, 5, 24, 0, 0, 7), datetime.datetime(2022, 5, 24, 0, 0, 8), datetime.datetime(2022, 5, 24, 0, 0, 9), datetime.datetime(2022, 5, 24, 0, 0, 10), datetime.datetime(2022, 5, 24, 0, 0, 11)]\n",
      "2022-05-23 21:35:03\n",
      "velocity [kts] 64.786 +- 0.2565972727272736\n",
      "bearing 270.66844444444445 +- 0.0443725252525241\n",
      "latitude 33.60273146666667 +- 2.592572727243982e-09\n",
      "longitude -102.51292366666665 +- 2.219501750000154e-05\n",
      "/Users/juliabman/Desktop/dealiased_data/ka1/Ka1220523213532_dealiased.nc\n",
      "[datetime.datetime(2022, 5, 23, 23, 59, 52), datetime.datetime(2022, 5, 23, 23, 59, 53), datetime.datetime(2022, 5, 23, 23, 59, 54), datetime.datetime(2022, 5, 23, 23, 59, 55), datetime.datetime(2022, 5, 23, 23, 59, 56), datetime.datetime(2022, 5, 23, 23, 59, 57), datetime.datetime(2022, 5, 23, 23, 59, 58), datetime.datetime(2022, 5, 23, 23, 59, 59), datetime.datetime(2022, 5, 24, 0, 0), datetime.datetime(2022, 5, 24, 0, 0, 1), datetime.datetime(2022, 5, 24, 0, 0, 2), datetime.datetime(2022, 5, 24, 0, 0, 3), datetime.datetime(2022, 5, 24, 0, 0, 4), datetime.datetime(2022, 5, 24, 0, 0, 5), datetime.datetime(2022, 5, 24, 0, 0, 6), datetime.datetime(2022, 5, 24, 0, 0, 7), datetime.datetime(2022, 5, 24, 0, 0, 8), datetime.datetime(2022, 5, 24, 0, 0, 9), datetime.datetime(2022, 5, 24, 0, 0, 10), datetime.datetime(2022, 5, 24, 0, 0, 11)]\n",
      "2022-05-23 21:35:32\n",
      "velocity [kts] 64.68170212765956 +- 0.2396013876040706\n",
      "bearing 270.6731914893618 +- 0.025752636447734182\n",
      "latitude 33.60284712765957 +- 2.7710703053180965e-09\n",
      "longitude -102.5236894680851 +- 2.4130916645692877e-05\n",
      "/Users/juliabman/Desktop/dealiased_data/ka1/Ka1220523213603_dealiased.nc\n",
      "[datetime.datetime(2022, 5, 23, 23, 59, 52), datetime.datetime(2022, 5, 23, 23, 59, 53), datetime.datetime(2022, 5, 23, 23, 59, 54), datetime.datetime(2022, 5, 23, 23, 59, 55), datetime.datetime(2022, 5, 23, 23, 59, 56), datetime.datetime(2022, 5, 23, 23, 59, 57), datetime.datetime(2022, 5, 23, 23, 59, 58), datetime.datetime(2022, 5, 23, 23, 59, 59), datetime.datetime(2022, 5, 24, 0, 0), datetime.datetime(2022, 5, 24, 0, 0, 1), datetime.datetime(2022, 5, 24, 0, 0, 2), datetime.datetime(2022, 5, 24, 0, 0, 3), datetime.datetime(2022, 5, 24, 0, 0, 4), datetime.datetime(2022, 5, 24, 0, 0, 5), datetime.datetime(2022, 5, 24, 0, 0, 6), datetime.datetime(2022, 5, 24, 0, 0, 7), datetime.datetime(2022, 5, 24, 0, 0, 8), datetime.datetime(2022, 5, 24, 0, 0, 9), datetime.datetime(2022, 5, 24, 0, 0, 10), datetime.datetime(2022, 5, 24, 0, 0, 11)]\n",
      "2022-05-23 21:36:03\n",
      "velocity [kts] 64.5825 +- 0.11967021276595709\n",
      "bearing 270.6722916666667 +- 0.018375487588652328\n",
      "latitude 33.602968 +- 2.875489361670722e-09\n",
      "longitude -102.53496558333332 +- 2.5158642886513293e-05\n",
      "/Users/juliabman/Desktop/dealiased_data/ka1/Ka1220523213649_dealiased.nc\n",
      "[datetime.datetime(2022, 5, 23, 23, 59, 52), datetime.datetime(2022, 5, 23, 23, 59, 53), datetime.datetime(2022, 5, 23, 23, 59, 54), datetime.datetime(2022, 5, 23, 23, 59, 55), datetime.datetime(2022, 5, 23, 23, 59, 56), datetime.datetime(2022, 5, 23, 23, 59, 57), datetime.datetime(2022, 5, 23, 23, 59, 58), datetime.datetime(2022, 5, 23, 23, 59, 59), datetime.datetime(2022, 5, 24, 0, 0), datetime.datetime(2022, 5, 24, 0, 0, 1), datetime.datetime(2022, 5, 24, 0, 0, 2), datetime.datetime(2022, 5, 24, 0, 0, 3), datetime.datetime(2022, 5, 24, 0, 0, 4), datetime.datetime(2022, 5, 24, 0, 0, 5), datetime.datetime(2022, 5, 24, 0, 0, 6), datetime.datetime(2022, 5, 24, 0, 0, 7), datetime.datetime(2022, 5, 24, 0, 0, 8), datetime.datetime(2022, 5, 24, 0, 0, 9), datetime.datetime(2022, 5, 24, 0, 0, 10), datetime.datetime(2022, 5, 24, 0, 0, 11)]\n",
      "2022-05-23 21:36:49\n",
      "velocity [kts] 52.22698113207547 +- 131.61142148040636\n",
      "bearing 270.6422641509434 +- 0.023156313497821955\n",
      "latitude 33.603139 +- 2.0748846154125565e-09\n",
      "longitude -102.5512938490566 +- 1.935013978447484e-05\n",
      "/Users/juliabman/Desktop/dealiased_data/ka1/Ka1220523213716_dealiased.nc\n",
      "[datetime.datetime(2022, 5, 23, 23, 59, 52), datetime.datetime(2022, 5, 23, 23, 59, 53), datetime.datetime(2022, 5, 23, 23, 59, 54), datetime.datetime(2022, 5, 23, 23, 59, 55), datetime.datetime(2022, 5, 23, 23, 59, 56), datetime.datetime(2022, 5, 23, 23, 59, 57), datetime.datetime(2022, 5, 23, 23, 59, 58), datetime.datetime(2022, 5, 23, 23, 59, 59), datetime.datetime(2022, 5, 24, 0, 0), datetime.datetime(2022, 5, 24, 0, 0, 1), datetime.datetime(2022, 5, 24, 0, 0, 2), datetime.datetime(2022, 5, 24, 0, 0, 3), datetime.datetime(2022, 5, 24, 0, 0, 4), datetime.datetime(2022, 5, 24, 0, 0, 5), datetime.datetime(2022, 5, 24, 0, 0, 6), datetime.datetime(2022, 5, 24, 0, 0, 7), datetime.datetime(2022, 5, 24, 0, 0, 8), datetime.datetime(2022, 5, 24, 0, 0, 9), datetime.datetime(2022, 5, 24, 0, 0, 10), datetime.datetime(2022, 5, 24, 0, 0, 11)]\n",
      "2022-05-23 21:37:16\n",
      "velocity [kts] 46.2222 +- 37.95031138775511\n",
      "bearing 270.6094 +- 0.03235269387755\n",
      "latitude 33.603209820000004 +- 1.4483546938692774e-09\n",
      "longitude -102.55815765999999 +- 1.386131133101782e-05\n",
      "/Users/juliabman/Desktop/dealiased_data/ka1/Ka1220523213743_dealiased.nc\n",
      "[datetime.datetime(2022, 5, 23, 23, 59, 52), datetime.datetime(2022, 5, 23, 23, 59, 53), datetime.datetime(2022, 5, 23, 23, 59, 54), datetime.datetime(2022, 5, 23, 23, 59, 55), datetime.datetime(2022, 5, 23, 23, 59, 56), datetime.datetime(2022, 5, 23, 23, 59, 57), datetime.datetime(2022, 5, 23, 23, 59, 58), datetime.datetime(2022, 5, 23, 23, 59, 59), datetime.datetime(2022, 5, 24, 0, 0), datetime.datetime(2022, 5, 24, 0, 0, 1), datetime.datetime(2022, 5, 24, 0, 0, 2), datetime.datetime(2022, 5, 24, 0, 0, 3), datetime.datetime(2022, 5, 24, 0, 0, 4), datetime.datetime(2022, 5, 24, 0, 0, 5), datetime.datetime(2022, 5, 24, 0, 0, 6), datetime.datetime(2022, 5, 24, 0, 0, 7), datetime.datetime(2022, 5, 24, 0, 0, 8), datetime.datetime(2022, 5, 24, 0, 0, 9), datetime.datetime(2022, 5, 24, 0, 0, 10), datetime.datetime(2022, 5, 24, 0, 0, 11)]\n",
      "2022-05-23 21:37:43\n",
      "velocity [kts] 61.110214285714285 +- 21.99741362281603\n",
      "bearing 270.6540714285714 +- 0.043322153134634576\n",
      "latitude 33.60344254285714 +- 2.0062365056609543e-08\n",
      "longitude -102.58157572857142 +- 0.00019864260599773703\n",
      "/Users/juliabman/Desktop/dealiased_data/ka1/Ka1220523221718_dealiased.nc\n",
      "[datetime.datetime(2022, 5, 23, 23, 59, 52), datetime.datetime(2022, 5, 23, 23, 59, 53), datetime.datetime(2022, 5, 23, 23, 59, 54), datetime.datetime(2022, 5, 23, 23, 59, 55), datetime.datetime(2022, 5, 23, 23, 59, 56), datetime.datetime(2022, 5, 23, 23, 59, 57), datetime.datetime(2022, 5, 23, 23, 59, 58), datetime.datetime(2022, 5, 23, 23, 59, 59), datetime.datetime(2022, 5, 24, 0, 0), datetime.datetime(2022, 5, 24, 0, 0, 1), datetime.datetime(2022, 5, 24, 0, 0, 2), datetime.datetime(2022, 5, 24, 0, 0, 3), datetime.datetime(2022, 5, 24, 0, 0, 4), datetime.datetime(2022, 5, 24, 0, 0, 5), datetime.datetime(2022, 5, 24, 0, 0, 6), datetime.datetime(2022, 5, 24, 0, 0, 7), datetime.datetime(2022, 5, 24, 0, 0, 8), datetime.datetime(2022, 5, 24, 0, 0, 9), datetime.datetime(2022, 5, 24, 0, 0, 10), datetime.datetime(2022, 5, 24, 0, 0, 11)]\n",
      "2022-05-23 22:17:18\n",
      "velocity [kts] 14.938714285714287 +- 300.725596873706\n",
      "bearing 151.82757142857142 +- 21043.10246792961\n",
      "latitude 33.87319110000001 +- 4.013275797139497e-08\n",
      "longitude -102.76129267142859 +- 2.406441760038593e-06\n",
      "/Users/juliabman/Desktop/dealiased_data/ka1/Ka1220523221747_dealiased.nc\n",
      "[datetime.datetime(2022, 5, 23, 23, 59, 52), datetime.datetime(2022, 5, 23, 23, 59, 53), datetime.datetime(2022, 5, 23, 23, 59, 54), datetime.datetime(2022, 5, 23, 23, 59, 55), datetime.datetime(2022, 5, 23, 23, 59, 56), datetime.datetime(2022, 5, 23, 23, 59, 57), datetime.datetime(2022, 5, 23, 23, 59, 58), datetime.datetime(2022, 5, 23, 23, 59, 59), datetime.datetime(2022, 5, 24, 0, 0), datetime.datetime(2022, 5, 24, 0, 0, 1), datetime.datetime(2022, 5, 24, 0, 0, 2), datetime.datetime(2022, 5, 24, 0, 0, 3), datetime.datetime(2022, 5, 24, 0, 0, 4), datetime.datetime(2022, 5, 24, 0, 0, 5), datetime.datetime(2022, 5, 24, 0, 0, 6), datetime.datetime(2022, 5, 24, 0, 0, 7), datetime.datetime(2022, 5, 24, 0, 0, 8), datetime.datetime(2022, 5, 24, 0, 0, 9), datetime.datetime(2022, 5, 24, 0, 0, 10), datetime.datetime(2022, 5, 24, 0, 0, 11)]\n",
      "2022-05-23 22:17:47\n"
     ]
    },
    {
     "ename": "KeyboardInterrupt",
     "evalue": "",
     "output_type": "error",
     "traceback": [
      "\u001b[0;31m---------------------------------------------------------------------------\u001b[0m",
      "\u001b[0;31mKeyboardInterrupt\u001b[0m                         Traceback (most recent call last)",
      "Cell \u001b[0;32mIn[57], line 6\u001b[0m\n\u001b[1;32m      4\u001b[0m \u001b[38;5;28mprint\u001b[39m(uncorrected_vad)\n\u001b[1;32m      5\u001b[0m read \u001b[38;5;241m=\u001b[39m pyart\u001b[38;5;241m.\u001b[39mio\u001b[38;5;241m.\u001b[39mread_cfradial(uncorrected_vad)\n\u001b[0;32m----> 6\u001b[0m correction_function \u001b[38;5;241m=\u001b[39m \u001b[43mvehicle_correction_vad\u001b[49m\u001b[43m(\u001b[49m\u001b[43mread\u001b[49m\u001b[43m,\u001b[49m\u001b[43m \u001b[49m\u001b[43mka1gps\u001b[49m\u001b[43m)\u001b[49m\n\u001b[1;32m      7\u001b[0m corrected_vehicle_vads_0523\u001b[38;5;241m.\u001b[39mappend(correction_function)\n\u001b[1;32m      8\u001b[0m corrected_vads_file_names_0523\u001b[38;5;241m.\u001b[39mappend(uncorrected_vad)\n",
      "Cell \u001b[0;32mIn[2], line 304\u001b[0m, in \u001b[0;36mvehicle_correction_vad\u001b[0;34m(radar, df)\u001b[0m\n\u001b[1;32m    301\u001b[0m \u001b[38;5;28mprint\u001b[39m([datetime\u001b[38;5;241m.\u001b[39mstrptime(d,\u001b[38;5;124m'\u001b[39m\u001b[38;5;132;01m%d\u001b[39;00m\u001b[38;5;124m%\u001b[39m\u001b[38;5;124mm\u001b[39m\u001b[38;5;124m%\u001b[39m\u001b[38;5;124my\u001b[39m\u001b[38;5;124m%\u001b[39m\u001b[38;5;124mH\u001b[39m\u001b[38;5;124m%\u001b[39m\u001b[38;5;124mM\u001b[39m\u001b[38;5;124m%\u001b[39m\u001b[38;5;124mS\u001b[39m\u001b[38;5;124m'\u001b[39m) \u001b[38;5;28;01mfor\u001b[39;00m d \u001b[38;5;129;01min\u001b[39;00m df[\u001b[38;5;124m'\u001b[39m\u001b[38;5;124mddmmyy\u001b[39m\u001b[38;5;124m'\u001b[39m]\u001b[38;5;241m+\u001b[39m[\u001b[38;5;124mf\u001b[39m\u001b[38;5;124m'\u001b[39m\u001b[38;5;132;01m{\u001b[39;00mh\u001b[38;5;132;01m:\u001b[39;00m\u001b[38;5;124m06\u001b[39m\u001b[38;5;132;01m}\u001b[39;00m\u001b[38;5;124m'\u001b[39m \u001b[38;5;28;01mfor\u001b[39;00m h \u001b[38;5;129;01min\u001b[39;00m df[\u001b[38;5;124m'\u001b[39m\u001b[38;5;124mhhmmss[UTC]\u001b[39m\u001b[38;5;124m'\u001b[39m]\u001b[38;5;241m.\u001b[39mastype(\u001b[38;5;28mint\u001b[39m)]][\u001b[38;5;241m19660\u001b[39m:\u001b[38;5;241m19680\u001b[39m])\n\u001b[1;32m    302\u001b[0m \u001b[38;5;28mprint\u001b[39m(datetime\u001b[38;5;241m.\u001b[39mstrptime(radar\u001b[38;5;241m.\u001b[39mtime[\u001b[38;5;124m'\u001b[39m\u001b[38;5;124munits\u001b[39m\u001b[38;5;124m'\u001b[39m],\u001b[38;5;124m'\u001b[39m\u001b[38;5;124mseconds since \u001b[39m\u001b[38;5;124m%\u001b[39m\u001b[38;5;124mY-\u001b[39m\u001b[38;5;124m%\u001b[39m\u001b[38;5;124mm-\u001b[39m\u001b[38;5;132;01m%d\u001b[39;00m\u001b[38;5;124mT\u001b[39m\u001b[38;5;124m%\u001b[39m\u001b[38;5;124mH:\u001b[39m\u001b[38;5;124m%\u001b[39m\u001b[38;5;124mM:\u001b[39m\u001b[38;5;124m%\u001b[39m\u001b[38;5;124mSZ\u001b[39m\u001b[38;5;124m'\u001b[39m))\n\u001b[0;32m--> 304\u001b[0m df[\u001b[38;5;124m'\u001b[39m\u001b[38;5;124mdatetime\u001b[39m\u001b[38;5;124m'\u001b[39m] \u001b[38;5;241m=\u001b[39m [datetime\u001b[38;5;241m.\u001b[39mstrptime(d,\u001b[38;5;124m'\u001b[39m\u001b[38;5;132;01m%d\u001b[39;00m\u001b[38;5;124m%\u001b[39m\u001b[38;5;124mm\u001b[39m\u001b[38;5;124m%\u001b[39m\u001b[38;5;124my\u001b[39m\u001b[38;5;124m%\u001b[39m\u001b[38;5;124mH\u001b[39m\u001b[38;5;124m%\u001b[39m\u001b[38;5;124mM\u001b[39m\u001b[38;5;124m%\u001b[39m\u001b[38;5;124mS\u001b[39m\u001b[38;5;124m'\u001b[39m) \u001b[38;5;28;01mfor\u001b[39;00m d \u001b[38;5;129;01min\u001b[39;00m df[\u001b[38;5;124m'\u001b[39m\u001b[38;5;124mddmmyy\u001b[39m\u001b[38;5;124m'\u001b[39m]\u001b[38;5;241m+\u001b[39mdf[\u001b[38;5;124m'\u001b[39m\u001b[38;5;124mhhmmss[UTC]\u001b[39m\u001b[38;5;124m'\u001b[39m]]\n\u001b[1;32m    305\u001b[0m beginscanindex \u001b[38;5;241m=\u001b[39m df\u001b[38;5;241m.\u001b[39mloc[df[\u001b[38;5;124m'\u001b[39m\u001b[38;5;124mdatetime\u001b[39m\u001b[38;5;124m'\u001b[39m] \u001b[38;5;241m==\u001b[39m datetime\u001b[38;5;241m.\u001b[39mstrptime(radar\u001b[38;5;241m.\u001b[39mtime[\u001b[38;5;124m'\u001b[39m\u001b[38;5;124munits\u001b[39m\u001b[38;5;124m'\u001b[39m],\u001b[38;5;124m'\u001b[39m\u001b[38;5;124mseconds since \u001b[39m\u001b[38;5;124m%\u001b[39m\u001b[38;5;124mY-\u001b[39m\u001b[38;5;124m%\u001b[39m\u001b[38;5;124mm-\u001b[39m\u001b[38;5;132;01m%d\u001b[39;00m\u001b[38;5;124mT\u001b[39m\u001b[38;5;124m%\u001b[39m\u001b[38;5;124mH:\u001b[39m\u001b[38;5;124m%\u001b[39m\u001b[38;5;124mM:\u001b[39m\u001b[38;5;124m%\u001b[39m\u001b[38;5;124mSZ\u001b[39m\u001b[38;5;124m'\u001b[39m)]\u001b[38;5;241m.\u001b[39mindex\n\u001b[1;32m    306\u001b[0m endscanindex \u001b[38;5;241m=\u001b[39m df\u001b[38;5;241m.\u001b[39mloc[df[\u001b[38;5;124m'\u001b[39m\u001b[38;5;124mdatetime\u001b[39m\u001b[38;5;124m'\u001b[39m] \u001b[38;5;241m==\u001b[39m datetime\u001b[38;5;241m.\u001b[39mstrptime(radar\u001b[38;5;241m.\u001b[39mtime[\u001b[38;5;124m'\u001b[39m\u001b[38;5;124munits\u001b[39m\u001b[38;5;124m'\u001b[39m],\u001b[38;5;124m'\u001b[39m\u001b[38;5;124mseconds since \u001b[39m\u001b[38;5;124m%\u001b[39m\u001b[38;5;124mY-\u001b[39m\u001b[38;5;124m%\u001b[39m\u001b[38;5;124mm-\u001b[39m\u001b[38;5;132;01m%d\u001b[39;00m\u001b[38;5;124mT\u001b[39m\u001b[38;5;124m%\u001b[39m\u001b[38;5;124mH:\u001b[39m\u001b[38;5;124m%\u001b[39m\u001b[38;5;124mM:\u001b[39m\u001b[38;5;124m%\u001b[39m\u001b[38;5;124mSZ\u001b[39m\u001b[38;5;124m'\u001b[39m)]\u001b[38;5;241m.\u001b[39mindex\u001b[38;5;241m+\u001b[39mnp\u001b[38;5;241m.\u001b[39mceil(np\u001b[38;5;241m.\u001b[39mamax(ray_times))\u001b[38;5;241m+\u001b[39m\u001b[38;5;241m1\u001b[39m\n",
      "Cell \u001b[0;32mIn[2], line 304\u001b[0m, in \u001b[0;36m<listcomp>\u001b[0;34m(.0)\u001b[0m\n\u001b[1;32m    301\u001b[0m \u001b[38;5;28mprint\u001b[39m([datetime\u001b[38;5;241m.\u001b[39mstrptime(d,\u001b[38;5;124m'\u001b[39m\u001b[38;5;132;01m%d\u001b[39;00m\u001b[38;5;124m%\u001b[39m\u001b[38;5;124mm\u001b[39m\u001b[38;5;124m%\u001b[39m\u001b[38;5;124my\u001b[39m\u001b[38;5;124m%\u001b[39m\u001b[38;5;124mH\u001b[39m\u001b[38;5;124m%\u001b[39m\u001b[38;5;124mM\u001b[39m\u001b[38;5;124m%\u001b[39m\u001b[38;5;124mS\u001b[39m\u001b[38;5;124m'\u001b[39m) \u001b[38;5;28;01mfor\u001b[39;00m d \u001b[38;5;129;01min\u001b[39;00m df[\u001b[38;5;124m'\u001b[39m\u001b[38;5;124mddmmyy\u001b[39m\u001b[38;5;124m'\u001b[39m]\u001b[38;5;241m+\u001b[39m[\u001b[38;5;124mf\u001b[39m\u001b[38;5;124m'\u001b[39m\u001b[38;5;132;01m{\u001b[39;00mh\u001b[38;5;132;01m:\u001b[39;00m\u001b[38;5;124m06\u001b[39m\u001b[38;5;132;01m}\u001b[39;00m\u001b[38;5;124m'\u001b[39m \u001b[38;5;28;01mfor\u001b[39;00m h \u001b[38;5;129;01min\u001b[39;00m df[\u001b[38;5;124m'\u001b[39m\u001b[38;5;124mhhmmss[UTC]\u001b[39m\u001b[38;5;124m'\u001b[39m]\u001b[38;5;241m.\u001b[39mastype(\u001b[38;5;28mint\u001b[39m)]][\u001b[38;5;241m19660\u001b[39m:\u001b[38;5;241m19680\u001b[39m])\n\u001b[1;32m    302\u001b[0m \u001b[38;5;28mprint\u001b[39m(datetime\u001b[38;5;241m.\u001b[39mstrptime(radar\u001b[38;5;241m.\u001b[39mtime[\u001b[38;5;124m'\u001b[39m\u001b[38;5;124munits\u001b[39m\u001b[38;5;124m'\u001b[39m],\u001b[38;5;124m'\u001b[39m\u001b[38;5;124mseconds since \u001b[39m\u001b[38;5;124m%\u001b[39m\u001b[38;5;124mY-\u001b[39m\u001b[38;5;124m%\u001b[39m\u001b[38;5;124mm-\u001b[39m\u001b[38;5;132;01m%d\u001b[39;00m\u001b[38;5;124mT\u001b[39m\u001b[38;5;124m%\u001b[39m\u001b[38;5;124mH:\u001b[39m\u001b[38;5;124m%\u001b[39m\u001b[38;5;124mM:\u001b[39m\u001b[38;5;124m%\u001b[39m\u001b[38;5;124mSZ\u001b[39m\u001b[38;5;124m'\u001b[39m))\n\u001b[0;32m--> 304\u001b[0m df[\u001b[38;5;124m'\u001b[39m\u001b[38;5;124mdatetime\u001b[39m\u001b[38;5;124m'\u001b[39m] \u001b[38;5;241m=\u001b[39m [\u001b[43mdatetime\u001b[49m\u001b[38;5;241;43m.\u001b[39;49m\u001b[43mstrptime\u001b[49m\u001b[43m(\u001b[49m\u001b[43md\u001b[49m\u001b[43m,\u001b[49m\u001b[38;5;124;43m'\u001b[39;49m\u001b[38;5;132;43;01m%d\u001b[39;49;00m\u001b[38;5;124;43m%\u001b[39;49m\u001b[38;5;124;43mm\u001b[39;49m\u001b[38;5;124;43m%\u001b[39;49m\u001b[38;5;124;43my\u001b[39;49m\u001b[38;5;124;43m%\u001b[39;49m\u001b[38;5;124;43mH\u001b[39;49m\u001b[38;5;124;43m%\u001b[39;49m\u001b[38;5;124;43mM\u001b[39;49m\u001b[38;5;124;43m%\u001b[39;49m\u001b[38;5;124;43mS\u001b[39;49m\u001b[38;5;124;43m'\u001b[39;49m\u001b[43m)\u001b[49m \u001b[38;5;28;01mfor\u001b[39;00m d \u001b[38;5;129;01min\u001b[39;00m df[\u001b[38;5;124m'\u001b[39m\u001b[38;5;124mddmmyy\u001b[39m\u001b[38;5;124m'\u001b[39m]\u001b[38;5;241m+\u001b[39mdf[\u001b[38;5;124m'\u001b[39m\u001b[38;5;124mhhmmss[UTC]\u001b[39m\u001b[38;5;124m'\u001b[39m]]\n\u001b[1;32m    305\u001b[0m beginscanindex \u001b[38;5;241m=\u001b[39m df\u001b[38;5;241m.\u001b[39mloc[df[\u001b[38;5;124m'\u001b[39m\u001b[38;5;124mdatetime\u001b[39m\u001b[38;5;124m'\u001b[39m] \u001b[38;5;241m==\u001b[39m datetime\u001b[38;5;241m.\u001b[39mstrptime(radar\u001b[38;5;241m.\u001b[39mtime[\u001b[38;5;124m'\u001b[39m\u001b[38;5;124munits\u001b[39m\u001b[38;5;124m'\u001b[39m],\u001b[38;5;124m'\u001b[39m\u001b[38;5;124mseconds since \u001b[39m\u001b[38;5;124m%\u001b[39m\u001b[38;5;124mY-\u001b[39m\u001b[38;5;124m%\u001b[39m\u001b[38;5;124mm-\u001b[39m\u001b[38;5;132;01m%d\u001b[39;00m\u001b[38;5;124mT\u001b[39m\u001b[38;5;124m%\u001b[39m\u001b[38;5;124mH:\u001b[39m\u001b[38;5;124m%\u001b[39m\u001b[38;5;124mM:\u001b[39m\u001b[38;5;124m%\u001b[39m\u001b[38;5;124mSZ\u001b[39m\u001b[38;5;124m'\u001b[39m)]\u001b[38;5;241m.\u001b[39mindex\n\u001b[1;32m    306\u001b[0m endscanindex \u001b[38;5;241m=\u001b[39m df\u001b[38;5;241m.\u001b[39mloc[df[\u001b[38;5;124m'\u001b[39m\u001b[38;5;124mdatetime\u001b[39m\u001b[38;5;124m'\u001b[39m] \u001b[38;5;241m==\u001b[39m datetime\u001b[38;5;241m.\u001b[39mstrptime(radar\u001b[38;5;241m.\u001b[39mtime[\u001b[38;5;124m'\u001b[39m\u001b[38;5;124munits\u001b[39m\u001b[38;5;124m'\u001b[39m],\u001b[38;5;124m'\u001b[39m\u001b[38;5;124mseconds since \u001b[39m\u001b[38;5;124m%\u001b[39m\u001b[38;5;124mY-\u001b[39m\u001b[38;5;124m%\u001b[39m\u001b[38;5;124mm-\u001b[39m\u001b[38;5;132;01m%d\u001b[39;00m\u001b[38;5;124mT\u001b[39m\u001b[38;5;124m%\u001b[39m\u001b[38;5;124mH:\u001b[39m\u001b[38;5;124m%\u001b[39m\u001b[38;5;124mM:\u001b[39m\u001b[38;5;124m%\u001b[39m\u001b[38;5;124mSZ\u001b[39m\u001b[38;5;124m'\u001b[39m)]\u001b[38;5;241m.\u001b[39mindex\u001b[38;5;241m+\u001b[39mnp\u001b[38;5;241m.\u001b[39mceil(np\u001b[38;5;241m.\u001b[39mamax(ray_times))\u001b[38;5;241m+\u001b[39m\u001b[38;5;241m1\u001b[39m\n",
      "File \u001b[0;32m~/miniforge3/envs/Research/lib/python3.9/_strptime.py:568\u001b[0m, in \u001b[0;36m_strptime_datetime\u001b[0;34m(cls, data_string, format)\u001b[0m\n\u001b[1;32m    565\u001b[0m \u001b[38;5;28;01mdef\u001b[39;00m \u001b[38;5;21m_strptime_datetime\u001b[39m(\u001b[38;5;28mcls\u001b[39m, data_string, \u001b[38;5;28mformat\u001b[39m\u001b[38;5;241m=\u001b[39m\u001b[38;5;124m\"\u001b[39m\u001b[38;5;132;01m%a\u001b[39;00m\u001b[38;5;124m \u001b[39m\u001b[38;5;124m%\u001b[39m\u001b[38;5;124mb \u001b[39m\u001b[38;5;132;01m%d\u001b[39;00m\u001b[38;5;124m \u001b[39m\u001b[38;5;124m%\u001b[39m\u001b[38;5;124mH:\u001b[39m\u001b[38;5;124m%\u001b[39m\u001b[38;5;124mM:\u001b[39m\u001b[38;5;124m%\u001b[39m\u001b[38;5;124mS \u001b[39m\u001b[38;5;124m%\u001b[39m\u001b[38;5;124mY\u001b[39m\u001b[38;5;124m\"\u001b[39m):\n\u001b[1;32m    566\u001b[0m \u001b[38;5;250m    \u001b[39m\u001b[38;5;124;03m\"\"\"Return a class cls instance based on the input string and the\u001b[39;00m\n\u001b[1;32m    567\u001b[0m \u001b[38;5;124;03m    format string.\"\"\"\u001b[39;00m\n\u001b[0;32m--> 568\u001b[0m     tt, fraction, gmtoff_fraction \u001b[38;5;241m=\u001b[39m \u001b[43m_strptime\u001b[49m\u001b[43m(\u001b[49m\u001b[43mdata_string\u001b[49m\u001b[43m,\u001b[49m\u001b[43m \u001b[49m\u001b[38;5;28;43mformat\u001b[39;49m\u001b[43m)\u001b[49m\n\u001b[1;32m    569\u001b[0m     tzname, gmtoff \u001b[38;5;241m=\u001b[39m tt[\u001b[38;5;241m-\u001b[39m\u001b[38;5;241m2\u001b[39m:]\n\u001b[1;32m    570\u001b[0m     args \u001b[38;5;241m=\u001b[39m tt[:\u001b[38;5;241m6\u001b[39m] \u001b[38;5;241m+\u001b[39m (fraction,)\n",
      "File \u001b[0;32m~/miniforge3/envs/Research/lib/python3.9/_strptime.py:322\u001b[0m, in \u001b[0;36m_strptime\u001b[0;34m(data_string, format)\u001b[0m\n\u001b[1;32m    320\u001b[0m \u001b[38;5;28;01mwith\u001b[39;00m _cache_lock:\n\u001b[1;32m    321\u001b[0m     locale_time \u001b[38;5;241m=\u001b[39m _TimeRE_cache\u001b[38;5;241m.\u001b[39mlocale_time\n\u001b[0;32m--> 322\u001b[0m     \u001b[38;5;28;01mif\u001b[39;00m (\u001b[43m_getlang\u001b[49m\u001b[43m(\u001b[49m\u001b[43m)\u001b[49m \u001b[38;5;241m!=\u001b[39m locale_time\u001b[38;5;241m.\u001b[39mlang \u001b[38;5;129;01mor\u001b[39;00m\n\u001b[1;32m    323\u001b[0m         time\u001b[38;5;241m.\u001b[39mtzname \u001b[38;5;241m!=\u001b[39m locale_time\u001b[38;5;241m.\u001b[39mtzname \u001b[38;5;129;01mor\u001b[39;00m\n\u001b[1;32m    324\u001b[0m         time\u001b[38;5;241m.\u001b[39mdaylight \u001b[38;5;241m!=\u001b[39m locale_time\u001b[38;5;241m.\u001b[39mdaylight):\n\u001b[1;32m    325\u001b[0m         _TimeRE_cache \u001b[38;5;241m=\u001b[39m TimeRE()\n\u001b[1;32m    326\u001b[0m         _regex_cache\u001b[38;5;241m.\u001b[39mclear()\n",
      "File \u001b[0;32m~/miniforge3/envs/Research/lib/python3.9/_strptime.py:28\u001b[0m, in \u001b[0;36m_getlang\u001b[0;34m()\u001b[0m\n\u001b[1;32m     26\u001b[0m \u001b[38;5;28;01mdef\u001b[39;00m \u001b[38;5;21m_getlang\u001b[39m():\n\u001b[1;32m     27\u001b[0m     \u001b[38;5;66;03m# Figure out what the current language is set to.\u001b[39;00m\n\u001b[0;32m---> 28\u001b[0m     \u001b[38;5;28;01mreturn\u001b[39;00m \u001b[43mlocale\u001b[49m\u001b[38;5;241;43m.\u001b[39;49m\u001b[43mgetlocale\u001b[49m\u001b[43m(\u001b[49m\u001b[43mlocale\u001b[49m\u001b[38;5;241;43m.\u001b[39;49m\u001b[43mLC_TIME\u001b[49m\u001b[43m)\u001b[49m\n",
      "File \u001b[0;32m~/miniforge3/envs/Research/lib/python3.9/locale.py:593\u001b[0m, in \u001b[0;36mgetlocale\u001b[0;34m(category)\u001b[0m\n\u001b[1;32m    591\u001b[0m \u001b[38;5;28;01mif\u001b[39;00m category \u001b[38;5;241m==\u001b[39m LC_ALL \u001b[38;5;129;01mand\u001b[39;00m \u001b[38;5;124m'\u001b[39m\u001b[38;5;124m;\u001b[39m\u001b[38;5;124m'\u001b[39m \u001b[38;5;129;01min\u001b[39;00m localename:\n\u001b[1;32m    592\u001b[0m     \u001b[38;5;28;01mraise\u001b[39;00m \u001b[38;5;167;01mTypeError\u001b[39;00m(\u001b[38;5;124m'\u001b[39m\u001b[38;5;124mcategory LC_ALL is not supported\u001b[39m\u001b[38;5;124m'\u001b[39m)\n\u001b[0;32m--> 593\u001b[0m \u001b[38;5;28;01mreturn\u001b[39;00m \u001b[43m_parse_localename\u001b[49m\u001b[43m(\u001b[49m\u001b[43mlocalename\u001b[49m\u001b[43m)\u001b[49m\n",
      "File \u001b[0;32m~/miniforge3/envs/Research/lib/python3.9/locale.py:483\u001b[0m, in \u001b[0;36m_parse_localename\u001b[0;34m(localename)\u001b[0m\n\u001b[1;32m    469\u001b[0m \u001b[38;5;28;01mdef\u001b[39;00m \u001b[38;5;21m_parse_localename\u001b[39m(localename):\n\u001b[1;32m    471\u001b[0m \u001b[38;5;250m    \u001b[39m\u001b[38;5;124;03m\"\"\" Parses the locale code for localename and returns the\u001b[39;00m\n\u001b[1;32m    472\u001b[0m \u001b[38;5;124;03m        result as tuple (language code, encoding).\u001b[39;00m\n\u001b[1;32m    473\u001b[0m \n\u001b[0;32m   (...)\u001b[0m\n\u001b[1;32m    481\u001b[0m \n\u001b[1;32m    482\u001b[0m \u001b[38;5;124;03m    \"\"\"\u001b[39;00m\n\u001b[0;32m--> 483\u001b[0m     code \u001b[38;5;241m=\u001b[39m \u001b[43mnormalize\u001b[49m\u001b[43m(\u001b[49m\u001b[43mlocalename\u001b[49m\u001b[43m)\u001b[49m\n\u001b[1;32m    484\u001b[0m     \u001b[38;5;28;01mif\u001b[39;00m \u001b[38;5;124m'\u001b[39m\u001b[38;5;124m@\u001b[39m\u001b[38;5;124m'\u001b[39m \u001b[38;5;129;01min\u001b[39;00m code:\n\u001b[1;32m    485\u001b[0m         \u001b[38;5;66;03m# Deal with locale modifiers\u001b[39;00m\n\u001b[1;32m    486\u001b[0m         code, modifier \u001b[38;5;241m=\u001b[39m code\u001b[38;5;241m.\u001b[39msplit(\u001b[38;5;124m'\u001b[39m\u001b[38;5;124m@\u001b[39m\u001b[38;5;124m'\u001b[39m, \u001b[38;5;241m1\u001b[39m)\n",
      "File \u001b[0;32m~/miniforge3/envs/Research/lib/python3.9/locale.py:403\u001b[0m, in \u001b[0;36mnormalize\u001b[0;34m(localename)\u001b[0m\n\u001b[1;32m    388\u001b[0m \u001b[38;5;250m\u001b[39m\u001b[38;5;124;03m\"\"\" Returns a normalized locale code for the given locale\u001b[39;00m\n\u001b[1;32m    389\u001b[0m \u001b[38;5;124;03m    name.\u001b[39;00m\n\u001b[1;32m    390\u001b[0m \n\u001b[0;32m   (...)\u001b[0m\n\u001b[1;32m    400\u001b[0m \n\u001b[1;32m    401\u001b[0m \u001b[38;5;124;03m\"\"\"\u001b[39;00m\n\u001b[1;32m    402\u001b[0m \u001b[38;5;66;03m# Normalize the locale name and extract the encoding and modifier\u001b[39;00m\n\u001b[0;32m--> 403\u001b[0m code \u001b[38;5;241m=\u001b[39m \u001b[43mlocalename\u001b[49m\u001b[38;5;241;43m.\u001b[39;49m\u001b[43mlower\u001b[49m\u001b[43m(\u001b[49m\u001b[43m)\u001b[49m\n\u001b[1;32m    404\u001b[0m \u001b[38;5;28;01mif\u001b[39;00m \u001b[38;5;124m'\u001b[39m\u001b[38;5;124m:\u001b[39m\u001b[38;5;124m'\u001b[39m \u001b[38;5;129;01min\u001b[39;00m code:\n\u001b[1;32m    405\u001b[0m     \u001b[38;5;66;03m# ':' is sometimes used as encoding delimiter.\u001b[39;00m\n\u001b[1;32m    406\u001b[0m     code \u001b[38;5;241m=\u001b[39m code\u001b[38;5;241m.\u001b[39mreplace(\u001b[38;5;124m'\u001b[39m\u001b[38;5;124m:\u001b[39m\u001b[38;5;124m'\u001b[39m, \u001b[38;5;124m'\u001b[39m\u001b[38;5;124m.\u001b[39m\u001b[38;5;124m'\u001b[39m)\n",
      "\u001b[0;31mKeyboardInterrupt\u001b[0m: "
     ]
    }
   ],
   "source": [
    "corrected_vehicle_vads_0523 = []\n",
    "corrected_vads_file_names_0523 = []\n",
    "for uncorrected_vad in dealiased_data_ka1:\n",
    "    print(uncorrected_vad)\n",
    "    read = pyart.io.read_cfradial(uncorrected_vad)\n",
    "    correction_function = vehicle_correction_vad(read, ka1gps)\n",
    "    corrected_vehicle_vads_0523.append(correction_function)\n",
    "    corrected_vads_file_names_0523.append(uncorrected_vad)"
   ]
  },
  {
   "cell_type": "markdown",
   "id": "b9d0926b-b47f-42d5-b864-843b228f1e9e",
   "metadata": {},
   "source": [
    "The function above (vehicle_correction_vad) for some reason only creates vads from 05/23 and not any from 05/24..?"
   ]
  },
  {
   "cell_type": "code",
   "execution_count": 54,
   "id": "2231e444-d8c6-41bd-9925-a564b25e09d3",
   "metadata": {},
   "outputs": [
    {
     "data": {
      "text/plain": [
       "0"
      ]
     },
     "execution_count": 54,
     "metadata": {},
     "output_type": "execute_result"
    }
   ],
   "source": [
    "np.size(corrected_vads_file_names_0523)"
   ]
  },
  {
   "cell_type": "code",
   "execution_count": 55,
   "id": "8bce82fb-b0ba-4ef7-b966-08470d948505",
   "metadata": {},
   "outputs": [
    {
     "data": {
      "text/plain": [
       "0"
      ]
     },
     "execution_count": 55,
     "metadata": {},
     "output_type": "execute_result"
    }
   ],
   "source": [
    "np.size(corrected_vehicle_vads_0523)"
   ]
  },
  {
   "cell_type": "code",
   "execution_count": null,
   "id": "053ec7f5-4a2a-4a2c-8dc4-a10f6398aa03",
   "metadata": {},
   "outputs": [],
   "source": [
    "1692/9 # 9 categories per list for each radar object"
   ]
  },
  {
   "cell_type": "markdown",
   "id": "0528c282-322a-4076-93c2-609e03260193",
   "metadata": {},
   "source": [
    "Make an array of times for 05/24 so we can force the function to run through the second day:"
   ]
  },
  {
   "cell_type": "code",
   "execution_count": null,
   "id": "71fea040-0ffb-4952-8658-9cc0bd2b7a31",
   "metadata": {},
   "outputs": [],
   "source": [
    "dealiased_data_ka1_0524 = all_dealiased_data_ka1[188:]"
   ]
  },
  {
   "cell_type": "code",
   "execution_count": null,
   "id": "5ba62da4-bd19-4649-8f68-14d97a562520",
   "metadata": {},
   "outputs": [],
   "source": [
    "dealiased_data_ka1_0524"
   ]
  },
  {
   "cell_type": "code",
   "execution_count": null,
   "id": "455f5bfa-df54-40a6-95ea-ec2780d261fd",
   "metadata": {},
   "outputs": [],
   "source": [
    "np.size(dealiased_data_ka1_0524)"
   ]
  },
  {
   "cell_type": "code",
   "execution_count": null,
   "id": "bdd25edc-70b7-4410-bfa7-c3c3425cc0c8",
   "metadata": {},
   "outputs": [],
   "source": [
    "ka1gps[19668:]"
   ]
  },
  {
   "cell_type": "markdown",
   "id": "0d480580-a5ff-48ad-97ff-41b53f96101a",
   "metadata": {},
   "source": [
    "Attempting to get it to work through forcing it the dates:"
   ]
  },
  {
   "cell_type": "code",
   "execution_count": null,
   "id": "534d1c87-e253-4fcd-b5d7-1239604ad4fa",
   "metadata": {},
   "outputs": [],
   "source": [
    "corrected_vehicle_vads_0524 = []\n",
    "corrected_vads_file_names_0524 = []\n",
    "for uncorrected_vad in all_dealiased_data_ka1[188:]:\n",
    "    print(uncorrected_vad)\n",
    "    read = pyart.io.read_cfradial(uncorrected_vad)\n",
    "    correction_function = vehicle_correction_vad(read, ka1gps_0524)\n",
    "    corrected_vehicle_vads_0524.append(correction_function)\n",
    "    corrected_vads_file_names_0524.append(uncorrected_vad)"
   ]
  },
  {
   "cell_type": "code",
   "execution_count": null,
   "id": "9299c73b-ee82-4183-86f5-2a76594c3089",
   "metadata": {},
   "outputs": [],
   "source": [
    "read"
   ]
  },
  {
   "cell_type": "code",
   "execution_count": null,
   "id": "16788796-6077-4be6-adc7-2a6fdb48cc3e",
   "metadata": {},
   "outputs": [],
   "source": [
    "times_0524"
   ]
  },
  {
   "cell_type": "code",
   "execution_count": null,
   "id": "146f677c-4c3a-421e-bfd1-25d15d37e9a9",
   "metadata": {},
   "outputs": [],
   "source": [
    "first_vad = corrected_vehicle_vads_0523[0]"
   ]
  },
  {
   "cell_type": "code",
   "execution_count": null,
   "id": "14a99734-ec33-4357-a8a1-63ca0033e196",
   "metadata": {},
   "outputs": [],
   "source": [
    "first_vad"
   ]
  },
  {
   "cell_type": "code",
   "execution_count": null,
   "id": "4012f1bf-dce1-48c2-8c1f-84f2dd154cc8",
   "metadata": {},
   "outputs": [],
   "source": [
    "first_vad_radar = first_vad[0] # this shows the corrected_vehicle_vads are lists of objects"
   ]
  },
  {
   "cell_type": "code",
   "execution_count": null,
   "id": "7bdfef84-6144-41e5-a355-48f9f7ba4e68",
   "metadata": {},
   "outputs": [],
   "source": [
    "first_vad_radar.time"
   ]
  },
  {
   "cell_type": "markdown",
   "id": "ae67f8a8-e6f1-4ef6-88b7-3db6c7f6e5a8",
   "metadata": {},
   "source": [
    "Find where in the list the lat and lon are kept:"
   ]
  },
  {
   "cell_type": "code",
   "execution_count": null,
   "id": "7b997707-aeb9-4b72-92b7-c060c7d39f38",
   "metadata": {},
   "outputs": [],
   "source": [
    "first_vad_latitude = first_vad[5]"
   ]
  },
  {
   "cell_type": "code",
   "execution_count": null,
   "id": "8747507e-c845-4299-afab-1b3754d3ba96",
   "metadata": {},
   "outputs": [],
   "source": [
    "first_vad_latitude"
   ]
  },
  {
   "cell_type": "code",
   "execution_count": null,
   "id": "80899197-ac4b-48f2-a87b-3f2602fb3009",
   "metadata": {},
   "outputs": [],
   "source": [
    "first_vad_longitude = first_vad[7]"
   ]
  },
  {
   "cell_type": "code",
   "execution_count": null,
   "id": "c34ff109-2586-4123-ab4e-0694747fbd34",
   "metadata": {},
   "outputs": [],
   "source": [
    "first_vad_longitude"
   ]
  },
  {
   "cell_type": "code",
   "execution_count": null,
   "id": "e7d62d89-1687-46bb-9ad9-6c2488673d03",
   "metadata": {},
   "outputs": [],
   "source": [
    "ka1_corrected_vad_lats = []\n",
    "ka1_corrected_vad_lons = []\n",
    "for file in corrected_vehicle_vads:\n",
    "    lat = file[5]\n",
    "    lon = file[7]\n",
    "    ka1_corrected_vad_lats.append(lat)\n",
    "    ka1_corrected_vad_lons.append(lon)"
   ]
  },
  {
   "cell_type": "code",
   "execution_count": null,
   "id": "041cc08b-e5b4-4d09-a666-ea44e3db2114",
   "metadata": {},
   "outputs": [],
   "source": [
    "np.size(ka1_corrected_vad_lats)"
   ]
  },
  {
   "cell_type": "markdown",
   "id": "284a4e9d-782b-4fac-8ed8-8a4c2dfa203c",
   "metadata": {},
   "source": [
    "Grab the times from the vad netcdf file names:"
   ]
  },
  {
   "cell_type": "code",
   "execution_count": null,
   "id": "3fd5c637-ccf7-4be9-810f-c38ee00bd206",
   "metadata": {},
   "outputs": [],
   "source": [
    "vad_ka1_times = []\n",
    "for time_grab in range(len(dealiased_data_ka1)):\n",
    "    file = dealiased_data_ka1[time_grab]\n",
    "    time_yoink = file[43:-13]\n",
    "    time_yoink_datetime = datetime.strptime(time_yoink, '%y%m%d%H%M%S')\n",
    "    vad_ka1_times.append(time_yoink_datetime)"
   ]
  },
  {
   "cell_type": "code",
   "execution_count": null,
   "id": "d220d928-5342-4c52-a89b-2c3ba13bcc26",
   "metadata": {},
   "outputs": [],
   "source": [
    "np.size(vad_ka1_times)"
   ]
  },
  {
   "cell_type": "markdown",
   "id": "6765e860-e6f0-45de-a6e1-eb35b2ea2ca6",
   "metadata": {},
   "source": [
    "Grab the times from the CORRECTED dealiased vad files:"
   ]
  },
  {
   "cell_type": "code",
   "execution_count": null,
   "id": "558841b9-47aa-4fc3-b49a-761d5b79906d",
   "metadata": {},
   "outputs": [],
   "source": [
    "vad_ka1_times_corrected_0523 = []\n",
    "for time_grab in range(len(corrected_vads_file_names)):\n",
    "    file = corrected_vads_file_names[time_grab]\n",
    "    time_yoink = file[43:-13]\n",
    "    time_yoink_datetime = datetime.strptime(time_yoink, '%y%m%d%H%M%S')\n",
    "    vad_ka1_times_corrected_0523.append(time_yoink_datetime)"
   ]
  },
  {
   "cell_type": "code",
   "execution_count": null,
   "id": "4b982e44-11d4-40f7-bcea-c1c6006ba23d",
   "metadata": {},
   "outputs": [],
   "source": [
    "np.size(vad_ka1_times_corrected)"
   ]
  },
  {
   "cell_type": "code",
   "execution_count": null,
   "id": "be903c86-1256-447d-b5c1-db706449fe67",
   "metadata": {},
   "outputs": [],
   "source": [
    "vad_ka1_times_corrected"
   ]
  },
  {
   "cell_type": "code",
   "execution_count": null,
   "id": "9a7ef2a7-7101-4b78-bcdc-04a916c970cd",
   "metadata": {},
   "outputs": [],
   "source": [
    "vad_ka1_times_corrected_0524 = []\n",
    "for time_grab in range(len(corrected_vads_file_names)):\n",
    "    file = corrected_vads_file_names[time_grab]\n",
    "    time_yoink = file[43:-13]\n",
    "    time_yoink_datetime = datetime.strptime(time_yoink, '%y%m%d%H%M%S')\n",
    "    vad_ka1_times_corrected_0523.append(time_yoink_datetime)"
   ]
  },
  {
   "cell_type": "code",
   "execution_count": null,
   "id": "0f6da8d9-3d16-47b4-aa8d-e6bb6c5d48e5",
   "metadata": {},
   "outputs": [],
   "source": [
    "tobac_file = '/Users/juliabman/Desktop/research2024/tobac_Save/Track.nc'\n",
    "tobac_features_xr = xr.open_dataset(tobac_file)"
   ]
  },
  {
   "cell_type": "code",
   "execution_count": null,
   "id": "4f73b317-3ed3-41c9-8df7-0d493f0865be",
   "metadata": {},
   "outputs": [],
   "source": [
    "tobac_features_xr"
   ]
  },
  {
   "cell_type": "code",
   "execution_count": null,
   "id": "52d709e8-40e0-425c-bfc8-b5cd97ec9790",
   "metadata": {},
   "outputs": [],
   "source": [
    "tobac_times = tobac_features_xr['timestr']"
   ]
  },
  {
   "cell_type": "code",
   "execution_count": null,
   "id": "c6157381-1153-4fac-8345-55d60ce2070d",
   "metadata": {},
   "outputs": [],
   "source": [
    "corrected_vehicle_vads_ka2 = []\n",
    "corrected_vads_file_names_ka2 = []\n",
    "for uncorrected_vad in dealiased_data_ka2:\n",
    "    print(uncorrected_vad)\n",
    "    read = pyart.io.read_cfradial(uncorrected_vad)\n",
    "    correction_function = vehicle_correction_vad(read, ka2gps)\n",
    "    corrected_vehicle_vads_ka2.append(correction_function)\n",
    "    corrected_vads_file_names_ka2.append(uncorrected_vad)"
   ]
  },
  {
   "cell_type": "code",
   "execution_count": null,
   "id": "34ebac01-b81e-4bca-9836-a587944feb4d",
   "metadata": {},
   "outputs": [],
   "source": []
  }
 ],
 "metadata": {
  "kernelspec": {
   "display_name": "Python 3 (ipykernel)",
   "language": "python",
   "name": "python3"
  },
  "language_info": {
   "codemirror_mode": {
    "name": "ipython",
    "version": 3
   },
   "file_extension": ".py",
   "mimetype": "text/x-python",
   "name": "python",
   "nbconvert_exporter": "python",
   "pygments_lexer": "ipython3",
   "version": "3.9.18"
  }
 },
 "nbformat": 4,
 "nbformat_minor": 5
}
